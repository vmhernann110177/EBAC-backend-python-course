{
 "cells": [
  {
   "cell_type": "markdown",
   "id": "36c9b44c",
   "metadata": {},
   "source": [
    "## operadores de Afiliación."
   ]
  },
  {
   "cell_type": "markdown",
   "id": "82b2b787",
   "metadata": {},
   "source": [
    "¿Qué son los operadores de afiliación? \n",
    "- Son usados para validar los elementos en listas cadenas y tuplas. \n",
    "- Validan si una variable está presente en una secuencia. \n",
    "- Regresan un valor booleano con el resultado True/False. \n",
    "- Regresan True si el valor está presente en la secuencia. \n",
    "- Regresan False si el valor no está presente en la secuencia.\n",
    "- Hay 2 operadores de afiliación: \n",
    "    - IN ; cuando el valor está en la secuencia.\n",
    "    - NOT IN ; cuando el valor no está en la secuencia."
   ]
  },
  {
   "cell_type": "markdown",
   "id": "4b73f312",
   "metadata": {},
   "source": [
    "## # IN - para cadenas (¿El valor está en la secuencia?)"
   ]
  },
  {
   "cell_type": "code",
   "execution_count": 1,
   "id": "d5751a8f",
   "metadata": {},
   "outputs": [
    {
     "name": "stdout",
     "output_type": "stream",
     "text": [
      "Is character ' a ' present in my_string?: True\n"
     ]
    }
   ],
   "source": [
    "my_string = \"Backend Python\"\n",
    "char = 'a'\n",
    "print(\"Is character '\",char,\"' present in my_string?:\", char in my_string)"
   ]
  },
  {
   "cell_type": "code",
   "execution_count": 2,
   "id": "021dfa39",
   "metadata": {},
   "outputs": [
    {
     "name": "stdout",
     "output_type": "stream",
     "text": [
      "Is character ' i ' present in my_string?: False\n"
     ]
    }
   ],
   "source": [
    "my_string = \"Backend Python\"\n",
    "char = 'i'\n",
    "print(\"Is character '\",char,\"' present in my_string?:\", char in my_string)"
   ]
  },
  {
   "cell_type": "markdown",
   "id": "f25b69e4",
   "metadata": {},
   "source": [
    "## # IN - para listas (¿El valor está en la secuencia?)"
   ]
  },
  {
   "cell_type": "code",
   "execution_count": 3,
   "id": "09bd54bd",
   "metadata": {},
   "outputs": [
    {
     "name": "stdout",
     "output_type": "stream",
     "text": [
      "Is number ' 5 ' present in my_list?: False\n"
     ]
    }
   ],
   "source": [
    "# RECUERDA que la lista SE DEFINE entre corchetes []\n",
    "my_list = [1, 154, 321, 22, 11]\n",
    "v0 = 5\n",
    "print(\"Is number '\",v0,\"' present in my_list?:\", v0 in my_list)\n",
    "# OBSERVA  que 5 si está presente como numero ('154') pero no es un elemento 'formal' de la lista"
   ]
  },
  {
   "cell_type": "code",
   "execution_count": 4,
   "id": "6e9a3798",
   "metadata": {},
   "outputs": [
    {
     "name": "stdout",
     "output_type": "stream",
     "text": [
      "Is number ' 154 ' present in my_list?: True\n"
     ]
    }
   ],
   "source": [
    "# RECUERDA que la lista SE DEFINE entre corchetes []\n",
    "my_list = [1, 154, 321, 22, 11]\n",
    "v0 = 154\n",
    "print(\"Is number '\",v0,\"' present in my_list?:\", v0 in my_list)\n",
    "# OBSERVA  que 154 si está presente como un elemento 'formal' de la lista"
   ]
  },
  {
   "cell_type": "code",
   "execution_count": 5,
   "id": "5041d97c",
   "metadata": {},
   "outputs": [
    {
     "name": "stdout",
     "output_type": "stream",
     "text": [
      "Is number ' 5 ' present in my_list?: True\n"
     ]
    }
   ],
   "source": [
    "# RECUERDA que la lista SE DEFINE entre corchetes []\n",
    "my_list2 = [1, 154, 321, 22, 11, 5, 11, 22, 5, 1]\n",
    "v0 = 5\n",
    "print(\"Is number '\",v0,\"' present in my_list?:\", v0 in my_list2)\n",
    "# OBSERVA  que 5 si está presente como un elemento 'formal' de la lista, y ademas esta repetido"
   ]
  },
  {
   "cell_type": "markdown",
   "id": "c222162a",
   "metadata": {},
   "source": [
    "## # IN - para sets (¿El valor está en la secuencia?)"
   ]
  },
  {
   "cell_type": "code",
   "execution_count": 6,
   "id": "74d99429",
   "metadata": {},
   "outputs": [
    {
     "name": "stdout",
     "output_type": "stream",
     "text": [
      "[1, 154, 321, 22, 11, 5, 11, 22, 5, 1]\n"
     ]
    }
   ],
   "source": [
    "# RECUERDA que la lista SE DEFINE entre corchetes []\n",
    "my_list2 = [1, 154, 321, 22, 11, 5, 11, 22, 5, 1]\n",
    "print(my_list2)"
   ]
  },
  {
   "cell_type": "code",
   "execution_count": 7,
   "id": "6fa899b6",
   "metadata": {},
   "outputs": [
    {
     "data": {
      "text/plain": [
       "{1, 5, 11, 22, 154, 321}"
      ]
     },
     "execution_count": 7,
     "metadata": {},
     "output_type": "execute_result"
    }
   ],
   "source": [
    "# RECUERDA que un set SE DEFINE entre llaves {} \n",
    "# y su particularidad es que SOLO toma valores únicos.\n",
    "\n",
    "# Mira como en los 'set' entonces la repeticion no puede ocurrir:\n",
    "my_set = {1, 154, 321, 22, 11, 5, 11, 22, 5, 1}\n",
    "my_set     ## OJO NO SE LO PEDÍ CON print() POR QUE LO DESORDENA"
   ]
  },
  {
   "cell_type": "code",
   "execution_count": 8,
   "id": "de473654",
   "metadata": {},
   "outputs": [
    {
     "name": "stdout",
     "output_type": "stream",
     "text": [
      "Is number ' 5 ' present in my_set?: True\n"
     ]
    }
   ],
   "source": [
    "# Ahora SI, usamos IN\n",
    "# RECUERDA que un set SE DEFINE por llaves {} \n",
    "my_set = {1, 154, 321, 22, 11, 5, 11, 22, 5, 1}\n",
    "v0 = 5\n",
    "print(\"Is number '\",v0,\"' present in my_set?:\", v0 in my_set)\n",
    "# OBSERVA  que 5 si está presente como un ELEMENTO 'formal' de la lista \n",
    "# y además esta repetido DOS veces."
   ]
  },
  {
   "cell_type": "markdown",
   "id": "67214240",
   "metadata": {},
   "source": [
    "### Ten en cuenta que 'set' esta hecho para guardar valores únicos."
   ]
  },
  {
   "cell_type": "code",
   "execution_count": 9,
   "id": "6fef7887",
   "metadata": {},
   "outputs": [
    {
     "data": {
      "text/plain": [
       "{1, 5, 11, 22, 154, 321}"
      ]
     },
     "execution_count": 9,
     "metadata": {},
     "output_type": "execute_result"
    }
   ],
   "source": [
    "# AQUI LO VIELVO A LLAMAR SOLO POR VERLO (SIN USAR print())\n",
    "my_set"
   ]
  },
  {
   "cell_type": "markdown",
   "id": "d57c5b78",
   "metadata": {},
   "source": [
    "## NOT IN: ¿El valor NO está presente en la secuencia?"
   ]
  },
  {
   "cell_type": "code",
   "execution_count": 10,
   "id": "e584beaa",
   "metadata": {},
   "outputs": [
    {
     "name": "stdout",
     "output_type": "stream",
     "text": [
      "Is character ' a ' NOT present in my_string?: False\n"
     ]
    }
   ],
   "source": [
    "my_string = \"Backend Python\"\n",
    "char = 'a'\n",
    "print(\"Is character '\",char,\"' NOT present in my_string?:\", char not in my_string)"
   ]
  },
  {
   "cell_type": "code",
   "execution_count": 11,
   "id": "1cd2f557",
   "metadata": {},
   "outputs": [
    {
     "name": "stdout",
     "output_type": "stream",
     "text": [
      "Is character ' i ' NOT present in my_string?: True\n"
     ]
    }
   ],
   "source": [
    "my_string = \"Backend Python\"\n",
    "char = 'i'\n",
    "print(\"Is character '\",char,\"' NOT present in my_string?:\", char not in my_string)"
   ]
  },
  {
   "cell_type": "markdown",
   "id": "69a99b86",
   "metadata": {},
   "source": [
    "## # NOT IN - para listas (¿El valor está en la secuencia?)"
   ]
  },
  {
   "cell_type": "code",
   "execution_count": 12,
   "id": "22bab008",
   "metadata": {},
   "outputs": [
    {
     "name": "stdout",
     "output_type": "stream",
     "text": [
      "Is number ' 5 ' NOT present in my_list?: True\n"
     ]
    }
   ],
   "source": [
    "# RECUERDA que la lista SE DEFINE entre corchetes []\n",
    "my_list = [1, 154, 321, 22, 11]\n",
    "v0 = 5\n",
    "print(\"Is number '\",v0,\"' NOT present in my_list?:\", v0 not in my_list)\n",
    "# OBSERVA  que 5 si está presente como numero ('154') pero no es un elemento 'formal' de la lista"
   ]
  },
  {
   "cell_type": "code",
   "execution_count": 13,
   "id": "0d85e3e6",
   "metadata": {},
   "outputs": [
    {
     "name": "stdout",
     "output_type": "stream",
     "text": [
      "Is number ' 5 ' NOT present in my_list?: False\n"
     ]
    }
   ],
   "source": [
    "# RECUERDA que la lista SE DEFINE entre corchetes []\n",
    "my_list = [1, 154, 321, 22, 11, 5]\n",
    "v0 = 5\n",
    "print(\"Is number '\",v0,\"' NOT present in my_list?:\", v0 not in my_list)\n",
    "# OBSERVA  que 5 si está presente como numero ('154') pero no es un elemento 'formal' de la lista"
   ]
  },
  {
   "cell_type": "code",
   "execution_count": 14,
   "id": "43c58026",
   "metadata": {},
   "outputs": [],
   "source": [
    "## # NOT IN - para sets (¿El valor está en la secuencia?)"
   ]
  },
  {
   "cell_type": "code",
   "execution_count": 15,
   "id": "dac179fb",
   "metadata": {},
   "outputs": [
    {
     "name": "stdout",
     "output_type": "stream",
     "text": [
      "Is number ' 5 ' NOT present in my_set?: False\n"
     ]
    }
   ],
   "source": [
    "# Ahora SI, usemos el NOT IN\n",
    "# RECUERDA que un set SE DEFINE por llaves {} \n",
    "my_set = {1, 154, 321, 22, 11, 5, 11, 22, 5, 1}\n",
    "v0 = 5\n",
    "print(\"Is number '\",v0,\"' NOT present in my_set?:\", v0 not in my_set)\n",
    "# OBSERVA  que 5 si está presente como un ELEMENTO 'formal' de la lista \n",
    "# y además esta repetido DOS veces."
   ]
  },
  {
   "cell_type": "markdown",
   "id": "e61252e2",
   "metadata": {},
   "source": [
    "## Fin Parte_1 Mod 43 Operadores de Afiliación e Identidad.\n",
    "- Operadores de Afiliación (<-12:47)."
   ]
  }
 ],
 "metadata": {
  "kernelspec": {
   "display_name": "Python 3 (ipykernel)",
   "language": "python",
   "name": "python3"
  },
  "language_info": {
   "codemirror_mode": {
    "name": "ipython",
    "version": 3
   },
   "file_extension": ".py",
   "mimetype": "text/x-python",
   "name": "python",
   "nbconvert_exporter": "python",
   "pygments_lexer": "ipython3",
   "version": "3.9.12"
  }
 },
 "nbformat": 4,
 "nbformat_minor": 5
}

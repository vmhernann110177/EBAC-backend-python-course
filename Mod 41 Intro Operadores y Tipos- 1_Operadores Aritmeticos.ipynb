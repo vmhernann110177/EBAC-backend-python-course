{
 "cells": [
  {
   "cell_type": "markdown",
   "id": "a83be9ab",
   "metadata": {},
   "source": [
    "## 41 Operadores y Tipos de Operadores."
   ]
  },
  {
   "cell_type": "markdown",
   "id": "91ef92f5",
   "metadata": {},
   "source": [
    " ¿Que son lo operadores?\n",
    "- Son un conjunto de símbolos para un lenguaje de programación.\n",
    "- Estos símbolos pueden decirle al compilador o intérprete que ejecute ciertas acciones para producir un resultado final.\n",
    "- Pueden ser usados para aplicar operaciones en variables O valores. \n",
    "- pueden ser clasificados según su tipo (aritméticos, relacionales, de asignación, lógicos, afiliación y de identidad)."
   ]
  },
  {
   "cell_type": "markdown",
   "id": "e3213211",
   "metadata": {},
   "source": [
    "Tipos de operadores: \n",
    "\n",
    "- Aritméticos \n",
    "- Relacionales \n",
    "- Lógicos \n",
    "- De afiliación \n",
    "- De identidad"
   ]
  },
  {
   "cell_type": "markdown",
   "id": "0a773870",
   "metadata": {},
   "source": [
    "## Parte 1_Operadores aritméticos.\n",
    "- \"+\": Suma\n",
    "- \"-\": Resta\n",
    "- \"*\": Multiplicación\n",
    "- \"/\": División\n",
    "- \"//\": División con redondeo hacia abajo\n",
    "- \"**\": Exponente"
   ]
  },
  {
   "cell_type": "markdown",
   "id": "82ed352b",
   "metadata": {},
   "source": [
    "#### Operadores Aritméticos:"
   ]
  },
  {
   "cell_type": "code",
   "execution_count": 1,
   "id": "573e4253",
   "metadata": {},
   "outputs": [
    {
     "name": "stdout",
     "output_type": "stream",
     "text": [
      "Resultado de: 500 + 300 = 800\n"
     ]
    }
   ],
   "source": [
    "# \"+\": Suma\n",
    "v1 = 500\n",
    "v2 = 300\n",
    "print(\"Resultado de:\", v1, \"+\", v2, \"=\", v1+v2)"
   ]
  },
  {
   "cell_type": "code",
   "execution_count": 2,
   "id": "218c7ae3",
   "metadata": {},
   "outputs": [
    {
     "name": "stdout",
     "output_type": "stream",
     "text": [
      "Resultado de: 200 + 900 = 1100\n"
     ]
    }
   ],
   "source": [
    "# \"+\": Suma\n",
    "v1 = 200\n",
    "v2 = 900\n",
    "print(\"Resultado de:\", v1, \"+\", v2, \"=\", v1+v2)"
   ]
  },
  {
   "cell_type": "code",
   "execution_count": 3,
   "id": "f00cd2f8",
   "metadata": {},
   "outputs": [
    {
     "name": "stdout",
     "output_type": "stream",
     "text": [
      "Resultado de: 500 - 300 = 200\n"
     ]
    }
   ],
   "source": [
    "# \"-\": Resta\n",
    "v1 = 500\n",
    "v2 = 300\n",
    "print(\"Resultado de:\", v1, \"-\", v2, \"=\", v1-v2)"
   ]
  },
  {
   "cell_type": "code",
   "execution_count": 4,
   "id": "5e0d546c",
   "metadata": {},
   "outputs": [
    {
     "name": "stdout",
     "output_type": "stream",
     "text": [
      "Resultado de: 200 - 900 = -700\n"
     ]
    }
   ],
   "source": [
    "# \"-\": Resta\n",
    "v1 = 200\n",
    "v2 = 900\n",
    "print(\"Resultado de:\", v1, \"-\", v2, \"=\", v1-v2)"
   ]
  },
  {
   "cell_type": "code",
   "execution_count": 5,
   "id": "c2235715",
   "metadata": {
    "scrolled": true
   },
   "outputs": [
    {
     "name": "stdout",
     "output_type": "stream",
     "text": [
      "Resultado de: 500 * 300 = 150000\n"
     ]
    }
   ],
   "source": [
    "# \"*\": Multiplicación\n",
    "v1 = 500\n",
    "v2 = 300\n",
    "print(\"Resultado de:\", v1, \"*\", v2, \"=\", v1*v2)"
   ]
  },
  {
   "cell_type": "code",
   "execution_count": 6,
   "id": "9b433e78",
   "metadata": {},
   "outputs": [
    {
     "name": "stdout",
     "output_type": "stream",
     "text": [
      "Resultado de: 200 * 900 = 180000\n"
     ]
    }
   ],
   "source": [
    "# \"*\": Multiplicación\n",
    "v1 = 200\n",
    "v2 = 900\n",
    "print(\"Resultado de:\", v1, \"*\", v2, \"=\", v1*v2)"
   ]
  },
  {
   "cell_type": "code",
   "execution_count": 7,
   "id": "49be924a",
   "metadata": {},
   "outputs": [
    {
     "name": "stdout",
     "output_type": "stream",
     "text": [
      "Resultado de: 500 / 300 = 1.6666666666666667\n"
     ]
    }
   ],
   "source": [
    "# \"/\": División\n",
    "v1 = 500\n",
    "v2 = 300\n",
    "print(\"Resultado de:\", v1, \"/\", v2, \"=\", v1/v2)"
   ]
  },
  {
   "cell_type": "code",
   "execution_count": 8,
   "id": "4b8f00a1",
   "metadata": {},
   "outputs": [
    {
     "name": "stdout",
     "output_type": "stream",
     "text": [
      "Resultado de: 200 / 900 = 0.2222222222222222\n"
     ]
    }
   ],
   "source": [
    "# \"/\": División\n",
    "v1 = 200\n",
    "v2 = 900\n",
    "print(\"Resultado de:\", v1, \"/\", v2, \"=\", v1/v2)"
   ]
  },
  {
   "cell_type": "code",
   "execution_count": 9,
   "id": "a842443d",
   "metadata": {},
   "outputs": [
    {
     "name": "stdout",
     "output_type": "stream",
     "text": [
      "Resultado de: 500 // 300 = 1\n"
     ]
    }
   ],
   "source": [
    "# \"//\": División con redondeo hacia abajo, \n",
    "# \"la parte entera el resultado\" : BUSCA ESTE CONCEPTO\n",
    "v1 = 500\n",
    "v2 = 300\n",
    "print(\"Resultado de:\", v1, \"//\", v2, \"=\", v1//v2)"
   ]
  },
  {
   "cell_type": "code",
   "execution_count": 10,
   "id": "39fce357",
   "metadata": {},
   "outputs": [
    {
     "name": "stdout",
     "output_type": "stream",
     "text": [
      "Resultado de: 200 // 900 = 0\n"
     ]
    }
   ],
   "source": [
    "# \"//\": División con redondeo hacia abajo, \n",
    "# \"la parte entera el resultado\" : BUSCA ESTE CONCEPTO\n",
    "v1 = 200\n",
    "v2 = 900\n",
    "print(\"Resultado de:\", v1, \"//\", v2, \"=\", v1//v2)"
   ]
  },
  {
   "cell_type": "code",
   "execution_count": 11,
   "id": "0beabbc8",
   "metadata": {},
   "outputs": [
    {
     "name": "stdout",
     "output_type": "stream",
     "text": [
      "Resultado de: 2 ** 5 = 32\n"
     ]
    }
   ],
   "source": [
    "# \"**\": Exponente (2*2*2*2*2)\n",
    "v1 = 2\n",
    "v2 = 5\n",
    "print(\"Resultado de:\", v1, \"**\", v2, \"=\", v1**v2)"
   ]
  },
  {
   "cell_type": "code",
   "execution_count": 12,
   "id": "266a1700",
   "metadata": {},
   "outputs": [
    {
     "name": "stdout",
     "output_type": "stream",
     "text": [
      "Resultado de: 3 ** 3 = 27\n"
     ]
    }
   ],
   "source": [
    "# \"**\": Exponente (3*3*3)\n",
    "v1 = 3\n",
    "v2 = 3\n",
    "print(\"Resultado de:\", v1, \"**\", v2, \"=\", v1**v2)"
   ]
  },
  {
   "cell_type": "markdown",
   "id": "a3da5b0d",
   "metadata": {},
   "source": [
    "### Fin de la parte 1 de la Lección 41"
   ]
  }
 ],
 "metadata": {
  "kernelspec": {
   "display_name": "Python 3 (ipykernel)",
   "language": "python",
   "name": "python3"
  },
  "language_info": {
   "codemirror_mode": {
    "name": "ipython",
    "version": 3
   },
   "file_extension": ".py",
   "mimetype": "text/x-python",
   "name": "python",
   "nbconvert_exporter": "python",
   "pygments_lexer": "ipython3",
   "version": "3.9.12"
  }
 },
 "nbformat": 4,
 "nbformat_minor": 5
}

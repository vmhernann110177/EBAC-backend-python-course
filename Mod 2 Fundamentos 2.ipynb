{
 "cells": [
  {
   "cell_type": "markdown",
   "id": "e83d0273",
   "metadata": {},
   "source": [
    "# Fundamentos: 2. Funciones eval(), range() y xrange()"
   ]
  },
  {
   "cell_type": "markdown",
   "id": "6bd52654",
   "metadata": {},
   "source": [
    "## (a) Funcion eval()"
   ]
  },
  {
   "cell_type": "code",
   "execution_count": 42,
   "id": "24c139ca",
   "metadata": {},
   "outputs": [
    {
     "name": "stdout",
     "output_type": "stream",
     "text": [
      "my_number + 1000\n"
     ]
    }
   ],
   "source": [
    "my_number = 22\n",
    "print(\"my_number + 1000\") # Esto esta mal ejecutado, me devuelve una cadena"
   ]
  },
  {
   "cell_type": "code",
   "execution_count": 43,
   "id": "d5b6f32a",
   "metadata": {
    "scrolled": true
   },
   "outputs": [
    {
     "name": "stdout",
     "output_type": "stream",
     "text": [
      "22\n"
     ]
    }
   ],
   "source": [
    "print(my_number) # verifico valor de \"my_number\""
   ]
  },
  {
   "cell_type": "code",
   "execution_count": 44,
   "id": "161f9287",
   "metadata": {},
   "outputs": [
    {
     "data": {
      "text/plain": [
       "int"
      ]
     },
     "execution_count": 44,
     "metadata": {},
     "output_type": "execute_result"
    }
   ],
   "source": [
    "type(my_number)"
   ]
  },
  {
   "cell_type": "code",
   "execution_count": 45,
   "id": "3ba6d3d9",
   "metadata": {
    "scrolled": true
   },
   "outputs": [
    {
     "name": "stdout",
     "output_type": "stream",
     "text": [
      "1022\n"
     ]
    }
   ],
   "source": [
    "print(eval(\"my_number + 1000\")) # Aqui si hace la operacion... ¿Por qué?\n",
    "# porque la funcion eval() acepta código Python en forma de cadena de caracteres."
   ]
  },
  {
   "cell_type": "markdown",
   "id": "4b811954",
   "metadata": {},
   "source": [
    "## - Ahora si usas input()..."
   ]
  },
  {
   "cell_type": "code",
   "execution_count": 1,
   "id": "f4d6742c",
   "metadata": {},
   "outputs": [
    {
     "name": "stdout",
     "output_type": "stream",
     "text": [
      "Ingresa un número: 123\n"
     ]
    }
   ],
   "source": [
    "my_input = input(\"Ingresa un número: \")"
   ]
  },
  {
   "cell_type": "markdown",
   "id": "bf655974",
   "metadata": {},
   "source": [
    "### Llama a  'my_input'  sin usar print(). Verás que devuelve una cadena ______        'numero ingresado'"
   ]
  },
  {
   "cell_type": "code",
   "execution_count": 2,
   "id": "82f6dc6f",
   "metadata": {},
   "outputs": [
    {
     "data": {
      "text/plain": [
       "'123'"
      ]
     },
     "execution_count": 2,
     "metadata": {},
     "output_type": "execute_result"
    }
   ],
   "source": [
    "my_input"
   ]
  },
  {
   "cell_type": "code",
   "execution_count": 3,
   "id": "fd7f2d5e",
   "metadata": {},
   "outputs": [
    {
     "data": {
      "text/plain": [
       "str"
      ]
     },
     "execution_count": 3,
     "metadata": {},
     "output_type": "execute_result"
    }
   ],
   "source": [
    "type(my_input)"
   ]
  },
  {
   "cell_type": "markdown",
   "id": "034529be",
   "metadata": {},
   "source": [
    "### Exactamente que las tres líneas anteriores pero todo escrito en tres líneas de código:"
   ]
  },
  {
   "cell_type": "code",
   "execution_count": 4,
   "id": "72ee9098",
   "metadata": {},
   "outputs": [
    {
     "name": "stdout",
     "output_type": "stream",
     "text": [
      "Ingresa un número: 123\n",
      "123\n",
      "<class 'str'>\n"
     ]
    }
   ],
   "source": [
    "my_input = input(\"Ingresa un número: \")\n",
    "print(my_input) # Le pido que imprima el numero ingresado\n",
    "print(type(my_input)) # Verifico el tipo de dato, que es (# Cadena / String)\n"
   ]
  },
  {
   "cell_type": "markdown",
   "id": "9879ceb1",
   "metadata": {},
   "source": [
    "## - Pero si usamos 'eval()' antes de asignar un valor, es decir: eval(input())"
   ]
  },
  {
   "cell_type": "code",
   "execution_count": 5,
   "id": "8f7524ec",
   "metadata": {},
   "outputs": [
    {
     "name": "stdout",
     "output_type": "stream",
     "text": [
      "Ingresa un número: 123\n",
      "123\n",
      "<class 'int'>\n"
     ]
    }
   ],
   "source": [
    "my_input = eval(input(\"Ingresa un número: \"))\n",
    "# Imprime el valor ingresado\n",
    "print(my_input)\n",
    "# Imprime el tipo de valor ingresado\n",
    "print(type(my_input)) # Entero / Int\n"
   ]
  },
  {
   "cell_type": "markdown",
   "id": "7b8dbf42",
   "metadata": {},
   "source": [
    "### eval() es considerado potencialmente PELIGROSO, sobre todo si lo usas en un servidor para EVALUAR UNA EXPRESION QUE HA SIDO ENVIADA DESDE UN CLIENTE. \n",
    "#### Esto JAMÁS DEBE HACERSE pues permite la inyección de código, es decir, que el cliente te suministre una cadena que sea o será ejecutada por tu servidor."
   ]
  },
  {
   "cell_type": "code",
   "execution_count": 51,
   "id": "4a8e7175",
   "metadata": {},
   "outputs": [],
   "source": [
    "# Dicho de otro modo JAMÁS HAGAS ESTO:\n",
    "\n",
    "## print('Introduce las medidas')\n",
    "## medida = input()\n",
    "## resultado = eval(medida)\n",
    "## print(resultado)"
   ]
  },
  {
   "cell_type": "code",
   "execution_count": 52,
   "id": "51aef50d",
   "metadata": {},
   "outputs": [
    {
     "name": "stdout",
     "output_type": "stream",
     "text": [
      "Introduce las medidas\n",
      "5*5\n",
      "25\n"
     ]
    }
   ],
   "source": [
    " print('Introduce las medidas')\n",
    " medida = input()              # \"Mete la expresión 5*5\" verás que si lo ejecuta, eso es indeseado\n",
    " resultado = eval(medida)\n",
    " print(resultado)"
   ]
  },
  {
   "cell_type": "markdown",
   "id": "c2f0bbbd",
   "metadata": {},
   "source": [
    "## (b) Función range() y xrange() \n",
    "### Nota importante: _  xrange() es igual que range(), pero es una versión de python 2"
   ]
  },
  {
   "cell_type": "code",
   "execution_count": 53,
   "id": "50b4dbd9",
   "metadata": {},
   "outputs": [],
   "source": [
    "x = range(10)"
   ]
  },
  {
   "cell_type": "code",
   "execution_count": 54,
   "id": "bf5cb682",
   "metadata": {},
   "outputs": [
    {
     "data": {
      "text/plain": [
       "range"
      ]
     },
     "execution_count": 54,
     "metadata": {},
     "output_type": "execute_result"
    }
   ],
   "source": [
    "# por pura curiosidad veo que tipo de variable es x\n",
    "type(x)"
   ]
  },
  {
   "cell_type": "markdown",
   "id": "0bfe3164",
   "metadata": {},
   "source": [
    "### Si solicito el valor de x me dice que es un 'rango' que va del 0 al 10, y  evidentemente también noto que tipo de variable es:"
   ]
  },
  {
   "cell_type": "code",
   "execution_count": 55,
   "id": "9306f791",
   "metadata": {},
   "outputs": [
    {
     "data": {
      "text/plain": [
       "range(0, 10)"
      ]
     },
     "execution_count": 55,
     "metadata": {},
     "output_type": "execute_result"
    }
   ],
   "source": [
    "x"
   ]
  },
  {
   "cell_type": "markdown",
   "id": "542cd701",
   "metadata": {},
   "source": [
    "## Si itero con un 'for' en ese rango me da sus numeros, \n",
    "### pero fijate que empieza desde el valor '0' y termina con el 9, ahi hay diez lujgares, claro, pero no termina con el 10, sino con el 9"
   ]
  },
  {
   "cell_type": "code",
   "execution_count": 56,
   "id": "a1d8a1d7",
   "metadata": {
    "scrolled": true
   },
   "outputs": [
    {
     "name": "stdout",
     "output_type": "stream",
     "text": [
      "0\n",
      "1\n",
      "2\n",
      "3\n",
      "4\n",
      "5\n",
      "6\n",
      "7\n",
      "8\n",
      "9\n"
     ]
    }
   ],
   "source": [
    "# Se lee: Por cada numero en el rango x (el rango x ) imprime ese numero, \n",
    "\n",
    "## como no le dije desde donde empezara ella comenzo por el cero (0)\n",
    "\n",
    "# MIRA la SINTAXIS del CICLO for, su primer linea termina con un ':' y la siguente linea empieza con un 'tab'\n",
    "for number in x:\n",
    "    print(number)"
   ]
  },
  {
   "cell_type": "markdown",
   "id": "bfa6e62c",
   "metadata": {},
   "source": [
    "### - Puedo delimitar el incio y final del rango con dos parámetros: range(start , stop)) "
   ]
  },
  {
   "cell_type": "code",
   "execution_count": 57,
   "id": "f0792fbd",
   "metadata": {},
   "outputs": [],
   "source": [
    "y = range(1,10)"
   ]
  },
  {
   "cell_type": "code",
   "execution_count": 58,
   "id": "89b9f8bc",
   "metadata": {},
   "outputs": [
    {
     "data": {
      "text/plain": [
       "range(1, 10)"
      ]
     },
     "execution_count": 58,
     "metadata": {},
     "output_type": "execute_result"
    }
   ],
   "source": [
    "y"
   ]
  },
  {
   "cell_type": "markdown",
   "id": "2e81251f",
   "metadata": {},
   "source": [
    "### - Nota que al imprimir a 'y' no toma en cuenta al último, eso significa que el rango y es de 9 valores\n",
    "###  Eso significa que es un rango que comienzó por el 1 y terminó antes de llegar al 10"
   ]
  },
  {
   "cell_type": "code",
   "execution_count": 59,
   "id": "94896870",
   "metadata": {},
   "outputs": [
    {
     "name": "stdout",
     "output_type": "stream",
     "text": [
      "1\n",
      "2\n",
      "3\n",
      "4\n",
      "5\n",
      "6\n",
      "7\n",
      "8\n",
      "9\n"
     ]
    }
   ],
   "source": [
    "for number in y:\n",
    "    print(number)"
   ]
  },
  {
   "cell_type": "markdown",
   "id": "159b5eff",
   "metadata": {},
   "source": [
    "### - Hay una funcion range con tres parametros: \n",
    "#### range(start, stop, step)"
   ]
  },
  {
   "cell_type": "code",
   "execution_count": 60,
   "id": "5ca3a913",
   "metadata": {},
   "outputs": [
    {
     "name": "stdout",
     "output_type": "stream",
     "text": [
      "0\n",
      "1\n",
      "2\n",
      "3\n",
      "4\n",
      "5\n",
      "6\n",
      "7\n",
      "8\n",
      "9\n"
     ]
    }
   ],
   "source": [
    "z = range(1,10,1)\n",
    "for number in x:\n",
    "    print(number)"
   ]
  },
  {
   "cell_type": "markdown",
   "id": "b7066a9e",
   "metadata": {},
   "source": [
    "### - Notarás que tampoco llega la final, y se detiene antes de llegar ahí."
   ]
  },
  {
   "cell_type": "code",
   "execution_count": null,
   "id": "65ad58e8",
   "metadata": {},
   "outputs": [],
   "source": []
  }
 ],
 "metadata": {
  "kernelspec": {
   "display_name": "Python 3 (ipykernel)",
   "language": "python",
   "name": "python3"
  },
  "language_info": {
   "codemirror_mode": {
    "name": "ipython",
    "version": 3
   },
   "file_extension": ".py",
   "mimetype": "text/x-python",
   "name": "python",
   "nbconvert_exporter": "python",
   "pygments_lexer": "ipython3",
   "version": "3.9.12"
  }
 },
 "nbformat": 4,
 "nbformat_minor": 5
}

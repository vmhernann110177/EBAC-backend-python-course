{
 "cells": [
  {
   "cell_type": "markdown",
   "id": "01437928",
   "metadata": {},
   "source": [
    "## Funciones básicas"
   ]
  },
  {
   "cell_type": "markdown",
   "id": "085e148b",
   "metadata": {},
   "source": [
    "### trunc()\n",
    "- por ahora NO la usamos"
   ]
  },
  {
   "cell_type": "code",
   "execution_count": 1,
   "id": "b077f108",
   "metadata": {},
   "outputs": [
    {
     "name": "stdout",
     "output_type": "stream",
     "text": [
      "v1:  64.99\n",
      "v2:  64.5\n",
      "v3:  64.51\n",
      "v4:  64.0000000001\n"
     ]
    }
   ],
   "source": [
    "v1 = 64.99\n",
    "v2 = 64.5\n",
    "v3 = 64.51\n",
    "v4 = 64.0000000001\n",
    "print(\"v1: \",v1)\n",
    "print(\"v2: \",v2)\n",
    "print(\"v3: \",v3)\n",
    "print(\"v4: \",v4)"
   ]
  },
  {
   "cell_type": "markdown",
   "id": "363b1f07",
   "metadata": {},
   "source": [
    "### trunc()\n",
    "- Ahora SI isamos la función trunc()\n",
    "- trunc() se queda con la parte entera, que sería lo mismo a hacer una conversión a in entero: int(64.9999) "
   ]
  },
  {
   "cell_type": "code",
   "execution_count": 10,
   "id": "560aa393",
   "metadata": {},
   "outputs": [
    {
     "name": "stdout",
     "output_type": "stream",
     "text": [
      "v1= 64.9999 trunc(v1)= 64\n",
      "v2= 64.5 trunc(v2)= 64\n",
      "v3= 64.51 trunc(v3)= 64\n",
      "v4= 64.0000000001 trunc(v4)= 64\n",
      "v5= 64.9999 trunc(v5)= 64\n",
      "v5= 64.9999 int(v5)= 64\n"
     ]
    }
   ],
   "source": [
    "# Llamamos a 'math' que es un modulo de python\n",
    "from math import trunc\n",
    "v1 = 64.9999\n",
    "v2 = 64.5\n",
    "v3 = 64.51\n",
    "v4 = 64.0000000001\n",
    "v5 = 64.9999\n",
    "print(\"v1=\",v1,\"trunc(v1)=\",trunc(v1))\n",
    "print(\"v2=\",v2,\"trunc(v2)=\",trunc(v2))\n",
    "print(\"v3=\",v3,\"trunc(v3)=\",trunc(v3))\n",
    "print(\"v4=\",v4,\"trunc(v4)=\",trunc(v4))\n",
    "print(\"v5=\",v5,\"trunc(v5)=\",trunc(v5))\n",
    "print(\"v5=\",v5,\"int(v5)=\",int(v5))"
   ]
  },
  {
   "cell_type": "markdown",
   "id": "cf091c2d",
   "metadata": {},
   "source": [
    "## Ahora veremos 3 funciones que están relacionadas.\n",
    "- round()\n",
    "- ceil()\n",
    "- floor()"
   ]
  },
  {
   "cell_type": "markdown",
   "id": "e26d13e9",
   "metadata": {},
   "source": [
    "### round()"
   ]
  },
  {
   "cell_type": "code",
   "execution_count": 20,
   "id": "d1b8bf3d",
   "metadata": {},
   "outputs": [
    {
     "name": "stdout",
     "output_type": "stream",
     "text": [
      "v1= 64.9999          - round(v1)= 65\n",
      "v2= 64.5             - round(v2)= 64\n",
      "v3= 64.51            - round(v3)= 65\n",
      "v4= 64.0000000001    - round(v4)= 64\n",
      "v5= 64.9999          - round(v5)= 65\n"
     ]
    }
   ],
   "source": [
    "# round (no necesitamos importar nada)\n",
    "v1 = 64.9999\n",
    "v2 = 64.5\n",
    "v3 = 64.51\n",
    "v4 = 64.0000000001\n",
    "v5 = 64.9999\n",
    "\n",
    "print(\"v1=\",v1,\"         - round(v1)=\",round(v1))\n",
    "print(\"v2=\",v2,\"            - round(v2)=\",round(v2))\n",
    "print(\"v3=\",v3,\"           - round(v3)=\",round(v3))\n",
    "print(\"v4=\",v4,\"   - round(v4)=\",round(v4))\n",
    "print(\"v5=\",v5,\"         - round(v5)=\",round(v5))"
   ]
  },
  {
   "cell_type": "markdown",
   "id": "309a3a61",
   "metadata": {},
   "source": [
    "### ceil()"
   ]
  },
  {
   "cell_type": "code",
   "execution_count": 23,
   "id": "79923950",
   "metadata": {
    "scrolled": false
   },
   "outputs": [
    {
     "name": "stdout",
     "output_type": "stream",
     "text": [
      "v1= 64.9999          - ceil(v1)= 65\n",
      "v2= 64.5             - ceil(v2)= 65\n",
      "v3= 64.51            - ceil(v3)= 65\n",
      "v4= 64.0000000001    - ceil(v4)= 65\n",
      "v5= 64.9999          - ceil(v5)= 65\n"
     ]
    }
   ],
   "source": [
    "# ceil (SI NECESITAMOS IMPORTARLO)\n",
    "# NOTA que ceil() es un redondeo hacia arriba:\n",
    "from math import ceil\n",
    "v1 = 64.9999\n",
    "v2 = 64.5\n",
    "v3 = 64.51\n",
    "v4 = 64.0000000001\n",
    "v5 = 64.9999\n",
    "print(\"v1=\",v1,\"         - ceil(v1)=\",ceil(v1))\n",
    "print(\"v2=\",v2,\"            - ceil(v2)=\",ceil(v2))\n",
    "print(\"v3=\",v3,\"           - ceil(v3)=\",ceil(v3))\n",
    "print(\"v4=\",v4,\"   - ceil(v4)=\",ceil(v4))\n",
    "print(\"v5=\",v5,\"         - ceil(v5)=\",ceil(v5))"
   ]
  },
  {
   "cell_type": "markdown",
   "id": "59d576b2",
   "metadata": {},
   "source": [
    "### floor() ; nota que es lo mismo que trunc()"
   ]
  },
  {
   "cell_type": "code",
   "execution_count": 25,
   "id": "99eb462e",
   "metadata": {},
   "outputs": [
    {
     "name": "stdout",
     "output_type": "stream",
     "text": [
      "v1= 64.9999          - floor(v1)= 64\n",
      "v2= 64.5             - floor(v2)= 64\n",
      "v3= 64.51            - floor(v3)= 64\n",
      "v4= 64.0000000001    - floor(v4)= 64\n",
      "v5= 64.9999          - floor(v5)= 64\n"
     ]
    }
   ],
   "source": [
    "# floor (SI NECESITAMOS IMPORTARLO)\n",
    "# NOTA que floor() es un redondeo hacia arriba:\n",
    "from math import floor\n",
    "v1 = 64.9999\n",
    "v2 = 64.5\n",
    "v3 = 64.51\n",
    "v4 = 64.0000000001\n",
    "v5 = 64.9999\n",
    "print(\"v1=\",v1,\"         - floor(v1)=\",floor(v1))\n",
    "print(\"v2=\",v2,\"            - floor(v2)=\",floor(v2))\n",
    "print(\"v3=\",v3,\"           - floor(v3)=\",floor(v3))\n",
    "print(\"v4=\",v4,\"   - floor(v4)=\",floor(v4))\n",
    "print(\"v5=\",v5,\"         - floor(v5)=\",floor(v5))"
   ]
  },
  {
   "cell_type": "markdown",
   "id": "7bbccb2a",
   "metadata": {},
   "source": [
    "## Fin de la lección."
   ]
  }
 ],
 "metadata": {
  "kernelspec": {
   "display_name": "Python 3 (ipykernel)",
   "language": "python",
   "name": "python3"
  },
  "language_info": {
   "codemirror_mode": {
    "name": "ipython",
    "version": 3
   },
   "file_extension": ".py",
   "mimetype": "text/x-python",
   "name": "python",
   "nbconvert_exporter": "python",
   "pygments_lexer": "ipython3",
   "version": "3.9.12"
  }
 },
 "nbformat": 4,
 "nbformat_minor": 5
}

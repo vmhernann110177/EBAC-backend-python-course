{
 "cells": [
  {
   "cell_type": "markdown",
   "id": "66f9a691",
   "metadata": {},
   "source": [
    "# Para la clase 53 de EBAC descubri esto:\n",
    "\n",
    "- Mira que usé :  |  \\u001b[31m  | para cambiar los siguentes caracteres a Rojo y |  \\u001b[30m  | a negro.\n",
    "- ] Mira la página: https://gist.github.com/JBlond/2fea43a3049b38287e5e9cefc87b2124 para mas colores"
   ]
  },
  {
   "cell_type": "code",
   "execution_count": 28,
   "id": "df6226fb",
   "metadata": {},
   "outputs": [
    {
     "name": "stdout",
     "output_type": "stream",
     "text": [
      "\u001b[31mROJO \u001b[30m NEGRO \u001b[32m VERDE\n"
     ]
    }
   ],
   "source": [
    "print(\"\\u001b[31mROJO \\u001b[30m NEGRO \\u001b[32m VERDE\")"
   ]
  },
  {
   "cell_type": "code",
   "execution_count": 3,
   "id": "c0da4890",
   "metadata": {},
   "outputs": [
    {
     "name": "stdout",
     "output_type": "stream",
     "text": [
      "\u001b[31mROJO\u001b[0m..\n"
     ]
    }
   ],
   "source": [
    "print(\"\\u001b[31mROJO\\033[0m..\") # lo empiezas con: \\u001b[31m; lo terminas con: \\033[0m "
   ]
  },
  {
   "cell_type": "code",
   "execution_count": 8,
   "id": "bdfa3d8a",
   "metadata": {},
   "outputs": [
    {
     "name": "stdout",
     "output_type": "stream",
     "text": [
      "\u001b[30mNEGRO\n"
     ]
    }
   ],
   "source": [
    "print(\"\\u001b[30mNEGRO\")"
   ]
  },
  {
   "cell_type": "code",
   "execution_count": 9,
   "id": "711dc74a",
   "metadata": {},
   "outputs": [
    {
     "name": "stdout",
     "output_type": "stream",
     "text": [
      "\u001b[32m VERDE\n"
     ]
    }
   ],
   "source": [
    "print(\"\\u001b[32m VERDE\")"
   ]
  },
  {
   "cell_type": "markdown",
   "id": "0f10c512",
   "metadata": {},
   "source": [
    "# Para Markdown puedes usar:\n",
    "\n",
    "CON GUION MEDIO HACES LISTAS DESORDENADAS \"UNORDERED LIST\"\n",
    "- First item\n",
    "- Second item\n",
    "- Third item\n",
    "- - Fourth item\n",
    "\n",
    "PARA NEGRITA:\n",
    "- Triple asterisco | \\* | para hacer negrita una ***palabra,*** ***o toda una frase***\n",
    "- puedes usar gion bajo para ***_CURSIVA_***, Fijate que aqui las combiné.\n",
    "\n",
    "PUESDE HACER LISTAS ORDENADAS:\n",
    "1. First item\n",
    "2. Second item\n",
    "3. Third item\n",
    "1. Fourth item\n",
    "-  4.1  No sé como hacer sub tema, por ahora lo pongo así.\n",
    "\n",
    "\n",
    "\n",
    "<h2> También PUEDES USAR HTML ... mejor... creo </h2>\n",
    "\n",
    "<h3>Ordered list</h3>\n",
    "\n",
    "<ol>\n",
    "  <li>Coffee</li>\n",
    "  <li>Tea</li>\n",
    "  <li>Milk</li>\n",
    "    <ol>\n",
    "        <li> <B> <FONT COLOR=\"red\">  <FONT SIZE=6 COLOR=\"red\"> J</FONT>uego un poco con <FONT SIZE=6 COLOR=\"red\">HTML</FONT>   </FONT></li>\n",
    "    </ol>\n",
    "        \n",
    "</ol> \n",
    "\n",
    "<h3>Unordered list</h3>\n",
    "\n",
    "<ul>\n",
    "  <li>Coffee</li>\n",
    "  <li>Tea</li>\n",
    "  <li>Milk</li>\n",
    "</ul>  \n"
   ]
  },
  {
   "cell_type": "markdown",
   "id": "5a36b44f",
   "metadata": {},
   "source": [
    "### En Python\n",
    "\n",
    "- Recuerda que para hacer negrita dentro de un print() usas:  ***print(\"\\033[1m\" + \"Python\" + \"\\033[0m\")***\n",
    "- o asi: ***print(\"Esto es \\033[1m Python \\033[0m\")***"
   ]
  },
  {
   "cell_type": "code",
   "execution_count": 35,
   "id": "ed34d3d2",
   "metadata": {},
   "outputs": [
    {
     "name": "stdout",
     "output_type": "stream",
     "text": [
      "Esto  es \u001b[1mPython\u001b[0m\n"
     ]
    }
   ],
   "source": [
    "print( \"Esto  es\", \"\\033[1m\" + \"Python\" + \"\\033[0m\")"
   ]
  },
  {
   "cell_type": "code",
   "execution_count": 34,
   "id": "c90918b8",
   "metadata": {},
   "outputs": [
    {
     "name": "stdout",
     "output_type": "stream",
     "text": [
      "Esto es \u001b[1mPython\u001b[0m\n"
     ]
    }
   ],
   "source": [
    "print(\"Esto es \\033[1mPython\\033[0m\") "
   ]
  },
  {
   "cell_type": "markdown",
   "id": "8bff3ba1",
   "metadata": {},
   "source": [
    "## Aqui hago algo mas elaborado en HTML para markdown:"
   ]
  },
  {
   "cell_type": "markdown",
   "id": "582ad266",
   "metadata": {},
   "source": [
    "<h2>format</h2>\n",
    " <ol>\n",
    "     <li>Uno. Nos ayuda a configurar ...\n",
    "     </li>\n",
    "        <ol>\n",
    "            <li>...\n",
    "            </li>\n",
    "            <li>...\n",
    "            </li>\n",
    "            <li>...\n",
    "            </li>\n",
    "        </ol>\n",
    "     <li> Dos. el formato (las llaves) <FONT SIZE=6 COLOR=\"red\">{ }</FONT> pueden ir varias veces en la cadena\n",
    "        <ol>\n",
    "            <li> Si este es el caso , <FONT SIZE=3 COLOR=\"blue\"> en el print() </FONT> iran dos cadenas separadas por una coma\n",
    "                <FONT SIZE=3 COLOR=\"black\"> : <br> </FONT>\n",
    "                <FONT SIZE=3 COLOR=\"blue\"> print( \"...\"<FONT SIZE=6 COLOR=\"red\"> , </FONT>\"...\" ) </FONT>\n",
    "            </li>\n",
    "        </ol>\n",
    "     </li>\n",
    "     <li> Tres. Te puedo cambiar el orden de la introducción de datos en la cadena:\n",
    "        <ol>\n",
    "            <li> Si este es el caso, en el formato indicare el orden de los indices de la cadena\n",
    "            </li>\n",
    "            <li> Y <FONT SIZE=2 COLOR=\"blue\"> NO VARÍO </FONT> las entradas de los datos, el indice hará su trabajo y los ordenará\n",
    "            </li>\n",
    "        </ol>\n",
    "     </li>\n",
    "</ol>"
   ]
  },
  {
   "cell_type": "markdown",
   "id": "e8ef3c58",
   "metadata": {},
   "source": [
    "<h1> Shortcuts: </h1>\n",
    "\n",
    "<ol>\n",
    "    <li> Para usar comandos de teclado, debes estar en command mode es decir, quita el lapicito que esta del lado derecho del lablel (lbl) <FONT SIZE=2 COLOR=\"red\"> \"Not trusted\" </FONT>\n",
    "    </li>\n",
    "    <li> Alternas pues entre <FONT SIZE=2 COLOR=\"red\"> Edit Mode y Command Mode </FONT> by clicking sobre un <FONT SIZE=2 COLOR=\"blue\"> Lapicito </FONT> <FONT SIZE=2 COLOR=\"red\"> ó </FONT> haciendo clic en la linea del comando que quieres trabajar.\n",
    "    </li>\n",
    "    <li> Para ver mas comandos de teclado \"Shortcuts\" haces clic en el <FONT SIZE=2 COLOR=\"blue\"> icono del teclado </FONT> que esta al lado de la droplist donde eliges que tipo de linea estas editando <FONT SIZE=2 COLOR=\"blue\"> (Code o Markdown) </FONT>\n",
    "    </li>\n",
    "</ol>"
   ]
  },
  {
   "cell_type": "markdown",
   "id": "0c7ff62a",
   "metadata": {},
   "source": [
    "<h1> Tema </h1>\n",
    "\n",
    "<ol>\n",
    "    <li> Alguna descripción.\n",
    "    </li>\n",
    "        <li> M´ss descripciones.\n",
    "    </li>\n",
    "</ol>"
   ]
  },
  {
   "cell_type": "code",
   "execution_count": null,
   "id": "30f18a10",
   "metadata": {},
   "outputs": [],
   "source": []
  }
 ],
 "metadata": {
  "kernelspec": {
   "display_name": "Python 3 (ipykernel)",
   "language": "python",
   "name": "python3"
  },
  "language_info": {
   "codemirror_mode": {
    "name": "ipython",
    "version": 3
   },
   "file_extension": ".py",
   "mimetype": "text/x-python",
   "name": "python",
   "nbconvert_exporter": "python",
   "pygments_lexer": "ipython3",
   "version": "3.9.12"
  }
 },
 "nbformat": 4,
 "nbformat_minor": 5
}

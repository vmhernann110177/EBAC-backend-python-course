{
 "cells": [
  {
   "cell_type": "markdown",
   "id": "66f9a691",
   "metadata": {},
   "source": [
    "# Para la clase 53 de EBAC descubri esto:\n",
    "\n",
    "- Mira que usé :  |  \\u001b[31m  | para cambiar los siguentes caracteres a Rojo y |  \\u001b[30m  | a negro.\n",
    "- ] Mira la página: https://gist.github.com/JBlond/2fea43a3049b38287e5e9cefc87b2124 para mas colores"
   ]
  },
  {
   "cell_type": "code",
   "execution_count": 28,
   "id": "df6226fb",
   "metadata": {},
   "outputs": [
    {
     "name": "stdout",
     "output_type": "stream",
     "text": [
      "\u001b[31mROJO \u001b[30m NEGRO \u001b[32m VERDE\n"
     ]
    }
   ],
   "source": [
    "print(\"\\u001b[31mROJO \\u001b[30m NEGRO \\u001b[32m VERDE\")"
   ]
  },
  {
   "cell_type": "code",
   "execution_count": 3,
   "id": "c0da4890",
   "metadata": {},
   "outputs": [
    {
     "name": "stdout",
     "output_type": "stream",
     "text": [
      "\u001b[31mROJO\u001b[0m..\n"
     ]
    }
   ],
   "source": [
    "print(\"\\u001b[31mROJO\\033[0m..\") # lo empiezas con: \\u001b[31m; lo terminas con: \\033[0m "
   ]
  },
  {
   "cell_type": "code",
   "execution_count": 8,
   "id": "bdfa3d8a",
   "metadata": {},
   "outputs": [
    {
     "name": "stdout",
     "output_type": "stream",
     "text": [
      "\u001b[30mNEGRO\n"
     ]
    }
   ],
   "source": [
    "print(\"\\u001b[30mNEGRO\")"
   ]
  },
  {
   "cell_type": "code",
   "execution_count": 9,
   "id": "711dc74a",
   "metadata": {},
   "outputs": [
    {
     "name": "stdout",
     "output_type": "stream",
     "text": [
      "\u001b[32m VERDE\n"
     ]
    }
   ],
   "source": [
    "print(\"\\u001b[32m VERDE\")"
   ]
  },
  {
   "cell_type": "markdown",
   "id": "0f10c512",
   "metadata": {},
   "source": [
    "# Para Markdown puedes usar:\n",
    "\n",
    "CON GUION MEDIO HACES LISTAS DESORDENADAS \"UNORDERED LIST\"\n",
    "- First item\n",
    "- Second item\n",
    "- Third item\n",
    "- - Fourth item\n",
    "\n",
    "PARA NEGRITA:\n",
    "- Triple asterisco | \\* | para hacer negrita una ***palabra,*** ***o toda una frase***\n",
    "- puedes usar gion bajo para ***_CURSIVA_***, Fijate que aqui las combiné.\n",
    "\n",
    "PUESDE HACER LISTAS ORDENADAS:\n",
    "1. First item\n",
    "2. Second item\n",
    "3. Third item\n",
    "1. Fourth item\n",
    "-  4.1  No sé como hacer sub tema, por ahora lo pongo así.\n",
    "\n",
    "\n",
    "\n",
    "<h2> También PUEDES USAR HTML ... mejor... creo </h2>\n",
    "\n",
    "<h3>Ordered list</h3>\n",
    "\n",
    "<ol>\n",
    "  <li>Coffee</li>\n",
    "  <li>Tea</li>\n",
    "  <li>Milk</li>\n",
    "    <ol>\n",
    "        <li> <B> <FONT COLOR=\"red\">  <FONT SIZE=6 COLOR=\"red\"> J</FONT>uego un poco con <FONT SIZE=6 COLOR=\"red\">HTML</FONT>   </FONT>\n",
    "        </li>\n",
    "    </ol>\n",
    "        \n",
    "</ol> \n",
    "\n",
    "<h3>Unordered list</h3>\n",
    "\n",
    "<ul>\n",
    "  <li>Coffee</li>\n",
    "  <li>Tea</li>\n",
    "  <li>Milk</li>\n",
    "</ul>  \n"
   ]
  },
  {
   "cell_type": "markdown",
   "id": "5a36b44f",
   "metadata": {},
   "source": [
    "### En Python\n",
    "\n",
    "- Recuerda que para hacer negrita dentro de un print() usas:  ***print(\"\\033[1m\" + \"Python\" + \"\\033[0m\")***\n",
    "- o asi: ***print(\"Esto es \\033[1m Python \\033[0m\")***"
   ]
  },
  {
   "cell_type": "code",
   "execution_count": 35,
   "id": "ed34d3d2",
   "metadata": {},
   "outputs": [
    {
     "name": "stdout",
     "output_type": "stream",
     "text": [
      "Esto  es \u001b[1mPython\u001b[0m\n"
     ]
    }
   ],
   "source": [
    "print( \"Esto  es\", \"\\033[1m\" + \"Python\" + \"\\033[0m\")"
   ]
  },
  {
   "cell_type": "code",
   "execution_count": 34,
   "id": "c90918b8",
   "metadata": {},
   "outputs": [
    {
     "name": "stdout",
     "output_type": "stream",
     "text": [
      "Esto es \u001b[1mPython\u001b[0m\n"
     ]
    }
   ],
   "source": [
    "print(\"Esto es \\033[1mPython\\033[0m\") "
   ]
  },
  {
   "cell_type": "markdown",
   "id": "8bff3ba1",
   "metadata": {},
   "source": [
    "## Aqui hago algo mas elaborado en HTML para markdown:"
   ]
  },
  {
   "cell_type": "markdown",
   "id": "582ad266",
   "metadata": {},
   "source": [
    "<h2>format</h2>\n",
    " <ol>\n",
    "     <li>Uno. Nos ayuda a configurar ...\n",
    "     </li>\n",
    "        <ol>\n",
    "            <li>...\n",
    "            </li>\n",
    "            <li>...\n",
    "            </li>\n",
    "            <li>...\n",
    "            </li>\n",
    "        </ol>\n",
    "     <li> Dos. el formato (las llaves) <FONT SIZE=6 COLOR=\"red\">{ }</FONT> pueden ir varias veces en la cadena\n",
    "        <ol>\n",
    "            <li> Si este es el caso , <FONT SIZE=3 COLOR=\"blue\"> en el print() </FONT> iran dos cadenas separadas por una coma: <br>\n",
    "                <FONT SIZE=3 COLOR=\"blue\"> print( \"...\"<FONT SIZE=6 COLOR=\"red\"> , </FONT>\"...\" ) </FONT>\n",
    "            </li>\n",
    "        </ol>\n",
    "     </li>\n",
    "     <li> Tres. Te puedo cambiar el orden de la introducción de datos en la cadena:\n",
    "        <ol>\n",
    "            <li> Si este es el caso, en el formato indicare el orden de los indices de la cadena\n",
    "            </li>\n",
    "            <li> Y <FONT SIZE=2 COLOR=\"blue\"> NO VARÍO </FONT> las entradas de los datos, el indice hará su trabajo y los ordenará\n",
    "            </li>\n",
    "        </ol>\n",
    "     </li>\n",
    "</ol>"
   ]
  },
  {
   "cell_type": "markdown",
   "id": "e8ef3c58",
   "metadata": {},
   "source": [
    "<h1> Shortcuts: </h1>\n",
    "\n",
    "<ol>\n",
    "    <li> Para usar comandos de teclado, debes estar en command mode es decir, quita el lapicito que esta del lado derecho del lablel (lbl) <FONT SIZE=2 COLOR=\"red\"> \"Not trusted\" </FONT>\n",
    "    </li>\n",
    "    <li> Alternas pues entre <FONT SIZE=2 COLOR=\"red\"> Edit Mode y Command Mode </FONT> by clicking sobre un <FONT SIZE=2 COLOR=\"blue\"> Lapicito </FONT> <FONT SIZE=2 COLOR=\"red\"> ó </FONT> haciendo clic en la linea del comando que quieres trabajar.\n",
    "    </li>\n",
    "    <li> Para ver mas comandos de teclado \"Shortcuts\" haces clic en el <FONT SIZE=2 COLOR=\"blue\"> icono del teclado </FONT> que esta al lado de la droplist donde eliges que tipo de linea estas editando <FONT SIZE=2 COLOR=\"blue\"> (Code o Markdown) </FONT>\n",
    "    </li>\n",
    "</ol>"
   ]
  },
  {
   "cell_type": "markdown",
   "id": "0c7ff62a",
   "metadata": {},
   "source": [
    "<h1> Tema </h1>\n",
    "\n",
    "<ol>\n",
    "    <li> Alguna descripción.\n",
    "    </li>\n",
    "        <li> M´ss descripciones.\n",
    "    </li>\n",
    "</ol>"
   ]
  },
  {
   "cell_type": "code",
   "execution_count": 3,
   "id": "ebed30fa",
   "metadata": {},
   "outputs": [
    {
     "name": "stdout",
     "output_type": "stream",
     "text": [
      "\"solo my_list como lista\":  [range(1, 5)]\n",
      "type <class 'list'> \n",
      "\n",
      "Imprime los valores de \"my_list\": [1, 2, 3, 4]\n",
      "type <class 'list'>\n"
     ]
    }
   ],
   "source": [
    " # pon unas comillas \"dobles\" en un texto:\n",
    "    \n",
    "my_list = [range(1,5,1)]\n",
    "\n",
    "# Asi solo pone una lista de rangos \"[range(1, 5)]\" No quiero eso\n",
    "print(\"\\\"solo my_list como lista\\\": \",my_list) \n",
    "print(\"type\",type(my_list), \"\\n\")\n",
    "\n",
    "# Yo quiero que imprima los valores de la lista, entonces con '*' en la sig. instrucción lo hace:\n",
    "my_list = [*range(1,5,1)]\n",
    "print(\"Imprime los valores de \\\"my_list\\\":\",my_list) \n",
    "print(\"type\",type(my_list))"
   ]
  },
  {
   "cell_type": "code",
   "execution_count": 1,
   "id": "a44c1707",
   "metadata": {},
   "outputs": [],
   "source": [
    "### MAs tools"
   ]
  },
  {
   "cell_type": "markdown",
   "id": "0497a345",
   "metadata": {},
   "source": [
    "<b> <FONT SIZE=4 COLOR=\"black\">Negro</FONT> </b>\n",
    "\n",
    "<b> <FONT SIZE=4 COLOR=\"yellow\">AmarilloNegrita</FONT> </b>\n",
    "\n",
    "<b> <FONT SIZE=4 COLOR=\"red\">Rojo</FONT> </b>\n",
    "\n",
    "<b> <FONT SIZE=4 COLOR=\"Orange\">Naranja</FONT> </b>\n",
    "\n",
    "<b> <FONT SIZE=4 COLOR=\"FAE213\">NaranjaCalro</FONT> </b>\n",
    "\n",
    "<b> <FONT SIZE=4 COLOR=\"00F0FF\">AzulClaroNegrita</FONT> </b>\n",
    "\n",
    "<b> <FONT SIZE=4 COLOR=\"blue\">AzulRey</FONT> </b>\n",
    "\n",
    "<b> <FONT SIZE=4 COLOR=\"DC00FF\">Morado</FONT> </b>\n",
    "\n",
    "<b> <FONT SIZE=4 COLOR=\"FB7BEF\">MoradoCLARO</FONT> </b>\n",
    "\n",
    "<b> <FONT SIZE=4 COLOR=\"F6B1F0\">MoradoMASCLARO</FONT> </b>\n",
    "\n",
    "<b> <FONT SIZE=4 COLOR=\"lightgreen\">VerdeLigero</FONT> </b>\n",
    "\n",
    "<b> <FONT SIZE=3 COLOR=\"#33FF5B\">VerdeFuerteNegrita</FONT> </b>\n",
    "\n",
    "<u>Subrayado</u>\n",
    "\n",
    "<b>Negrita</b>\n",
    "\n",
    "<br>\n",
    "\n",
    "<u> Para ver mas codigos de colores visita: (copia y pega la dirección) </u>->\n",
    "\n",
    "\n",
    "https://htmlcolorcodes.com/es/"
   ]
  },
  {
   "cell_type": "markdown",
   "id": "e5250ebc",
   "metadata": {},
   "source": [
    "<ol>\n",
    "  <li>Elemento 6.1: Diferentes formas de crear listas:</li>\n",
    "  <li>\n",
    "    Elemento 6.2\n",
    "    <ol>\n",
    "      <li>Subpunto 6.2.1</li>\n",
    "      <li>Subpunto 6.2.2</li>\n",
    "    </ol>\n",
    "  </li>\n",
    "  <li>Elemento 6.3</li>\n",
    "</ol>"
   ]
  },
  {
   "cell_type": "code",
   "execution_count": 2,
   "id": "bf497164",
   "metadata": {
    "scrolled": false
   },
   "outputs": [
    {
     "name": "stdout",
     "output_type": "stream",
     "text": [
      "Requirement already satisfied: jupyterthemes in c:\\users\\victor.hernandezm\\anaconda3\\lib\\site-packages (0.20.0)\n",
      "Requirement already satisfied: lesscpy>=0.11.2 in c:\\users\\victor.hernandezm\\anaconda3\\lib\\site-packages (from jupyterthemes) (0.15.1)\n",
      "Requirement already satisfied: ipython>=5.4.1 in c:\\users\\victor.hernandezm\\anaconda3\\lib\\site-packages (from jupyterthemes) (8.2.0)\n",
      "Requirement already satisfied: notebook>=5.6.0 in c:\\users\\victor.hernandezm\\anaconda3\\lib\\site-packages (from jupyterthemes) (6.4.8)\n",
      "Requirement already satisfied: matplotlib>=1.4.3 in c:\\users\\victor.hernandezm\\anaconda3\\lib\\site-packages (from jupyterthemes) (3.5.1)\n",
      "Requirement already satisfied: jupyter-core in c:\\users\\victor.hernandezm\\anaconda3\\lib\\site-packages (from jupyterthemes) (4.9.2)\n",
      "Requirement already satisfied: pygments>=2.4.0 in c:\\users\\victor.hernandezm\\anaconda3\\lib\\site-packages (from ipython>=5.4.1->jupyterthemes) (2.11.2)\n",
      "Requirement already satisfied: matplotlib-inline in c:\\users\\victor.hernandezm\\anaconda3\\lib\\site-packages (from ipython>=5.4.1->jupyterthemes) (0.1.2)\n",
      "Requirement already satisfied: setuptools>=18.5 in c:\\users\\victor.hernandezm\\anaconda3\\lib\\site-packages (from ipython>=5.4.1->jupyterthemes) (61.2.0)\n",
      "Requirement already satisfied: jedi>=0.16 in c:\\users\\victor.hernandezm\\anaconda3\\lib\\site-packages (from ipython>=5.4.1->jupyterthemes) (0.18.1)\n",
      "Requirement already satisfied: stack-data in c:\\users\\victor.hernandezm\\anaconda3\\lib\\site-packages (from ipython>=5.4.1->jupyterthemes) (0.2.0)\n",
      "Requirement already satisfied: decorator in c:\\users\\victor.hernandezm\\anaconda3\\lib\\site-packages (from ipython>=5.4.1->jupyterthemes) (5.1.1)\n",
      "Requirement already satisfied: pickleshare in c:\\users\\victor.hernandezm\\anaconda3\\lib\\site-packages (from ipython>=5.4.1->jupyterthemes) (0.7.5)\n",
      "Requirement already satisfied: backcall in c:\\users\\victor.hernandezm\\anaconda3\\lib\\site-packages (from ipython>=5.4.1->jupyterthemes) (0.2.0)\n",
      "Requirement already satisfied: prompt-toolkit!=3.0.0,!=3.0.1,<3.1.0,>=2.0.0 in c:\\users\\victor.hernandezm\\anaconda3\\lib\\site-packages (from ipython>=5.4.1->jupyterthemes) (3.0.20)\n",
      "Requirement already satisfied: traitlets>=5 in c:\\users\\victor.hernandezm\\anaconda3\\lib\\site-packages (from ipython>=5.4.1->jupyterthemes) (5.1.1)\n",
      "Requirement already satisfied: colorama in c:\\users\\victor.hernandezm\\anaconda3\\lib\\site-packages (from ipython>=5.4.1->jupyterthemes) (0.4.4)\n",
      "Requirement already satisfied: parso<0.9.0,>=0.8.0 in c:\\users\\victor.hernandezm\\anaconda3\\lib\\site-packages (from jedi>=0.16->ipython>=5.4.1->jupyterthemes) (0.8.3)\n",
      "Requirement already satisfied: ply in c:\\users\\victor.hernandezm\\anaconda3\\lib\\site-packages (from lesscpy>=0.11.2->jupyterthemes) (3.11)\n",
      "Requirement already satisfied: fonttools>=4.22.0 in c:\\users\\victor.hernandezm\\anaconda3\\lib\\site-packages (from matplotlib>=1.4.3->jupyterthemes) (4.25.0)\n",
      "Requirement already satisfied: kiwisolver>=1.0.1 in c:\\users\\victor.hernandezm\\anaconda3\\lib\\site-packages (from matplotlib>=1.4.3->jupyterthemes) (1.3.2)\n",
      "Requirement already satisfied: numpy>=1.17 in c:\\users\\victor.hernandezm\\anaconda3\\lib\\site-packages (from matplotlib>=1.4.3->jupyterthemes) (1.21.5)\n",
      "Requirement already satisfied: python-dateutil>=2.7 in c:\\users\\victor.hernandezm\\anaconda3\\lib\\site-packages (from matplotlib>=1.4.3->jupyterthemes) (2.8.2)\n",
      "Requirement already satisfied: packaging>=20.0 in c:\\users\\victor.hernandezm\\anaconda3\\lib\\site-packages (from matplotlib>=1.4.3->jupyterthemes) (21.3)\n",
      "Requirement already satisfied: cycler>=0.10 in c:\\users\\victor.hernandezm\\anaconda3\\lib\\site-packages (from matplotlib>=1.4.3->jupyterthemes) (0.11.0)\n",
      "Requirement already satisfied: pillow>=6.2.0 in c:\\users\\victor.hernandezm\\anaconda3\\lib\\site-packages (from matplotlib>=1.4.3->jupyterthemes) (9.0.1)\n",
      "Requirement already satisfied: pyparsing>=2.2.1 in c:\\users\\victor.hernandezm\\anaconda3\\lib\\site-packages (from matplotlib>=1.4.3->jupyterthemes) (3.0.4)\n",
      "Requirement already satisfied: tornado>=6.1 in c:\\users\\victor.hernandezm\\anaconda3\\lib\\site-packages (from notebook>=5.6.0->jupyterthemes) (6.1)\n",
      "Requirement already satisfied: argon2-cffi in c:\\users\\victor.hernandezm\\anaconda3\\lib\\site-packages (from notebook>=5.6.0->jupyterthemes) (21.3.0)\n",
      "Requirement already satisfied: pyzmq>=17 in c:\\users\\victor.hernandezm\\anaconda3\\lib\\site-packages (from notebook>=5.6.0->jupyterthemes) (22.3.0)\n",
      "Requirement already satisfied: nest-asyncio>=1.5 in c:\\users\\victor.hernandezm\\anaconda3\\lib\\site-packages (from notebook>=5.6.0->jupyterthemes) (1.5.5)\n",
      "Requirement already satisfied: nbconvert in c:\\users\\victor.hernandezm\\anaconda3\\lib\\site-packages (from notebook>=5.6.0->jupyterthemes) (6.4.4)\n",
      "Requirement already satisfied: prometheus-client in c:\\users\\victor.hernandezm\\anaconda3\\lib\\site-packages (from notebook>=5.6.0->jupyterthemes) (0.13.1)\n",
      "Requirement already satisfied: jupyter-client>=5.3.4 in c:\\users\\victor.hernandezm\\anaconda3\\lib\\site-packages (from notebook>=5.6.0->jupyterthemes) (6.1.12)\n",
      "Requirement already satisfied: ipython-genutils in c:\\users\\victor.hernandezm\\anaconda3\\lib\\site-packages (from notebook>=5.6.0->jupyterthemes) (0.2.0)\n",
      "Requirement already satisfied: ipykernel in c:\\users\\victor.hernandezm\\anaconda3\\lib\\site-packages (from notebook>=5.6.0->jupyterthemes) (6.9.1)\n",
      "Requirement already satisfied: jinja2 in c:\\users\\victor.hernandezm\\anaconda3\\lib\\site-packages (from notebook>=5.6.0->jupyterthemes) (2.11.3)\n",
      "Requirement already satisfied: Send2Trash>=1.8.0 in c:\\users\\victor.hernandezm\\anaconda3\\lib\\site-packages (from notebook>=5.6.0->jupyterthemes) (1.8.0)\n",
      "Requirement already satisfied: terminado>=0.8.3 in c:\\users\\victor.hernandezm\\anaconda3\\lib\\site-packages (from notebook>=5.6.0->jupyterthemes) (0.13.1)\n",
      "Requirement already satisfied: nbformat in c:\\users\\victor.hernandezm\\anaconda3\\lib\\site-packages (from notebook>=5.6.0->jupyterthemes) (5.3.0)\n",
      "Requirement already satisfied: pywin32>=1.0 in c:\\users\\victor.hernandezm\\anaconda3\\lib\\site-packages (from jupyter-core->jupyterthemes) (302)\n",
      "Requirement already satisfied: wcwidth in c:\\users\\victor.hernandezm\\anaconda3\\lib\\site-packages (from prompt-toolkit!=3.0.0,!=3.0.1,<3.1.0,>=2.0.0->ipython>=5.4.1->jupyterthemes) (0.2.5)\n",
      "Requirement already satisfied: six>=1.5 in c:\\users\\victor.hernandezm\\anaconda3\\lib\\site-packages (from python-dateutil>=2.7->matplotlib>=1.4.3->jupyterthemes) (1.16.0)\n",
      "Requirement already satisfied: pywinpty>=1.1.0 in c:\\users\\victor.hernandezm\\anaconda3\\lib\\site-packages (from terminado>=0.8.3->notebook>=5.6.0->jupyterthemes) (2.0.2)\n",
      "Requirement already satisfied: argon2-cffi-bindings in c:\\users\\victor.hernandezm\\anaconda3\\lib\\site-packages (from argon2-cffi->notebook>=5.6.0->jupyterthemes) (21.2.0)\n",
      "Requirement already satisfied: cffi>=1.0.1 in c:\\users\\victor.hernandezm\\anaconda3\\lib\\site-packages (from argon2-cffi-bindings->argon2-cffi->notebook>=5.6.0->jupyterthemes) (1.15.0)\n",
      "Requirement already satisfied: pycparser in c:\\users\\victor.hernandezm\\anaconda3\\lib\\site-packages (from cffi>=1.0.1->argon2-cffi-bindings->argon2-cffi->notebook>=5.6.0->jupyterthemes) (2.21)\n",
      "Requirement already satisfied: debugpy<2.0,>=1.0.0 in c:\\users\\victor.hernandezm\\anaconda3\\lib\\site-packages (from ipykernel->notebook>=5.6.0->jupyterthemes) (1.5.1)\n",
      "Requirement already satisfied: MarkupSafe>=0.23 in c:\\users\\victor.hernandezm\\anaconda3\\lib\\site-packages (from jinja2->notebook>=5.6.0->jupyterthemes) (2.0.1)\n",
      "Requirement already satisfied: mistune<2,>=0.8.1 in c:\\users\\victor.hernandezm\\anaconda3\\lib\\site-packages (from nbconvert->notebook>=5.6.0->jupyterthemes) (0.8.4)\n",
      "Requirement already satisfied: pandocfilters>=1.4.1 in c:\\users\\victor.hernandezm\\anaconda3\\lib\\site-packages (from nbconvert->notebook>=5.6.0->jupyterthemes) (1.5.0)\n",
      "Requirement already satisfied: testpath in c:\\users\\victor.hernandezm\\anaconda3\\lib\\site-packages (from nbconvert->notebook>=5.6.0->jupyterthemes) (0.5.0)\n",
      "Requirement already satisfied: jupyterlab-pygments in c:\\users\\victor.hernandezm\\anaconda3\\lib\\site-packages (from nbconvert->notebook>=5.6.0->jupyterthemes) (0.1.2)\n",
      "Requirement already satisfied: bleach in c:\\users\\victor.hernandezm\\anaconda3\\lib\\site-packages (from nbconvert->notebook>=5.6.0->jupyterthemes) (4.1.0)\n",
      "Requirement already satisfied: nbclient<0.6.0,>=0.5.0 in c:\\users\\victor.hernandezm\\anaconda3\\lib\\site-packages (from nbconvert->notebook>=5.6.0->jupyterthemes) (0.5.13)\n",
      "Requirement already satisfied: defusedxml in c:\\users\\victor.hernandezm\\anaconda3\\lib\\site-packages (from nbconvert->notebook>=5.6.0->jupyterthemes) (0.7.1)\n",
      "Requirement already satisfied: beautifulsoup4 in c:\\users\\victor.hernandezm\\anaconda3\\lib\\site-packages (from nbconvert->notebook>=5.6.0->jupyterthemes) (4.11.1)\n",
      "Requirement already satisfied: entrypoints>=0.2.2 in c:\\users\\victor.hernandezm\\anaconda3\\lib\\site-packages (from nbconvert->notebook>=5.6.0->jupyterthemes) (0.4)\n",
      "Requirement already satisfied: fastjsonschema in c:\\users\\victor.hernandezm\\anaconda3\\lib\\site-packages (from nbformat->notebook>=5.6.0->jupyterthemes) (2.15.1)\n",
      "Requirement already satisfied: jsonschema>=2.6 in c:\\users\\victor.hernandezm\\anaconda3\\lib\\site-packages (from nbformat->notebook>=5.6.0->jupyterthemes) (4.4.0)\n",
      "Requirement already satisfied: attrs>=17.4.0 in c:\\users\\victor.hernandezm\\anaconda3\\lib\\site-packages (from jsonschema>=2.6->nbformat->notebook>=5.6.0->jupyterthemes) (21.4.0)\n",
      "Requirement already satisfied: pyrsistent!=0.17.0,!=0.17.1,!=0.17.2,>=0.14.0 in c:\\users\\victor.hernandezm\\anaconda3\\lib\\site-packages (from jsonschema>=2.6->nbformat->notebook>=5.6.0->jupyterthemes) (0.18.0)\n",
      "Requirement already satisfied: soupsieve>1.2 in c:\\users\\victor.hernandezm\\anaconda3\\lib\\site-packages (from beautifulsoup4->nbconvert->notebook>=5.6.0->jupyterthemes) (2.3.1)\n",
      "Requirement already satisfied: webencodings in c:\\users\\victor.hernandezm\\anaconda3\\lib\\site-packages (from bleach->nbconvert->notebook>=5.6.0->jupyterthemes) (0.5.1)\n",
      "Requirement already satisfied: pure-eval in c:\\users\\victor.hernandezm\\anaconda3\\lib\\site-packages (from stack-data->ipython>=5.4.1->jupyterthemes) (0.2.2)\n",
      "Requirement already satisfied: executing in c:\\users\\victor.hernandezm\\anaconda3\\lib\\site-packages (from stack-data->ipython>=5.4.1->jupyterthemes) (0.8.3)\n",
      "Requirement already satisfied: asttokens in c:\\users\\victor.hernandezm\\anaconda3\\lib\\site-packages (from stack-data->ipython>=5.4.1->jupyterthemes) (2.0.5)\n",
      "Note: you may need to restart the kernel to use updated packages.\n"
     ]
    }
   ],
   "source": [
    "pip install jupyterthemes"
   ]
  },
  {
   "cell_type": "code",
   "execution_count": 3,
   "id": "a3030625",
   "metadata": {},
   "outputs": [
    {
     "ename": "SyntaxError",
     "evalue": "invalid syntax (3739435147.py, line 1)",
     "output_type": "error",
     "traceback": [
      "\u001b[1;36m  Input \u001b[1;32mIn [3]\u001b[1;36m\u001b[0m\n\u001b[1;33m    jt -t chesterish\u001b[0m\n\u001b[1;37m          ^\u001b[0m\n\u001b[1;31mSyntaxError\u001b[0m\u001b[1;31m:\u001b[0m invalid syntax\n"
     ]
    }
   ],
   "source": [
    "jt -t chesterish"
   ]
  },
  {
   "cell_type": "code",
   "execution_count": 4,
   "id": "127f3637",
   "metadata": {},
   "outputs": [
    {
     "name": "stdout",
     "output_type": "stream",
     "text": [
      "Available Themes: \n",
      "   chesterish\n",
      "   grade3\n",
      "   gruvboxd\n",
      "   gruvboxl\n",
      "   monokai\n",
      "   oceans16\n",
      "   onedork\n",
      "   solarizedd\n",
      "   solarizedl\n"
     ]
    }
   ],
   "source": [
    "!jt -l"
   ]
  },
  {
   "cell_type": "code",
   "execution_count": 6,
   "id": "ad885883",
   "metadata": {},
   "outputs": [],
   "source": [
    "!jt -t onedork"
   ]
  },
  {
   "cell_type": "code",
   "execution_count": 2,
   "id": "669a609d",
   "metadata": {},
   "outputs": [
    {
     "name": "stderr",
     "output_type": "stream",
     "text": [
      "El sistema no puede encontrar el archivo especificado.\n"
     ]
    }
   ],
   "source": [
    "!jt -t <theme_name> -T -N -kl"
   ]
  },
  {
   "cell_type": "code",
   "execution_count": 3,
   "id": "1939fe98",
   "metadata": {},
   "outputs": [],
   "source": [
    "!jt -t onedork -T -N -kl"
   ]
  },
  {
   "cell_type": "code",
   "execution_count": null,
   "id": "9a1d0b4d",
   "metadata": {},
   "outputs": [],
   "source": []
  }
 ],
 "metadata": {
  "kernelspec": {
   "display_name": "Python 3 (ipykernel)",
   "language": "python",
   "name": "python3"
  },
  "language_info": {
   "codemirror_mode": {
    "name": "ipython",
    "version": 3
   },
   "file_extension": ".py",
   "mimetype": "text/x-python",
   "name": "python",
   "nbconvert_exporter": "python",
   "pygments_lexer": "ipython3",
   "version": "3.9.12"
  }
 },
 "nbformat": 4,
 "nbformat_minor": 5
}

{
 "cells": [
  {
   "cell_type": "markdown",
   "id": "b343beeb",
   "metadata": {},
   "source": [
    "## Mutabilidad e Inmutabilidad."
   ]
  },
  {
   "cell_type": "markdown",
   "id": "00ae3d32",
   "metadata": {},
   "source": [
    "## TUPLA:  ENTRE PARÉNTESIS y SEPARADOS POR UNA COMA."
   ]
  },
  {
   "cell_type": "code",
   "execution_count": 2,
   "id": "adec9aef",
   "metadata": {},
   "outputs": [],
   "source": [
    "# En la asignacion de la variable nota que le dí una secuencia de numeros\n",
    "tuple1 = (1,2,3,4,5)"
   ]
  },
  {
   "cell_type": "code",
   "execution_count": 3,
   "id": "af9d63be",
   "metadata": {},
   "outputs": [
    {
     "name": "stdout",
     "output_type": "stream",
     "text": [
      "(1, 2, 3, 4, 5)\n"
     ]
    }
   ],
   "source": [
    "# la llamo\n",
    "print(tuple1)"
   ]
  },
  {
   "cell_type": "markdown",
   "id": "5bc252ea",
   "metadata": {},
   "source": [
    "#### Inmutabilidad: Las tuplas son inmutables (Que no puede ser cambiado o alterado), eso significa, que si yo quiero acceder a Modificar un elemento en particular. No puedo\n",
    "##### Primero llamo a un elemento digamos el '0' (cero)"
   ]
  },
  {
   "cell_type": "code",
   "execution_count": 4,
   "id": "cca1b41a",
   "metadata": {},
   "outputs": [
    {
     "data": {
      "text/plain": [
       "1"
      ]
     },
     "execution_count": 4,
     "metadata": {},
     "output_type": "execute_result"
    }
   ],
   "source": [
    "tuple1[0]"
   ]
  },
  {
   "cell_type": "markdown",
   "id": "4ef42905",
   "metadata": {},
   "source": [
    "### El elemento de subindice '0' (cero), es el primer elemento de programación, siempre iniciamos desde cero. \n",
    "### Si quiero decirle que ahora su nuevo valor es 10 a mandar un error."
   ]
  },
  {
   "cell_type": "code",
   "execution_count": 11,
   "id": "61eec87e",
   "metadata": {},
   "outputs": [
    {
     "name": "stdout",
     "output_type": "stream",
     "text": [
      "Aqui abajo dice que los objetos tupla no soportan asignación.\n",
      "Porque los objetos 'tupla' son inmutables.\n"
     ]
    },
    {
     "ename": "TypeError",
     "evalue": "'tuple' object does not support item assignment",
     "output_type": "error",
     "traceback": [
      "\u001b[1;31m---------------------------------------------------------------------------\u001b[0m",
      "\u001b[1;31mTypeError\u001b[0m                                 Traceback (most recent call last)",
      "Input \u001b[1;32mIn [11]\u001b[0m, in \u001b[0;36m<cell line: 4>\u001b[1;34m()\u001b[0m\n\u001b[0;32m      1\u001b[0m \u001b[38;5;66;03m# Inmutabilidad:\u001b[39;00m\n\u001b[0;32m      2\u001b[0m \u001b[38;5;28mprint\u001b[39m(\u001b[38;5;124m\"\u001b[39m\u001b[38;5;124mAqui abajo dice que los objetos tupla no soportan asignación.\u001b[39m\u001b[38;5;124m\"\u001b[39m\n\u001b[0;32m      3\u001b[0m       \u001b[38;5;124m\"\u001b[39m\u001b[38;5;130;01m\\n\u001b[39;00m\u001b[38;5;124mPorque los objetos \u001b[39m\u001b[38;5;124m'\u001b[39m\u001b[38;5;124mtupla\u001b[39m\u001b[38;5;124m'\u001b[39m\u001b[38;5;124m son inmutables.\u001b[39m\u001b[38;5;124m\"\u001b[39m)\n\u001b[1;32m----> 4\u001b[0m tuple1[\u001b[38;5;241m0\u001b[39m] \u001b[38;5;241m=\u001b[39m \u001b[38;5;241m10\u001b[39m\n",
      "\u001b[1;31mTypeError\u001b[0m: 'tuple' object does not support item assignment"
     ]
    }
   ],
   "source": [
    "# Inmutabilidad:\n",
    "print(\"Aqui abajo dice que los objetos tupla no soportan asignación.\"\n",
    "      \"\\nPorque los objetos 'tupla' son inmutables.\")\n",
    "tuple1[0] = 10\n"
   ]
  },
  {
   "cell_type": "markdown",
   "id": "d6f79d3a",
   "metadata": {},
   "source": [
    "## STRING o cadena:  ENTRE COMILLAS DOBLES o SENCILLAS."
   ]
  },
  {
   "cell_type": "markdown",
   "id": "290c4ade",
   "metadata": {},
   "source": [
    "- Lo mismo aplicaría para cadenas. Por ejemplo, si yo pusiera aquí una nueva variable que se llame 'my_string' y le asigno el valor de:\"Aprendiendo sobre inmutabilidad\"."
   ]
  },
  {
   "cell_type": "code",
   "execution_count": 26,
   "id": "8d029fb6",
   "metadata": {},
   "outputs": [],
   "source": [
    "my_string = \"Aprendiendo sobre inmutabilidad\""
   ]
  },
  {
   "cell_type": "code",
   "execution_count": 27,
   "id": "181b6fd7",
   "metadata": {},
   "outputs": [
    {
     "data": {
      "text/plain": [
       "'Aprendiendo sobre inmutabilidad'"
      ]
     },
     "execution_count": 27,
     "metadata": {},
     "output_type": "execute_result"
    }
   ],
   "source": [
    "my_string"
   ]
  },
  {
   "cell_type": "code",
   "execution_count": 28,
   "id": "cdf52636",
   "metadata": {},
   "outputs": [
    {
     "data": {
      "text/plain": [
       "'A'"
      ]
     },
     "execution_count": 28,
     "metadata": {},
     "output_type": "execute_result"
    }
   ],
   "source": [
    "my_string[0]"
   ]
  },
  {
   "cell_type": "code",
   "execution_count": 29,
   "id": "e7db7d49",
   "metadata": {},
   "outputs": [
    {
     "name": "stdout",
     "output_type": "stream",
     "text": [
      "Aqui abajo dice que los objetos 'str' no soportan asignación.\n",
      "Porque los objetos 'str' son inmutables.\n"
     ]
    },
    {
     "ename": "TypeError",
     "evalue": "'str' object does not support item assignment",
     "output_type": "error",
     "traceback": [
      "\u001b[1;31m---------------------------------------------------------------------------\u001b[0m",
      "\u001b[1;31mTypeError\u001b[0m                                 Traceback (most recent call last)",
      "Input \u001b[1;32mIn [29]\u001b[0m, in \u001b[0;36m<cell line: 3>\u001b[1;34m()\u001b[0m\n\u001b[0;32m      1\u001b[0m \u001b[38;5;28mprint\u001b[39m(\u001b[38;5;124m\"\u001b[39m\u001b[38;5;124mAqui abajo dice que los objetos \u001b[39m\u001b[38;5;124m'\u001b[39m\u001b[38;5;124mstr\u001b[39m\u001b[38;5;124m'\u001b[39m\u001b[38;5;124m no soportan asignación.\u001b[39m\u001b[38;5;124m\"\u001b[39m\n\u001b[0;32m      2\u001b[0m       \u001b[38;5;124m\"\u001b[39m\u001b[38;5;130;01m\\n\u001b[39;00m\u001b[38;5;124mPorque los objetos \u001b[39m\u001b[38;5;124m'\u001b[39m\u001b[38;5;124mstr\u001b[39m\u001b[38;5;124m'\u001b[39m\u001b[38;5;124m son inmutables.\u001b[39m\u001b[38;5;124m\"\u001b[39m)\n\u001b[1;32m----> 3\u001b[0m my_string[\u001b[38;5;241m0\u001b[39m] \u001b[38;5;241m=\u001b[39m \u001b[38;5;124m\"\u001b[39m\u001b[38;5;124ma\u001b[39m\u001b[38;5;124m\"\u001b[39m\n",
      "\u001b[1;31mTypeError\u001b[0m: 'str' object does not support item assignment"
     ]
    }
   ],
   "source": [
    "print(\"Aqui abajo dice que los objetos 'str' no soportan asignación.\"\n",
    "      \"\\nPorque los objetos 'str' son inmutables.\")\n",
    "my_string[0] = \"a\""
   ]
  },
  {
   "cell_type": "markdown",
   "id": "03aec5bc",
   "metadata": {},
   "source": [
    "#### Si existen procesos o funciones para realizar transformaciones sobre este tipo de elementos. \n",
    "#### Pero por ahora estamos aprendiendo un concepto más básico,\n",
    "### Solo para saber si lo permite directamente."
   ]
  },
  {
   "cell_type": "markdown",
   "id": "be18f395",
   "metadata": {},
   "source": [
    "## LISTAS: ENTRE CORCHETES, CADA VALOR SEPARADO POR COMA Y ENTRE COMILLAS, SI LA LISTA EN UN STRING"
   ]
  },
  {
   "cell_type": "code",
   "execution_count": 30,
   "id": "0702a7f6",
   "metadata": {},
   "outputs": [],
   "source": [
    "colours = [\"rojo\", \"azul\", \"verde\", \"negro\"]"
   ]
  },
  {
   "cell_type": "code",
   "execution_count": 31,
   "id": "2ac4d797",
   "metadata": {},
   "outputs": [
    {
     "data": {
      "text/plain": [
       "['rojo', 'azul', 'verde', 'negro']"
      ]
     },
     "execution_count": 31,
     "metadata": {},
     "output_type": "execute_result"
    }
   ],
   "source": [
    "colours"
   ]
  },
  {
   "cell_type": "code",
   "execution_count": 32,
   "id": "b00948e5",
   "metadata": {
    "scrolled": true
   },
   "outputs": [
    {
     "data": {
      "text/plain": [
       "'rojo'"
      ]
     },
     "execution_count": 32,
     "metadata": {},
     "output_type": "execute_result"
    }
   ],
   "source": [
    "colours[0]"
   ]
  },
  {
   "cell_type": "markdown",
   "id": "99f3355d",
   "metadata": {},
   "source": [
    "### AQUÍ PROBAMOS QUE EL VALOR DE UNA LISTA ES MUTABLE."
   ]
  },
  {
   "cell_type": "code",
   "execution_count": 35,
   "id": "ea44779c",
   "metadata": {},
   "outputs": [],
   "source": [
    "colours[0] = \"blanco\""
   ]
  },
  {
   "cell_type": "code",
   "execution_count": 36,
   "id": "6a9eb4d3",
   "metadata": {},
   "outputs": [
    {
     "data": {
      "text/plain": [
       "['blanco', 'azul', 'verde', 'negro']"
      ]
     },
     "execution_count": 36,
     "metadata": {},
     "output_type": "execute_result"
    }
   ],
   "source": [
    "colours"
   ]
  },
  {
   "cell_type": "markdown",
   "id": "15dc0140",
   "metadata": {},
   "source": [
    "## En conclusión, hay algunas estructuras que nos permiten realizar modificaciones directamente y hay otras que no. \n",
    "## Y a esta diferencia se le conoce como mutabilidad o inmutabilidad.\n",
    "- INMUTABLES: TUPLAS Y STRINGS\n",
    "- MUTABLES: LISTAS"
   ]
  },
  {
   "cell_type": "code",
   "execution_count": null,
   "id": "eac785f1",
   "metadata": {},
   "outputs": [],
   "source": []
  }
 ],
 "metadata": {
  "kernelspec": {
   "display_name": "Python 3 (ipykernel)",
   "language": "python",
   "name": "python3"
  },
  "language_info": {
   "codemirror_mode": {
    "name": "ipython",
    "version": 3
   },
   "file_extension": ".py",
   "mimetype": "text/x-python",
   "name": "python",
   "nbconvert_exporter": "python",
   "pygments_lexer": "ipython3",
   "version": "3.9.12"
  }
 },
 "nbformat": 4,
 "nbformat_minor": 5
}

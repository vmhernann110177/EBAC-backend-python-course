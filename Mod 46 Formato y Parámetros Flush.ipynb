{
 "cells": [
  {
   "cell_type": "markdown",
   "id": "91f88577",
   "metadata": {},
   "source": [
    "## Función %\n",
    "- Es ÚTIL para mostrar cierta cantidad de decimales, aunque existe la posibilidad de que redondee, pero no importa\n",
    "- Función para dar formato\n",
    "- FIJATE que para v1, como force a que tuviera un solo decimal lo redondeo, no puso: 64.9 puso: 65; \n",
    "- IGUAL para v5, pero ahi force a dos decimeles."
   ]
  },
  {
   "cell_type": "code",
   "execution_count": 129,
   "id": "150adfef",
   "metadata": {},
   "outputs": [
    {
     "name": "stdout",
     "output_type": "stream",
     "text": [
      "v1=  64.9999       =>' %.1f % v1: ' 65.0      NOTA que USÉ '%.1f  % v1' para dar formato a v1\n",
      "v2=  64.5          =>' %.3f % v2: ' 64.500     NOTA que USÉ '%.2f  % v2' para dar formato a v2\n",
      "v3=  64.51         =>' %.4f % v3: ' 64.5100    NOTA que USÉ '%.3f  % v3' para dar formato a v3\n",
      "v4=  64.0000000001 =>' %.5f % v4: ' 64.00000   NOTA que USÉ '%.4f  % v4' para dar formato a v4\n",
      "v5=  64.9999889    =>' %.2f % v5: ' 65.00     NOTA que USÉ '%.2f  % v5' para dar formato a v5\n"
     ]
    }
   ],
   "source": [
    "v1 = 64.9999\n",
    "v2 = 64.5\n",
    "v3 = 64.51\n",
    "v4 = 64.0000000001\n",
    "v5 = 64.9999889\n",
    "print(\"v1= \",v1, \"      =>' %.1f % v1: '\"   , '%.1f' % v1  , \"     NOTA que USÉ '%.1f  % v1' para dar formato a v1\")\n",
    "print(\"v2= \",v2, \"         =>' %.3f % v2: '\", '%.3f' % v2  , \"    NOTA que USÉ '%.2f  % v2' para dar formato a v2\")\n",
    "print(\"v3= \",v3, \"        =>' %.4f % v3: '\" ,  '%.4f' % v3 , \"   NOTA que USÉ '%.3f  % v3' para dar formato a v3\")\n",
    "print(\"v4= \",v4, \"=>' %.5f % v4: '\" ,  '%.5f' % v4 , \"  NOTA que USÉ '%.4f  % v4' para dar formato a v4\")\n",
    "print(\"v5= \",v5, \"   =>' %.2f % v5: '\" ,  '%.2f' % v5 , \"    NOTA que USÉ '%.2f  % v5' para dar formato a v5\")"
   ]
  },
  {
   "cell_type": "markdown",
   "id": "9a11f4e4",
   "metadata": {},
   "source": [
    "### Format()\n",
    "- Es bastante parecida a la anterior, solo que es mucho más limpia"
   ]
  },
  {
   "cell_type": "code",
   "execution_count": 127,
   "id": "e4eb1c4d",
   "metadata": {},
   "outputs": [
    {
     "name": "stdout",
     "output_type": "stream",
     "text": [
      "v1=  64.9999        =>   '{:.1f}' .format(v1): ' 65.0      NOTA que USÉ ('{:.1f}'.format(v1)) para dar formato a v1\n",
      "v2=  64.5           =>   '{:.2f}' .format(v2): ' 64.500     NOTA que USÉ ('{:.3f}'.format(v2)) para dar formato a v2\n",
      "v3=  64.51          =>   '{:.3f}' .format(v3): ' 64.5100    NOTA que USÉ ('{:.4f}'.format(v3)) para dar formato a v3\n",
      "v4=  64.0000000001  =>   '{:.4f}' .format(v4): ' 64.00000   NOTA que USÉ ('{:.5f}'.format(v4)) para dar formato a v4\n",
      "v5=  64.9999889     =>   '{:.5f}' .format(v5): ' 64.999989  NOTA que USÉ ('{:.6f}'.format(v5)) para dar formato a v5\n"
     ]
    }
   ],
   "source": [
    "v1 = 64.9999\n",
    "v2 = 64.5\n",
    "v3 = 64.51\n",
    "v4 = 64.0000000001\n",
    "v5 = 64.9999889\n",
    "print(\"v1= \",v1, \"       =>   '{:.1f}' .format(v1): '\"   , '{:.1f}'.format(v1)  , \"     NOTA que USÉ ('{:.1f}'.format(v1)) para dar formato a v1\")\n",
    "print(\"v2= \",v2, \"          =>   '{:.2f}' .format(v2): '\", '{:.3f}'.format(v2) , \"    NOTA que USÉ ('{:.3f}'.format(v2)) para dar formato a v2\")\n",
    "print(\"v3= \",v3, \"         =>   '{:.3f}' .format(v3): '\" ,  '{:.4f}'.format(v3) , \"   NOTA que USÉ ('{:.4f}'.format(v3)) para dar formato a v3\")\n",
    "print(\"v4= \",v4, \" =>   '{:.4f}' .format(v4): '\" ,  '{:.5f}'.format(v4) , \"  NOTA que USÉ ('{:.5f}'.format(v4)) para dar formato a v4\")\n",
    "print(\"v5= \",v5, \"    =>   '{:.5f}' .format(v5): '\" ,  '{:.6f}'.format(v5) , \" NOTA que USÉ ('{:.6f}'.format(v5)) para dar formato a v5\")"
   ]
  },
  {
   "cell_type": "markdown",
   "id": "00319ad5",
   "metadata": {},
   "source": [
    "## Fin de lección."
   ]
  },
  {
   "cell_type": "code",
   "execution_count": null,
   "id": "752c0c20",
   "metadata": {},
   "outputs": [],
   "source": []
  }
 ],
 "metadata": {
  "kernelspec": {
   "display_name": "Python 3 (ipykernel)",
   "language": "python",
   "name": "python3"
  },
  "language_info": {
   "codemirror_mode": {
    "name": "ipython",
    "version": 3
   },
   "file_extension": ".py",
   "mimetype": "text/x-python",
   "name": "python",
   "nbconvert_exporter": "python",
   "pygments_lexer": "ipython3",
   "version": "3.9.12"
  }
 },
 "nbformat": 4,
 "nbformat_minor": 5
}

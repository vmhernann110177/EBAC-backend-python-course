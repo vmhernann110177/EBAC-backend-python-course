{
 "cells": [
  {
   "cell_type": "markdown",
   "id": "68f472c4",
   "metadata": {},
   "source": [
    "### Mod 42 Parte 2_Operadores Lógicos (14:53)"
   ]
  },
  {
   "cell_type": "markdown",
   "id": "473b0dce",
   "metadata": {},
   "source": [
    "#### ¿Qué son los operadores lógicos?\n",
    "- Son usados principalmente para declaraciones condicionales \n",
    "- Son indicadores estructurales \n",
    "- También se les conoce como conectores lógicos \n",
    "- Hay 3 tipos de Operadores L+ogicos: \n",
    "- AND (y) - regresa True/Verdadero si ambas operaciones son verdaderas\n",
    "- OR (o) - regresa True/Verdadero si por lo menos una de las operaciones es verdadera\n",
    "- NOT (lo opuesto) regresa True/Verdadero si la operación es falsa False/Falso\n"
   ]
  },
  {
   "cell_type": "markdown",
   "id": "0a020e1e",
   "metadata": {},
   "source": [
    "#### AND (y)\n",
    "- todas lac condiciones deben ser verdaderas."
   ]
  },
  {
   "cell_type": "code",
   "execution_count": 1,
   "id": "d3d5f3f9",
   "metadata": {},
   "outputs": [
    {
     "name": "stdout",
     "output_type": "stream",
     "text": [
      "v1<=v2 and v1!=v2: True\n"
     ]
    }
   ],
   "source": [
    "v1 = 11\n",
    "v2 = 55\n",
    "# v1<=v2: True\n",
    "# v1!=v2: True\n",
    "# por lo tanto : True and True = True\n",
    "print(\"v1<=v2 and v1!=v2:\", v1<=v2 and v1!=v2)"
   ]
  },
  {
   "cell_type": "code",
   "execution_count": 2,
   "id": "a7d00211",
   "metadata": {},
   "outputs": [
    {
     "name": "stdout",
     "output_type": "stream",
     "text": [
      "v1<=v2 and v1!=v2: False\n"
     ]
    }
   ],
   "source": [
    "v1 = 11\n",
    "v2 = 11\n",
    "# v1<=v2: True\n",
    "# v1!=v2: False\n",
    "# por lo tanto : True and False = False\n",
    "print(\"v1<=v2 and v1!=v2:\", v1<=v2 and v1!=v2)"
   ]
  },
  {
   "cell_type": "code",
   "execution_count": 3,
   "id": "2461eea6",
   "metadata": {},
   "outputs": [
    {
     "name": "stdout",
     "output_type": "stream",
     "text": [
      "v1<=v2 and v1!=v2 and v1>10 True\n"
     ]
    }
   ],
   "source": [
    "v1 = 11\n",
    "v2 = 55\n",
    "# v1<=v2: True\n",
    "# v1!=v2: True\n",
    "# v1>10:  True\n",
    "# por lo tanto : True and True and True = True\n",
    "print(\"v1<=v2 and v1!=v2 and v1>10\", v1<=v2 and v1!=v2 and v1>10)"
   ]
  },
  {
   "cell_type": "code",
   "execution_count": 4,
   "id": "31fe4326",
   "metadata": {},
   "outputs": [
    {
     "name": "stdout",
     "output_type": "stream",
     "text": [
      "v1<=v2 and v1!=v2 and v1>10 False\n"
     ]
    }
   ],
   "source": [
    "v1 = 11\n",
    "v2 = 11\n",
    "# v1<=v2: True\n",
    "# v1!=v2: False\n",
    "# v1>10:  True\n",
    "# por lo tanto : True and False and True = False\n",
    "print(\"v1<=v2 and v1!=v2 and v1>10\", v1<=v2 and v1!=v2 and v1>10)"
   ]
  },
  {
   "cell_type": "markdown",
   "id": "749ef3a5",
   "metadata": {},
   "source": [
    "#### OR (o)\n",
    "- Al menos una condición es verdadera."
   ]
  },
  {
   "cell_type": "code",
   "execution_count": 5,
   "id": "1a7ae032",
   "metadata": {},
   "outputs": [
    {
     "name": "stdout",
     "output_type": "stream",
     "text": [
      "v1<=v2 or v1!=v2: True\n"
     ]
    }
   ],
   "source": [
    "v1 = 11\n",
    "v2 = 55\n",
    "# v1<=v2: True\n",
    "# v1!=v2: True\n",
    "# por lo tanto : True or True = True\n",
    "print(\"v1<=v2 or v1!=v2:\", v1<=v2 or v1!=v2)"
   ]
  },
  {
   "cell_type": "code",
   "execution_count": 6,
   "id": "b4bf9dd8",
   "metadata": {},
   "outputs": [
    {
     "name": "stdout",
     "output_type": "stream",
     "text": [
      "v1<=v2 or v1!=v2: True\n"
     ]
    }
   ],
   "source": [
    "v1 = 11\n",
    "v2 = 11\n",
    "# v1<=v2: True\n",
    "# v1!=v2: False\n",
    "# por lo tanto : True or False = True\n",
    "print(\"v1<=v2 or v1!=v2:\", v1<=v2 or v1!=v2)"
   ]
  },
  {
   "cell_type": "code",
   "execution_count": 7,
   "id": "90df2e80",
   "metadata": {},
   "outputs": [
    {
     "name": "stdout",
     "output_type": "stream",
     "text": [
      "v1<=v2 or v1!=v2 or v1>10 True\n"
     ]
    }
   ],
   "source": [
    "v1 = 11\n",
    "v2 = 55\n",
    "# v1<=v2: True\n",
    "# v1!=v2: True\n",
    "# v1>10:  True\n",
    "# por lo tanto : True or True or True = True\n",
    "print(\"v1<=v2 or v1!=v2 or v1>10\", v1<=v2 or v1!=v2 or v1>10)"
   ]
  },
  {
   "cell_type": "code",
   "execution_count": 8,
   "id": "2d2ddf78",
   "metadata": {},
   "outputs": [
    {
     "name": "stdout",
     "output_type": "stream",
     "text": [
      "v1<=v2 or v1!=v2 or v1>10 True\n"
     ]
    }
   ],
   "source": [
    "v1 = 11\n",
    "v2 = 11\n",
    "# v1<=v2: True\n",
    "# v1!=v2: False\n",
    "# v1>10:  True\n",
    "# por lo tanto : True or False or True = True\n",
    "print(\"v1<=v2 or v1!=v2 or v1>10\", v1<=v2 or v1!=v2 or v1>10)"
   ]
  },
  {
   "cell_type": "markdown",
   "id": "5dfb73b8",
   "metadata": {},
   "source": [
    "#### NOT (lo opuesto)\n",
    "- La condición debe ser Falsa."
   ]
  },
  {
   "cell_type": "code",
   "execution_count": 9,
   "id": "ae3dfac9",
   "metadata": {},
   "outputs": [
    {
     "name": "stdout",
     "output_type": "stream",
     "text": [
      "not v1<=v2: False\n"
     ]
    }
   ],
   "source": [
    "v1 = 11\n",
    "v2 = 55\n",
    "# v1<=v2: True\n",
    "# por lo tanto : not True = False (\"lo opesto de True es False\")\n",
    "print(\"not v1<=v2:\", not v1<=v2)"
   ]
  },
  {
   "cell_type": "code",
   "execution_count": 10,
   "id": "dc1439df",
   "metadata": {},
   "outputs": [
    {
     "name": "stdout",
     "output_type": "stream",
     "text": [
      "not v1!=v2: False\n"
     ]
    }
   ],
   "source": [
    "v1 = 11\n",
    "v2 = 55\n",
    "# v1!=v2: True\n",
    "# por lo tanto : not True = False (\"lo opesto de True es False\")\n",
    "print(\"not v1!=v2:\", not v1!=v2)"
   ]
  },
  {
   "cell_type": "code",
   "execution_count": 11,
   "id": "e41f7292",
   "metadata": {},
   "outputs": [
    {
     "name": "stdout",
     "output_type": "stream",
     "text": [
      "not v1>v2: True\n"
     ]
    }
   ],
   "source": [
    "v1 = 11\n",
    "v2 = 55\n",
    "# v1>v2: False\n",
    "# por lo tanto : not False = True (\"lo opesto de False es True\")\n",
    "print(\"not v1>v2:\", not v1>v2)"
   ]
  },
  {
   "cell_type": "markdown",
   "id": "81d7a9f3",
   "metadata": {},
   "source": [
    "### Leccion Mod42 - 2 Terminada."
   ]
  }
 ],
 "metadata": {
  "kernelspec": {
   "display_name": "Python 3 (ipykernel)",
   "language": "python",
   "name": "python3"
  },
  "language_info": {
   "codemirror_mode": {
    "name": "ipython",
    "version": 3
   },
   "file_extension": ".py",
   "mimetype": "text/x-python",
   "name": "python",
   "nbconvert_exporter": "python",
   "pygments_lexer": "ipython3",
   "version": "3.9.12"
  }
 },
 "nbformat": 4,
 "nbformat_minor": 5
}

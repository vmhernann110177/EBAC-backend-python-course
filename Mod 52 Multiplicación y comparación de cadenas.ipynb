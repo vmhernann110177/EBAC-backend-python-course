{
 "cells": [
  {
   "cell_type": "markdown",
   "id": "22a727b1",
   "metadata": {},
   "source": [
    "## Multiplicación de cadenas.\n",
    "(ORDER LIST)\n",
    "1. Solo se puede multiplicar por números **ENTEROS POSITIVOS**. \n",
    "2. Recuerda negrita en print(\"\\033[1m\" + \"Python\" + \"\\033[0m\")\n",
    "3. This is *italicized* type.\n",
    "4. con este caracter: \\ anulas: \n",
    "5.1.  This is not \\*italicized\\* type.\n",
    "6.1. Tambien puedes anular el \\**bold\\**.\n",
    "\n",
    "(UNORDER LIST)\n",
    "- Item. \n",
    "- - - Item."
   ]
  },
  {
   "cell_type": "code",
   "execution_count": 1,
   "id": "e28c6874",
   "metadata": {},
   "outputs": [
    {
     "name": "stdout",
     "output_type": "stream",
     "text": [
      "\u001b[1mPython\u001b[0m\n"
     ]
    }
   ],
   "source": [
    "print(\"\\033[1m\" + \"Python\" + \"\\033[0m\")"
   ]
  },
  {
   "cell_type": "code",
   "execution_count": 2,
   "id": "a6cd10d5",
   "metadata": {},
   "outputs": [
    {
     "name": "stdout",
     "output_type": "stream",
     "text": [
      "cargando...cargando...cargando...cargando...cargando...\n"
     ]
    }
   ],
   "source": [
    "# 5 veces cen una linea.\n",
    "my_string = \"cargando...\"\n",
    "print(my_string*5)  #  Multiplica el texto cinco veces, no funciona simbolo '+'"
   ]
  },
  {
   "cell_type": "code",
   "execution_count": 3,
   "id": "dfe13901",
   "metadata": {},
   "outputs": [
    {
     "name": "stdout",
     "output_type": "stream",
     "text": [
      "cargando...\n",
      "cargando...\n",
      "cargando...\n",
      "cargando...\n",
      "cargando...\n",
      "\n"
     ]
    }
   ],
   "source": [
    "# 5 veces con salto de linea\n",
    "my_string = \"cargando...\\n\"\n",
    "print(my_string*5)  #  Ahora intentamos con salto de línea '\\n'"
   ]
  },
  {
   "cell_type": "code",
   "execution_count": 4,
   "id": "9d25d180",
   "metadata": {},
   "outputs": [
    {
     "name": "stdout",
     "output_type": "stream",
     "text": [
      "cargando...\n",
      "cargando...\n",
      "cargando...\n",
      "cargando...\n",
      "cargando...\n",
      "cargando...\n",
      "cargando...\n",
      "cargando...\n",
      "\n"
     ]
    }
   ],
   "source": [
    "# 8 veces\n",
    "my_string = \"cargando...\\n\"\n",
    "print(my_string*8)  #  Multiplica el texto ocho veces"
   ]
  },
  {
   "cell_type": "code",
   "execution_count": 5,
   "id": "8d88b51d",
   "metadata": {},
   "outputs": [
    {
     "name": "stdout",
     "output_type": "stream",
     "text": [
      "\n"
     ]
    }
   ],
   "source": [
    "# Vacio\n",
    "my_string = \"cargando...\\n\"\n",
    "print(my_string*0)  #  Multiplica el texto cero veces, no pasa nada como se espera"
   ]
  },
  {
   "cell_type": "code",
   "execution_count": 6,
   "id": "6ae8f9c0",
   "metadata": {},
   "outputs": [
    {
     "name": "stdout",
     "output_type": "stream",
     "text": [
      "\n"
     ]
    }
   ],
   "source": [
    "# Negativo... Vacio\n",
    "my_string = \"cargando...\\n\"\n",
    "print(my_string*(-6))"
   ]
  },
  {
   "cell_type": "code",
   "execution_count": 7,
   "id": "37251ec0",
   "metadata": {},
   "outputs": [
    {
     "ename": "TypeError",
     "evalue": "can't multiply sequence by non-int of type 'float'",
     "output_type": "error",
     "traceback": [
      "\u001b[1;31m---------------------------------------------------------------------------\u001b[0m",
      "\u001b[1;31mTypeError\u001b[0m                                 Traceback (most recent call last)",
      "Input \u001b[1;32mIn [7]\u001b[0m, in \u001b[0;36m<cell line: 3>\u001b[1;34m()\u001b[0m\n\u001b[0;32m      1\u001b[0m \u001b[38;5;66;03m# Por float...error\u001b[39;00m\n\u001b[0;32m      2\u001b[0m my_string \u001b[38;5;241m=\u001b[39m \u001b[38;5;124m\"\u001b[39m\u001b[38;5;124mcargando...\u001b[39m\u001b[38;5;130;01m\\n\u001b[39;00m\u001b[38;5;124m\"\u001b[39m\n\u001b[1;32m----> 3\u001b[0m \u001b[38;5;28mprint\u001b[39m(\u001b[43mmy_string\u001b[49m\u001b[38;5;241;43m*\u001b[39;49m\u001b[38;5;241;43m5.0\u001b[39;49m)\n",
      "\u001b[1;31mTypeError\u001b[0m: can't multiply sequence by non-int of type 'float'"
     ]
    }
   ],
   "source": [
    "# Por float...error\n",
    "my_string = \"cargando...\\n\"\n",
    "print(my_string*5.0)"
   ]
  },
  {
   "cell_type": "markdown",
   "id": "82ec38ea",
   "metadata": {},
   "source": [
    "## Comparación de cadenas"
   ]
  },
  {
   "cell_type": "code",
   "execution_count": 8,
   "id": "74f1e307",
   "metadata": {},
   "outputs": [
    {
     "name": "stdout",
     "output_type": "stream",
     "text": [
      "Sin IGUALES    my_string_1 vs. my_string_2:  False\n",
      "Sin DIFERENTES my_string_1 vs. my_string_2:  True\n"
     ]
    }
   ],
   "source": [
    "# Diferentes\n",
    "my_string_1 = \"Prueba\"\n",
    "my_string_2 = \"prueba\"\n",
    "print(\"Sin IGUALES    my_string_1 vs. my_string_2: \", my_string_1 == my_string_2)\n",
    "print(\"Sin DIFERENTES my_string_1 vs. my_string_2: \", my_string_1 != my_string_2)"
   ]
  },
  {
   "cell_type": "code",
   "execution_count": 9,
   "id": "b1b7af3d",
   "metadata": {},
   "outputs": [
    {
     "name": "stdout",
     "output_type": "stream",
     "text": [
      "Sin IGUALES    my_string_1 vs. my_string_2:  True\n",
      "Sin DIFERENTES my_string_1 vs. my_string_2:  False\n"
     ]
    }
   ],
   "source": [
    "# Iguales\n",
    "my_string_1 = \"Prueba\"\n",
    "my_string_2 = \"Prueba\"\n",
    "print(\"Sin IGUALES    my_string_1 vs. my_string_2: \", my_string_1 == my_string_2)\n",
    "print(\"Sin DIFERENTES my_string_1 vs. my_string_2: \", my_string_1 != my_string_2)"
   ]
  },
  {
   "cell_type": "code",
   "execution_count": null,
   "id": "b008fbeb",
   "metadata": {},
   "outputs": [],
   "source": []
  }
 ],
 "metadata": {
  "kernelspec": {
   "display_name": "Python 3 (ipykernel)",
   "language": "python",
   "name": "python3"
  },
  "language_info": {
   "codemirror_mode": {
    "name": "ipython",
    "version": 3
   },
   "file_extension": ".py",
   "mimetype": "text/x-python",
   "name": "python",
   "nbconvert_exporter": "python",
   "pygments_lexer": "ipython3",
   "version": "3.9.12"
  }
 },
 "nbformat": 4,
 "nbformat_minor": 5
}

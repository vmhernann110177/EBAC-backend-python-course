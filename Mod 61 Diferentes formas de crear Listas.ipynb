{
 "cells": [
  {
   "cell_type": "markdown",
   "id": "43e246a2",
   "metadata": {},
   "source": [
    "#\n",
    "<ol>\n",
    "  <li><h1>Elemento 6.1: Diferentes formas de crear listas:</h1></li>\n",
    "</ol>"
   ]
  },
  {
   "cell_type": "code",
   "execution_count": 47,
   "id": "802884b6",
   "metadata": {},
   "outputs": [
    {
     "name": "stdout",
     "output_type": "stream",
     "text": [
      "my_list: [3, 3, 3, 3, 3]\n"
     ]
    }
   ],
   "source": [
    "my_list = [3]*5\n",
    "print(\"my_list:\",my_list)\n"
   ]
  },
  {
   "cell_type": "code",
   "execution_count": 48,
   "id": "b3f3a4e0",
   "metadata": {},
   "outputs": [
    {
     "name": "stdout",
     "output_type": "stream",
     "text": [
      "type <class 'list'>\n"
     ]
    }
   ],
   "source": [
    "print(\"type\",type(my_list))"
   ]
  },
  {
   "cell_type": "code",
   "execution_count": 49,
   "id": "6fa817a7",
   "metadata": {},
   "outputs": [
    {
     "name": "stdout",
     "output_type": "stream",
     "text": [
      "my_list: [1, 2, 3, 4, 5]\n"
     ]
    }
   ],
   "source": [
    "my_list = [1,2,3,4,5]\n",
    "print(\"my_list:\",my_list)"
   ]
  },
  {
   "cell_type": "code",
   "execution_count": 50,
   "id": "eeed9b7a",
   "metadata": {},
   "outputs": [
    {
     "name": "stdout",
     "output_type": "stream",
     "text": [
      "type <class 'list'>\n"
     ]
    }
   ],
   "source": [
    "print(\"type\",type(my_list))"
   ]
  },
  {
   "cell_type": "code",
   "execution_count": 51,
   "id": "4bac913f",
   "metadata": {
    "scrolled": true
   },
   "outputs": [
    {
     "name": "stdout",
     "output_type": "stream",
     "text": [
      "my_list= [0, 1, 2, 3, 4, 5, 6, 7, 8, 9]\n",
      "type <class 'list'>\n",
      "En my_list, hay \u001b[31m- 10   -\u001b[0m elementos\n"
     ]
    }
   ],
   "source": [
    "my_list = []\n",
    "    # un cliclo for\n",
    "numberCounter = 0    \n",
    "for number in range(10):\n",
    "    numberCounter += 1\n",
    "    my_list.append(number) # append es para agregar un elemento; \n",
    "                           # en my_list, con \"append\" agrego a 'number'\n",
    "print(\"my_list=\",my_list)\n",
    "print(\"type\",type(my_list))\n",
    "print(\"En my_list, hay \\u001b[31m-\", numberCounter, \"  -\\033[0m elementos\")"
   ]
  },
  {
   "cell_type": "markdown",
   "id": "8ae11fdf",
   "metadata": {},
   "source": [
    "<b> <FONT SIZE=4 COLOR=\"00F0FF\">Si intentas ver el contenido de la siguente manera <br> no lo lograrás, es mas facil con el 'for' anterior</FONT> </b>"
   ]
  },
  {
   "cell_type": "code",
   "execution_count": 52,
   "id": "b08a15f1",
   "metadata": {
    "scrolled": true
   },
   "outputs": [
    {
     "name": "stdout",
     "output_type": "stream",
     "text": [
      "range(0, 10)\n"
     ]
    }
   ],
   "source": [
    "delMe = range(10)\n",
    "print(delMe)"
   ]
  },
  {
   "cell_type": "markdown",
   "id": "e834ef80",
   "metadata": {},
   "source": [
    "<b> <FONT SIZE=4 COLOR=\"00F0FF\">Veamos una varioacion al 'range'</FONT> </b>"
   ]
  },
  {
   "cell_type": "code",
   "execution_count": 53,
   "id": "7fdd4eca",
   "metadata": {
    "scrolled": true
   },
   "outputs": [
    {
     "name": "stdout",
     "output_type": "stream",
     "text": [
      "my_list= [1, 2, 3, 4, 5, 6, 7, 8, 9]\n",
      "type <class 'list'>\n",
      "En my_list, hay \u001b[31m- 9   -\u001b[0m elementos\n"
     ]
    }
   ],
   "source": [
    "my_list = []\n",
    "    # un cliclo for      OBSERVA LA DIFRENCIA CON EL CICLO ANTERIOR \"range(1,10)\"\n",
    "numberCounter = 0      \n",
    "for number in range(1,10):\n",
    "    numberCounter += 1\n",
    "    my_list.append(number) # append es para agregar un elemento; \n",
    "                           # en my_list, con \"append\" agrego un numero: 'number'\n",
    "print(\"my_list=\",my_list)\n",
    "print(\"type\",type(my_list))\n",
    "print(\"En my_list, hay \\u001b[31m-\", numberCounter, \"  -\\033[0m elementos\")"
   ]
  },
  {
   "cell_type": "markdown",
   "id": "6345dd03",
   "metadata": {},
   "source": [
    "<b> <FONT SIZE=4 COLOR=\"FAE213\">OTRA FORMA en lugar de usar append es:</FONT> </b>"
   ]
  },
  {
   "cell_type": "code",
   "execution_count": 54,
   "id": "23324515",
   "metadata": {
    "scrolled": true
   },
   "outputs": [
    {
     "name": "stdout",
     "output_type": "stream",
     "text": [
      "my_list= [0, 1, 2, 3, 4, 5, 6, 7, 8, 9]\n",
      "type <class 'list'>\n",
      "En my_list, hay \u001b[31m- 10   -\u001b[0m elementos\n"
     ]
    }
   ],
   "source": [
    "# oTRA FORMA en lugar de usar append es:\n",
    "my_list = []\n",
    "    # un cliclo for\n",
    "numberCounter = 0    \n",
    "for number in range(10):\n",
    "    numberCounter += 1\n",
    "    my_list += [number] #  my_list = my_list + [number];  \n",
    "                        # checa que [number] debe ser una lista, \n",
    "                        # es decir una lista + una lista\n",
    "print(\"my_list=\",my_list)\n",
    "print(\"type\",type(my_list))\n",
    "print(\"En my_list, hay \\u001b[31m-\", numberCounter, \"  -\\033[0m elementos\")"
   ]
  },
  {
   "cell_type": "markdown",
   "id": "cdc77ffa",
   "metadata": {},
   "source": [
    "* <b> <FONT SIZE=4 COLOR=\"FAE213\">Esta es una forma alterna de crear una lista:</FONT> </b>"
   ]
  },
  {
   "cell_type": "code",
   "execution_count": 55,
   "id": "e0ef2d5a",
   "metadata": {},
   "outputs": [
    {
     "name": "stdout",
     "output_type": "stream",
     "text": [
      "my_list= [0, 1, 2, 3, 4, 5, 6, 7, 8, 9, 10, 11, 12, 13, 14]\n",
      "type <class 'list'>\n"
     ]
    }
   ],
   "source": [
    "#  Igual que lo anterior pero todo en una linea.\n",
    "my_list = [number for number in range(15)]\n",
    "print(\"my_list=\",my_list)\n",
    "print(\"type\",type(my_list))"
   ]
  },
  {
   "cell_type": "code",
   "execution_count": 56,
   "id": "0656fd98",
   "metadata": {},
   "outputs": [
    {
     "data": {
      "text/plain": [
       "0"
      ]
     },
     "execution_count": 56,
     "metadata": {},
     "output_type": "execute_result"
    }
   ],
   "source": [
    "my_list[0] # fijate que coincide indice con valor"
   ]
  },
  {
   "cell_type": "markdown",
   "id": "8d64bd97",
   "metadata": {},
   "source": [
    "## \n",
    "<b> <FONT SIZE=6 COLOR=\"yellow\">Obtener sublistas</FONT> </b>\n",
    "\n",
    "* <b> <FONT SIZE=4 COLOR=\"Orange\">Fijate: range(5,15) = range(inicio,fin) <br>\n",
    "    Recuerda que inicia donde le dices y termina uno antes del que le dices</FONT> </b>"
   ]
  },
  {
   "cell_type": "code",
   "execution_count": 61,
   "id": "22d16678",
   "metadata": {},
   "outputs": [
    {
     "name": "stdout",
     "output_type": "stream",
     "text": [
      "my_list: [5, 6, 7, 8, 9, 10, 11, 12, 13, 14]\n",
      "type <class 'list'>\n"
     ]
    }
   ],
   "source": [
    "my_list = [number for number in range(5,15)]\n",
    "print(\"my_list:\",my_list)\n",
    "print(\"type\",type(my_list))"
   ]
  },
  {
   "cell_type": "markdown",
   "id": "d2f950ef",
   "metadata": {},
   "source": [
    "## sublistas (recuerda:)\n",
    "* Recuerda algo importante: una cosa es subindice y otra es posisción\n",
    "* Los subindices empiezan desde cero <B>0</B> y las posiciones desde <B>1</B>\n",
    "* * Un 'pedazo' de la lista anterior ((tomó 4 posiciones), hasta el indcice 3), \n",
    "* * Más claro:\n",
    "* * Le digo: toma hasta el subindice 4 (dice: tomo los subindices: 0,1,2,3)\n",
    "* * Ó Le dije: toma hasta la posición 4 (dice: tomo los posiciones: 0,1,2,3) = (1,2,3,4)"
   ]
  },
  {
   "cell_type": "code",
   "execution_count": 62,
   "id": "e732c8f9",
   "metadata": {},
   "outputs": [
    {
     "name": "stdout",
     "output_type": "stream",
     "text": [
      "my_sublist: [5, 6, 7, 8]\n",
      "my_sublist; type: <class 'list'>\n"
     ]
    }
   ],
   "source": [
    "my_sublist = my_list[:4]\n",
    "print(\"my_sublist:\",my_sublist)\n",
    "print(\"my_sublist; type:\",type(my_sublist))"
   ]
  },
  {
   "cell_type": "code",
   "execution_count": 64,
   "id": "871d8fa6",
   "metadata": {
    "scrolled": true
   },
   "outputs": [
    {
     "name": "stdout",
     "output_type": "stream",
     "text": [
      "my_sublist: [8, 9, 10, 11]\n",
      "type <class 'list'>\n"
     ]
    }
   ],
   "source": [
    "# Un 'pedazo' de la lista anterior ((desde posición 4), hasta el posición 7)\n",
    "# date cuenta que el inicio causa ruido el subindice 0 (posición 1)\n",
    "my_sublist = my_list[3:7]\n",
    "print(\"my_sublist:\",my_sublist)\n",
    "print(\"type\",type(my_sublist))"
   ]
  },
  {
   "cell_type": "markdown",
   "id": "5303536f",
   "metadata": {},
   "source": [
    "<b> <FONT SIZE=4 COLOR=\"00F0FF\">Aqui hago trampa, porque le digo que comience <br> desde el último número y que termine en el final <br> claramente no imprimirá nada.</FONT> </b>"
   ]
  },
  {
   "cell_type": "code",
   "execution_count": 66,
   "id": "863ce19d",
   "metadata": {},
   "outputs": [
    {
     "name": "stdout",
     "output_type": "stream",
     "text": [
      "my_sublist: []\n",
      "type <class 'list'>\n"
     ]
    }
   ],
   "source": [
    "my_sublist = my_list[10:]\n",
    "print(\"my_sublist:\",my_sublist)\n",
    "print(\"type\",type(my_sublist))"
   ]
  },
  {
   "cell_type": "markdown",
   "id": "8fa6e39b",
   "metadata": {},
   "source": [
    "### # Si le pido algo fuera de rango '500' simplimente me regresa una lista vacia:\n",
    "* * <b> <FONT SIZE=4 COLOR=\"Orange\">OJO hay que tener cuidado porque te puedes equivocar y no te va a mandar error</FONT> </b> \n",
    "* * <b> <FONT SIZE=4 COLOR=\"Orange\">Para tener conocimiento sobre esta situación usa la función: len()</FONT> </b> "
   ]
  },
  {
   "cell_type": "code",
   "execution_count": 69,
   "id": "e6284844",
   "metadata": {},
   "outputs": [
    {
     "name": "stdout",
     "output_type": "stream",
     "text": [
      "my_sublist: []\n",
      "type <class 'list'>\n"
     ]
    }
   ],
   "source": [
    "\n",
    "my_sublist = my_list[500:]\n",
    "print(\"my_sublist:\",my_sublist)\n",
    "print(\"type\",type(my_sublist))"
   ]
  },
  {
   "cell_type": "code",
   "execution_count": 71,
   "id": "6365b68b",
   "metadata": {},
   "outputs": [
    {
     "data": {
      "text/plain": [
       "10"
      ]
     },
     "execution_count": 71,
     "metadata": {},
     "output_type": "execute_result"
    }
   ],
   "source": [
    "len(my_list)"
   ]
  },
  {
   "cell_type": "markdown",
   "id": "2ca57bc8",
   "metadata": {},
   "source": [
    "## \n",
    "<b> <FONT SIZE=6 COLOR=\"yellow\">Creacion de listas usando range y numpy</FONT> </b>\n",
    "* * range() recibe hasta tres paramentros <b><FONT SIZE=4 COLOR=\"00F0FF\"> \"range (inicio, fin, paso)\" </FONT></b>\n",
    "* a. <b> <FONT SIZE=4 COLOR=\"FAE213\">Recordemos que \"print(\"my_list\": \",my_list)\" solo imprime la instrucción \"[range(1, 5)]\" PERO no imprime la lista, NO quiero eso</FONT> </b>\n",
    "* b. <b> <FONT SIZE=4 COLOR=\"00F0FF\">Si quiero que imprima los valores de la lista, <br>\n",
    "    entonces debo usar ' * ' en la instrucción: <br>\n",
    "my_list = [*range(1,5,1)]\n",
    "    </FONT> </b>"
   ]
  },
  {
   "cell_type": "code",
   "execution_count": 85,
   "id": "7911c0ec",
   "metadata": {
    "scrolled": true
   },
   "outputs": [
    {
     "name": "stdout",
     "output_type": "stream",
     "text": [
      "Imprime los valores de \"my_list\\... ERROR :  [range(1, 5)]\n",
      "type <class 'list'> \n",
      "\n"
     ]
    }
   ],
   "source": [
    "my_list = [range(1,5,1)]\n",
    "\n",
    "# a. Asi solo imprime la instrucción \"[range(1, 5)]\" pero no quiero eso\n",
    "print(\"Imprime los valores de \\\"my_list\\... ERROR : \",my_list) \n",
    "print(\"type\",type(my_list), \"\\n\")"
   ]
  },
  {
   "cell_type": "code",
   "execution_count": 86,
   "id": "bb6ce45f",
   "metadata": {},
   "outputs": [
    {
     "name": "stdout",
     "output_type": "stream",
     "text": [
      "Imprime los valores de \"my_list\": [1, 2, 3, 4]\n",
      "type <class 'list'>\n"
     ]
    }
   ],
   "source": [
    "# b. Yo quiero que imprima los valores de la lista, entonces con '*' lo hace en la sig. instrucción :\n",
    "my_list = [*range(1,5,1)]\n",
    "print(\"Imprime los valores de \\\"my_list\\\":\",my_list) \n",
    "print(\"type\",type(my_list))"
   ]
  },
  {
   "cell_type": "code",
   "execution_count": 90,
   "id": "74fb00ac",
   "metadata": {
    "scrolled": true
   },
   "outputs": [
    {
     "name": "stdout",
     "output_type": "stream",
     "text": [
      "Imprime los valores de \"my_list\": [1, 5, 9, 13, 17]\n",
      "type <class 'list'>\n"
     ]
    }
   ],
   "source": [
    "# b. Yo quiero que imprima los valores de la lista, entonces con '*' \n",
    "# en la sig. instrucción: (*range(1,20,4)):\n",
    "my_list = [*range(1,20,4)]\n",
    "print(\"Imprime los valores de \\\"my_list\\\":\",my_list) \n",
    "print(\"type\",type(my_list))\n",
    "# lo que esta fuera del rango ya no se pone: 17 + 4 = 21"
   ]
  },
  {
   "cell_type": "markdown",
   "id": "ff94f4cc",
   "metadata": {},
   "source": [
    "<b> <FONT SIZE=6 COLOR=\"yellow\">Importamos numpy como np.</FONT> </b>"
   ]
  },
  {
   "cell_type": "code",
   "execution_count": 104,
   "id": "004cd012",
   "metadata": {},
   "outputs": [
    {
     "name": "stdout",
     "output_type": "stream",
     "text": [
      "'Usé numpy':\n",
      "Imprime los valores de \"my_list\": [1, 5, 9, 13, 17]\n",
      "type <class 'list'>\n"
     ]
    }
   ],
   "source": [
    "import numpy as np\n",
    "my_list = np.arange(1,20,4).tolist()\n",
    "print(\"'Usé numpy':\")\n",
    "print(\"Imprime los valores de \\\"my_list\\\":\",my_list) \n",
    "print(\"type\",type(my_list))"
   ]
  },
  {
   "cell_type": "markdown",
   "id": "c71d7b7c",
   "metadata": {},
   "source": [
    "## \n",
    "<b> <FONT SIZE=6 COLOR=\"yellow\">Listas Anidadas</FONT> </b>\n",
    "* una lista dentro de otra lista"
   ]
  },
  {
   "cell_type": "markdown",
   "id": "d76a3384",
   "metadata": {},
   "source": [
    "### Ojo aquí, se puede confundir con lo que puse arriba, pero aqui esta mejor explicado:\n",
    "* * Los subindices empiezan desde cero 0 y las posiciones desde uno 1\n",
    "* * Pero ESTA lista EN PARTICULAR comienza por 1 no por 0. Entonces, toma en cuenta eso.\n",
    "* * En ( my_list[3] ) Le dije: toma de la lista el subindice 3 |\" y dijo: los cuanto así: <FONT SIZE=4 COLOR=\"red\"> (0,1,2,3) </FONT> <br>\n",
    "Los valores **en la lista son**: 1,2,3,4 \", por lo tanto el Resultado es 4"
   ]
  },
  {
   "cell_type": "code",
   "execution_count": 111,
   "id": "f83a8cc4",
   "metadata": {},
   "outputs": [
    {
     "name": "stdout",
     "output_type": "stream",
     "text": [
      "my_list: [1, 2, 3, 4, 5]\n",
      "my_list[3] = 4\n",
      "\n",
      "type de my_list: <class 'list'>\n"
     ]
    }
   ],
   "source": [
    "my_list = [1,2,3,4,5]\n",
    "print(\"my_list:\",my_list)\n",
    "print(\"my_list[3] =\",my_list[3])\n",
    "print(\"\")\n",
    "print(\"type de my_list:\",type(my_list))"
   ]
  },
  {
   "cell_type": "markdown",
   "id": "dc872a35",
   "metadata": {},
   "source": [
    "### En la lista anidada cuentas igual, \n",
    "### creo que deberías contar mejor en términos de los subindices para evitar confusiones.\n",
    "* Aqui abajo le digo: imprime el indice 1, de la lista [[1,3,5], [2,4,6]]\n",
    "* entonces es la lista [2,4,6]\n",
    "- - mas abajo le digo: imprime el indice 2 de la lista anterior \n",
    "- - [2,4, <B><FONT SIZE=3 COLOR=\"red\"> 6 </FONT>]"
   ]
  },
  {
   "cell_type": "code",
   "execution_count": 114,
   "id": "0097abf4",
   "metadata": {},
   "outputs": [
    {
     "name": "stdout",
     "output_type": "stream",
     "text": [
      "my_list: [[1, 3, 5], [2, 4, 6]]\n",
      "my_list[1]: [2, 4, 6]\n",
      "my_list[1][2]: 6\n"
     ]
    }
   ],
   "source": [
    "my_list = [[1,3,5], [2,4,6]]\n",
    "print(\"my_list:\",my_list)\n",
    "\n",
    "# imprime el indice 1 de \"my_list\"\n",
    "print(\"my_list[1]:\",my_list[1]) # es [2,4,6]\n",
    "\n",
    "# y ahora le digo imprime el indice 2 de la lista 1 \n",
    "print(\"my_list[1][2]:\",my_list[1][2]) # es 6"
   ]
  },
  {
   "cell_type": "code",
   "execution_count": null,
   "id": "5745b412",
   "metadata": {},
   "outputs": [],
   "source": []
  }
 ],
 "metadata": {
  "kernelspec": {
   "display_name": "Python 3 (ipykernel)",
   "language": "python",
   "name": "python3"
  },
  "language_info": {
   "codemirror_mode": {
    "name": "ipython",
    "version": 3
   },
   "file_extension": ".py",
   "mimetype": "text/x-python",
   "name": "python",
   "nbconvert_exporter": "python",
   "pygments_lexer": "ipython3",
   "version": "3.9.12"
  }
 },
 "nbformat": 4,
 "nbformat_minor": 5
}

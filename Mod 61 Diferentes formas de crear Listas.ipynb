{
 "cells": [
  {
   "cell_type": "markdown",
   "id": "43e246a2",
   "metadata": {},
   "source": [
    "<h1> Diferentes formas de crear listas: </h1>\n",
    "\n",
    "<ol>\n",
    "    <li> ...\n",
    "    </li>\n",
    "</ol>"
   ]
  },
  {
   "cell_type": "code",
   "execution_count": 1,
   "id": "802884b6",
   "metadata": {},
   "outputs": [
    {
     "name": "stdout",
     "output_type": "stream",
     "text": [
      "my_list: [3, 3, 3, 3, 3] ; type <class 'list'>\n"
     ]
    }
   ],
   "source": [
    "my_list = [3]*5\n",
    "print(\"my_list:\",my_list, \"; type\",type(my_list))"
   ]
  },
  {
   "cell_type": "code",
   "execution_count": 2,
   "id": "6fa817a7",
   "metadata": {},
   "outputs": [
    {
     "name": "stdout",
     "output_type": "stream",
     "text": [
      "my_list: [1, 2, 3, 4, 5] ; type <class 'list'>\n"
     ]
    }
   ],
   "source": [
    "my_list = [1,2,3,4,5]\n",
    "print(\"my_list:\",my_list, \"; type\",type(my_list))"
   ]
  },
  {
   "cell_type": "code",
   "execution_count": 3,
   "id": "4bac913f",
   "metadata": {},
   "outputs": [
    {
     "name": "stdout",
     "output_type": "stream",
     "text": [
      "my_list: [0, 1, 2, 3, 4, 5, 6, 7, 8, 9] ; type <class 'list'>\n",
      "En my_list, hay \u001b[31m-10-\u001b[0m elementos\n"
     ]
    }
   ],
   "source": [
    "my_list = []\n",
    "    # un cliclo for\n",
    "for number in range(10):\n",
    "    my_list.append(number) # append es para agregar un elemento; \n",
    "                           # en my_list, con \"append\" agrego a 'number'\n",
    "print(\"my_list:\",my_list, \"; type\",type(my_list))\n",
    "print(\"En my_list, hay \\u001b[31m-10-\\033[0m elementos\")"
   ]
  },
  {
   "cell_type": "code",
   "execution_count": 4,
   "id": "7fdd4eca",
   "metadata": {},
   "outputs": [
    {
     "name": "stdout",
     "output_type": "stream",
     "text": [
      "my_list: [1, 2, 3, 4, 5, 6, 7, 8, 9] ; type <class 'list'>\n",
      "En my_list, hay \u001b[31m-9-\u001b[0m elementos\n"
     ]
    }
   ],
   "source": [
    "my_list = []\n",
    "    # un cliclo for      OBSERVA LA DIFRENCIA CON EL CICLO ANTERIOR \"range(1,10)\"\n",
    "for number in range(1,10):\n",
    "    my_list.append(number) # append es para agregar un elemento; \n",
    "                           # en my_list, con \"append\" agrego a 'number'\n",
    "print(\"my_list:\",my_list, \"; type\",type(my_list))\n",
    "print(\"En my_list, hay \\u001b[31m-9-\\033[0m elementos\")"
   ]
  },
  {
   "cell_type": "code",
   "execution_count": 5,
   "id": "23324515",
   "metadata": {},
   "outputs": [
    {
     "name": "stdout",
     "output_type": "stream",
     "text": [
      "my_list: [0, 1, 2, 3, 4, 5, 6, 7, 8, 9] ; type <class 'list'>\n"
     ]
    }
   ],
   "source": [
    "# oTRA FORMA en lugar de usar append es:\n",
    "my_list = []\n",
    "    # un cliclo for\n",
    "for number in range(10):\n",
    "    my_list += [number] #  my_list = my_list + [number];  \n",
    "                        # checa que [number] debe ser una lista, \n",
    "                        # es decir una lista + una lista\n",
    "print(\"my_list:\",my_list, \"; type\",type(my_list))"
   ]
  },
  {
   "cell_type": "code",
   "execution_count": 6,
   "id": "e0ef2d5a",
   "metadata": {},
   "outputs": [
    {
     "name": "stdout",
     "output_type": "stream",
     "text": [
      "my_list: [0, 1, 2, 3, 4, 5, 6, 7, 8, 9, 10, 11, 12, 13, 14]\n",
      "type <class 'list'>\n"
     ]
    }
   ],
   "source": [
    "#  Igual que lo anterio pero todo en una linea.\n",
    "my_list = [number for number in range(15)]\n",
    "print(\"my_list:\",my_list)\n",
    "print(\"type\",type(my_list))"
   ]
  },
  {
   "cell_type": "code",
   "execution_count": 7,
   "id": "0656fd98",
   "metadata": {},
   "outputs": [
    {
     "data": {
      "text/plain": [
       "0"
      ]
     },
     "execution_count": 7,
     "metadata": {},
     "output_type": "execute_result"
    }
   ],
   "source": [
    "my_list[0] # fijate que coincide indice con valor"
   ]
  },
  {
   "cell_type": "markdown",
   "id": "8d64bd97",
   "metadata": {},
   "source": [
    "## Obtener sublistas"
   ]
  },
  {
   "cell_type": "code",
   "execution_count": 8,
   "id": "22d16678",
   "metadata": {},
   "outputs": [
    {
     "name": "stdout",
     "output_type": "stream",
     "text": [
      "my_list: [0, 1, 2, 3, 4, 5, 6, 7, 8, 9, 10, 11, 12, 13, 14]\n",
      "type <class 'list'>\n"
     ]
    }
   ],
   "source": [
    "my_list = [number for number in range(15)]\n",
    "print(\"my_list:\",my_list)\n",
    "print(\"type\",type(my_list))"
   ]
  },
  {
   "cell_type": "markdown",
   "id": "d2f950ef",
   "metadata": {},
   "source": [
    "## sublistas (recuerda:)\n",
    "* Recuerda algo importante: una cosa es subindice y otra es posisción\n",
    "* Los subindices empiezan desde cero <B>0</B> y las posiciones desde uno <B>1</B>"
   ]
  },
  {
   "cell_type": "code",
   "execution_count": 9,
   "id": "e732c8f9",
   "metadata": {},
   "outputs": [
    {
     "name": "stdout",
     "output_type": "stream",
     "text": [
      "my_sublist: [0, 1, 2, 3]\n",
      "type <class 'list'>\n"
     ]
    }
   ],
   "source": [
    "# Un 'pedazo' de la lista anterior ((tomó 4 posiciones), hasta el indcice 3), más claro:\n",
    "# Le dije: toma hasta el subindice 4 (dijo: tomo los subindices: 0,1,2,3,4)\n",
    "# Ó Le dije: toma hasta la posición 4 (dijo: tomo los posiciones: 1,2,3,4)\n",
    "my_sublist = my_list[:4]\n",
    "print(\"my_sublist:\",my_sublist)\n",
    "print(\"type\",type(my_sublist))"
   ]
  },
  {
   "cell_type": "code",
   "execution_count": 10,
   "id": "871d8fa6",
   "metadata": {},
   "outputs": [
    {
     "name": "stdout",
     "output_type": "stream",
     "text": [
      "my_sublist: [3, 4, 5, 6]\n",
      "type <class 'list'>\n"
     ]
    }
   ],
   "source": [
    "# Un 'pedazo' de la lista anterior ((desde posición 4), hasta el posición 7)\n",
    "# date cuenta que el inicio causa ruido el subindice 0 (posición 1)\n",
    "my_sublist = my_list[3:7]\n",
    "print(\"my_sublist:\",my_sublist)\n",
    "print(\"type\",type(my_sublist))"
   ]
  },
  {
   "cell_type": "code",
   "execution_count": 11,
   "id": "863ce19d",
   "metadata": {},
   "outputs": [
    {
     "name": "stdout",
     "output_type": "stream",
     "text": [
      "my_sublist: [10, 11, 12, 13, 14]\n",
      "type <class 'list'>\n"
     ]
    }
   ],
   "source": [
    "my_sublist = my_list[10:]\n",
    "print(\"my_sublist:\",my_sublist)\n",
    "print(\"type\",type(my_sublist))"
   ]
  },
  {
   "cell_type": "markdown",
   "id": "8fa6e39b",
   "metadata": {},
   "source": [
    "### # Si le pido algo fuera de rango '500' simplimente me regresa una lista vacia:\n",
    "* ++ OJO hay que tener cuidado porque te puedes equivocar y no te va a mandar error ++\n",
    "* Para tener control sobre esto usa la función: len()"
   ]
  },
  {
   "cell_type": "code",
   "execution_count": 12,
   "id": "e6284844",
   "metadata": {},
   "outputs": [
    {
     "name": "stdout",
     "output_type": "stream",
     "text": [
      "my_sublist: []\n",
      "type <class 'list'>\n"
     ]
    }
   ],
   "source": [
    "\n",
    "my_sublist = my_list[500:]\n",
    "print(\"my_sublist:\",my_sublist)\n",
    "print(\"type\",type(my_sublist))"
   ]
  },
  {
   "cell_type": "code",
   "execution_count": 13,
   "id": "6365b68b",
   "metadata": {},
   "outputs": [
    {
     "data": {
      "text/plain": [
       "15"
      ]
     },
     "execution_count": 13,
     "metadata": {},
     "output_type": "execute_result"
    }
   ],
   "source": [
    "len(my_list)"
   ]
  },
  {
   "cell_type": "markdown",
   "id": "2ca57bc8",
   "metadata": {},
   "source": [
    "## Creacion de listas usando range y numpy\n",
    "* range() recibe hasta tres paramentros(range (inicio, fin, paso))"
   ]
  },
  {
   "cell_type": "code",
   "execution_count": 19,
   "id": "7911c0ec",
   "metadata": {},
   "outputs": [
    {
     "name": "stdout",
     "output_type": "stream",
     "text": [
      "my_list: [range(1, 5)]\n",
      "type <class 'list'> \n",
      "\n",
      "my_list: [1, 2, 3, 4]\n",
      "type <class 'list'>\n"
     ]
    }
   ],
   "source": [
    "my_list = [range(1,5,1)]\n",
    "\n",
    "# Asi solo pone una lista de rangos \"[range(1, 5)]\" No quiero eso\n",
    "print(\"my_list:\",my_list) \n",
    "print(\"type\",type(my_list), \"\\n\")\n",
    "\n",
    "# Yo quiero que imprima los valores de la lista, entonces con '*' en la sig. instrucción lo hace:\n",
    "my_list = [*range(1,5,1)]\n",
    "print(\"my_list:\",my_list) \n",
    "print(\"type\",type(my_list))\n"
   ]
  },
  {
   "cell_type": "markdown",
   "id": "b9d40d7a",
   "metadata": {},
   "source": [
    "# estoy en 14:21"
   ]
  },
  {
   "cell_type": "code",
   "execution_count": null,
   "id": "74fb00ac",
   "metadata": {},
   "outputs": [],
   "source": []
  }
 ],
 "metadata": {
  "kernelspec": {
   "display_name": "Python 3 (ipykernel)",
   "language": "python",
   "name": "python3"
  },
  "language_info": {
   "codemirror_mode": {
    "name": "ipython",
    "version": 3
   },
   "file_extension": ".py",
   "mimetype": "text/x-python",
   "name": "python",
   "nbconvert_exporter": "python",
   "pygments_lexer": "ipython3",
   "version": "3.9.12"
  }
 },
 "nbformat": 4,
 "nbformat_minor": 5
}

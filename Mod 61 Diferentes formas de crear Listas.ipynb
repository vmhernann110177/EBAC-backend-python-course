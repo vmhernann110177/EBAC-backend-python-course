{
 "cells": [
  {
   "cell_type": "markdown",
   "id": "43e246a2",
   "metadata": {},
   "source": [
    "<h1> Diferentes formas de crear listas: </h1>\n",
    "\n",
    "<ol>\n",
    "    <li> ...\n",
    "    </li>\n",
    "</ol>"
   ]
  },
  {
   "cell_type": "code",
   "execution_count": 4,
   "id": "802884b6",
   "metadata": {},
   "outputs": [
    {
     "name": "stdout",
     "output_type": "stream",
     "text": [
      "my_list: [3, 3, 3, 3, 3] ; type <class 'list'>\n"
     ]
    }
   ],
   "source": [
    "my_list = [3]*5\n",
    "print(\"my_list:\",my_list, \"; type\",type(my_list))"
   ]
  },
  {
   "cell_type": "code",
   "execution_count": 10,
   "id": "6fa817a7",
   "metadata": {},
   "outputs": [
    {
     "name": "stdout",
     "output_type": "stream",
     "text": [
      "my_list: [1, 2, 3, 4, 5] ; type <class 'list'>\n"
     ]
    }
   ],
   "source": [
    "my_list = [1,2,3,4,5]\n",
    "print(\"my_list:\",my_list, \"; type\",type(my_list))"
   ]
  },
  {
   "cell_type": "code",
   "execution_count": 11,
   "id": "4bac913f",
   "metadata": {},
   "outputs": [
    {
     "name": "stdout",
     "output_type": "stream",
     "text": [
      "my_list: [0, 1, 2, 3, 4, 5, 6, 7, 8, 9] ; type <class 'list'>\n"
     ]
    }
   ],
   "source": [
    "my_list = []\n",
    "    # un cliclo for\n",
    "for number in range(10):\n",
    "    my_list.append(number) # append es para agregar un elemento; en my_list, agrego con \"append\" a 'number'\n",
    "print(\"my_list:\",my_list, \"; type\",type(my_list))"
   ]
  },
  {
   "cell_type": "code",
   "execution_count": 14,
   "id": "7fdd4eca",
   "metadata": {},
   "outputs": [
    {
     "name": "stdout",
     "output_type": "stream",
     "text": [
      "my_list: [2, 3, 4, 5, 6, 7, 8, 9] ; type <class 'list'>\n"
     ]
    }
   ],
   "source": [
    "my_list = []\n",
    "    # un cliclo for      OBSERVA LA DIFRENCIA CON EL CICLO ANTERIOR \"range(1,10)\"\n",
    "for number in range(2,10):\n",
    "    my_list.append(number) # append es para agregar un elemento; en my_list, agrego con \"append\" a 'number'\n",
    "print(\"my_list:\",my_list, \"; type\",type(my_list))"
   ]
  },
  {
   "cell_type": "code",
   "execution_count": 18,
   "id": "23324515",
   "metadata": {},
   "outputs": [
    {
     "name": "stdout",
     "output_type": "stream",
     "text": [
      "my_list: [0, 1, 2, 3, 4, 5, 6, 7, 8, 9] ; type <class 'list'>\n"
     ]
    }
   ],
   "source": [
    "# oTRA FORMA en lugar de usar append es:\n",
    "my_list = []\n",
    "    # un cliclo for\n",
    "for number in range(10):\n",
    "    my_list += [number] #  my_list = my_list + [number];  checa que [number] debe ser una lista, es decir una lista + una lista\n",
    "print(\"my_list:\",my_list, \"; type\",type(my_list))"
   ]
  },
  {
   "cell_type": "code",
   "execution_count": 12,
   "id": "0656fd98",
   "metadata": {},
   "outputs": [
    {
     "data": {
      "text/plain": [
       "0"
      ]
     },
     "execution_count": 12,
     "metadata": {},
     "output_type": "execute_result"
    }
   ],
   "source": [
    "my_list[0] # fijate que coincide indice con valor"
   ]
  },
  {
   "cell_type": "markdown",
   "id": "8a91a4e1",
   "metadata": {},
   "source": [
    "# Me quedé en 5:36"
   ]
  },
  {
   "cell_type": "code",
   "execution_count": null,
   "id": "e0ef2d5a",
   "metadata": {},
   "outputs": [],
   "source": []
  }
 ],
 "metadata": {
  "kernelspec": {
   "display_name": "Python 3 (ipykernel)",
   "language": "python",
   "name": "python3"
  },
  "language_info": {
   "codemirror_mode": {
    "name": "ipython",
    "version": 3
   },
   "file_extension": ".py",
   "mimetype": "text/x-python",
   "name": "python",
   "nbconvert_exporter": "python",
   "pygments_lexer": "ipython3",
   "version": "3.9.12"
  }
 },
 "nbformat": 4,
 "nbformat_minor": 5
}

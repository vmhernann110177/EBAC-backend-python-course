{
 "cells": [
  {
   "cell_type": "markdown",
   "id": "828b3d68",
   "metadata": {},
   "source": [
    "## Este archivo es la primera parte del Modulo 3. su nombre es: \n",
    "### 1. Intro, Panorama, Tipos de Datos Básicos y Tipos Enteros.\n",
    "\n",
    "Panorama.\n",
    "\n",
    "int - Integer / Entero.\n",
    "\n",
    "float -Float/Número decimal.\n",
    "\n",
    "complex - Complex / complejos (Números con una parte real y otra imaginaria).\n",
    "\n",
    "bool - Coolean (True/False) Valores logicos (Verdadero / Falso).\n",
    "\n",
    "str - Strings / Cadenas, textos."
   ]
  },
  {
   "cell_type": "markdown",
   "id": "5b702a6f",
   "metadata": {},
   "source": [
    "# int - Integer / Entero."
   ]
  },
  {
   "cell_type": "code",
   "execution_count": 1,
   "id": "cf57a811",
   "metadata": {},
   "outputs": [
    {
     "name": "stdout",
     "output_type": "stream",
     "text": [
      "El valor de my_integer = 11\n",
      "El tipo de dato de my_integer es:  <class 'int'>\n"
     ]
    }
   ],
   "source": [
    "my_integer = 11\n",
    "print(\"El valor de my_integer =\", my_integer)\n",
    "print(\"El tipo de dato de my_integer es: \", type(my_integer))"
   ]
  },
  {
   "cell_type": "code",
   "execution_count": 2,
   "id": "0c7cc358",
   "metadata": {},
   "outputs": [
    {
     "name": "stdout",
     "output_type": "stream",
     "text": [
      "El valor de my_integer = 2022\n",
      "El tipo de dato de my_integer es:  <class 'int'>\n"
     ]
    }
   ],
   "source": [
    "my_integer = 2022\n",
    "print(\"El valor de my_integer =\", my_integer)\n",
    "print(\"El tipo de dato de my_integer es: \", type(my_integer))"
   ]
  },
  {
   "cell_type": "code",
   "execution_count": 3,
   "id": "765f1cb0",
   "metadata": {},
   "outputs": [
    {
     "name": "stdout",
     "output_type": "stream",
     "text": [
      "El valor de my_integer = 99957831\n",
      "El tipo de dato de my_integer es:  <class 'int'>\n"
     ]
    }
   ],
   "source": [
    "my_integer = 99957831\n",
    "print(\"El valor de my_integer =\", my_integer)\n",
    "print(\"El tipo de dato de my_integer es: \", type(my_integer))"
   ]
  },
  {
   "cell_type": "code",
   "execution_count": 4,
   "id": "1d355bbc",
   "metadata": {},
   "outputs": [
    {
     "ename": "SyntaxError",
     "evalue": "invalid syntax (2792230235.py, line 2)",
     "output_type": "error",
     "traceback": [
      "\u001b[1;36m  Input \u001b[1;32mIn [4]\u001b[1;36m\u001b[0m\n\u001b[1;33m    my_integer = 99957831x\u001b[0m\n\u001b[1;37m                         ^\u001b[0m\n\u001b[1;31mSyntaxError\u001b[0m\u001b[1;31m:\u001b[0m invalid syntax\n"
     ]
    }
   ],
   "source": [
    "# Error por que se estan mezclando caracteres con números\n",
    "my_integer = 99957831x\n",
    "print(\"El valor de my_integer =\", my_integer)\n",
    "print(\"El tipo de dato de my_integer es: \", type(my_integer))"
   ]
  },
  {
   "cell_type": "code",
   "execution_count": 5,
   "id": "0216b97e",
   "metadata": {},
   "outputs": [
    {
     "ename": "SyntaxError",
     "evalue": "invalid syntax (4024565416.py, line 2)",
     "output_type": "error",
     "traceback": [
      "\u001b[1;36m  Input \u001b[1;32mIn [5]\u001b[1;36m\u001b[0m\n\u001b[1;33m    my_integer = 99957831@\u001b[0m\n\u001b[1;37m                          ^\u001b[0m\n\u001b[1;31mSyntaxError\u001b[0m\u001b[1;31m:\u001b[0m invalid syntax\n"
     ]
    }
   ],
   "source": [
    "# Error por que se estan mezclando caracteres con números\n",
    "my_integer = 99957831@\n",
    "print(\"El valor de my_integer =\", my_integer)\n",
    "print(\"El tipo de dato de my_integer es: \", type(my_integer))"
   ]
  },
  {
   "cell_type": "markdown",
   "id": "5bfc0409",
   "metadata": {},
   "source": [
    "# float -Float/Número decimal."
   ]
  },
  {
   "cell_type": "code",
   "execution_count": 6,
   "id": "c8274110",
   "metadata": {},
   "outputs": [
    {
     "name": "stdout",
     "output_type": "stream",
     "text": [
      "El valor de my_float = 11.1\n",
      "El tipo de dato de my_float es:  <class 'float'>\n"
     ]
    }
   ],
   "source": [
    "my_float = 11.1\n",
    "print(\"El valor de my_float =\", my_float)\n",
    "print(\"El tipo de dato de my_float es: \", type(my_float))"
   ]
  },
  {
   "cell_type": "code",
   "execution_count": 7,
   "id": "82a31373",
   "metadata": {},
   "outputs": [
    {
     "name": "stdout",
     "output_type": "stream",
     "text": [
      "El valor de my_float = 11.0\n",
      "El tipo de dato de my_float es:  <class 'float'>\n"
     ]
    }
   ],
   "source": [
    "my_float = 11.0\n",
    "print(\"El valor de my_float =\", my_float)\n",
    "print(\"El tipo de dato de my_float es: \", type(my_float))"
   ]
  },
  {
   "cell_type": "code",
   "execution_count": 8,
   "id": "dc463990",
   "metadata": {},
   "outputs": [
    {
     "ename": "SyntaxError",
     "evalue": "invalid syntax (3551200132.py, line 2)",
     "output_type": "error",
     "traceback": [
      "\u001b[1;36m  Input \u001b[1;32mIn [8]\u001b[1;36m\u001b[0m\n\u001b[1;33m    my_float = 11.0h\u001b[0m\n\u001b[1;37m                   ^\u001b[0m\n\u001b[1;31mSyntaxError\u001b[0m\u001b[1;31m:\u001b[0m invalid syntax\n"
     ]
    }
   ],
   "source": [
    "# Error por que se estan mezclando caracteres con números\n",
    "my_float = 11.0h\n",
    "print(\"El valor de my_float =\", my_float)\n",
    "print(\"El tipo de dato de my_float es: \", type(my_float))"
   ]
  },
  {
   "cell_type": "markdown",
   "id": "3708abea",
   "metadata": {},
   "source": [
    "### Notación científica."
   ]
  },
  {
   "cell_type": "code",
   "execution_count": 9,
   "id": "cc0ac5d6",
   "metadata": {},
   "outputs": [
    {
     "name": "stdout",
     "output_type": "stream",
     "text": [
      "El valor de my_float = 2000.0\n",
      "El tipo de dato de my_float es:  <class 'float'>\n"
     ]
    }
   ],
   "source": [
    "# Notación científica.   \n",
    "# \"Recordemos que \"2 a la 3\" ó # \"2 * 10 ** 3\" Entonces...\n",
    "my_float = 2e3  \n",
    "print(\"El valor de my_float =\", my_float)\n",
    "print(\"El tipo de dato de my_float es: \", type(my_float))"
   ]
  },
  {
   "cell_type": "code",
   "execution_count": 10,
   "id": "692d28e3",
   "metadata": {},
   "outputs": [
    {
     "ename": "SyntaxError",
     "evalue": "invalid syntax (1663234688.py, line 3)",
     "output_type": "error",
     "traceback": [
      "\u001b[1;36m  Input \u001b[1;32mIn [10]\u001b[1;36m\u001b[0m\n\u001b[1;33m    my_float = 1.1e0 Entonces...\u001b[0m\n\u001b[1;37m                     ^\u001b[0m\n\u001b[1;31mSyntaxError\u001b[0m\u001b[1;31m:\u001b[0m invalid syntax\n"
     ]
    }
   ],
   "source": [
    "# Notación científica.   \n",
    "# \"Recordemos que e^0 = 1\" o \"10^0=1\" Entonces...\n",
    "my_float = 1.1e0 Entonces...\n",
    "print(\"El valor de my_float =\", my_float)\n",
    "print(\"El tipo de dato de my_float es: \", type(my_float))"
   ]
  },
  {
   "cell_type": "code",
   "execution_count": 11,
   "id": "e73fcd58",
   "metadata": {},
   "outputs": [
    {
     "ename": "SyntaxError",
     "evalue": "invalid syntax (1073759348.py, line 3)",
     "output_type": "error",
     "traceback": [
      "\u001b[1;36m  Input \u001b[1;32mIn [11]\u001b[1;36m\u001b[0m\n\u001b[1;33m    my_float = 1.1e1  Entonces...\u001b[0m\n\u001b[1;37m                      ^\u001b[0m\n\u001b[1;31mSyntaxError\u001b[0m\u001b[1;31m:\u001b[0m invalid syntax\n"
     ]
    }
   ],
   "source": [
    "# Notación científica.   \n",
    "# \"Recordemos que e^1 = 10\" o \"10^1 = 10\" Entonces...\n",
    "my_float = 1.1e1  Entonces... \n",
    "print(\"El valor de my_float =\", my_float)\n",
    "print(\"El tipo de dato de my_float es: \", type(my_float))"
   ]
  },
  {
   "cell_type": "code",
   "execution_count": 12,
   "id": "70f199f5",
   "metadata": {},
   "outputs": [
    {
     "ename": "SyntaxError",
     "evalue": "invalid syntax (2237089140.py, line 3)",
     "output_type": "error",
     "traceback": [
      "\u001b[1;36m  Input \u001b[1;32mIn [12]\u001b[1;36m\u001b[0m\n\u001b[1;33m    my_float = 1.1e2  Entonces...\u001b[0m\n\u001b[1;37m                      ^\u001b[0m\n\u001b[1;31mSyntaxError\u001b[0m\u001b[1;31m:\u001b[0m invalid syntax\n"
     ]
    }
   ],
   "source": [
    "# Notación científica.   \n",
    "# \"Recordemos que e^2 = 100\" o \"10^2 = 100\" Entonces...\n",
    "my_float = 1.1e2  Entonces... \n",
    "print(\"El valor de my_float =\", my_float)\n",
    "print(\"El tipo de dato de my_float es: \", type(my_float))"
   ]
  },
  {
   "cell_type": "code",
   "execution_count": 13,
   "id": "f2fe7000",
   "metadata": {},
   "outputs": [
    {
     "name": "stdout",
     "output_type": "stream",
     "text": [
      "El valor de my_float = 1100.0\n",
      "El tipo de dato de my_float es:  <class 'float'>\n"
     ]
    }
   ],
   "source": [
    "# Notación científica.   \n",
    "# \"Recordemos que e^2 = 1000\" o \"10^2 = 1000\" Entonces...\n",
    "my_float = 1.1e3\n",
    "print(\"El valor de my_float =\", my_float)\n",
    "print(\"El tipo de dato de my_float es: \", type(my_float))"
   ]
  },
  {
   "cell_type": "code",
   "execution_count": 14,
   "id": "6b242480",
   "metadata": {},
   "outputs": [
    {
     "name": "stdout",
     "output_type": "stream",
     "text": [
      "El valor de my_float = 0.08\n",
      "El tipo de dato de my_float es:  <class 'float'>\n"
     ]
    }
   ],
   "source": [
    "# Notación científica, potencias negartivas, el punto corre  la Izquierda.\n",
    "# \"Recordemos que e^-2 = 0.01\" o \"10^-2 = 0.01\" Entonces...\n",
    "my_float = 8e-2\n",
    "print(\"El valor de my_float =\", my_float)\n",
    "print(\"El tipo de dato de my_float es: \", type(my_float))"
   ]
  },
  {
   "cell_type": "code",
   "execution_count": null,
   "id": "0b48a97c",
   "metadata": {},
   "outputs": [],
   "source": []
  }
 ],
 "metadata": {
  "kernelspec": {
   "display_name": "Python 3 (ipykernel)",
   "language": "python",
   "name": "python3"
  },
  "language_info": {
   "codemirror_mode": {
    "name": "ipython",
    "version": 3
   },
   "file_extension": ".py",
   "mimetype": "text/x-python",
   "name": "python",
   "nbconvert_exporter": "python",
   "pygments_lexer": "ipython3",
   "version": "3.9.12"
  }
 },
 "nbformat": 4,
 "nbformat_minor": 5
}

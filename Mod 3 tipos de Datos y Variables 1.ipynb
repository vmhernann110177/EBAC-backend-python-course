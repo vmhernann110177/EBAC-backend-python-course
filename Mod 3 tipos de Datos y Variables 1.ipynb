{
 "cells": [
  {
   "cell_type": "markdown",
   "id": "7d284e2f",
   "metadata": {},
   "source": [
    "## Este archivo es la primera parte del Modulo 3. su nobre es: \n",
    "## 1. Intro, Panorama, Tipos de Datos Básicos y Tipos Enteros."
   ]
  },
  {
   "cell_type": "code",
   "execution_count": null,
   "id": "68088c86",
   "metadata": {},
   "outputs": [],
   "source": []
  }
 ],
 "metadata": {
  "kernelspec": {
   "display_name": "Python 3 (ipykernel)",
   "language": "python",
   "name": "python3"
  },
  "language_info": {
   "codemirror_mode": {
    "name": "ipython",
    "version": 3
   },
   "file_extension": ".py",
   "mimetype": "text/x-python",
   "name": "python",
   "nbconvert_exporter": "python",
   "pygments_lexer": "ipython3",
   "version": "3.9.12"
  }
 },
 "nbformat": 4,
 "nbformat_minor": 5
}

{
 "cells": [
  {
   "cell_type": "markdown",
   "id": "68f472c4",
   "metadata": {},
   "source": [
    "### Mod 42 Parte 2_Operadores Lógicos (14:53)"
   ]
  },
  {
   "cell_type": "markdown",
   "id": "473b0dce",
   "metadata": {},
   "source": [
    "#### ¿Qué son los operadores lógicos?\n",
    "- Son usados principalmente para declaraciones condicionales \n",
    "- Son indicadores estructurales \n",
    "- También se les conoce como conectores lógicos \n",
    "- Hay 3 tipos de Operadores L+ogicos: \n",
    "- AND (y) - regresa True/Verdadero si ambas operaciones son verdaderas\n",
    "- OR (o) - regresa True/Verdadero si por lo menos una de las operaciones es verdadera\n",
    "- NOT (lo opuesto) regresa True/Verdadero si la operación es falsa False/Falso\n"
   ]
  },
  {
   "cell_type": "code",
   "execution_count": null,
   "id": "2c618310",
   "metadata": {},
   "outputs": [],
   "source": [
    "# 17:57"
   ]
  }
 ],
 "metadata": {
  "kernelspec": {
   "display_name": "Python 3 (ipykernel)",
   "language": "python",
   "name": "python3"
  },
  "language_info": {
   "codemirror_mode": {
    "name": "ipython",
    "version": 3
   },
   "file_extension": ".py",
   "mimetype": "text/x-python",
   "name": "python",
   "nbconvert_exporter": "python",
   "pygments_lexer": "ipython3",
   "version": "3.9.12"
  }
 },
 "nbformat": 4,
 "nbformat_minor": 5
}

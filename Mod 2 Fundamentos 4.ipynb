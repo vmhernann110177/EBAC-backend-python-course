{
 "cells": [
  {
   "cell_type": "markdown",
   "id": "f7b98d06",
   "metadata": {},
   "source": [
    "## Funcion Print() (Building Functions): funciones que ya vienen listas para usarse)"
   ]
  },
  {
   "cell_type": "code",
   "execution_count": 1,
   "id": "716e4803",
   "metadata": {},
   "outputs": [
    {
     "name": "stdout",
     "output_type": "stream",
     "text": [
      "el valor de my_variable es :  567\n"
     ]
    }
   ],
   "source": [
    "my_variable = 567\n",
    "print(\"el valor de my_variable es : \", my_variable)"
   ]
  },
  {
   "cell_type": "code",
   "execution_count": 2,
   "id": "a760019b",
   "metadata": {},
   "outputs": [
    {
     "name": "stdout",
     "output_type": "stream",
     "text": [
      "El valor de 'd' es:  800\n"
     ]
    }
   ],
   "source": [
    "a = 100 \n",
    "b = 500\n",
    "c = 200\n",
    "d = a+b+c\n",
    "print(\"El valor de 'd' es: \", d)"
   ]
  },
  {
   "cell_type": "markdown",
   "id": "83ae887e",
   "metadata": {},
   "source": [
    "### Si quiero tener más detalles de estas funciones. \n",
    "- Puedes importar el módulo que se llama 'builtins' "
   ]
  },
  {
   "cell_type": "code",
   "execution_count": 3,
   "id": "033850c2",
   "metadata": {},
   "outputs": [],
   "source": [
    "import builtins"
   ]
  },
  {
   "cell_type": "markdown",
   "id": "d88c424a",
   "metadata": {},
   "source": [
    "### Podemos consultar otras funciones que ya están ahí: \n"
   ]
  },
  {
   "cell_type": "code",
   "execution_count": 4,
   "id": "576eedbd",
   "metadata": {},
   "outputs": [
    {
     "name": "stdout",
     "output_type": "stream",
     "text": [
      "Help on built-in function print in module builtins:\n",
      "\n",
      "print(...)\n",
      "    print(value, ..., sep=' ', end='\\n', file=sys.stdout, flush=False)\n",
      "    \n",
      "    Prints the values to a stream, or to sys.stdout by default.\n",
      "    Optional keyword arguments:\n",
      "    file:  a file-like object (stream); defaults to the current sys.stdout.\n",
      "    sep:   string inserted between values, default a space.\n",
      "    end:   string appended after the last value, default a newline.\n",
      "    flush: whether to forcibly flush the stream.\n",
      "\n"
     ]
    }
   ],
   "source": [
    "help(builtins.print)"
   ]
  },
  {
   "cell_type": "code",
   "execution_count": 5,
   "id": "52d06115",
   "metadata": {},
   "outputs": [
    {
     "name": "stdout",
     "output_type": "stream",
     "text": [
      "En la linea de abajo dice: \n",
      "Ayuda sobre la función print en el módulo builtins:\n",
      "Help on built-in function print in module builtins:\n",
      "\n",
      "print(...)\n",
      "    print(value, ..., sep=' ', end='\\n', file=sys.stdout, flush=False)\n",
      "    \n",
      "    Prints the values to a stream, or to sys.stdout by default.\n",
      "    Optional keyword arguments:\n",
      "    file:  a file-like object (stream); defaults to the current sys.stdout.\n",
      "    sep:   string inserted between values, default a space.\n",
      "    end:   string appended after the last value, default a newline.\n",
      "    flush: whether to forcibly flush the stream.\n",
      "\n"
     ]
    }
   ],
   "source": [
    "# O lo que es lo mismo:\n",
    "print(\"En la linea de abajo dice: \\nAyuda sobre la función print en el módulo builtins:\")\n",
    "help(print)"
   ]
  },
  {
   "cell_type": "markdown",
   "id": "3bd907e3",
   "metadata": {},
   "source": [
    "### Por ejemplo, para ver todas las opciones de lo que tengo listo, no necesito importar, solo pongo:\n",
    "### dir(builtins)"
   ]
  },
  {
   "cell_type": "code",
   "execution_count": 6,
   "id": "34529a64",
   "metadata": {
    "scrolled": false
   },
   "outputs": [
    {
     "data": {
      "text/plain": [
       "['ArithmeticError',\n",
       " 'AssertionError',\n",
       " 'AttributeError',\n",
       " 'BaseException',\n",
       " 'BlockingIOError',\n",
       " 'BrokenPipeError',\n",
       " 'BufferError',\n",
       " 'BytesWarning',\n",
       " 'ChildProcessError',\n",
       " 'ConnectionAbortedError',\n",
       " 'ConnectionError',\n",
       " 'ConnectionRefusedError',\n",
       " 'ConnectionResetError',\n",
       " 'DeprecationWarning',\n",
       " 'EOFError',\n",
       " 'Ellipsis',\n",
       " 'EnvironmentError',\n",
       " 'Exception',\n",
       " 'False',\n",
       " 'FileExistsError',\n",
       " 'FileNotFoundError',\n",
       " 'FloatingPointError',\n",
       " 'FutureWarning',\n",
       " 'GeneratorExit',\n",
       " 'IOError',\n",
       " 'ImportError',\n",
       " 'ImportWarning',\n",
       " 'IndentationError',\n",
       " 'IndexError',\n",
       " 'InterruptedError',\n",
       " 'IsADirectoryError',\n",
       " 'KeyError',\n",
       " 'KeyboardInterrupt',\n",
       " 'LookupError',\n",
       " 'MemoryError',\n",
       " 'ModuleNotFoundError',\n",
       " 'NameError',\n",
       " 'None',\n",
       " 'NotADirectoryError',\n",
       " 'NotImplemented',\n",
       " 'NotImplementedError',\n",
       " 'OSError',\n",
       " 'OverflowError',\n",
       " 'PendingDeprecationWarning',\n",
       " 'PermissionError',\n",
       " 'ProcessLookupError',\n",
       " 'RecursionError',\n",
       " 'ReferenceError',\n",
       " 'ResourceWarning',\n",
       " 'RuntimeError',\n",
       " 'RuntimeWarning',\n",
       " 'StopAsyncIteration',\n",
       " 'StopIteration',\n",
       " 'SyntaxError',\n",
       " 'SyntaxWarning',\n",
       " 'SystemError',\n",
       " 'SystemExit',\n",
       " 'TabError',\n",
       " 'TimeoutError',\n",
       " 'True',\n",
       " 'TypeError',\n",
       " 'UnboundLocalError',\n",
       " 'UnicodeDecodeError',\n",
       " 'UnicodeEncodeError',\n",
       " 'UnicodeError',\n",
       " 'UnicodeTranslateError',\n",
       " 'UnicodeWarning',\n",
       " 'UserWarning',\n",
       " 'ValueError',\n",
       " 'Warning',\n",
       " 'WindowsError',\n",
       " 'ZeroDivisionError',\n",
       " '__IPYTHON__',\n",
       " '__build_class__',\n",
       " '__debug__',\n",
       " '__doc__',\n",
       " '__import__',\n",
       " '__loader__',\n",
       " '__name__',\n",
       " '__package__',\n",
       " '__spec__',\n",
       " 'abs',\n",
       " 'all',\n",
       " 'any',\n",
       " 'ascii',\n",
       " 'bin',\n",
       " 'bool',\n",
       " 'breakpoint',\n",
       " 'bytearray',\n",
       " 'bytes',\n",
       " 'callable',\n",
       " 'chr',\n",
       " 'classmethod',\n",
       " 'compile',\n",
       " 'complex',\n",
       " 'copyright',\n",
       " 'credits',\n",
       " 'delattr',\n",
       " 'dict',\n",
       " 'dir',\n",
       " 'display',\n",
       " 'divmod',\n",
       " 'enumerate',\n",
       " 'eval',\n",
       " 'exec',\n",
       " 'execfile',\n",
       " 'filter',\n",
       " 'float',\n",
       " 'format',\n",
       " 'frozenset',\n",
       " 'get_ipython',\n",
       " 'getattr',\n",
       " 'globals',\n",
       " 'hasattr',\n",
       " 'hash',\n",
       " 'help',\n",
       " 'hex',\n",
       " 'id',\n",
       " 'input',\n",
       " 'int',\n",
       " 'isinstance',\n",
       " 'issubclass',\n",
       " 'iter',\n",
       " 'len',\n",
       " 'license',\n",
       " 'list',\n",
       " 'locals',\n",
       " 'map',\n",
       " 'max',\n",
       " 'memoryview',\n",
       " 'min',\n",
       " 'next',\n",
       " 'object',\n",
       " 'oct',\n",
       " 'open',\n",
       " 'ord',\n",
       " 'pow',\n",
       " 'print',\n",
       " 'property',\n",
       " 'range',\n",
       " 'repr',\n",
       " 'reversed',\n",
       " 'round',\n",
       " 'runfile',\n",
       " 'set',\n",
       " 'setattr',\n",
       " 'slice',\n",
       " 'sorted',\n",
       " 'staticmethod',\n",
       " 'str',\n",
       " 'sum',\n",
       " 'super',\n",
       " 'tuple',\n",
       " 'type',\n",
       " 'vars',\n",
       " 'zip']"
      ]
     },
     "execution_count": 6,
     "metadata": {},
     "output_type": "execute_result"
    }
   ],
   "source": [
    "dir(builtins)"
   ]
  },
  {
   "cell_type": "markdown",
   "id": "ae7097a2",
   "metadata": {},
   "source": [
    "### Por curiosidad veo la primera de la lista anterior."
   ]
  },
  {
   "cell_type": "code",
   "execution_count": 7,
   "id": "0444a0dc",
   "metadata": {},
   "outputs": [
    {
     "name": "stdout",
     "output_type": "stream",
     "text": [
      "Help on class ArithmeticError in module builtins:\n",
      "\n",
      "class ArithmeticError(Exception)\n",
      " |  Base class for arithmetic errors.\n",
      " |  \n",
      " |  Method resolution order:\n",
      " |      ArithmeticError\n",
      " |      Exception\n",
      " |      BaseException\n",
      " |      object\n",
      " |  \n",
      " |  Built-in subclasses:\n",
      " |      FloatingPointError\n",
      " |      OverflowError\n",
      " |      ZeroDivisionError\n",
      " |  \n",
      " |  Methods defined here:\n",
      " |  \n",
      " |  __init__(self, /, *args, **kwargs)\n",
      " |      Initialize self.  See help(type(self)) for accurate signature.\n",
      " |  \n",
      " |  ----------------------------------------------------------------------\n",
      " |  Static methods defined here:\n",
      " |  \n",
      " |  __new__(*args, **kwargs) from builtins.type\n",
      " |      Create and return a new object.  See help(type) for accurate signature.\n",
      " |  \n",
      " |  ----------------------------------------------------------------------\n",
      " |  Methods inherited from BaseException:\n",
      " |  \n",
      " |  __delattr__(self, name, /)\n",
      " |      Implement delattr(self, name).\n",
      " |  \n",
      " |  __getattribute__(self, name, /)\n",
      " |      Return getattr(self, name).\n",
      " |  \n",
      " |  __reduce__(...)\n",
      " |      Helper for pickle.\n",
      " |  \n",
      " |  __repr__(self, /)\n",
      " |      Return repr(self).\n",
      " |  \n",
      " |  __setattr__(self, name, value, /)\n",
      " |      Implement setattr(self, name, value).\n",
      " |  \n",
      " |  __setstate__(...)\n",
      " |  \n",
      " |  __str__(self, /)\n",
      " |      Return str(self).\n",
      " |  \n",
      " |  with_traceback(...)\n",
      " |      Exception.with_traceback(tb) --\n",
      " |      set self.__traceback__ to tb and return self.\n",
      " |  \n",
      " |  ----------------------------------------------------------------------\n",
      " |  Data descriptors inherited from BaseException:\n",
      " |  \n",
      " |  __cause__\n",
      " |      exception cause\n",
      " |  \n",
      " |  __context__\n",
      " |      exception context\n",
      " |  \n",
      " |  __dict__\n",
      " |  \n",
      " |  __suppress_context__\n",
      " |  \n",
      " |  __traceback__\n",
      " |  \n",
      " |  args\n",
      "\n"
     ]
    }
   ],
   "source": [
    "help(builtins.ArithmeticError)"
   ]
  },
  {
   "cell_type": "markdown",
   "id": "7f262545",
   "metadata": {},
   "source": [
    "### Por curiosidad veo otra de la lista anterior."
   ]
  },
  {
   "cell_type": "code",
   "execution_count": 11,
   "id": "63b0cb39",
   "metadata": {
    "scrolled": false
   },
   "outputs": [
    {
     "name": "stdout",
     "output_type": "stream",
     "text": [
      "Help on class set in module builtins:\n",
      "\n",
      "class set(object)\n",
      " |  set() -> new empty set object\n",
      " |  set(iterable) -> new set object\n",
      " |  \n",
      " |  Build an unordered collection of unique elements.\n",
      " |  \n",
      " |  Methods defined here:\n",
      " |  \n",
      " |  __and__(self, value, /)\n",
      " |      Return self&value.\n",
      " |  \n",
      " |  __contains__(...)\n",
      " |      x.__contains__(y) <==> y in x.\n",
      " |  \n",
      " |  __eq__(self, value, /)\n",
      " |      Return self==value.\n",
      " |  \n",
      " |  __ge__(self, value, /)\n",
      " |      Return self>=value.\n",
      " |  \n",
      " |  __getattribute__(self, name, /)\n",
      " |      Return getattr(self, name).\n",
      " |  \n",
      " |  __gt__(self, value, /)\n",
      " |      Return self>value.\n",
      " |  \n",
      " |  __iand__(self, value, /)\n",
      " |      Return self&=value.\n",
      " |  \n",
      " |  __init__(self, /, *args, **kwargs)\n",
      " |      Initialize self.  See help(type(self)) for accurate signature.\n",
      " |  \n",
      " |  __ior__(self, value, /)\n",
      " |      Return self|=value.\n",
      " |  \n",
      " |  __isub__(self, value, /)\n",
      " |      Return self-=value.\n",
      " |  \n",
      " |  __iter__(self, /)\n",
      " |      Implement iter(self).\n",
      " |  \n",
      " |  __ixor__(self, value, /)\n",
      " |      Return self^=value.\n",
      " |  \n",
      " |  __le__(self, value, /)\n",
      " |      Return self<=value.\n",
      " |  \n",
      " |  __len__(self, /)\n",
      " |      Return len(self).\n",
      " |  \n",
      " |  __lt__(self, value, /)\n",
      " |      Return self<value.\n",
      " |  \n",
      " |  __ne__(self, value, /)\n",
      " |      Return self!=value.\n",
      " |  \n",
      " |  __or__(self, value, /)\n",
      " |      Return self|value.\n",
      " |  \n",
      " |  __rand__(self, value, /)\n",
      " |      Return value&self.\n",
      " |  \n",
      " |  __reduce__(...)\n",
      " |      Return state information for pickling.\n",
      " |  \n",
      " |  __repr__(self, /)\n",
      " |      Return repr(self).\n",
      " |  \n",
      " |  __ror__(self, value, /)\n",
      " |      Return value|self.\n",
      " |  \n",
      " |  __rsub__(self, value, /)\n",
      " |      Return value-self.\n",
      " |  \n",
      " |  __rxor__(self, value, /)\n",
      " |      Return value^self.\n",
      " |  \n",
      " |  __sizeof__(...)\n",
      " |      S.__sizeof__() -> size of S in memory, in bytes\n",
      " |  \n",
      " |  __sub__(self, value, /)\n",
      " |      Return self-value.\n",
      " |  \n",
      " |  __xor__(self, value, /)\n",
      " |      Return self^value.\n",
      " |  \n",
      " |  add(...)\n",
      " |      Add an element to a set.\n",
      " |      \n",
      " |      This has no effect if the element is already present.\n",
      " |  \n",
      " |  clear(...)\n",
      " |      Remove all elements from this set.\n",
      " |  \n",
      " |  copy(...)\n",
      " |      Return a shallow copy of a set.\n",
      " |  \n",
      " |  difference(...)\n",
      " |      Return the difference of two or more sets as a new set.\n",
      " |      \n",
      " |      (i.e. all elements that are in this set but not the others.)\n",
      " |  \n",
      " |  difference_update(...)\n",
      " |      Remove all elements of another set from this set.\n",
      " |  \n",
      " |  discard(...)\n",
      " |      Remove an element from a set if it is a member.\n",
      " |      \n",
      " |      If the element is not a member, do nothing.\n",
      " |  \n",
      " |  intersection(...)\n",
      " |      Return the intersection of two sets as a new set.\n",
      " |      \n",
      " |      (i.e. all elements that are in both sets.)\n",
      " |  \n",
      " |  intersection_update(...)\n",
      " |      Update a set with the intersection of itself and another.\n",
      " |  \n",
      " |  isdisjoint(...)\n",
      " |      Return True if two sets have a null intersection.\n",
      " |  \n",
      " |  issubset(...)\n",
      " |      Report whether another set contains this set.\n",
      " |  \n",
      " |  issuperset(...)\n",
      " |      Report whether this set contains another set.\n",
      " |  \n",
      " |  pop(...)\n",
      " |      Remove and return an arbitrary set element.\n",
      " |      Raises KeyError if the set is empty.\n",
      " |  \n",
      " |  remove(...)\n",
      " |      Remove an element from a set; it must be a member.\n",
      " |      \n",
      " |      If the element is not a member, raise a KeyError.\n",
      " |  \n",
      " |  symmetric_difference(...)\n",
      " |      Return the symmetric difference of two sets as a new set.\n",
      " |      \n",
      " |      (i.e. all elements that are in exactly one of the sets.)\n",
      " |  \n",
      " |  symmetric_difference_update(...)\n",
      " |      Update a set with the symmetric difference of itself and another.\n",
      " |  \n",
      " |  union(...)\n",
      " |      Return the union of sets as a new set.\n",
      " |      \n",
      " |      (i.e. all elements that are in either set.)\n",
      " |  \n",
      " |  update(...)\n",
      " |      Update a set with the union of itself and others.\n",
      " |  \n",
      " |  ----------------------------------------------------------------------\n",
      " |  Class methods defined here:\n",
      " |  \n",
      " |  __class_getitem__(...) from builtins.type\n",
      " |      See PEP 585\n",
      " |  \n",
      " |  ----------------------------------------------------------------------\n",
      " |  Static methods defined here:\n",
      " |  \n",
      " |  __new__(*args, **kwargs) from builtins.type\n",
      " |      Create and return a new object.  See help(type) for accurate signature.\n",
      " |  \n",
      " |  ----------------------------------------------------------------------\n",
      " |  Data and other attributes defined here:\n",
      " |  \n",
      " |  __hash__ = None\n",
      "\n"
     ]
    }
   ],
   "source": [
    "help(builtins.set)"
   ]
  },
  {
   "cell_type": "markdown",
   "id": "c98670d2",
   "metadata": {},
   "source": [
    "## Funcion type(). Para saber el tipo de dato."
   ]
  },
  {
   "cell_type": "code",
   "execution_count": 12,
   "id": "05e6c8f4",
   "metadata": {},
   "outputs": [],
   "source": [
    "my_variable = 570"
   ]
  },
  {
   "cell_type": "code",
   "execution_count": 13,
   "id": "5fd7ee7b",
   "metadata": {},
   "outputs": [
    {
     "data": {
      "text/plain": [
       "int"
      ]
     },
     "execution_count": 13,
     "metadata": {},
     "output_type": "execute_result"
    }
   ],
   "source": [
    "type(my_variable)"
   ]
  },
  {
   "cell_type": "markdown",
   "id": "ae1346b9",
   "metadata": {},
   "source": [
    "### O así:"
   ]
  },
  {
   "cell_type": "code",
   "execution_count": 14,
   "id": "009c85ab",
   "metadata": {},
   "outputs": [
    {
     "name": "stdout",
     "output_type": "stream",
     "text": [
      "570\n",
      "<class 'int'>\n"
     ]
    }
   ],
   "source": [
    "my_variable = 570\n",
    "print(my_variable)\n",
    "print(type(my_variable))"
   ]
  },
  {
   "cell_type": "code",
   "execution_count": 16,
   "id": "39f19aa0",
   "metadata": {},
   "outputs": [
    {
     "name": "stdout",
     "output_type": "stream",
     "text": [
      "570 Type: <class 'int'>\n"
     ]
    }
   ],
   "source": [
    "my_variable = 570\n",
    "print(my_variable,\"Type:\",type(my_variable))"
   ]
  },
  {
   "cell_type": "markdown",
   "id": "08b3a9c9",
   "metadata": {},
   "source": [
    "## Cadenas:"
   ]
  },
  {
   "cell_type": "code",
   "execution_count": 17,
   "id": "35b6d4b5",
   "metadata": {},
   "outputs": [
    {
     "name": "stdout",
     "output_type": "stream",
     "text": [
      "Backend Python Type: <class 'str'>\n"
     ]
    }
   ],
   "source": [
    "my_string = \"Backend Python\"\n",
    "print(my_string,\"Type:\",type(my_string))"
   ]
  },
  {
   "cell_type": "markdown",
   "id": "e4641b91",
   "metadata": {},
   "source": [
    "## Números de punto flotante:"
   ]
  },
  {
   "cell_type": "code",
   "execution_count": 19,
   "id": "07c8ed61",
   "metadata": {},
   "outputs": [
    {
     "name": "stdout",
     "output_type": "stream",
     "text": [
      "3.97 Type: <class 'float'>\n"
     ]
    }
   ],
   "source": [
    "my_float = 3.97\n",
    "print(my_float,\"Type:\",type(my_float))"
   ]
  },
  {
   "cell_type": "markdown",
   "id": "819c3619",
   "metadata": {},
   "source": [
    "## Booleanos:"
   ]
  },
  {
   "cell_type": "code",
   "execution_count": 21,
   "id": "86c5903b",
   "metadata": {},
   "outputs": [
    {
     "name": "stdout",
     "output_type": "stream",
     "text": [
      "True , Type: <class 'bool'>\n"
     ]
    }
   ],
   "source": [
    "my_boolean = True\n",
    "print(my_boolean,\", Type:\",type(my_boolean))"
   ]
  },
  {
   "cell_type": "markdown",
   "id": "7b3f292f",
   "metadata": {},
   "source": [
    "## \"True\" o \"False\" como cadena:"
   ]
  },
  {
   "cell_type": "code",
   "execution_count": 22,
   "id": "0dab90a0",
   "metadata": {},
   "outputs": [
    {
     "name": "stdout",
     "output_type": "stream",
     "text": [
      "True\n",
      "<class 'str'>\n"
     ]
    }
   ],
   "source": [
    "my_string = \"True\"\n",
    "print(my_string)\n",
    "print(type(my_string))"
   ]
  },
  {
   "cell_type": "markdown",
   "id": "eab1e11c",
   "metadata": {},
   "source": [
    "## Datos más complejos (Estructura de datos): LISTAS\n",
    "### my_list   (SE DISTINGUEN PORQUE SE PONEN SUS VALORES ENTRE CORCHETES Y SEPARADOS POR COMAS); las listas pueden ser de enteros, cadenas floats\n"
   ]
  },
  {
   "cell_type": "code",
   "execution_count": 27,
   "id": "7de23f15",
   "metadata": {},
   "outputs": [
    {
     "name": "stdout",
     "output_type": "stream",
     "text": [
      "[1, 7, 4, 2] , Data Type of 'my_list': <class 'list'>\n"
     ]
    }
   ],
   "source": [
    "# listas / list   (se distinguen por que se ponen entre corchetes y separados por comas)\n",
    "my_list = [1,7,4,2]\n",
    "print(my_list,\", Data Type of 'my_list':\",type(my_list))"
   ]
  },
  {
   "cell_type": "markdown",
   "id": "073e1ee8",
   "metadata": {},
   "source": [
    "## Datos más complejos (Estructura de datos): TUPLAS\n",
    "## my_tuple   (SE DISTINGUEN PORQUE SE PONEN SUS VALORES ENTRE PARÉNTESIS Y SEPARADOS POR COMAS);"
   ]
  },
  {
   "cell_type": "code",
   "execution_count": 65,
   "id": "cfd5730e",
   "metadata": {},
   "outputs": [
    {
     "name": "stdout",
     "output_type": "stream",
     "text": [
      "(1, 7, 4, 2)\n",
      "Data Type of my_tuple: <class 'tuple'>\n"
     ]
    }
   ],
   "source": [
    "my_tuple = (1,7,4,2)\n",
    "print(my_tuple)\n",
    "print(\"Data Type of my_tuple:\",type(my_tuple))"
   ]
  },
  {
   "cell_type": "markdown",
   "id": "97eddaba",
   "metadata": {},
   "source": [
    "## Otra estructura de datos son los SET\n",
    "### my_set   (SE DISTINGUEN PORQUE SE PONEN SUS VALORES ENTRE LLAVES Y SEPARADOS POR COMAS); Podemos combinar distintos tipos de datos."
   ]
  },
  {
   "cell_type": "code",
   "execution_count": 28,
   "id": "3658a000",
   "metadata": {},
   "outputs": [
    {
     "name": "stdout",
     "output_type": "stream",
     "text": [
      "{1, 2.5, 4, 'Python'} , Data Type of 'my_set': <class 'set'>\n"
     ]
    }
   ],
   "source": [
    "my_set = {4,1,'Python',2.5}\n",
    "print(my_set,\", Data Type of 'my_set':\", type(my_set))"
   ]
  },
  {
   "cell_type": "markdown",
   "id": "c04b4dd0",
   "metadata": {},
   "source": [
    "## Otra estructura de datos son los DICCIONARIOS.\n",
    "- my_dictionary   (SE DISTINGUEN PORQUE SE PONEN SUS VALORES ENTRE LLAVES Y SEPARADOS POR COMAS, PERO SE PONEN EN PAREJAS TIPO JASON). \n",
    "- El primer valor de la pareja va entre comillas, el segundo es el valor\n",
    "### Se llama estructura llave-valor; p.e.; Llave:\"a\", valor:20 (mira el ejemplo abajo)"
   ]
  },
  {
   "cell_type": "code",
   "execution_count": 29,
   "id": "281fd156",
   "metadata": {
    "scrolled": true
   },
   "outputs": [
    {
     "name": "stdout",
     "output_type": "stream",
     "text": [
      "{'a': 20, 'b': 50, 'c': 35}\n",
      "<class 'dict'>\n"
     ]
    }
   ],
   "source": [
    "my_dictionary = {\"a\":20, \"b\":50, \"c\":35}\n",
    "print(my_dictionary)\n",
    "print(type(my_dictionary))"
   ]
  },
  {
   "cell_type": "markdown",
   "id": "1bca3b8a",
   "metadata": {},
   "source": [
    "### para extraerle valores se hace así:"
   ]
  },
  {
   "cell_type": "code",
   "execution_count": 32,
   "id": "35eaba74",
   "metadata": {},
   "outputs": [
    {
     "data": {
      "text/plain": [
       "20"
      ]
     },
     "execution_count": 32,
     "metadata": {},
     "output_type": "execute_result"
    }
   ],
   "source": [
    "my_dictionary[\"a\"]"
   ]
  },
  {
   "cell_type": "code",
   "execution_count": 33,
   "id": "4434df1c",
   "metadata": {},
   "outputs": [
    {
     "data": {
      "text/plain": [
       "50"
      ]
     },
     "execution_count": 33,
     "metadata": {},
     "output_type": "execute_result"
    }
   ],
   "source": [
    "my_dictionary[\"b\"]"
   ]
  },
  {
   "cell_type": "markdown",
   "id": "d1f9886f",
   "metadata": {},
   "source": [
    "## Observa que no pueden haber dos llaves (is's) iguales en un diccionario. "
   ]
  },
  {
   "cell_type": "code",
   "execution_count": 7,
   "id": "67dbced6",
   "metadata": {},
   "outputs": [
    {
     "name": "stdout",
     "output_type": "stream",
     "text": [
      "borrame_dictionary: {'1': 'UNA', '2': 'DOS', 'T': 'TRES', 'C': 'CINCO', 'S': 'SEIS'} <class 'dict'>\n",
      "\n",
      "^ ATENCIÓN ^ No coloca a 'CUATRO', parece que a la misma 'Llave ('C')' se le sobre-Escribe el 'valor' de CINCO\n"
     ]
    }
   ],
   "source": [
    "## Mira que repita la llave 'C' de Cuatro y Cinco\n",
    "borrame_dictionary = {'1': 'UNA', '2': 'DOS', 'T': 'TRES', 'C': 'CUATRO', 'C': 'CINCO', 'S': 'SEIS'}\n",
    "\n",
    "print(\"borrame_dictionary:\", borrame_dictionary, type(borrame_dictionary))\n",
    "print(\"\\n^ ATENCIÓN ^ No coloca a 'CUATRO', parece que a la misma 'Llave ('C')' se le sobre-Escribe el 'valor' de CINCO\")"
   ]
  },
  {
   "cell_type": "markdown",
   "id": "b66dac06",
   "metadata": {},
   "source": [
    "### Modificación de actualizacion en Home. (26 de Julio 2023)."
   ]
  },
  {
   "cell_type": "markdown",
   "id": "23738041",
   "metadata": {},
   "source": [
    "## Continuamos clase 27 de Julio 2023.\n",
    "### Ahora veremos la función id()\n",
    "## Es una funcion para obtener la direccion de memoria."
   ]
  },
  {
   "cell_type": "code",
   "execution_count": 43,
   "id": "4da9d796",
   "metadata": {
    "scrolled": true
   },
   "outputs": [
    {
     "name": "stdout",
     "output_type": "stream",
     "text": [
      "my_string= \" Python \", Type: <class 'str'>\n",
      "Direccion de memoria id(): 2534259727216\n"
     ]
    }
   ],
   "source": [
    "# cadena / string :\"Python\"\n",
    "my_string = \"Python\"\n",
    "print(\"my_string= \\\"\", my_string, \"\\\", Type:\", type(my_string))\n",
    "print(\"Direccion de memoria id():\" , id(my_string))"
   ]
  },
  {
   "cell_type": "code",
   "execution_count": 44,
   "id": "e32a7bc7",
   "metadata": {},
   "outputs": [
    {
     "name": "stdout",
     "output_type": "stream",
     "text": [
      "my_string= \" Backend \", Type: <class 'str'>\n",
      "Direccion de memoria id(): 2534374740080\n"
     ]
    }
   ],
   "source": [
    "# cadena / string : \"Backend\"\n",
    "my_string2 = \"Backend\"\n",
    "print(\"my_string= \\\"\", my_string2, \"\\\", Type:\", type(my_string2))\n",
    "print(\"Direccion de memoria id():\" , id(my_string2))"
   ]
  },
  {
   "cell_type": "code",
   "execution_count": 45,
   "id": "05255a1b",
   "metadata": {},
   "outputs": [
    {
     "name": "stdout",
     "output_type": "stream",
     "text": [
      "my_string:' Python '\n",
      "my_string2:' Python '\n",
      "my_string type: <class 'str'>\n",
      "my_string2 type: <class 'str'>\n",
      "Direccion de memoria de my_string 'id():'  2534259727216\n",
      "Direccion de memoria de my_string2 'id():'  2534259727216\n"
     ]
    }
   ],
   "source": [
    "# cadena / string\n",
    "my_string = \"Python\"\n",
    "my_string2 = \"Python\"\n",
    "print(\"my_string:'\", my_string,\"'\")\n",
    "print(\"my_string2:'\", my_string,\"'\")\n",
    "print(\"my_string type:\", type(my_string))\n",
    "print(\"my_string2 type:\",type( my_string2))\n",
    "print(\"Direccion de memoria de my_string 'id():' \" , id(my_string))\n",
    "print(\"Direccion de memoria de my_string2 'id():' \" , id(my_string2))"
   ]
  },
  {
   "cell_type": "markdown",
   "id": "4ec1a645",
   "metadata": {},
   "source": [
    "### Nota que la dirección en memoria de la MISMA PALABRA nunca cambió"
   ]
  },
  {
   "cell_type": "code",
   "execution_count": null,
   "id": "8a61c20e",
   "metadata": {},
   "outputs": [],
   "source": []
  }
 ],
 "metadata": {
  "kernelspec": {
   "display_name": "Python 3 (ipykernel)",
   "language": "python",
   "name": "python3"
  },
  "language_info": {
   "codemirror_mode": {
    "name": "ipython",
    "version": 3
   },
   "file_extension": ".py",
   "mimetype": "text/x-python",
   "name": "python",
   "nbconvert_exporter": "python",
   "pygments_lexer": "ipython3",
   "version": "3.9.12"
  }
 },
 "nbformat": 4,
 "nbformat_minor": 5
}

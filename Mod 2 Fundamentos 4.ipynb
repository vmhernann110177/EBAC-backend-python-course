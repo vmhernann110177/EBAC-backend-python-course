{
 "cells": [
  {
   "cell_type": "markdown",
   "id": "f7b98d06",
   "metadata": {},
   "source": [
    "## Funcion Print() (Building Functions): funciones que ya vienen listas para usarse)"
   ]
  },
  {
   "cell_type": "code",
   "execution_count": 49,
   "id": "716e4803",
   "metadata": {},
   "outputs": [
    {
     "name": "stdout",
     "output_type": "stream",
     "text": [
      "el valor de my_variable es :  567\n"
     ]
    }
   ],
   "source": [
    "my_variable = 567\n",
    "print(\"el valor de my_variable es : \", my_variable)"
   ]
  },
  {
   "cell_type": "code",
   "execution_count": 50,
   "id": "a760019b",
   "metadata": {},
   "outputs": [
    {
     "name": "stdout",
     "output_type": "stream",
     "text": [
      "El valor de 'd' es:  800\n"
     ]
    }
   ],
   "source": [
    "a = 100 \n",
    "b = 500\n",
    "c = 200\n",
    "d = a+b+c\n",
    "print(\"El valor de 'd' es: \", d)"
   ]
  },
  {
   "cell_type": "markdown",
   "id": "83ae887e",
   "metadata": {},
   "source": [
    "### Si quiero tener más detalles de estas funciones. Puedes importar el módulo que se llama 'builtins' "
   ]
  },
  {
   "cell_type": "code",
   "execution_count": 51,
   "id": "033850c2",
   "metadata": {},
   "outputs": [],
   "source": [
    "import builtins"
   ]
  },
  {
   "cell_type": "markdown",
   "id": "d88c424a",
   "metadata": {},
   "source": [
    "### Puedes consultar otras funciones que ya están ahí. \n",
    "### Por ejemplo, podemos consultar otras funciones que ya están ahí: \n"
   ]
  },
  {
   "cell_type": "code",
   "execution_count": 52,
   "id": "576eedbd",
   "metadata": {},
   "outputs": [
    {
     "name": "stdout",
     "output_type": "stream",
     "text": [
      "Help on built-in function print in module builtins:\n",
      "\n",
      "print(...)\n",
      "    print(value, ..., sep=' ', end='\\n', file=sys.stdout, flush=False)\n",
      "    \n",
      "    Prints the values to a stream, or to sys.stdout by default.\n",
      "    Optional keyword arguments:\n",
      "    file:  a file-like object (stream); defaults to the current sys.stdout.\n",
      "    sep:   string inserted between values, default a space.\n",
      "    end:   string appended after the last value, default a newline.\n",
      "    flush: whether to forcibly flush the stream.\n",
      "\n"
     ]
    }
   ],
   "source": [
    "help(builtins.print)"
   ]
  },
  {
   "cell_type": "code",
   "execution_count": 53,
   "id": "52d06115",
   "metadata": {},
   "outputs": [
    {
     "name": "stdout",
     "output_type": "stream",
     "text": [
      "En la linea de abajo dice: \n",
      "Ayuda sobre la función print en el módulo builtins:\n",
      "Help on built-in function print in module builtins:\n",
      "\n",
      "print(...)\n",
      "    print(value, ..., sep=' ', end='\\n', file=sys.stdout, flush=False)\n",
      "    \n",
      "    Prints the values to a stream, or to sys.stdout by default.\n",
      "    Optional keyword arguments:\n",
      "    file:  a file-like object (stream); defaults to the current sys.stdout.\n",
      "    sep:   string inserted between values, default a space.\n",
      "    end:   string appended after the last value, default a newline.\n",
      "    flush: whether to forcibly flush the stream.\n",
      "\n"
     ]
    }
   ],
   "source": [
    "# O lo que es lo mismo:\n",
    "print(\"En la linea de abajo dice: \\nAyuda sobre la función print en el módulo builtins:\")\n",
    "help(print)"
   ]
  },
  {
   "cell_type": "markdown",
   "id": "3bd907e3",
   "metadata": {},
   "source": [
    "### Por ejemplo, para ver todas las opciones de lo que tengo listo, no necesito importar, solo pongo:\n",
    "### dir(builtins)"
   ]
  },
  {
   "cell_type": "code",
   "execution_count": 54,
   "id": "34529a64",
   "metadata": {},
   "outputs": [
    {
     "data": {
      "text/plain": [
       "['ArithmeticError',\n",
       " 'AssertionError',\n",
       " 'AttributeError',\n",
       " 'BaseException',\n",
       " 'BlockingIOError',\n",
       " 'BrokenPipeError',\n",
       " 'BufferError',\n",
       " 'BytesWarning',\n",
       " 'ChildProcessError',\n",
       " 'ConnectionAbortedError',\n",
       " 'ConnectionError',\n",
       " 'ConnectionRefusedError',\n",
       " 'ConnectionResetError',\n",
       " 'DeprecationWarning',\n",
       " 'EOFError',\n",
       " 'Ellipsis',\n",
       " 'EnvironmentError',\n",
       " 'Exception',\n",
       " 'False',\n",
       " 'FileExistsError',\n",
       " 'FileNotFoundError',\n",
       " 'FloatingPointError',\n",
       " 'FutureWarning',\n",
       " 'GeneratorExit',\n",
       " 'IOError',\n",
       " 'ImportError',\n",
       " 'ImportWarning',\n",
       " 'IndentationError',\n",
       " 'IndexError',\n",
       " 'InterruptedError',\n",
       " 'IsADirectoryError',\n",
       " 'KeyError',\n",
       " 'KeyboardInterrupt',\n",
       " 'LookupError',\n",
       " 'MemoryError',\n",
       " 'ModuleNotFoundError',\n",
       " 'NameError',\n",
       " 'None',\n",
       " 'NotADirectoryError',\n",
       " 'NotImplemented',\n",
       " 'NotImplementedError',\n",
       " 'OSError',\n",
       " 'OverflowError',\n",
       " 'PendingDeprecationWarning',\n",
       " 'PermissionError',\n",
       " 'ProcessLookupError',\n",
       " 'RecursionError',\n",
       " 'ReferenceError',\n",
       " 'ResourceWarning',\n",
       " 'RuntimeError',\n",
       " 'RuntimeWarning',\n",
       " 'StopAsyncIteration',\n",
       " 'StopIteration',\n",
       " 'SyntaxError',\n",
       " 'SyntaxWarning',\n",
       " 'SystemError',\n",
       " 'SystemExit',\n",
       " 'TabError',\n",
       " 'TimeoutError',\n",
       " 'True',\n",
       " 'TypeError',\n",
       " 'UnboundLocalError',\n",
       " 'UnicodeDecodeError',\n",
       " 'UnicodeEncodeError',\n",
       " 'UnicodeError',\n",
       " 'UnicodeTranslateError',\n",
       " 'UnicodeWarning',\n",
       " 'UserWarning',\n",
       " 'ValueError',\n",
       " 'Warning',\n",
       " 'WindowsError',\n",
       " 'ZeroDivisionError',\n",
       " '__IPYTHON__',\n",
       " '__build_class__',\n",
       " '__debug__',\n",
       " '__doc__',\n",
       " '__import__',\n",
       " '__loader__',\n",
       " '__name__',\n",
       " '__package__',\n",
       " '__spec__',\n",
       " 'abs',\n",
       " 'all',\n",
       " 'any',\n",
       " 'ascii',\n",
       " 'bin',\n",
       " 'bool',\n",
       " 'breakpoint',\n",
       " 'bytearray',\n",
       " 'bytes',\n",
       " 'callable',\n",
       " 'chr',\n",
       " 'classmethod',\n",
       " 'compile',\n",
       " 'complex',\n",
       " 'copyright',\n",
       " 'credits',\n",
       " 'delattr',\n",
       " 'dict',\n",
       " 'dir',\n",
       " 'display',\n",
       " 'divmod',\n",
       " 'enumerate',\n",
       " 'eval',\n",
       " 'exec',\n",
       " 'execfile',\n",
       " 'filter',\n",
       " 'float',\n",
       " 'format',\n",
       " 'frozenset',\n",
       " 'get_ipython',\n",
       " 'getattr',\n",
       " 'globals',\n",
       " 'hasattr',\n",
       " 'hash',\n",
       " 'help',\n",
       " 'hex',\n",
       " 'id',\n",
       " 'input',\n",
       " 'int',\n",
       " 'isinstance',\n",
       " 'issubclass',\n",
       " 'iter',\n",
       " 'len',\n",
       " 'license',\n",
       " 'list',\n",
       " 'locals',\n",
       " 'map',\n",
       " 'max',\n",
       " 'memoryview',\n",
       " 'min',\n",
       " 'next',\n",
       " 'object',\n",
       " 'oct',\n",
       " 'open',\n",
       " 'ord',\n",
       " 'pow',\n",
       " 'print',\n",
       " 'property',\n",
       " 'range',\n",
       " 'repr',\n",
       " 'reversed',\n",
       " 'round',\n",
       " 'runfile',\n",
       " 'set',\n",
       " 'setattr',\n",
       " 'slice',\n",
       " 'sorted',\n",
       " 'staticmethod',\n",
       " 'str',\n",
       " 'sum',\n",
       " 'super',\n",
       " 'tuple',\n",
       " 'type',\n",
       " 'vars',\n",
       " 'zip']"
      ]
     },
     "execution_count": 54,
     "metadata": {},
     "output_type": "execute_result"
    }
   ],
   "source": [
    "dir(builtins)"
   ]
  },
  {
   "cell_type": "markdown",
   "id": "ae7097a2",
   "metadata": {},
   "source": [
    "### Por curiosidad veo la primera de la lista anterior."
   ]
  },
  {
   "cell_type": "code",
   "execution_count": 55,
   "id": "0444a0dc",
   "metadata": {},
   "outputs": [
    {
     "name": "stdout",
     "output_type": "stream",
     "text": [
      "Help on class ArithmeticError in module builtins:\n",
      "\n",
      "class ArithmeticError(Exception)\n",
      " |  Base class for arithmetic errors.\n",
      " |  \n",
      " |  Method resolution order:\n",
      " |      ArithmeticError\n",
      " |      Exception\n",
      " |      BaseException\n",
      " |      object\n",
      " |  \n",
      " |  Built-in subclasses:\n",
      " |      FloatingPointError\n",
      " |      OverflowError\n",
      " |      ZeroDivisionError\n",
      " |  \n",
      " |  Methods defined here:\n",
      " |  \n",
      " |  __init__(self, /, *args, **kwargs)\n",
      " |      Initialize self.  See help(type(self)) for accurate signature.\n",
      " |  \n",
      " |  ----------------------------------------------------------------------\n",
      " |  Static methods defined here:\n",
      " |  \n",
      " |  __new__(*args, **kwargs) from builtins.type\n",
      " |      Create and return a new object.  See help(type) for accurate signature.\n",
      " |  \n",
      " |  ----------------------------------------------------------------------\n",
      " |  Methods inherited from BaseException:\n",
      " |  \n",
      " |  __delattr__(self, name, /)\n",
      " |      Implement delattr(self, name).\n",
      " |  \n",
      " |  __getattribute__(self, name, /)\n",
      " |      Return getattr(self, name).\n",
      " |  \n",
      " |  __reduce__(...)\n",
      " |      Helper for pickle.\n",
      " |  \n",
      " |  __repr__(self, /)\n",
      " |      Return repr(self).\n",
      " |  \n",
      " |  __setattr__(self, name, value, /)\n",
      " |      Implement setattr(self, name, value).\n",
      " |  \n",
      " |  __setstate__(...)\n",
      " |  \n",
      " |  __str__(self, /)\n",
      " |      Return str(self).\n",
      " |  \n",
      " |  with_traceback(...)\n",
      " |      Exception.with_traceback(tb) --\n",
      " |      set self.__traceback__ to tb and return self.\n",
      " |  \n",
      " |  ----------------------------------------------------------------------\n",
      " |  Data descriptors inherited from BaseException:\n",
      " |  \n",
      " |  __cause__\n",
      " |      exception cause\n",
      " |  \n",
      " |  __context__\n",
      " |      exception context\n",
      " |  \n",
      " |  __dict__\n",
      " |  \n",
      " |  __suppress_context__\n",
      " |  \n",
      " |  __traceback__\n",
      " |  \n",
      " |  args\n",
      "\n"
     ]
    }
   ],
   "source": [
    "help(builtins.ArithmeticError)"
   ]
  },
  {
   "cell_type": "markdown",
   "id": "7f262545",
   "metadata": {},
   "source": [
    "### Por curiosidad veo otra de la lista anterior, pero me manda error, no se por qué."
   ]
  },
  {
   "cell_type": "code",
   "execution_count": 56,
   "id": "63b0cb39",
   "metadata": {},
   "outputs": [
    {
     "ename": "SyntaxError",
     "evalue": "invalid syntax (4145514591.py, line 1)",
     "output_type": "error",
     "traceback": [
      "\u001b[1;36m  Input \u001b[1;32mIn [56]\u001b[1;36m\u001b[0m\n\u001b[1;33m    help(builtins.True)\u001b[0m\n\u001b[1;37m                  ^\u001b[0m\n\u001b[1;31mSyntaxError\u001b[0m\u001b[1;31m:\u001b[0m invalid syntax\n"
     ]
    }
   ],
   "source": [
    "help(builtins.True)"
   ]
  },
  {
   "cell_type": "markdown",
   "id": "c98670d2",
   "metadata": {},
   "source": [
    "## Funcion type(). Para saber el tipo de dato."
   ]
  },
  {
   "cell_type": "code",
   "execution_count": 57,
   "id": "05e6c8f4",
   "metadata": {},
   "outputs": [],
   "source": [
    "my_variable = 570"
   ]
  },
  {
   "cell_type": "code",
   "execution_count": 58,
   "id": "5fd7ee7b",
   "metadata": {},
   "outputs": [
    {
     "data": {
      "text/plain": [
       "int"
      ]
     },
     "execution_count": 58,
     "metadata": {},
     "output_type": "execute_result"
    }
   ],
   "source": [
    "type(my_variable)"
   ]
  },
  {
   "cell_type": "markdown",
   "id": "ae1346b9",
   "metadata": {},
   "source": [
    "### O así:"
   ]
  },
  {
   "cell_type": "code",
   "execution_count": 59,
   "id": "009c85ab",
   "metadata": {},
   "outputs": [
    {
     "name": "stdout",
     "output_type": "stream",
     "text": [
      "570\n",
      "<class 'int'>\n"
     ]
    }
   ],
   "source": [
    "my_variable = 570\n",
    "print(my_variable)\n",
    "print(type(my_variable))"
   ]
  },
  {
   "cell_type": "markdown",
   "id": "08b3a9c9",
   "metadata": {},
   "source": [
    "## Cadenas:"
   ]
  },
  {
   "cell_type": "code",
   "execution_count": 60,
   "id": "35b6d4b5",
   "metadata": {},
   "outputs": [
    {
     "name": "stdout",
     "output_type": "stream",
     "text": [
      "Backend Python\n",
      "<class 'str'>\n"
     ]
    }
   ],
   "source": [
    "my_string = \"Backend Python\"\n",
    "print(my_string)\n",
    "print(type(my_string))"
   ]
  },
  {
   "cell_type": "markdown",
   "id": "e4641b91",
   "metadata": {},
   "source": [
    "## Números de punto flotante:"
   ]
  },
  {
   "cell_type": "code",
   "execution_count": 61,
   "id": "07c8ed61",
   "metadata": {},
   "outputs": [
    {
     "name": "stdout",
     "output_type": "stream",
     "text": [
      "3.97\n",
      "<class 'float'>\n"
     ]
    }
   ],
   "source": [
    "my_float = 3.97\n",
    "print(my_float)\n",
    "print(type(my_float))"
   ]
  },
  {
   "cell_type": "markdown",
   "id": "819c3619",
   "metadata": {},
   "source": [
    "## Booleanos:"
   ]
  },
  {
   "cell_type": "code",
   "execution_count": 62,
   "id": "86c5903b",
   "metadata": {},
   "outputs": [
    {
     "name": "stdout",
     "output_type": "stream",
     "text": [
      "True\n",
      "<class 'bool'>\n"
     ]
    }
   ],
   "source": [
    "my_boolean = True\n",
    "print(my_boolean)\n",
    "print(type(my_boolean))"
   ]
  },
  {
   "cell_type": "markdown",
   "id": "7b3f292f",
   "metadata": {},
   "source": [
    "## \"True\" o \"False\" como cadena:"
   ]
  },
  {
   "cell_type": "code",
   "execution_count": 63,
   "id": "0dab90a0",
   "metadata": {},
   "outputs": [
    {
     "name": "stdout",
     "output_type": "stream",
     "text": [
      "True\n",
      "<class 'str'>\n"
     ]
    }
   ],
   "source": [
    "my_string = \"True\"\n",
    "print(my_string)\n",
    "print(type(my_string))"
   ]
  },
  {
   "cell_type": "markdown",
   "id": "eab1e11c",
   "metadata": {},
   "source": [
    "## Datos más complejos (Estructura de datos): Listas\n",
    "### listas / list   (se distinguen porque se ponen sus valores entre corchetes y separados por comas); las listas pueden ser de enteros, cadenas floats\n"
   ]
  },
  {
   "cell_type": "code",
   "execution_count": 64,
   "id": "7de23f15",
   "metadata": {},
   "outputs": [
    {
     "name": "stdout",
     "output_type": "stream",
     "text": [
      "[1, 7, 4, 2]\n",
      "Data Type of my_list: <class 'list'>\n"
     ]
    }
   ],
   "source": [
    "# listas / list   (se distinguen por que se ponen entre corchetes y separados por comas)\n",
    "my_list = [1,7,4,2]\n",
    "print(my_list)\n",
    "print(\"Data Type of my_list:\",type(my_list))"
   ]
  },
  {
   "cell_type": "markdown",
   "id": "073e1ee8",
   "metadata": {},
   "source": [
    "## Datos más complejos (Estructura de datos): Tuplas\n",
    "### Tuplas : tuple   (se distinguen porque se ponen sus valores entre paréntesis y separados por comas);"
   ]
  },
  {
   "cell_type": "code",
   "execution_count": 65,
   "id": "cfd5730e",
   "metadata": {},
   "outputs": [
    {
     "name": "stdout",
     "output_type": "stream",
     "text": [
      "(1, 7, 4, 2)\n",
      "Data Type of my_tuple: <class 'tuple'>\n"
     ]
    }
   ],
   "source": [
    "my_tuple = (1,7,4,2)\n",
    "print(my_tuple)\n",
    "print(\"Data Type of my_tuple:\",type(my_tuple))"
   ]
  },
  {
   "cell_type": "markdown",
   "id": "97eddaba",
   "metadata": {},
   "source": [
    "## Otra estructura de datos son los set\n",
    "### set : set   (se distinguen porque se ponen sus valores entre llaves y separados por comas); Podemos combinar distintos tipos de datos."
   ]
  },
  {
   "cell_type": "code",
   "execution_count": 66,
   "id": "3658a000",
   "metadata": {},
   "outputs": [
    {
     "name": "stdout",
     "output_type": "stream",
     "text": [
      "{1, 'Python', 2.5, 4}\n",
      "Data Type of my_set: <class 'set'>\n"
     ]
    }
   ],
   "source": [
    "my_set = {4,1,'Python',2.5}\n",
    "print(my_set)\n",
    "print(\"Data Type of my_set:\", type(my_set))"
   ]
  },
  {
   "cell_type": "markdown",
   "id": "c04b4dd0",
   "metadata": {},
   "source": [
    "## Otra estructura de datos son los diccionarios.\n",
    "### diccionario / dict   (se distinguen porque se ponen sus valores entre llaves y separados por comas, pero se ponen en parejas tipo jason). \n",
    "### Se llama estructura llave-valor; p.e.; Llave:\"a\", valor:20 (mira el ejemplo abajo)"
   ]
  },
  {
   "cell_type": "code",
   "execution_count": 67,
   "id": "281fd156",
   "metadata": {},
   "outputs": [
    {
     "name": "stdout",
     "output_type": "stream",
     "text": [
      "{'a': 20, 'b': 50, 'c': 35}\n",
      "<class 'dict'>\n"
     ]
    }
   ],
   "source": [
    "my_dictionary = {\"a\":20, \"b\":50, \"c\":35}\n",
    "print(my_dictionary)\n",
    "print(type(my_dictionary))"
   ]
  },
  {
   "cell_type": "markdown",
   "id": "b66dac06",
   "metadata": {},
   "source": [
    "### Modificación de actualizacion en Home. (26 de Julio 2023)."
   ]
  },
  {
   "cell_type": "markdown",
   "id": "23738041",
   "metadata": {},
   "source": [
    "## Continuamos clase 27 de Julio 2023.\n",
    "### Ahora veremos la función id()\n",
    "##### funcion para obtener la direccion de memoria."
   ]
  },
  {
   "cell_type": "code",
   "execution_count": 68,
   "id": "4da9d796",
   "metadata": {
    "scrolled": true
   },
   "outputs": [
    {
     "name": "stdout",
     "output_type": "stream",
     "text": [
      "Python\n",
      "<class 'str'>\n",
      "Direccion de memoria id(): 2137852844912\n"
     ]
    }
   ],
   "source": [
    "# cadena / string :\"Python\"\n",
    "my_string = \"Python\"\n",
    "print(my_string)\n",
    "print(type(my_string))\n",
    "print(\"Direccion de memoria id():\" , id(my_string))"
   ]
  },
  {
   "cell_type": "code",
   "execution_count": 69,
   "id": "e32a7bc7",
   "metadata": {},
   "outputs": [
    {
     "name": "stdout",
     "output_type": "stream",
     "text": [
      "Backend\n",
      "<class 'str'>\n",
      "Direccion de memoria id(): 2137962970480\n"
     ]
    }
   ],
   "source": [
    "# cadena / string : \"Backend\"\n",
    "my_string2 = \"Backend\"\n",
    "print(my_string2)\n",
    "print(type(my_string2))\n",
    "print(\"Direccion de memoria id():\" , id(my_string2))"
   ]
  },
  {
   "cell_type": "code",
   "execution_count": 70,
   "id": "05255a1b",
   "metadata": {},
   "outputs": [
    {
     "name": "stdout",
     "output_type": "stream",
     "text": [
      "my_string:' Python '\n",
      "my_string2:' Python '\n",
      "my_string type: <class 'str'>\n",
      "my_string2 type: <class 'str'>\n",
      "Direccion de memoria de my_string 'id():'  2137852844912\n",
      "Direccion de memoria de my_string2 'id():'  2137852844912\n"
     ]
    }
   ],
   "source": [
    "# cadena / string\n",
    "my_string = \"Python\"\n",
    "my_string2 = \"Python\"\n",
    "print(\"my_string:'\", my_string,\"'\")\n",
    "print(\"my_string2:'\", my_string,\"'\")\n",
    "print(\"my_string type:\", type(my_string))\n",
    "print(\"my_string2 type:\",type( my_string2))\n",
    "print(\"Direccion de memoria de my_string 'id():' \" , id(my_string))\n",
    "print(\"Direccion de memoria de my_string2 'id():' \" , id(my_string2))"
   ]
  },
  {
   "cell_type": "markdown",
   "id": "4ec1a645",
   "metadata": {},
   "source": [
    "### Nota que la direccion en memoria de la misma palabra nunca cambió"
   ]
  },
  {
   "cell_type": "code",
   "execution_count": null,
   "id": "8a61c20e",
   "metadata": {},
   "outputs": [],
   "source": []
  }
 ],
 "metadata": {
  "kernelspec": {
   "display_name": "Python 3 (ipykernel)",
   "language": "python",
   "name": "python3"
  },
  "language_info": {
   "codemirror_mode": {
    "name": "ipython",
    "version": 3
   },
   "file_extension": ".py",
   "mimetype": "text/x-python",
   "name": "python",
   "nbconvert_exporter": "python",
   "pygments_lexer": "ipython3",
   "version": "3.9.12"
  }
 },
 "nbformat": 4,
 "nbformat_minor": 5
}

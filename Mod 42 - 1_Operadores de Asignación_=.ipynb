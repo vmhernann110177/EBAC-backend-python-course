{
 "cells": [
  {
   "cell_type": "markdown",
   "id": "4d2e8e48",
   "metadata": {},
   "source": [
    "### Mod 42 Parte 1_Operadores de Asignación"
   ]
  },
  {
   "cell_type": "markdown",
   "id": "30bb38f4",
   "metadata": {},
   "source": [
    "¿Qué son los operadores de asignación?\n",
    "- En Python son usados para asignar valores a variables \n",
    "- Incluyen al operador de asignación qué es el signo de igual (=)"
   ]
  },
  {
   "cell_type": "markdown",
   "id": "3ff20ebc",
   "metadata": {},
   "source": [
    "#### Tipos de operadores de asignación:\n",
    "- \"=\":   Operador de asignación \n",
    "- \"+=\":  Sumar y asignar \n",
    "- \"-=\":  Restar y asignar \n",
    "- \"*=\":  Multiplicar y asignar \n",
    "- \"/=\":  Dividir y asignar \n",
    "- \"//=\": Dividir con redondeo hacia abajo y asignar \n",
    "- \"%=\":  Módulo y asignar \n",
    "- \"**=\": Exponente y asignar "
   ]
  },
  {
   "cell_type": "markdown",
   "id": "5a3dc00a",
   "metadata": {},
   "source": [
    "#### \"=\": Operador de asignación"
   ]
  },
  {
   "cell_type": "code",
   "execution_count": 1,
   "id": "a579b06c",
   "metadata": {},
   "outputs": [
    {
     "name": "stdout",
     "output_type": "stream",
     "text": [
      "v1= 20 ; v2= 3\n"
     ]
    }
   ],
   "source": [
    "v1 = 20\n",
    "v2 = 3\n",
    "print (\"v1=\",v1,\"; v2=\",v2)"
   ]
  },
  {
   "cell_type": "markdown",
   "id": "fd4b4c03",
   "metadata": {},
   "source": [
    "#### \"+=\": Sumar y asignar"
   ]
  },
  {
   "cell_type": "code",
   "execution_count": 2,
   "id": "e36819a6",
   "metadata": {},
   "outputs": [
    {
     "name": "stdout",
     "output_type": "stream",
     "text": [
      "v1 antes de la operacion: 20\n",
      "v1 después de la operacion: 23\n"
     ]
    }
   ],
   "source": [
    "v1 = 20\n",
    "v2 = 3\n",
    "print (\"v1 antes de la operacion:\",v1)\n",
    "v1 += v2 # v1 = v1 + v2\n",
    "print (\"v1 después de la operacion:\",v1)"
   ]
  },
  {
   "cell_type": "markdown",
   "id": "137a241a",
   "metadata": {},
   "source": [
    "#### \"-=\": Restar y asignar"
   ]
  },
  {
   "cell_type": "code",
   "execution_count": 3,
   "id": "61f2c213",
   "metadata": {},
   "outputs": [
    {
     "name": "stdout",
     "output_type": "stream",
     "text": [
      "v1 antes de la operacion: 20\n",
      "v1 después de la operacion: 17\n"
     ]
    }
   ],
   "source": [
    "v1 = 20\n",
    "v2 = 3\n",
    "print (\"v1 antes de la operacion:\",v1)\n",
    "v1 -= v2 # v1 = v1 - v2\n",
    "print (\"v1 después de la operacion:\",v1)"
   ]
  },
  {
   "cell_type": "markdown",
   "id": "08319051",
   "metadata": {},
   "source": [
    "#### \"*=\": Multiplicar y asignar"
   ]
  },
  {
   "cell_type": "code",
   "execution_count": 4,
   "id": "bb6a99b5",
   "metadata": {},
   "outputs": [
    {
     "name": "stdout",
     "output_type": "stream",
     "text": [
      "v1 antes de la operacion: 20\n",
      "v1 después de la operacion: 60\n"
     ]
    }
   ],
   "source": [
    "v1 = 20\n",
    "v2 = 3\n",
    "print (\"v1 antes de la operacion:\",v1)\n",
    "v1 *= v2 # v1 = v1 * v2\n",
    "print (\"v1 después de la operacion:\",v1)"
   ]
  },
  {
   "cell_type": "markdown",
   "id": "0dc76976",
   "metadata": {},
   "source": [
    "#### \"/=\": Dividir y asignar"
   ]
  },
  {
   "cell_type": "code",
   "execution_count": 5,
   "id": "e8d93447",
   "metadata": {},
   "outputs": [
    {
     "name": "stdout",
     "output_type": "stream",
     "text": [
      "v1 antes de la operacion: 20\n",
      "v1 después de la operacion: 6.666666666666667\n"
     ]
    }
   ],
   "source": [
    "v1 = 20\n",
    "v2 = 3\n",
    "print (\"v1 antes de la operacion:\",v1)\n",
    "v1 /= v2 # v1 = v1 / v2\n",
    "print (\"v1 después de la operacion:\",v1)"
   ]
  },
  {
   "cell_type": "markdown",
   "id": "292a5e6d",
   "metadata": {},
   "source": [
    "#### \"//=\": Dividir con redondeo hacia abajo y asignar"
   ]
  },
  {
   "cell_type": "code",
   "execution_count": 6,
   "id": "544fbf95",
   "metadata": {},
   "outputs": [
    {
     "name": "stdout",
     "output_type": "stream",
     "text": [
      "v1 antes de la operacion: 20\n",
      "v1 después de la operacion: 6\n"
     ]
    }
   ],
   "source": [
    "v1 = 20\n",
    "v2 = 3\n",
    "print (\"v1 antes de la operacion:\",v1)\n",
    "v1 //= v2 # v1 = v1 // v2\n",
    "print (\"v1 después de la operacion:\",v1)"
   ]
  },
  {
   "cell_type": "markdown",
   "id": "e9905084",
   "metadata": {},
   "source": [
    "#### \"%=\": Módulo y asignar"
   ]
  },
  {
   "cell_type": "code",
   "execution_count": 8,
   "id": "bcc610b6",
   "metadata": {},
   "outputs": [
    {
     "name": "stdout",
     "output_type": "stream",
     "text": [
      "v1 antes de la operacion: 20\n",
      "v1 después de la operacion: 2\n"
     ]
    }
   ],
   "source": [
    "# % - Módulo es el residuo\n",
    "v1 = 20\n",
    "v2 = 3\n",
    "print (\"v1 antes de la operacion:\",v1)\n",
    "v1 %= v2 # v1 = v1 % v2\n",
    "print (\"v1 después de la operacion:\",v1)"
   ]
  },
  {
   "cell_type": "markdown",
   "id": "8b758df8",
   "metadata": {},
   "source": [
    "#### \"**=\": Exponente y asignar"
   ]
  },
  {
   "cell_type": "code",
   "execution_count": 9,
   "id": "2fffd65b",
   "metadata": {},
   "outputs": [
    {
     "name": "stdout",
     "output_type": "stream",
     "text": [
      "v1 antes de la operacion: 20\n",
      "v1 después de la operacion: 8000\n"
     ]
    }
   ],
   "source": [
    "# % - Módulo es el residuo\n",
    "v1 = 20\n",
    "v2 = 3\n",
    "print (\"v1 antes de la operacion:\",v1)\n",
    "v1 **= v2 # v1 = v1 ** v2\n",
    "print (\"v1 después de la operacion:\",v1)"
   ]
  },
  {
   "cell_type": "markdown",
   "id": "2f9273ba",
   "metadata": {},
   "source": [
    "### Fin Parte 1 Mod 42 1_operadores de Asignación (14:13)"
   ]
  }
 ],
 "metadata": {
  "kernelspec": {
   "display_name": "Python 3 (ipykernel)",
   "language": "python",
   "name": "python3"
  },
  "language_info": {
   "codemirror_mode": {
    "name": "ipython",
    "version": 3
   },
   "file_extension": ".py",
   "mimetype": "text/x-python",
   "name": "python",
   "nbconvert_exporter": "python",
   "pygments_lexer": "ipython3",
   "version": "3.9.12"
  }
 },
 "nbformat": 4,
 "nbformat_minor": 5
}

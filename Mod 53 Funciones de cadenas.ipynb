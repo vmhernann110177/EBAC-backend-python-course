{
 "cells": [
  {
   "cell_type": "markdown",
   "id": "a18dfe99",
   "metadata": {},
   "source": [
    "# Funciones de cadenas"
   ]
  },
  {
   "cell_type": "markdown",
   "id": "2c389716",
   "metadata": {},
   "source": [
    "## Split\n",
    "- Divide a la cadena basándose en el separador especificado."
   ]
  },
  {
   "cell_type": "code",
   "execution_count": 1,
   "id": "c43383ca",
   "metadata": {},
   "outputs": [
    {
     "name": "stdout",
     "output_type": "stream",
     "text": [
      "['El', 'curso', 'de', 'Backend', 'Python', 'de', 'EBAC', 'te', 'lleva', 'de', 'la', 'mano', 'para', 'que', 'aprendas', 'a', 'programar'] \n",
      "type: <class 'list'>\n"
     ]
    }
   ],
   "source": [
    "my_string = \"El curso de Backend Python de EBAC te lleva de la mano para que aprendas a programar\"\n",
    "\n",
    "split_result = my_string.split(\" \")\n",
    "print(split_result,\"\\ntype:\",type(split_result))"
   ]
  },
  {
   "cell_type": "code",
   "execution_count": 2,
   "id": "e9862d44",
   "metadata": {},
   "outputs": [
    {
     "name": "stdout",
     "output_type": "stream",
     "text": [
      "username: user123\n",
      "  Domain: gmail.com\n"
     ]
    }
   ],
   "source": [
    "my_string = \"user123@gmail.com\"\n",
    "\n",
    "username, domain = my_string.split(\"@\")\n",
    "print(\"username:\",username)\n",
    "print(\"  Domain:\", domain)"
   ]
  },
  {
   "cell_type": "code",
   "execution_count": 3,
   "id": "66eedca3",
   "metadata": {},
   "outputs": [
    {
     "name": "stdout",
     "output_type": "stream",
     "text": [
      "date: 2022-09-28\n",
      "log_level: error\n",
      "message: Este es un mensaje de error\n",
      "date: 2022-09-27\n",
      "log_level: warning\n",
      "message: Este es un menssaje de advertencia\n",
      "date: 2022-09-25\n",
      "log_level: info\n",
      "message: Este es un menssaje informativo. \n"
     ]
    }
   ],
   "source": [
    " ## SEGÚN LA CLASE ##\n",
    "my_string = \"\"\"2022-09-28|error|Este es un mensaje de error\n",
    "2022-09-27|warning|Este es un menssaje de advertencia\n",
    "2022-09-25|info|Este es un menssaje informativo. \"\"\"\n",
    "\n",
    "logs = my_string.split(\"\\n\") # Corta por saltos de linea\n",
    "for log in logs:\n",
    "    date, log_level, message = log.split(\"|\")\n",
    "    print(\"date:\", date)\n",
    "    print(\"log_level:\", log_level)\n",
    "    print(\"message:\", message)"
   ]
  },
  {
   "cell_type": "code",
   "execution_count": 4,
   "id": "0ab20bb4",
   "metadata": {},
   "outputs": [
    {
     "name": "stdout",
     "output_type": "stream",
     "text": [
      "date: 2022-09-28\n",
      "log_level: error\n",
      "message: Este es un mensaje de error.\n",
      "\n",
      "\n",
      "date: 2022-09-27\n",
      "log_level: warning\n",
      "message: Este es un menssaje de advertencia.\n",
      "\n",
      "\n",
      "date: 2022-09-25\n",
      "log_level: info\n",
      "message: Este es un menssaje informativo. \n",
      "\n",
      "\n"
     ]
    }
   ],
   "source": [
    "# COM MODIFICACIONES PROPIAS\n",
    "my_string = \"\"\"2022-09-28|error|Este es un mensaje de error.\n",
    "2022-09-27|warning|Este es un menssaje de advertencia.\n",
    "2022-09-25|info|Este es un menssaje informativo. \"\"\"\n",
    "\n",
    "logs = my_string.split(\"\\n\") # Corta por saltos de linea\n",
    "for log in logs:\n",
    "    date, log_level, message = log.split(\"|\")\n",
    "    print(\"date:\", date)\n",
    "    print(\"log_level:\", log_level)\n",
    "    print(\"message:\", message)\n",
    "    print(\"\\n\")"
   ]
  },
  {
   "cell_type": "markdown",
   "id": "0927bde0",
   "metadata": {},
   "source": [
    "### Index / find\n",
    "- Busca la primer posición de la Subcadena solicitada en la cadena deseada."
   ]
  },
  {
   "cell_type": "code",
   "execution_count": 5,
   "id": "dd62f96d",
   "metadata": {},
   "outputs": [
    {
     "name": "stdout",
     "output_type": "stream",
     "text": [
      "La primera posición de 'Python' en my_string es:  20\n",
      "La primera posición de 'Python' en my_string es:  20\n"
     ]
    }
   ],
   "source": [
    "# Busquemos una palabra (Python)\n",
    "my_string = \"El curso de Backend Python de EBAC te lleva de la mano para que aprendas a programar\"\n",
    "\n",
    "print(\"La primera posición de 'Python' en my_string es: \", my_string.index(\"Python\"))\n",
    "print(\"La primera posición de 'Python' en my_string es: \", my_string.find(\"Python\"))"
   ]
  },
  {
   "cell_type": "code",
   "execution_count": 6,
   "id": "b6b1720a",
   "metadata": {},
   "outputs": [
    {
     "name": "stdout",
     "output_type": "stream",
     "text": [
      "La primera posición de 'Python' en my_string es:  12 , sería 13 pero Python comienza desde 0 \n"
     ]
    }
   ],
   "source": [
    "# Busquemos otra palabra (Backend)\n",
    "my_string = \"El curso de Backend Python de EBAC te lleva de la mano para que aprendas a programar\"\n",
    "\n",
    "print(\"La primera posición de 'Python' en my_string es: \", my_string.index(\"Backend\"),\n",
    "      \", sería 13 pero Python comienza desde 0 \")"
   ]
  },
  {
   "cell_type": "code",
   "execution_count": 7,
   "id": "dd50ffc4",
   "metadata": {},
   "outputs": [
    {
     "name": "stdout",
     "output_type": "stream",
     "text": [
      "La primera 'E'  en my_string, esta en la posición :  0 \n",
      "\u001b[31mRECUERDA \u001b[30m la primer posición que Python lee es la '0' \u001b[32m (en este caso la 'E')\n"
     ]
    }
   ],
   "source": [
    "# Busquemos una palabra (Python)\n",
    "my_string = \"El curso de Backend Python de EBAC te lleva de la mano para que aprendas a programar\"\n",
    "\n",
    "print(\"La primera 'E'  en my_string, esta en la posición : \", my_string.find(\"E\"),\n",
    "     \"\\n\\u001b[31mRECUERDA \\u001b[30m la primer posición que Python lee es la '0' \\u001b[32m (en este caso la 'E')\")\n",
    "# Mira que usé : \\u001b[31m para cambiar los siguentes caracteres a Rojo; \\u001b[30m a negro; \\u001b[32m a Verde\n"
   ]
  },
  {
   "cell_type": "markdown",
   "id": "1838c79c",
   "metadata": {},
   "source": [
    "<h2>count</h2>\n",
    " <ul>\n",
    "    <li> Cuenta el número de apariciones de las cadenas solicitada en la cadena completa</li>\n",
    "    <li> Cuenta el número de apariciones de las cadenas solicitada en la cadena completa</li>\n",
    " <ul>"
   ]
  },
  {
   "cell_type": "code",
   "execution_count": 8,
   "id": "38f57746",
   "metadata": {},
   "outputs": [
    {
     "name": "stdout",
     "output_type": "stream",
     "text": [
      "La cantidad de 'E' en my_string es: 2\n"
     ]
    }
   ],
   "source": [
    "# Cuenta la cantidad de 'E' que enciuentres:\n",
    "my_string = \"El curso de Backend Python de EBAC te lleva de la mano para que aprendas a programar\"\n",
    "print(\"La cantidad de 'E' en my_string es:\", my_string.count(\"E\"))"
   ]
  },
  {
   "cell_type": "code",
   "execution_count": 9,
   "id": "32b94498",
   "metadata": {},
   "outputs": [
    {
     "name": "stdout",
     "output_type": "stream",
     "text": [
      "La cantidad de 'E' en my_string es: 3\n"
     ]
    }
   ],
   "source": [
    "# Cuenta la cantidad de palabras 'de' que enciuentres:\n",
    "my_string = \"El curso de Backend Python de EBAC te lleva de la mano para que aprendas a programar\"\n",
    "print(\"La cantidad de 'E' en my_string es:\", my_string.count(\"de\"))"
   ]
  },
  {
   "cell_type": "markdown",
   "id": "c1f71091",
   "metadata": {},
   "source": [
    "<h2>len</h2>\n",
    " <ul>\n",
    "    <li> Cuenta la longitud, o cuántos caracteres hay en string</li>\n",
    " <ul>"
   ]
  },
  {
   "cell_type": "code",
   "execution_count": 10,
   "id": "1d7088ac",
   "metadata": {},
   "outputs": [
    {
     "name": "stdout",
     "output_type": "stream",
     "text": [
      "La cantidad de 'caracteres' en my_string es: 84\n"
     ]
    }
   ],
   "source": [
    "# Cuenta la cantidad de palabras 'de' que enciuentres:\n",
    "my_string = \"El curso de Backend Python de EBAC te lleva de la mano para que aprendas a programar\"\n",
    "print(\"La cantidad de 'caracteres' en my_string es:\", len(my_string))"
   ]
  },
  {
   "cell_type": "code",
   "execution_count": 11,
   "id": "f4393b54",
   "metadata": {},
   "outputs": [
    {
     "name": "stdout",
     "output_type": "stream",
     "text": [
      "La cantidad de 'caracteres' en my_string es: 14\n"
     ]
    }
   ],
   "source": [
    "# Cuenta la cantidad de palabras 'de' que enciuentres:\n",
    "my_string = \"Backend Python\"\n",
    "print(\"La cantidad de 'caracteres' en my_string es:\", len(my_string))"
   ]
  },
  {
   "cell_type": "markdown",
   "id": "0bd5b2e5",
   "metadata": {},
   "source": [
    "<h2>strip</h2>\n",
    " <ul>\n",
    "    <li>Remueve espacios</li>\n",
    " <ul>"
   ]
  },
  {
   "cell_type": "code",
   "execution_count": 12,
   "id": "8896c63d",
   "metadata": {},
   "outputs": [
    {
     "name": "stdout",
     "output_type": "stream",
     "text": [
      "     Backend Python     \n",
      "Backend Python\n"
     ]
    }
   ],
   "source": [
    "# Remueve espacios:\n",
    "my_string = \"     Backend Python     \"\n",
    "print(my_string)\n",
    "print(my_string.strip())"
   ]
  },
  {
   "cell_type": "code",
   "execution_count": 13,
   "id": "4c6f32c8",
   "metadata": {},
   "outputs": [
    {
     "name": "stdout",
     "output_type": "stream",
     "text": [
      "[     Backend Python     ]\n",
      "[Backend Python]\n"
     ]
    }
   ],
   "source": [
    "# Remueve espacios, con formato:\n",
    "my_string = \"     Backend Python     \"\n",
    "print(\"[{}]\".format(my_string))  # Aqui le digo pon la cadena COMPLETA (CON ESPACIOS) dentro de {} y enmarcala en []\n",
    "print(\"[{}]\".format(my_string.strip()))  # Aqui le digo pon la cadena COMPLETA SIN ESPACIOS dentro de {} y enmarcala en []\n",
    "# OJO SOLO QUITA LOS ESPACIOS AL INICIO Y FINAL, RESPETA LOS CENTRALES"
   ]
  },
  {
   "cell_type": "code",
   "execution_count": 14,
   "id": "9d80ed93",
   "metadata": {},
   "outputs": [
    {
     "name": "stdout",
     "output_type": "stream",
     "text": [
      "[     \n",
      "\n",
      "\t\r",
      "Backend Python\n",
      "\n",
      "\t\r",
      "     ]\n",
      "[Backend Python]\n"
     ]
    }
   ],
   "source": [
    "# Remueve espacios, con formato:\n",
    "## Digamos que es mas compleja la cadena con 'saltos de linea', 'tabs'. 'r' retorno de carro\n",
    "### Todos son caracteres que se entienden como espacios.\n",
    "my_string = \"     \\n\\n\\t\\rBackend Python\\n\\n\\t\\r     \"\n",
    "print(\"[{}]\".format(my_string))  # Aqui le digo pon la cadena COMPLETA (CON ESPACIOS) dentro de {} y enmarcala en []\n",
    "print(\"[{}]\".format(my_string.strip()))  # Aqui le digo pon la cadena COMPLETA SIN ESPACIOS dentro de {} y enmarcala en []\n",
    "# OJO SOLO QUITA LOS ESPACIOS AL INICIO Y FINAL, RESPETA LOS CENTRALES"
   ]
  },
  {
   "cell_type": "code",
   "execution_count": 15,
   "id": "78c8213c",
   "metadata": {},
   "outputs": [
    {
     "name": "stdout",
     "output_type": "stream",
     "text": [
      "[nBackend Python]\n",
      "[Backend Pytho]\n"
     ]
    }
   ],
   "source": [
    "# Otro caso para strip es usar una letra:\n",
    "my_string = \"nBackend Python\"\n",
    "print(\"[{}]\".format(my_string))  # Aqui le digo pon la cadena COMPLETA (CON ESPACIOS) dentro de {} y enmarcala en []\n",
    "print(\"[{}]\".format(my_string.strip(\"n\")))  # Aqui le digo pon la cadena COMPLETA SIN ESPACIOS dentro de {} y enmarcala en []\n",
    "# OJO IGUALMENTE, SOLO QUITA LAS QUE ESTAN AL INICIO O AL FINAL, RESPETA LAS CENTRALES"
   ]
  },
  {
   "cell_type": "markdown",
   "id": "983023e5",
   "metadata": {},
   "source": [
    "<h2>isdecinmal / isnumeric / is digit</h2>\n",
    " <ul>\n",
    "    <li>Analiza si la cadena contiene solamente números/enteros</li>\n",
    " <ul>"
   ]
  },
  {
   "cell_type": "code",
   "execution_count": 16,
   "id": "db9ec829",
   "metadata": {},
   "outputs": [
    {
     "name": "stdout",
     "output_type": "stream",
     "text": [
      "True\n",
      "True\n",
      "True\n"
     ]
    }
   ],
   "source": [
    "my_string = \"1298751351246131\"\n",
    "print(my_string.isdecimal())\n",
    "print(my_string.isnumeric())\n",
    "print(my_string.isdigit())"
   ]
  },
  {
   "cell_type": "code",
   "execution_count": 17,
   "id": "9283ec39",
   "metadata": {},
   "outputs": [
    {
     "name": "stdout",
     "output_type": "stream",
     "text": [
      "False\n",
      "False\n",
      "False\n"
     ]
    }
   ],
   "source": [
    "my_string = \"129875.1351246131\"\n",
    "print(my_string.isdecimal())\n",
    "print(my_string.isnumeric())\n",
    "print(my_string.isdigit())\n",
    "# Aqui ya no son solamente enteros, aunque en teoria es un float normalmente \"isdecimal\" deberia marcarlo \n",
    "# como True\n",
    "# pero \"realmente lo que dice es: son solamente números\", entonces todos los marca como False"
   ]
  },
  {
   "cell_type": "code",
   "execution_count": 18,
   "id": "77d4204d",
   "metadata": {},
   "outputs": [
    {
     "name": "stdout",
     "output_type": "stream",
     "text": [
      "False\n",
      "False\n",
      "False\n"
     ]
    }
   ],
   "source": [
    "my_string = \"129875.1351246131test\"\n",
    "print(my_string.isdecimal())\n",
    "print(my_string.isnumeric())\n",
    "print(my_string.isdigit())\n",
    "# Aqui le torcemos la mano de MNERA MAS EVIDENTE al ponerle caracteres a esa serie de números."
   ]
  },
  {
   "cell_type": "code",
   "execution_count": 19,
   "id": "ec93ee07",
   "metadata": {},
   "outputs": [
    {
     "name": "stdout",
     "output_type": "stream",
     "text": [
      "False\n",
      "False\n",
      "False\n"
     ]
    }
   ],
   "source": [
    "my_string = \"1298751351246131test\"\n",
    "print(my_string.isdecimal())\n",
    "print(my_string.isnumeric())\n",
    "print(my_string.isdigit())\n",
    "# sucede lo mismo con el espacio."
   ]
  },
  {
   "cell_type": "markdown",
   "id": "e19e7097",
   "metadata": {},
   "source": [
    "<h2>isalnum</h2>\n",
    " <ul>\n",
    "    <li>Analiza si todos los carateres son alfanuméicos (letras o numeros)./l>\n",
    " <ul>"
   ]
  },
  {
   "cell_type": "code",
   "execution_count": 20,
   "id": "015d04ff",
   "metadata": {},
   "outputs": [
    {
     "name": "stdout",
     "output_type": "stream",
     "text": [
      "True\n"
     ]
    }
   ],
   "source": [
    "my_string = \"1298751351246131\"\n",
    "print(my_string.isalnum())\n"
   ]
  },
  {
   "cell_type": "code",
   "execution_count": 21,
   "id": "6a66ed59",
   "metadata": {},
   "outputs": [
    {
     "name": "stdout",
     "output_type": "stream",
     "text": [
      "False\n"
     ]
    }
   ],
   "source": [
    "my_string = \"129875.1351246131\"\n",
    "print(my_string.isalnum()) \n",
    "# El punto no es ni letra ni numero por eso False"
   ]
  },
  {
   "cell_type": "code",
   "execution_count": 22,
   "id": "75fa157b",
   "metadata": {},
   "outputs": [
    {
     "name": "stdout",
     "output_type": "stream",
     "text": [
      "True\n"
     ]
    }
   ],
   "source": [
    "my_string = \"1298751351246131test\"\n",
    "print(my_string.isalnum()) \n",
    "# Este si!"
   ]
  },
  {
   "cell_type": "code",
   "execution_count": 23,
   "id": "fe25c4aa",
   "metadata": {},
   "outputs": [
    {
     "name": "stdout",
     "output_type": "stream",
     "text": [
      "False\n"
     ]
    }
   ],
   "source": [
    "my_string = \"129875 1351246131\"\n",
    "print(my_string.isalnum()) \n",
    "# De igual manera el espacio no es ni letra ni número"
   ]
  },
  {
   "cell_type": "markdown",
   "id": "2ac34c13",
   "metadata": {},
   "source": [
    "<h2>isupper</h2>\n",
    " <ul>\n",
    "    <li>Analiza si TODAS LAS LETRAS son mayusculas.</ul>\n",
    " <ul>"
   ]
  },
  {
   "cell_type": "code",
   "execution_count": 24,
   "id": "f0163cfd",
   "metadata": {},
   "outputs": [
    {
     "name": "stdout",
     "output_type": "stream",
     "text": [
      "False\n"
     ]
    }
   ],
   "source": [
    "my_string = \"test\"\n",
    "print(my_string.isupper()) "
   ]
  },
  {
   "cell_type": "code",
   "execution_count": 25,
   "id": "16f4ca46",
   "metadata": {},
   "outputs": [
    {
     "name": "stdout",
     "output_type": "stream",
     "text": [
      "True\n"
     ]
    }
   ],
   "source": [
    "my_string = \"TEST\"\n",
    "print(my_string.isupper()) "
   ]
  },
  {
   "cell_type": "code",
   "execution_count": 26,
   "id": "0d2801ec",
   "metadata": {},
   "outputs": [
    {
     "name": "stdout",
     "output_type": "stream",
     "text": [
      "False\n"
     ]
    }
   ],
   "source": [
    "my_string = \"Test\"\n",
    "print(my_string.isupper()) "
   ]
  },
  {
   "cell_type": "code",
   "execution_count": 27,
   "id": "3036d9cf",
   "metadata": {},
   "outputs": [
    {
     "name": "stdout",
     "output_type": "stream",
     "text": [
      "True\n"
     ]
    }
   ],
   "source": [
    "my_string = \"TEST12345\"\n",
    "print(my_string.isupper()) \n",
    "# SOLO ANALIZA LAS LETRAS"
   ]
  },
  {
   "cell_type": "markdown",
   "id": "7819eaa9",
   "metadata": {},
   "source": [
    "<h2>islower</h2>\n",
    " <ul>\n",
    "    <li>Analiza si TODAS LAS LETRAS son minusculas.</li>\n",
    " <ul>"
   ]
  },
  {
   "cell_type": "code",
   "execution_count": 28,
   "id": "24ba5ce4",
   "metadata": {},
   "outputs": [
    {
     "name": "stdout",
     "output_type": "stream",
     "text": [
      "True\n"
     ]
    }
   ],
   "source": [
    "my_string = \"test\"\n",
    "print(my_string.islower()) "
   ]
  },
  {
   "cell_type": "code",
   "execution_count": 29,
   "id": "0ba0dafe",
   "metadata": {},
   "outputs": [
    {
     "name": "stdout",
     "output_type": "stream",
     "text": [
      "test\n"
     ]
    }
   ],
   "source": [
    "# Checa este acidente: transformó todas las letras a lower <------------------\n",
    "my_string = \"TEST\"\n",
    "print(my_string.lower()) "
   ]
  },
  {
   "cell_type": "code",
   "execution_count": 30,
   "id": "6da9cb64",
   "metadata": {},
   "outputs": [
    {
     "name": "stdout",
     "output_type": "stream",
     "text": [
      "TEST\n"
     ]
    }
   ],
   "source": [
    "# Checa este acidente: transformó todas las letras a upper <------------------\n",
    "my_string = \"TesT\"\n",
    "print(my_string.upper()) "
   ]
  },
  {
   "cell_type": "code",
   "execution_count": 31,
   "id": "59da39f9",
   "metadata": {},
   "outputs": [
    {
     "name": "stdout",
     "output_type": "stream",
     "text": [
      "False\n"
     ]
    }
   ],
   "source": [
    "my_string = \"TEST\"\n",
    "print(my_string.islower()) "
   ]
  },
  {
   "cell_type": "code",
   "execution_count": 32,
   "id": "287a7f6f",
   "metadata": {},
   "outputs": [
    {
     "name": "stdout",
     "output_type": "stream",
     "text": [
      "False\n"
     ]
    }
   ],
   "source": [
    "my_string = \"Test\"\n",
    "print(my_string.islower()) "
   ]
  },
  {
   "cell_type": "code",
   "execution_count": 33,
   "id": "28762eff",
   "metadata": {},
   "outputs": [
    {
     "name": "stdout",
     "output_type": "stream",
     "text": [
      "True\n"
     ]
    }
   ],
   "source": [
    "my_string = \"test12345\"\n",
    "print(my_string.islower()) "
   ]
  },
  {
   "cell_type": "markdown",
   "id": "86f82da8",
   "metadata": {},
   "source": [
    "<h2>Join</h2>\n",
    " <ul>\n",
    "    <li>Crea una cadena de una lista, el separador especificado</li>\n",
    " <ul>"
   ]
  },
  {
   "cell_type": "code",
   "execution_count": 3,
   "id": "80f94411",
   "metadata": {},
   "outputs": [
    {
     "name": "stdout",
     "output_type": "stream",
     "text": [
      "132|22|389|500\n"
     ]
    }
   ],
   "source": [
    "num_list = [\"132\", \"22\", \"389\", \"500\"] # Es una lista 'list'\n",
    "separador = \"|\" # \"pipe\"\n",
    "print(separador.join(num_list)) \n",
    " ##  Pone el separador '|' en medio de los elementos de la lista "
   ]
  },
  {
   "cell_type": "code",
   "execution_count": 4,
   "id": "df99905a",
   "metadata": {},
   "outputs": [
    {
     "name": "stdout",
     "output_type": "stream",
     "text": [
      "132-22-389-500\n"
     ]
    }
   ],
   "source": [
    "num_list = [\"132\", \"22\", \"389\", \"500\"] # Es una lista 'list'\n",
    "separador = \"-\" # \"pipe\"\n",
    "print(separador.join(num_list)) \n",
    " ##  Pone el separador '|' en medio de los elementos de la lista "
   ]
  },
  {
   "cell_type": "code",
   "execution_count": 5,
   "id": "540d1240",
   "metadata": {},
   "outputs": [
    {
     "name": "stdout",
     "output_type": "stream",
     "text": [
      "132,22,389,500\n"
     ]
    }
   ],
   "source": [
    "num_list = [\"132\", \"22\", \"389\", \"500\"] # Es una lista 'list'\n",
    "separador = \",\" # \"pipe\"\n",
    "print(separador.join(num_list)) \n",
    " ##  Pone el separador '|' en medio de los elementos de la lista "
   ]
  },
  {
   "cell_type": "markdown",
   "id": "28c4a664",
   "metadata": {},
   "source": [
    "<h2>capitalize</h2>\n",
    " <ul>\n",
    "    <li>Hace mayúscula solo la primera letra de la primer palabra\n",
    "    </li>\n",
    " <ul>"
   ]
  },
  {
   "cell_type": "code",
   "execution_count": 15,
   "id": "5b19318e",
   "metadata": {},
   "outputs": [
    {
     "name": "stdout",
     "output_type": "stream",
     "text": [
      "Backend python\n"
     ]
    }
   ],
   "source": [
    "my_string = \"backend python\"\n",
    "print(my_string.capitalize()) "
   ]
  },
  {
   "cell_type": "code",
   "execution_count": 16,
   "id": "c82473f7",
   "metadata": {},
   "outputs": [
    {
     "name": "stdout",
     "output_type": "stream",
     "text": [
      "Probando la misma funcion con las palabras\n"
     ]
    }
   ],
   "source": [
    "my_string = \"probando la misma funcion con las palabras\"\n",
    "print(my_string.capitalize()) "
   ]
  },
  {
   "cell_type": "markdown",
   "id": "122d9d9d",
   "metadata": {},
   "source": [
    "<h2>format</h2>\n",
    " <ol>\n",
    "     <li>Uno. Nos ayuda a configurar valores dentro de una cadena que es nuestro molde\n",
    "     </li>\n",
    "        <ol>\n",
    "            <li> La estructura es poner '{}' y \"depués el resto de la cadena\"\n",
    "            </li>\n",
    "            <li> Después, en el print() pones en 'my_string.format(\"aqui va la cadena (que es un número)\")'\n",
    "            </li>\n",
    "            <li> python interpreta que la cadena que va dentro del parentesis anterior es lo que \"sustituirá\" \n",
    "                <B><FONT COLOR=\"red\">a las llaves \"{ }\" </FONT>\n",
    "        </ol>\n",
    "    <li> Dos. el formato (las llaves) <FONT SIZE=6 COLOR=\"red\">{ }</FONT> pueden ir varias veces en la cadena\n",
    "        <ol>\n",
    "            <li> Si este es el caso , <FONT SIZE=3 COLOR=\"blue\"> en el print() </FONT> iran dos cadenas separadas por una coma\n",
    "                <FONT SIZE=3 COLOR=\"black\"> : <br> </FONT>\n",
    "                <FONT SIZE=3 COLOR=\"blue\"> print( \"...\"<FONT SIZE=6 COLOR=\"red\"> , </FONT>\"...\" ) </FONT>\n",
    "            </li>\n",
    "        </ol>\n",
    "    </li>\n",
    "    <li> Tres. Te puedo cambiar el orden de la introducción de datos en la cadena:\n",
    "        <ol>\n",
    "            <li> Si este es el caso, en el formato indicare el orden de los indices de la cadena\n",
    "            </li>\n",
    "            <li> Y <FONT SIZE=2 COLOR=\"blue\"> NO VARÍO </FONT> las entradas de los datos, el indice hará su trabajo y los ordenará\n",
    "            </li>\n",
    "        </ol>\n",
    "     </li>\n",
    "</ol>"
   ]
  },
  {
   "cell_type": "code",
   "execution_count": 17,
   "id": "d5bb49d9",
   "metadata": {},
   "outputs": [
    {
     "name": "stdout",
     "output_type": "stream",
     "text": [
      "44 es el valor\n",
      "23 es el valor\n",
      "07 es el valor\n"
     ]
    }
   ],
   "source": [
    "my_string = \"{} es el valor\"\n",
    "print(my_string.format(\"44\")) \n",
    "print(my_string.format(\"23\")) \n",
    "print(my_string.format(\"07\")) "
   ]
  },
  {
   "cell_type": "markdown",
   "id": "1445dc1b",
   "metadata": {},
   "source": [
    "<h2>format</h2>\n",
    " <ol>\n",
    "     <li>Uno. Nos ayuda a configurar ...\n",
    "     </li>\n",
    "        <ol>\n",
    "            <li>...\n",
    "            </li>\n",
    "            <li>...\n",
    "            </li>\n",
    "            <li>...\n",
    "            </li>\n",
    "        </ol>\n",
    "     <li> Dos. el formato (los corchetes) <FONT SIZE=6 COLOR=\"red\">{ }</FONT> pueden ir varias veces en la cadena\n",
    "        <ol>\n",
    "            <li> Si este es el caso , <FONT SIZE=3 COLOR=\"blue\"> en el print() </FONT> iran dos cadenas separadas por una coma\n",
    "                <FONT SIZE=3 COLOR=\"black\"> : <br> </FONT>\n",
    "                <FONT SIZE=3 COLOR=\"blue\"> print( \"...\"<FONT SIZE=6 COLOR=\"red\"> , </FONT>\"...\" ) </FONT>\n",
    "            </li>\n",
    "        </ol>\n",
    "     </li>\n",
    "</ol>"
   ]
  },
  {
   "cell_type": "code",
   "execution_count": 20,
   "id": "0974abec",
   "metadata": {},
   "outputs": [
    {
     "name": "stdout",
     "output_type": "stream",
     "text": [
      "año de nacimiento: 1977; hora: 16:00 hrs.\n",
      "año de nacimiento: 2000; hora: 13:00 hrs.\n",
      "año de nacimiento: 2023; hora: 16:13 hrs.\n"
     ]
    }
   ],
   "source": [
    "my_string = \"año de nacimiento: {}; hora: {} hrs.\"\n",
    "print(my_string.format(\"1977\",\"16:00\")) \n",
    "print(my_string.format(\"2000\",\"13:00\")) \n",
    "print(my_string.format(\"2023\",\"16:13\")) "
   ]
  },
  {
   "cell_type": "markdown",
   "id": "4daead4e",
   "metadata": {},
   "source": [
    "<h2>format</h2>\n",
    " <ol>\n",
    "     <li>Uno. Nos ayuda a configurar ...\n",
    "     </li>\n",
    "        <ol>\n",
    "            <li>...\n",
    "            </li>\n",
    "            <li>...\n",
    "            </li>\n",
    "            <li>...\n",
    "            </li>\n",
    "        </ol>\n",
    "     <li> Dos. el formato (las llaves) <FONT SIZE=6 COLOR=\"red\">{ }</FONT> pueden ir varias veces en la cadena\n",
    "        <ol>\n",
    "            <li> Si este es el caso , <FONT SIZE=3 COLOR=\"blue\"> en el print() </FONT> iran dos cadenas separadas por una coma\n",
    "                <FONT SIZE=3 COLOR=\"black\"> : <br> </FONT>\n",
    "                <FONT SIZE=3 COLOR=\"blue\"> print( \"...\"<FONT SIZE=6 COLOR=\"red\"> , </FONT>\"...\" ) </FONT>\n",
    "            </li>\n",
    "        </ol>\n",
    "     </li>\n",
    "     <li> Tres. Te puedo cambiar el orden de la introducción de datos en la cadena:\n",
    "        <ol>\n",
    "            <li> Si este es el caso, en el formato indicare el orden de los indices de la cadena\n",
    "            </li>\n",
    "            <li> Y <FONT SIZE=2 COLOR=\"blue\"> NO VARÍO </FONT> las entradas de los datos, el indice hará su trabajo y los ordenará\n",
    "            </li>\n",
    "        </ol>\n",
    "     </li>\n",
    "</ol>"
   ]
  },
  {
   "cell_type": "code",
   "execution_count": 27,
   "id": "7c8cad2f",
   "metadata": {},
   "outputs": [
    {
     "name": "stdout",
     "output_type": "stream",
     "text": [
      "hora: 16:00 hrs.; año de nacimiento: 1977\n",
      "hora: 13:00 hrs.; año de nacimiento: 2000\n",
      "hora: 16:13 hrs.; año de nacimiento: 2023\n"
     ]
    }
   ],
   "source": [
    "my_string = \"hora: {1} hrs.; año de nacimiento: {0}\"\n",
    "# Aqui no vario el cÓdigo del ejemplo anterior, FIJATE COMO EL INDICE INDICA DONDE VA EL DATO SEGÚN EL FORMATO\n",
    "print(my_string.format(\"1977\",\"16:00\")) \n",
    "print(my_string.format(\"2000\",\"13:00\")) \n",
    "print(my_string.format(\"2023\",\"16:13\")) "
   ]
  },
  {
   "cell_type": "markdown",
   "id": "6bbdabd0",
   "metadata": {},
   "source": [
    "<h2>center</h2>\n",
    " <ul>\n",
    "    <li> Centra el texto dada cierta longitud\n",
    "    </li>\n",
    " <ul>"
   ]
  },
  {
   "cell_type": "code",
   "execution_count": 32,
   "id": "29e11653",
   "metadata": {},
   "outputs": [
    {
     "name": "stdout",
     "output_type": "stream",
     "text": [
      "[Probando funciones]\n",
      "[ Probando funciones ]\n",
      "[      Probando funciones      ]\n",
      "[           Probando funciones           ]\n",
      "[                Probando funciones                ]\n"
     ]
    }
   ],
   "source": [
    "my_string = \"Probando funciones\"\n",
    "print(\"[{}]\".format(my_string.center(10)))\n",
    "print(\"[{}]\".format(my_string.center(20)))\n",
    "print(\"[{}]\".format(my_string.center(30)))\n",
    "print(\"[{}]\".format(my_string.center(40)))\n",
    "print(\"[{}]\".format(my_string.center(50))) # hay 50 caracteres y centra la cadena entre corchetes según el formato."
   ]
  },
  {
   "cell_type": "markdown",
   "id": "eb543fe6",
   "metadata": {},
   "source": [
    "<h2>endswith</h2>\n",
    " <ul>\n",
    "    <li> Evalúa si la cadena termina con el carácter, palabra, o subcadena solicitada\n",
    "    </li>\n",
    " <ul>"
   ]
  },
  {
   "cell_type": "code",
   "execution_count": 33,
   "id": "4e287817",
   "metadata": {},
   "outputs": [
    {
     "name": "stdout",
     "output_type": "stream",
     "text": [
      "True\n"
     ]
    }
   ],
   "source": [
    "my_string = \"Probando funciones\"\n",
    "print(my_string.endswith(\"s\"))"
   ]
  },
  {
   "cell_type": "code",
   "execution_count": 34,
   "id": "1e8931e6",
   "metadata": {},
   "outputs": [
    {
     "name": "stdout",
     "output_type": "stream",
     "text": [
      "True\n"
     ]
    }
   ],
   "source": [
    "my_string = \"Probando funciones\"\n",
    "print(my_string.endswith(\"funciones\"))"
   ]
  },
  {
   "cell_type": "code",
   "execution_count": 35,
   "id": "97270bab",
   "metadata": {},
   "outputs": [
    {
     "name": "stdout",
     "output_type": "stream",
     "text": [
      "True\n"
     ]
    }
   ],
   "source": [
    "my_string = \"Probando funciones\"\n",
    "print(my_string.endswith(\"ando funciones\"))"
   ]
  },
  {
   "cell_type": "code",
   "execution_count": 36,
   "id": "c0922107",
   "metadata": {},
   "outputs": [
    {
     "name": "stdout",
     "output_type": "stream",
     "text": [
      "False\n"
     ]
    }
   ],
   "source": [
    "my_string = \"Probando funciones\"\n",
    "print(my_string.endswith(\"Probando\"))"
   ]
  },
  {
   "cell_type": "markdown",
   "id": "56618d70",
   "metadata": {},
   "source": [
    "<h2>swapcase</h2>\n",
    " <ul>\n",
    "    <li> Invierte mayúsculas y minúsculas.\n",
    "    </li>\n",
    " <ul>"
   ]
  },
  {
   "cell_type": "code",
   "execution_count": 37,
   "id": "85953a29",
   "metadata": {},
   "outputs": [
    {
     "name": "stdout",
     "output_type": "stream",
     "text": [
      "pROBANDO FUNCIONES\n"
     ]
    }
   ],
   "source": [
    "my_string = \"Probando funciones\"\n",
    "print(my_string.swapcase())"
   ]
  },
  {
   "cell_type": "code",
   "execution_count": 39,
   "id": "a11f416e",
   "metadata": {},
   "outputs": [
    {
     "name": "stdout",
     "output_type": "stream",
     "text": [
      "probando FUNCIONES\n"
     ]
    }
   ],
   "source": [
    "my_string = \"PROBANDO funciones\"\n",
    "print(my_string.swapcase())"
   ]
  },
  {
   "cell_type": "code",
   "execution_count": 41,
   "id": "ad76cffd",
   "metadata": {},
   "outputs": [
    {
     "name": "stdout",
     "output_type": "stream",
     "text": [
      "pROBANDO fUNCIONES\n"
     ]
    }
   ],
   "source": [
    "my_string = \"Probando Funciones\"\n",
    "print(my_string.swapcase())"
   ]
  },
  {
   "cell_type": "markdown",
   "id": "823f277d",
   "metadata": {},
   "source": [
    "<h2>replace</h2>\n",
    " <ul>\n",
    "    <li> Reemplaza una subcadena por otra subcadena dentro de una cadena.\n",
    "    </li>\n",
    " <ul>"
   ]
  },
  {
   "cell_type": "code",
   "execution_count": 44,
   "id": "f11e44e6",
   "metadata": {},
   "outputs": [
    {
     "name": "stdout",
     "output_type": "stream",
     "text": [
      "Usando Funciones\n"
     ]
    }
   ],
   "source": [
    "my_string = \"Probando Funciones\"\n",
    "print(my_string.replace(\"Probando\", \"Usando\"))"
   ]
  },
  {
   "cell_type": "code",
   "execution_count": 45,
   "id": "0316ebd0",
   "metadata": {},
   "outputs": [
    {
     "name": "stdout",
     "output_type": "stream",
     "text": [
      "Probando\n",
      "Funciones\n"
     ]
    }
   ],
   "source": [
    "my_string = \"Probando Funciones\"\n",
    "print(my_string.replace(\" \", \"\\n\"))"
   ]
  },
  {
   "cell_type": "code",
   "execution_count": 46,
   "id": "080af845",
   "metadata": {},
   "outputs": [
    {
     "name": "stdout",
     "output_type": "stream",
     "text": [
      "PrObandO FunciOnes\n"
     ]
    }
   ],
   "source": [
    "my_string = \"Probando Funciones\"\n",
    "print(my_string.replace(\"o\", \"O\"))"
   ]
  },
  {
   "cell_type": "code",
   "execution_count": 47,
   "id": "7d47945b",
   "metadata": {},
   "outputs": [
    {
     "name": "stdout",
     "output_type": "stream",
     "text": [
      "Probando Funciones\n"
     ]
    }
   ],
   "source": [
    "my_string = \"Probando Funciones\"\n",
    "print(my_string.replace(\"y\", \"O\")) # Si no existe la deja intacta"
   ]
  },
  {
   "cell_type": "code",
   "execution_count": null,
   "id": "edd5adf2",
   "metadata": {},
   "outputs": [],
   "source": []
  }
 ],
 "metadata": {
  "kernelspec": {
   "display_name": "Python 3 (ipykernel)",
   "language": "python",
   "name": "python3"
  },
  "language_info": {
   "codemirror_mode": {
    "name": "ipython",
    "version": 3
   },
   "file_extension": ".py",
   "mimetype": "text/x-python",
   "name": "python",
   "nbconvert_exporter": "python",
   "pygments_lexer": "ipython3",
   "version": "3.9.12"
  }
 },
 "nbformat": 4,
 "nbformat_minor": 5
}

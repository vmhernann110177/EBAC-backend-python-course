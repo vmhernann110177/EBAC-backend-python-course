{
 "cells": [
  {
   "cell_type": "markdown",
   "id": "35d54936",
   "metadata": {},
   "source": [
    "# Indexacion de Cadenas"
   ]
  },
  {
   "cell_type": "markdown",
   "id": "a7cd3f7c",
   "metadata": {},
   "source": [
    "- Que es un Indice?\n",
    "- ¡Por qué es necesario?\n",
    "\n",
    "- Indexacion significa acceder a los elementos \n",
    "- Para acceder a los elementos podemos usar corchetes \".[.].\"\n",
    "- El inidice por numero quue pongos entre los corchetes se refiere a la posicion dentro de la lista ordenada\n",
    "- La indexación puede usarse para extraer elementos individules de una estructura de datos\n",
    "- En Python toda la indexacion parte o comienza desde el numeor 0 como primera posicion\n",
    "\n",
    "- En Python . tenemos dos timpo de índices:\n",
    "    - 1. Positivos: comienzqn desde 0; estos indices buscan de izquierda a derecha la posicion solicitada\n",
    "    - 2. Negativos: comienzan desde -1; esto indices buscan de de derecha a izquierda la posicion solicitada"
   ]
  },
  {
   "cell_type": "markdown",
   "id": "31516984",
   "metadata": {},
   "source": [
    "# Segmentación de cadenas\n",
    "- Indices positivos"
   ]
  },
  {
   "cell_type": "code",
   "execution_count": 3,
   "id": "02ac0d31",
   "metadata": {},
   "outputs": [
    {
     "name": "stdout",
     "output_type": "stream",
     "text": [
      "Curso de Backend Python , type: <class 'str'>\n",
      "C\n",
      "Curso\n",
      "Curso\n",
      "Curso de Backend Python\n",
      "de Ba\n"
     ]
    }
   ],
   "source": [
    "# indices positivos\n",
    "my_string = \"Curso de Backend Python\"\n",
    "print(my_string, \", type:\", type(my_string))\n",
    "print(my_string[0])     # 0              : \"C\"\n",
    "print(my_string[0:5])   # 0,1,2,3,4      : \"Curso\"\n",
    "print(my_string[:5])    # 0,1,2,3,4      : \"Curso\"\n",
    "print(my_string[:])     # 0,1,2,3,4      : \"Curso de Backend Python\"\n",
    "print(my_string[6:11])  # 6,7,8,9,10     : \"de Ba\""
   ]
  },
  {
   "cell_type": "code",
   "execution_count": 4,
   "id": "2cf0aefd",
   "metadata": {},
   "outputs": [
    {
     "ename": "IndexError",
     "evalue": "string index out of range",
     "output_type": "error",
     "traceback": [
      "\u001b[1;31m---------------------------------------------------------------------------\u001b[0m",
      "\u001b[1;31mIndexError\u001b[0m                                Traceback (most recent call last)",
      "Cell \u001b[1;32mIn[4], line 3\u001b[0m\n\u001b[0;32m      1\u001b[0m \u001b[38;5;66;03m# error\u001b[39;00m\n\u001b[0;32m      2\u001b[0m my_string \u001b[38;5;241m=\u001b[39m \u001b[38;5;124m\"\u001b[39m\u001b[38;5;124mCurso de Backend Python\u001b[39m\u001b[38;5;124m\"\u001b[39m\n\u001b[1;32m----> 3\u001b[0m \u001b[38;5;28mprint\u001b[39m(\u001b[43mmy_string\u001b[49m\u001b[43m[\u001b[49m\u001b[38;5;241;43m9999\u001b[39;49m\u001b[43m]\u001b[49m)\n",
      "\u001b[1;31mIndexError\u001b[0m: string index out of range"
     ]
    }
   ],
   "source": [
    "# error\n",
    "my_string = \"Curso de Backend Python\"\n",
    "print(my_string[9999])     # 9999        : \"¡¿?!\""
   ]
  },
  {
   "cell_type": "markdown",
   "id": "a26aec0c",
   "metadata": {},
   "source": [
    "# Segmentación de cadenas\n",
    "- Indices negativos"
   ]
  },
  {
   "cell_type": "code",
   "execution_count": 3,
   "id": "d54f63c5",
   "metadata": {},
   "outputs": [
    {
     "data": {
      "text/plain": [
       "23"
      ]
     },
     "execution_count": 3,
     "metadata": {},
     "output_type": "execute_result"
    }
   ],
   "source": [
    "my_string = \"Curso de Backend Python\"\n",
    "len(my_string)"
   ]
  },
  {
   "cell_type": "code",
   "execution_count": 5,
   "id": "4a719077",
   "metadata": {},
   "outputs": [
    {
     "name": "stdout",
     "output_type": "stream",
     "text": [
      "Curso de Backend Python , type: <class 'str'>\n",
      "n\n"
     ]
    }
   ],
   "source": [
    "# indices negativos\n",
    "my_string = \"Curso de Backend Python\"\n",
    "print(my_string, \", type:\", type(my_string))\n",
    "print(my_string[len(my_string)-1]) #:      \"n\""
   ]
  },
  {
   "cell_type": "code",
   "execution_count": 6,
   "id": "eac891f5",
   "metadata": {},
   "outputs": [
    {
     "name": "stdout",
     "output_type": "stream",
     "text": [
      "n\n"
     ]
    }
   ],
   "source": [
    "print(my_string[-1]) "
   ]
  },
  {
   "cell_type": "code",
   "execution_count": 7,
   "id": "fbded18e",
   "metadata": {},
   "outputs": [
    {
     "name": "stdout",
     "output_type": "stream",
     "text": [
      "Python\n"
     ]
    }
   ],
   "source": [
    "print(my_string[-6:]) #:  los ultimos 6 caracteres \"Python\""
   ]
  },
  {
   "cell_type": "markdown",
   "id": "8ef547ba",
   "metadata": {},
   "source": [
    "# Concatenacion de cadenas"
   ]
  },
  {
   "cell_type": "code",
   "execution_count": 7,
   "id": "a1f91582",
   "metadata": {},
   "outputs": [
    {
     "name": "stdout",
     "output_type": "stream",
     "text": [
      "Curso\n",
      "Backend Python\n",
      "CursoBackend Python\n",
      "Curso Backend Python\n"
     ]
    }
   ],
   "source": [
    "my_string_1 = \"Curso\"\n",
    "my_string_2 = \"Backend Python\"\n",
    "print(my_string_1)\n",
    "print(my_string_2)\n",
    "print(my_string_1 + my_string_2) # No nos gusta\n",
    "print(my_string_1 + \" \" + my_string_2) # Esta mejor pero tampoco nos gusta"
   ]
  },
  {
   "cell_type": "code",
   "execution_count": 8,
   "id": "2194eeda",
   "metadata": {},
   "outputs": [
    {
     "name": "stdout",
     "output_type": "stream",
     "text": [
      "Curso Backend Python\n"
     ]
    }
   ],
   "source": [
    "print(\"{} {}\".format(my_string_1, my_string_2)) # Usando formato, según la Clase"
   ]
  },
  {
   "cell_type": "code",
   "execution_count": 9,
   "id": "585eaf5e",
   "metadata": {},
   "outputs": [
    {
     "name": "stdout",
     "output_type": "stream",
     "text": [
      "Curso de Backend Python\n"
     ]
    }
   ],
   "source": [
    "print(\"{} {} {}\".format(my_string_1, \"de\" ,my_string_2)) # Usando formato, según yo Pon atencion a la parte que está\n",
    "                                                         # antes de .format"
   ]
  },
  {
   "cell_type": "code",
   "execution_count": 10,
   "id": "208fe878",
   "metadata": {},
   "outputs": [
    {
     "name": "stdout",
     "output_type": "stream",
     "text": [
      "1020\n"
     ]
    }
   ],
   "source": [
    "my_string_1 = \"10\"\n",
    "my_string_2 = \"20\"\n",
    "print(my_string_1 + my_string_2) # No nos hace la operacion, hace una concatenacion de cadenas, porque eso le pasamos."
   ]
  },
  {
   "cell_type": "code",
   "execution_count": 11,
   "id": "1a36800e",
   "metadata": {},
   "outputs": [
    {
     "name": "stdout",
     "output_type": "stream",
     "text": [
      "1020\n"
     ]
    }
   ],
   "source": [
    "# usamos eval()\n",
    "my_string_1 = \"10\"\n",
    "my_string_2 = \"20\"\n",
    "print(eval(my_string_1 + my_string_2)) # Tampoco lo hace, porque a eval() le llegan STRNIGS, entonces las concatena."
   ]
  },
  {
   "cell_type": "code",
   "execution_count": 12,
   "id": "e2f79629",
   "metadata": {},
   "outputs": [
    {
     "name": "stdout",
     "output_type": "stream",
     "text": [
      "30\n",
      "30\n"
     ]
    }
   ],
   "source": [
    "# Una opción es la siguente:\n",
    "my_string_1 = \"10\"\n",
    "my_string_2 = \"20\"\n",
    "print(eval(\"{}+{}\".format(my_string_1 , my_string_2))) # si lo hace pero no me gusta del todo aqui a eval() \n",
    "                                                       # le llegan YA los valores enteros con la estructura:   \"{}+{}\"\n",
    "                                                       # Por que eval() actúa por separado en cada cadena {cadena1} {cadena1}\n",
    " # Digamos que algo asi :)\n",
    "print(eval(my_string_1) + eval(my_string_2) ) "
   ]
  },
  {
   "cell_type": "code",
   "execution_count": 13,
   "id": "a799cf05",
   "metadata": {},
   "outputs": [
    {
     "name": "stdout",
     "output_type": "stream",
     "text": [
      "30\n"
     ]
    }
   ],
   "source": [
    "my_string_1 = \"10\"\n",
    "my_string_2 = \"20\"\n",
    "print(int(my_string_1) + int(my_string_2)) # pues más o menos, creo que se puede hacer de otra forma\n",
    "                                           # Aqui se hace una conversión explicita de cadena a int y \n",
    "                                           # y la suma se hace entre números."
   ]
  },
  {
   "cell_type": "code",
   "execution_count": 14,
   "id": "47ff54d6",
   "metadata": {},
   "outputs": [
    {
     "name": "stdout",
     "output_type": "stream",
     "text": [
      "30\n"
     ]
    }
   ],
   "source": [
    "# esta forma hace una conversion implicita y me gusta.\n",
    "print(eval(my_string_1) + eval(my_string_2)) # ...como esta: esta."
   ]
  },
  {
   "cell_type": "code",
   "execution_count": 15,
   "id": "e46524d6",
   "metadata": {},
   "outputs": [],
   "source": [
    "# Creo que lo mejor es hacer conversión explicita como en la linea [13], \n",
    "# es decir: int(my_string_1) + int(my_string_2)"
   ]
  },
  {
   "cell_type": "code",
   "execution_count": 16,
   "id": "86573c72",
   "metadata": {},
   "outputs": [
    {
     "ename": "TypeError",
     "evalue": "unsupported operand type(s) for +: 'int' and 'str'",
     "output_type": "error",
     "traceback": [
      "\u001b[1;31m---------------------------------------------------------------------------\u001b[0m",
      "\u001b[1;31mTypeError\u001b[0m                                 Traceback (most recent call last)",
      "Input \u001b[1;32mIn [16]\u001b[0m, in \u001b[0;36m<cell line: 2>\u001b[1;34m()\u001b[0m\n\u001b[0;32m      1\u001b[0m \u001b[38;5;66;03m# error\u001b[39;00m\n\u001b[1;32m----> 2\u001b[0m \u001b[38;5;241;43m10\u001b[39;49m\u001b[43m \u001b[49m\u001b[38;5;241;43m+\u001b[39;49m\u001b[43m \u001b[49m\u001b[38;5;124;43m\"\u001b[39;49m\u001b[38;5;124;43m20\u001b[39;49m\u001b[38;5;124;43m\"\u001b[39;49m\n",
      "\u001b[1;31mTypeError\u001b[0m: unsupported operand type(s) for +: 'int' and 'str'"
     ]
    }
   ],
   "source": [
    "# error\n",
    "10 + \"20\""
   ]
  },
  {
   "cell_type": "code",
   "execution_count": null,
   "id": "be9823f6",
   "metadata": {},
   "outputs": [],
   "source": []
  }
 ],
 "metadata": {
  "kernelspec": {
   "display_name": "Python 3 (ipykernel)",
   "language": "python",
   "name": "python3"
  },
  "language_info": {
   "codemirror_mode": {
    "name": "ipython",
    "version": 3
   },
   "file_extension": ".py",
   "mimetype": "text/x-python",
   "name": "python",
   "nbconvert_exporter": "python",
   "pygments_lexer": "ipython3",
   "version": "3.9.16"
  }
 },
 "nbformat": 4,
 "nbformat_minor": 5
}

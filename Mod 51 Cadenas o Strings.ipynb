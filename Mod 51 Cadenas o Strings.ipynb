{
 "cells": [
  {
   "cell_type": "markdown",
   "id": "35d54936",
   "metadata": {},
   "source": [
    "# Indexacion de Cadenas"
   ]
  },
  {
   "cell_type": "markdown",
   "id": "a7cd3f7c",
   "metadata": {},
   "source": [
    "- Que es un Indice?\n",
    "- ¡Por qué es necesario?\n",
    "\n",
    "- Indexacion significa acceder a los elementos \n",
    "- Para acceder a los elementos podemos usar corchetes \".[.].\"\n",
    "- El inidice por numero quue pongos entre los corchetes se refiere a la posicion dentro de la lista ordenada\n",
    "- La indexación puede usarse para extraer elementos individules de una estructura de datos\n",
    "- En Python toda la indexacion parte o comienza desde el numeor 0 como primera posicion\n",
    "\n",
    "- En Python . tenemos dos timpo de índices:\n",
    "    - 1. Positivos: comienzqn desde 0; estos indices buscan de izquierda a derecha la posicion solicitada\n",
    "    - 2. Negativos: comienzan desde -1; esto indices buscan de de derecha a izquierda la posicion solicitada"
   ]
  },
  {
   "cell_type": "code",
   "execution_count": null,
   "id": "1e77da81",
   "metadata": {},
   "outputs": [],
   "source": []
  }
 ],
 "metadata": {
  "kernelspec": {
   "display_name": "Python 3 (ipykernel)",
   "language": "python",
   "name": "python3"
  },
  "language_info": {
   "codemirror_mode": {
    "name": "ipython",
    "version": 3
   },
   "file_extension": ".py",
   "mimetype": "text/x-python",
   "name": "python",
   "nbconvert_exporter": "python",
   "pygments_lexer": "ipython3",
   "version": "3.9.12"
  }
 },
 "nbformat": 4,
 "nbformat_minor": 5
}

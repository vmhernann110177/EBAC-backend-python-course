{
 "cells": [
  {
   "cell_type": "markdown",
   "id": "a83be9ab",
   "metadata": {},
   "source": [
    "## 41 Operadores y Tipos de Operadores."
   ]
  },
  {
   "cell_type": "markdown",
   "id": "91ef92f5",
   "metadata": {},
   "source": [
    " ¿Que son lo operadores?\n",
    "- Son un conjunto de símbolos para un lenguaje de programación.\n",
    "- Estos símbolos pueden decirle al compilador o intérprete que ejecute ciertas acciones para producir un resultado final.\n",
    "- Pueden ser usados para aplicar operaciones en variables O valores. \n",
    "- pueden ser clasificados según su tipo (aritméticos, relacionales, de asignación, lógicos, afiliación y de identidad)."
   ]
  },
  {
   "cell_type": "markdown",
   "id": "e3213211",
   "metadata": {},
   "source": [
    "Tipos de operadores: \n",
    "\n",
    "- Aritméticos \n",
    "- Relacionales \n",
    "- Lógicos \n",
    "- De afiliación \n",
    "- De identidad"
   ]
  },
  {
   "cell_type": "code",
   "execution_count": null,
   "id": "2c4974ed",
   "metadata": {},
   "outputs": [],
   "source": []
  }
 ],
 "metadata": {
  "kernelspec": {
   "display_name": "Python 3 (ipykernel)",
   "language": "python",
   "name": "python3"
  },
  "language_info": {
   "codemirror_mode": {
    "name": "ipython",
    "version": 3
   },
   "file_extension": ".py",
   "mimetype": "text/x-python",
   "name": "python",
   "nbconvert_exporter": "python",
   "pygments_lexer": "ipython3",
   "version": "3.9.12"
  }
 },
 "nbformat": 4,
 "nbformat_minor": 5
}

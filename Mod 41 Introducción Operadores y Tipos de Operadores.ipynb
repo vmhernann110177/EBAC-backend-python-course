{
 "cells": [
  {
   "cell_type": "markdown",
   "id": "a83be9ab",
   "metadata": {},
   "source": [
    "## 41 Operadores y Tipos de Operadores."
   ]
  },
  {
   "cell_type": "markdown",
   "id": "91ef92f5",
   "metadata": {},
   "source": [
    " ¿Que son lo operadores?\n",
    "- Son un conjunto de símbolos para un lenguaje de programación.\n",
    "- Estos símbolos pueden decirle al compilador o intérprete que ejecute ciertas acciones para producir un resultado final.\n",
    "- Pueden ser usados para aplicar operaciones en variables O valores. \n",
    "- pueden ser clasificados según su tipo (aritméticos, relacionales, de asignación, lógicos, afiliación y de identidad)."
   ]
  },
  {
   "cell_type": "markdown",
   "id": "e3213211",
   "metadata": {},
   "source": [
    "Tipos de operadores: \n",
    "\n",
    "- Aritméticos \n",
    "- Relacionales \n",
    "- Lógicos \n",
    "- De afiliación \n",
    "- De identidad"
   ]
  },
  {
   "cell_type": "markdown",
   "id": "0a773870",
   "metadata": {},
   "source": [
    "### Operadores aritméticos.\n",
    "- \"+\": Suma\n",
    "- \"-\": Resta\n",
    "- \"*\": Multiplicación\n",
    "- \"/\": División\n",
    "- \"//\": División con redondeo hacia abajo\n",
    "- \"**\": Exponente"
   ]
  },
  {
   "cell_type": "markdown",
   "id": "82ed352b",
   "metadata": {},
   "source": [
    "#### Operadores Aritméticos:"
   ]
  },
  {
   "cell_type": "code",
   "execution_count": 1,
   "id": "573e4253",
   "metadata": {},
   "outputs": [
    {
     "name": "stdout",
     "output_type": "stream",
     "text": [
      "Resultado de: 500 + 300 = 800\n"
     ]
    }
   ],
   "source": [
    "# \"+\": Suma\n",
    "v1 = 500\n",
    "v2 = 300\n",
    "print(\"Resultado de:\", v1, \"+\", v2, \"=\", v1+v2)"
   ]
  },
  {
   "cell_type": "code",
   "execution_count": 2,
   "id": "218c7ae3",
   "metadata": {},
   "outputs": [
    {
     "name": "stdout",
     "output_type": "stream",
     "text": [
      "Resultado de: 200 + 900 = 1100\n"
     ]
    }
   ],
   "source": [
    "# \"+\": Suma\n",
    "v1 = 200\n",
    "v2 = 900\n",
    "print(\"Resultado de:\", v1, \"+\", v2, \"=\", v1+v2)"
   ]
  },
  {
   "cell_type": "code",
   "execution_count": 3,
   "id": "f00cd2f8",
   "metadata": {},
   "outputs": [
    {
     "name": "stdout",
     "output_type": "stream",
     "text": [
      "Resultado de: 500 - 300 = 200\n"
     ]
    }
   ],
   "source": [
    "# \"-\": Resta\n",
    "v1 = 500\n",
    "v2 = 300\n",
    "print(\"Resultado de:\", v1, \"-\", v2, \"=\", v1-v2)"
   ]
  },
  {
   "cell_type": "code",
   "execution_count": 4,
   "id": "5e0d546c",
   "metadata": {},
   "outputs": [
    {
     "name": "stdout",
     "output_type": "stream",
     "text": [
      "Resultado de: 200 - 900 = -700\n"
     ]
    }
   ],
   "source": [
    "# \"-\": Resta\n",
    "v1 = 200\n",
    "v2 = 900\n",
    "print(\"Resultado de:\", v1, \"-\", v2, \"=\", v1-v2)"
   ]
  },
  {
   "cell_type": "code",
   "execution_count": 5,
   "id": "c2235715",
   "metadata": {
    "scrolled": true
   },
   "outputs": [
    {
     "name": "stdout",
     "output_type": "stream",
     "text": [
      "Resultado de: 500 * 300 = 150000\n"
     ]
    }
   ],
   "source": [
    "# \"*\": Multiplicación\n",
    "v1 = 500\n",
    "v2 = 300\n",
    "print(\"Resultado de:\", v1, \"*\", v2, \"=\", v1*v2)"
   ]
  },
  {
   "cell_type": "code",
   "execution_count": 6,
   "id": "9b433e78",
   "metadata": {},
   "outputs": [
    {
     "name": "stdout",
     "output_type": "stream",
     "text": [
      "Resultado de: 200 * 900 = 180000\n"
     ]
    }
   ],
   "source": [
    "# \"*\": Multiplicación\n",
    "v1 = 200\n",
    "v2 = 900\n",
    "print(\"Resultado de:\", v1, \"*\", v2, \"=\", v1*v2)"
   ]
  },
  {
   "cell_type": "code",
   "execution_count": 7,
   "id": "49be924a",
   "metadata": {},
   "outputs": [
    {
     "name": "stdout",
     "output_type": "stream",
     "text": [
      "Resultado de: 500 / 300 = 1.6666666666666667\n"
     ]
    }
   ],
   "source": [
    "# \"/\": División\n",
    "v1 = 500\n",
    "v2 = 300\n",
    "print(\"Resultado de:\", v1, \"/\", v2, \"=\", v1/v2)"
   ]
  },
  {
   "cell_type": "code",
   "execution_count": 8,
   "id": "4b8f00a1",
   "metadata": {},
   "outputs": [
    {
     "name": "stdout",
     "output_type": "stream",
     "text": [
      "Resultado de: 200 / 900 = 0.2222222222222222\n"
     ]
    }
   ],
   "source": [
    "# \"/\": División\n",
    "v1 = 200\n",
    "v2 = 900\n",
    "print(\"Resultado de:\", v1, \"/\", v2, \"=\", v1/v2)"
   ]
  },
  {
   "cell_type": "code",
   "execution_count": 9,
   "id": "a842443d",
   "metadata": {},
   "outputs": [
    {
     "name": "stdout",
     "output_type": "stream",
     "text": [
      "Resultado de: 500 // 300 = 1\n"
     ]
    }
   ],
   "source": [
    "# \"//\": División con redondeo hacia abajo, \n",
    "# \"la parte entera el resultado\" : BUSCA ESTE CONCEPTO\n",
    "v1 = 500\n",
    "v2 = 300\n",
    "print(\"Resultado de:\", v1, \"//\", v2, \"=\", v1//v2)"
   ]
  },
  {
   "cell_type": "code",
   "execution_count": 10,
   "id": "39fce357",
   "metadata": {},
   "outputs": [
    {
     "name": "stdout",
     "output_type": "stream",
     "text": [
      "Resultado de: 200 // 900 = 0\n"
     ]
    }
   ],
   "source": [
    "# \"//\": División con redondeo hacia abajo, \n",
    "# \"la parte entera el resultado\" : BUSCA ESTE CONCEPTO\n",
    "v1 = 200\n",
    "v2 = 900\n",
    "print(\"Resultado de:\", v1, \"//\", v2, \"=\", v1//v2)"
   ]
  },
  {
   "cell_type": "code",
   "execution_count": 11,
   "id": "0beabbc8",
   "metadata": {},
   "outputs": [
    {
     "name": "stdout",
     "output_type": "stream",
     "text": [
      "Resultado de: 2 ** 5 = 32\n"
     ]
    }
   ],
   "source": [
    "# \"**\": Exponente (2*2*2*2*2)\n",
    "v1 = 2\n",
    "v2 = 5\n",
    "print(\"Resultado de:\", v1, \"**\", v2, \"=\", v1**v2)"
   ]
  },
  {
   "cell_type": "code",
   "execution_count": 12,
   "id": "266a1700",
   "metadata": {},
   "outputs": [
    {
     "name": "stdout",
     "output_type": "stream",
     "text": [
      "Resultado de: 3 ** 3 = 27\n"
     ]
    }
   ],
   "source": [
    "# \"**\": Exponente (3*3*3)\n",
    "v1 = 3\n",
    "v2 = 3\n",
    "print(\"Resultado de:\", v1, \"**\", v2, \"=\", v1**v2)"
   ]
  },
  {
   "cell_type": "markdown",
   "id": "9f5f0aab",
   "metadata": {},
   "source": [
    "#### Operadores Relacionales: (17:49)"
   ]
  },
  {
   "cell_type": "markdown",
   "id": "3b6c02dc",
   "metadata": {},
   "source": [
    "¿Que son los operadores relacionales?\n",
    "- Son conocidos como Operadores de comparacion.\n",
    "- Regresan un valor booleano (verdadero o falso)\n",
    "- En python usados para comparar o relacionar los valores \n",
    "- verdadero/True , es el resultado cuando la condición es exitosa \n",
    "- falso/False es el resultado cuando la condición no se cumple \n",
    "- estos operadores se encargan de las operaciones de comparación\n"
   ]
  },
  {
   "cell_type": "markdown",
   "id": "bb5b2048",
   "metadata": {},
   "source": [
    "Tipos de operadores reñlacionales\n",
    "- \"==\": igual a\n",
    "- \"!=\": diferente a\n",
    "- \">\": mayor que\n",
    "- \">=\": mayor o igual que\n",
    "- \"<\": menor que\n",
    "- \"<=\": menor o igual que"
   ]
  },
  {
   "cell_type": "markdown",
   "id": "b0a991a8",
   "metadata": {},
   "source": [
    "#### \"==\": igual a"
   ]
  },
  {
   "cell_type": "code",
   "execution_count": 13,
   "id": "4e1664a7",
   "metadata": {},
   "outputs": [
    {
     "name": "stdout",
     "output_type": "stream",
     "text": [
      "Resultado de la comparación: 570 == 420 es: False\n"
     ]
    }
   ],
   "source": [
    "# \"==\": igual a \"False\"\n",
    "v1 = 570  # asignaión\n",
    "v2 = 420  # asignaión\n",
    "print(\"Resultado de la comparación:\", v1, \"==\", v2, \"es:\", v1==v2)"
   ]
  },
  {
   "cell_type": "code",
   "execution_count": 14,
   "id": "fde78fd2",
   "metadata": {},
   "outputs": [
    {
     "name": "stdout",
     "output_type": "stream",
     "text": [
      "Resultado de la comparación: 570 == 570 es: True\n"
     ]
    }
   ],
   "source": [
    "# \"==\": igual a \"True\"\n",
    "v1 = 570  # asignaión\n",
    "v2 = 570  # asignaión\n",
    "print(\"Resultado de la comparación:\", v1, \"==\", v2, \"es:\", v1==v2)"
   ]
  },
  {
   "cell_type": "code",
   "execution_count": 15,
   "id": "78aad212",
   "metadata": {},
   "outputs": [
    {
     "name": "stdout",
     "output_type": "stream",
     "text": [
      "Resultado de la comparación: Backend Python == Backend Python es: True\n"
     ]
    }
   ],
   "source": [
    "# strings o cadenas\n",
    "str_1= \"Backend Python\" # asignación\n",
    "str_2= \"Backend Python\" # asignación\n",
    "print(\"Resultado de la comparación:\", str_1, \"==\", str_2, \"es:\", str_1==str_2)"
   ]
  },
  {
   "cell_type": "code",
   "execution_count": 16,
   "id": "9a9306d1",
   "metadata": {},
   "outputs": [
    {
     "name": "stdout",
     "output_type": "stream",
     "text": [
      "Resultado de la comparación: Backend Python == Backend PythoN es: False\n"
     ]
    }
   ],
   "source": [
    "# strings o cadenas, sensibilidad a Upercase-Lowercase\n",
    "str_1= \"Backend Python\" # asignación\n",
    "str_2= \"Backend PythoN\" # asignación\n",
    "print(\"Resultado de la comparación:\", str_1, \"==\", str_2, \"es:\", str_1==str_2)"
   ]
  },
  {
   "cell_type": "markdown",
   "id": "5f391f23",
   "metadata": {},
   "source": [
    "#### \"!=\": diferente a"
   ]
  },
  {
   "cell_type": "code",
   "execution_count": 17,
   "id": "951b4baa",
   "metadata": {},
   "outputs": [
    {
     "name": "stdout",
     "output_type": "stream",
     "text": [
      "Resultado de la comparación: 570 != 420 es: True\n"
     ]
    }
   ],
   "source": [
    "# \"!=\": Diferente a \n",
    "v1 = 570  # asignaión\n",
    "v2 = 420  # asignaión\n",
    "print(\"Resultado de la comparación:\", v1, \"!=\", v2, \"es:\", v1!=v2)"
   ]
  },
  {
   "cell_type": "code",
   "execution_count": 18,
   "id": "8ca1b404",
   "metadata": {},
   "outputs": [
    {
     "name": "stdout",
     "output_type": "stream",
     "text": [
      "Resultado de la comparación: 570 != 570 es: False\n"
     ]
    }
   ],
   "source": [
    "# \"!=\": Diferente a \n",
    "v1 = 570  # asignaión\n",
    "v2 = 570  # asignaión\n",
    "print(\"Resultado de la comparación:\", v1, \"!=\", v2, \"es:\", v1!=v2)"
   ]
  },
  {
   "cell_type": "code",
   "execution_count": 19,
   "id": "6fbc7801",
   "metadata": {},
   "outputs": [
    {
     "name": "stdout",
     "output_type": "stream",
     "text": [
      "Resultado de la comparación: Backend Python != Backend Python es: False\n"
     ]
    }
   ],
   "source": [
    "# strings o cadenas \"No son diferentes\"\n",
    "str_1= \"Backend Python\" # asignación\n",
    "str_2= \"Backend Python\" # asignación\n",
    "print(\"Resultado de la comparación:\", str_1, \"!=\", str_2, \"es:\", str_1!=str_2)"
   ]
  },
  {
   "cell_type": "code",
   "execution_count": 20,
   "id": "84c4a7af",
   "metadata": {},
   "outputs": [
    {
     "name": "stdout",
     "output_type": "stream",
     "text": [
      "Resultado de la comparación: Backend Python != Backend PythoN es: True\n"
     ]
    }
   ],
   "source": [
    "# strings o cadenas \"Si son diferentes\"\n",
    "str_1= \"Backend Python\" # asignación\n",
    "str_2= \"Backend PythoN\" # asignación\n",
    "print(\"Resultado de la comparación:\", str_1, \"!=\", str_2, \"es:\", str_1!=str_2)"
   ]
  },
  {
   "cell_type": "markdown",
   "id": "3a6347f4",
   "metadata": {},
   "source": [
    "#### \">\": mayor que"
   ]
  },
  {
   "cell_type": "code",
   "execution_count": 21,
   "id": "3ca8e020",
   "metadata": {},
   "outputs": [
    {
     "name": "stdout",
     "output_type": "stream",
     "text": [
      "Resultado de la comparación: 570 > 420 es: True\n"
     ]
    }
   ],
   "source": [
    "# \">\": mayor que\n",
    "v1 = 570  # asignaión\n",
    "v2 = 420  # asignaión\n",
    "print(\"Resultado de la comparación:\", v1, \">\", v2, \"es:\", v1>v2)"
   ]
  },
  {
   "cell_type": "code",
   "execution_count": 22,
   "id": "640b40ac",
   "metadata": {},
   "outputs": [
    {
     "name": "stdout",
     "output_type": "stream",
     "text": [
      "Resultado de la comparación: 570 > 570 es: False\n"
     ]
    }
   ],
   "source": [
    "# \">\": mayor que\n",
    "v1 = 570  # asignaión\n",
    "v2 = 570  # asignaión\n",
    "print(\"Resultado de la comparación:\", v1, \">\", v2, \"es:\", v1>v2)"
   ]
  },
  {
   "cell_type": "code",
   "execution_count": 23,
   "id": "2cb1cb7b",
   "metadata": {},
   "outputs": [
    {
     "name": "stdout",
     "output_type": "stream",
     "text": [
      "Resultado de la comparación: 570 > 890 es: False\n"
     ]
    }
   ],
   "source": [
    "# \">\": mayor que\n",
    "v1 = 570  # asignaión\n",
    "v2 = 890  # asignaión\n",
    "print(\"Resultado de la comparación:\", v1, \">\", v2, \"es:\", v1>v2)"
   ]
  },
  {
   "cell_type": "markdown",
   "id": "16a125bf",
   "metadata": {},
   "source": [
    "####  \">=\": mayor o igual que"
   ]
  },
  {
   "cell_type": "code",
   "execution_count": 24,
   "id": "9cdd611b",
   "metadata": {},
   "outputs": [
    {
     "name": "stdout",
     "output_type": "stream",
     "text": [
      "Resultado de la comparación: 570 >= 420 es: True\n"
     ]
    }
   ],
   "source": [
    "# \">\": mayor o igual que\n",
    "v1 = 570  # asignaión\n",
    "v2 = 420  # asignaión\n",
    "print(\"Resultado de la comparación:\", v1, \">=\", v2, \"es:\", v1>=v2)"
   ]
  },
  {
   "cell_type": "code",
   "execution_count": 25,
   "id": "f509cba3",
   "metadata": {},
   "outputs": [
    {
     "name": "stdout",
     "output_type": "stream",
     "text": [
      "Resultado de la comparación: 570 > 570 es: True\n"
     ]
    }
   ],
   "source": [
    "# \">\": mayor o igual que\n",
    "v1 = 570  # asignaión\n",
    "v2 = 570  # asignaión\n",
    "print(\"Resultado de la comparación:\", v1, \">\", v2, \"es:\", v1>=v2)"
   ]
  },
  {
   "cell_type": "code",
   "execution_count": 26,
   "id": "6cf57c52",
   "metadata": {},
   "outputs": [
    {
     "name": "stdout",
     "output_type": "stream",
     "text": [
      "Resultado de la comparación: 570 >= 890 es: False\n"
     ]
    }
   ],
   "source": [
    "# \">\": mayor o igual que\n",
    "v1 = 570  # asignaión\n",
    "v2 = 890  # asignaión\n",
    "print(\"Resultado de la comparación:\", v1, \">=\", v2, \"es:\", v1>=v2)"
   ]
  },
  {
   "cell_type": "markdown",
   "id": "7891f3e6",
   "metadata": {},
   "source": [
    "#### \"<\": menor que"
   ]
  },
  {
   "cell_type": "code",
   "execution_count": 27,
   "id": "10dadf4e",
   "metadata": {},
   "outputs": [
    {
     "name": "stdout",
     "output_type": "stream",
     "text": [
      "Resultado de la comparación: 570 < 420 es: False\n"
     ]
    }
   ],
   "source": [
    "# \"<\": menor que\n",
    "v1 = 570  # asignaión\n",
    "v2 = 420  # asignaión\n",
    "print(\"Resultado de la comparación:\", v1, \"<\", v2, \"es:\", v1<v2)"
   ]
  },
  {
   "cell_type": "code",
   "execution_count": 28,
   "id": "c48e727f",
   "metadata": {},
   "outputs": [
    {
     "name": "stdout",
     "output_type": "stream",
     "text": [
      "Resultado de la comparación: 570 < 570 es: False\n"
     ]
    }
   ],
   "source": [
    "# \"<\": menor que\n",
    "v1 = 570  # asignaión\n",
    "v2 = 570  # asignaión\n",
    "print(\"Resultado de la comparación:\", v1, \"<\", v2, \"es:\", v1<v2)"
   ]
  },
  {
   "cell_type": "code",
   "execution_count": 29,
   "id": "d57ec9d6",
   "metadata": {},
   "outputs": [
    {
     "name": "stdout",
     "output_type": "stream",
     "text": [
      "Resultado de la comparación: 570 < 890 es: True\n"
     ]
    }
   ],
   "source": [
    "# \"<\": menor que\n",
    "v1 = 570  # asignaión\n",
    "v2 = 890  # asignaión\n",
    "print(\"Resultado de la comparación:\", v1, \"<\", v2, \"es:\", v1<v2)"
   ]
  },
  {
   "cell_type": "markdown",
   "id": "d3970a6b",
   "metadata": {},
   "source": [
    "### \"<=\": menor o igual que"
   ]
  },
  {
   "cell_type": "code",
   "execution_count": 30,
   "id": "6a9e7a2a",
   "metadata": {},
   "outputs": [
    {
     "name": "stdout",
     "output_type": "stream",
     "text": [
      "Resultado de la comparación: 570 <= 420 es: False\n"
     ]
    }
   ],
   "source": [
    "# \"<\": menor  o igual que\n",
    "v1 = 570  # asignaión\n",
    "v2 = 420  # asignaión\n",
    "print(\"Resultado de la comparación:\", v1, \"<=\", v2, \"es:\", v1<=v2)"
   ]
  },
  {
   "cell_type": "code",
   "execution_count": 31,
   "id": "9cd6d641",
   "metadata": {},
   "outputs": [
    {
     "name": "stdout",
     "output_type": "stream",
     "text": [
      "Resultado de la comparación: 570 <= 570 es: True\n"
     ]
    }
   ],
   "source": [
    "# \"<\": menor  o igual que\n",
    "v1 = 570  # asignaión\n",
    "v2 = 570  # asignaión\n",
    "print(\"Resultado de la comparación:\", v1, \"<=\", v2, \"es:\", v1<=v2)"
   ]
  },
  {
   "cell_type": "code",
   "execution_count": 32,
   "id": "b1be0ac8",
   "metadata": {},
   "outputs": [
    {
     "name": "stdout",
     "output_type": "stream",
     "text": [
      "Resultado de la comparación: 570 <= 570 es: True\n"
     ]
    }
   ],
   "source": [
    "# \"<\": menor  o igual que\n",
    "v1 = 570  # asignaión\n",
    "v2 = 570  # asignaión\n",
    "print(\"Resultado de la comparación:\", v1, \"<=\", v2, \"es:\", v1<=v2)"
   ]
  },
  {
   "cell_type": "code",
   "execution_count": 33,
   "id": "34114db1",
   "metadata": {},
   "outputs": [
    {
     "name": "stdout",
     "output_type": "stream",
     "text": [
      "Resultado de la comparación: 570 <= 890 es: True\n"
     ]
    }
   ],
   "source": [
    "# \"<\": menor  o igual que\n",
    "v1 = 570  # asignaión\n",
    "v2 = 890  # asignaión\n",
    "print(\"Resultado de la comparación:\", v1, \"<=\", v2, \"es:\", v1<=v2)"
   ]
  },
  {
   "cell_type": "markdown",
   "id": "a3da5b0d",
   "metadata": {},
   "source": [
    "### Fin de la lección 4.1"
   ]
  }
 ],
 "metadata": {
  "kernelspec": {
   "display_name": "Python 3 (ipykernel)",
   "language": "python",
   "name": "python3"
  },
  "language_info": {
   "codemirror_mode": {
    "name": "ipython",
    "version": 3
   },
   "file_extension": ".py",
   "mimetype": "text/x-python",
   "name": "python",
   "nbconvert_exporter": "python",
   "pygments_lexer": "ipython3",
   "version": "3.9.12"
  }
 },
 "nbformat": 4,
 "nbformat_minor": 5
}

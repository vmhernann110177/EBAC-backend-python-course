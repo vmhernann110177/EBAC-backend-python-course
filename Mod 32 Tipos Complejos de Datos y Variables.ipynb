{
 "cells": [
  {
   "cell_type": "markdown",
   "id": "aeca2d27",
   "metadata": {},
   "source": [
    "## Este archivo es la segunda parte del Modulo 3. su nombre es: \n",
    "### 1.Tipos Complejos de Datos y Variables 2.\n",
    "### complex = x+ yj\n",
    "x = parte real\n",
    "\n",
    "yj = parte imaginaria\n"
   ]
  },
  {
   "cell_type": "code",
   "execution_count": 66,
   "id": "27ebb248",
   "metadata": {},
   "outputs": [
    {
     "name": "stdout",
     "output_type": "stream",
     "text": [
      "El valor de my_complex es:  (3+9j)\n",
      "El tipo de dato de 'my_complex' es:  <class 'complex'>\n"
     ]
    }
   ],
   "source": [
    "## No puedo poner i en lugar de j, manda error, pyton solo reconoce a j como el imaginario\n",
    "my_complex = 3 + 9j\n",
    "print(\"El valor de my_complex es: \", my_complex)\n",
    "print(\"El tipo de dato de 'my_complex' es: \", type(my_complex))"
   ]
  },
  {
   "cell_type": "code",
   "execution_count": 67,
   "id": "4661640f",
   "metadata": {},
   "outputs": [
    {
     "name": "stdout",
     "output_type": "stream",
     "text": [
      "El valor de my_complex es:  (2+5j)\n",
      "El tipo de dato de 'my_complex' es:  <class 'complex'>\n"
     ]
    }
   ],
   "source": [
    "## No puedo poner i en lugar de j, manda error, pyton solo reconoce a j como el imaginario\n",
    "my_complex = 2 + 5j\n",
    "print(\"El valor de my_complex es: \", my_complex)\n",
    "print(\"El tipo de dato de 'my_complex' es: \", type(my_complex))"
   ]
  },
  {
   "cell_type": "markdown",
   "id": "a2d1f851",
   "metadata": {},
   "source": [
    "### Tipo de dato bool.\n",
    "\n",
    "### bool - boolean (True/False) Valores logicos (Verdadero / Falso)."
   ]
  },
  {
   "cell_type": "code",
   "execution_count": 69,
   "id": "1c98dbcf",
   "metadata": {},
   "outputs": [
    {
     "name": "stdout",
     "output_type": "stream",
     "text": [
      "El valor de my_boolean es:  False\n",
      "El tipo de dato de 'my_boolean' es:  <class 'bool'>\n"
     ]
    }
   ],
   "source": [
    "## Boolean\n",
    "my_boolean = False\n",
    "print(\"El valor de my_boolean es: \", my_boolean)\n",
    "print(\"El tipo de dato de 'my_boolean' es: \", type(my_boolean))"
   ]
  },
  {
   "cell_type": "code",
   "execution_count": 70,
   "id": "f62603c5",
   "metadata": {},
   "outputs": [
    {
     "name": "stdout",
     "output_type": "stream",
     "text": [
      "El valor de my_boolean es:  True\n",
      "El tipo de dato de 'my_boolean' es:  <class 'bool'>\n"
     ]
    }
   ],
   "source": [
    "## Boolean\n",
    "my_boolean = True\n",
    "print(\"El valor de my_boolean es: \", my_boolean)\n",
    "print(\"El tipo de dato de 'my_boolean' es: \", type(my_boolean))"
   ]
  },
  {
   "cell_type": "markdown",
   "id": "33393982",
   "metadata": {},
   "source": [
    "#### True = 1\n",
    "#### False = 0\n",
    "¿Como?"
   ]
  },
  {
   "cell_type": "code",
   "execution_count": 71,
   "id": "96f71e5d",
   "metadata": {},
   "outputs": [
    {
     "name": "stdout",
     "output_type": "stream",
     "text": [
      "3\n"
     ]
    }
   ],
   "source": [
    "# los interpreta como número en sumas de boolenos\n",
    "print(True + True + True)"
   ]
  },
  {
   "cell_type": "code",
   "execution_count": 72,
   "id": "f309daea",
   "metadata": {},
   "outputs": [
    {
     "name": "stdout",
     "output_type": "stream",
     "text": [
      "0\n"
     ]
    }
   ],
   "source": [
    "# los interpreta como número en sumas de boolenos\n",
    "print(False + False + False)"
   ]
  },
  {
   "cell_type": "code",
   "execution_count": 73,
   "id": "5a22fb25",
   "metadata": {},
   "outputs": [
    {
     "name": "stdout",
     "output_type": "stream",
     "text": [
      "2\n"
     ]
    }
   ],
   "source": [
    "# los interpreta como número en sumas de boolenos\n",
    "print(True + True + False)"
   ]
  },
  {
   "cell_type": "code",
   "execution_count": 74,
   "id": "ca705eed",
   "metadata": {},
   "outputs": [
    {
     "name": "stdout",
     "output_type": "stream",
     "text": [
      "1\n"
     ]
    }
   ],
   "source": [
    "# De igual manera los interpreta como número en restas de boolenos\n",
    "print(True - True + True ) # 1 - 1 + 1 = 1"
   ]
  },
  {
   "cell_type": "code",
   "execution_count": 75,
   "id": "20633bc4",
   "metadata": {},
   "outputs": [
    {
     "name": "stdout",
     "output_type": "stream",
     "text": [
      "-1\n"
     ]
    }
   ],
   "source": [
    "# De igual manera los interpreta como número en restas de boolenos\n",
    "print(False - True + False ) # 0 - 1 + 0 = -1"
   ]
  },
  {
   "cell_type": "markdown",
   "id": "a4f01095",
   "metadata": {},
   "source": [
    "### Tipo de dato str: \n",
    "### str - Strings / Cadenas, textos."
   ]
  },
  {
   "cell_type": "code",
   "execution_count": 76,
   "id": "1482e539",
   "metadata": {},
   "outputs": [
    {
     "name": "stdout",
     "output_type": "stream",
     "text": [
      "El valor de my_string es:  Backend Python\n",
      "El tipo de dato de 'my_string' es:  <class 'str'>\n"
     ]
    }
   ],
   "source": [
    "## str Se recomienda el uso de comillas dobles.\n",
    "my_string = \"Backend Python\"\n",
    "print(\"El valor de my_string es: \", my_string)\n",
    "print(\"El tipo de dato de 'my_string' es: \", type(my_string))"
   ]
  },
  {
   "cell_type": "code",
   "execution_count": 77,
   "id": "11c872af",
   "metadata": {},
   "outputs": [
    {
     "name": "stdout",
     "output_type": "stream",
     "text": [
      "El valor de my_string es:  Hola mundo\n",
      "El tipo de dato de 'my_string' es:  <class 'str'>\n"
     ]
    }
   ],
   "source": [
    "## str Se recomienda el uso de comillas dobles.\n",
    "my_string = \"Hola mundo\"\n",
    "print(\"El valor de my_string es: \", my_string)\n",
    "print(\"El tipo de dato de 'my_string' es: \", type(my_string))"
   ]
  },
  {
   "cell_type": "code",
   "execution_count": 78,
   "id": "1c9750ae",
   "metadata": {},
   "outputs": [
    {
     "name": "stdout",
     "output_type": "stream",
     "text": [
      "El valor de my_string es:  Backend Python, hola mundo\n",
      "El tipo de dato de 'my_string' es:  <class 'str'>\n"
     ]
    }
   ],
   "source": [
    "## str Se recomienda el uso de comillas dobles.\n",
    "my_string = \"Backend Python, hola mundo\"\n",
    "print(\"El valor de my_string es: \", my_string)\n",
    "print(\"El tipo de dato de 'my_string' es: \", type(my_string))"
   ]
  },
  {
   "cell_type": "code",
   "execution_count": 79,
   "id": "bc89800a",
   "metadata": {},
   "outputs": [
    {
     "ename": "SyntaxError",
     "evalue": "invalid syntax (765089286.py, line 2)",
     "output_type": "error",
     "traceback": [
      "\u001b[1;36m  Input \u001b[1;32mIn [79]\u001b[1;36m\u001b[0m\n\u001b[1;33m    my_string = 'You're amazing'\u001b[0m\n\u001b[1;37m                     ^\u001b[0m\n\u001b[1;31mSyntaxError\u001b[0m\u001b[1;31m:\u001b[0m invalid syntax\n"
     ]
    }
   ],
   "source": [
    "## str si usamos comilla sencilla. hay problemas para inter´retar el inicio y fon de cadena\n",
    "my_string = 'You're amazing'\n",
    "print(\"El valor de my_string es: \", my_string)\n",
    "print(\"El tipo de dato de 'my_string' es: \", type(my_string))"
   ]
  },
  {
   "cell_type": "code",
   "execution_count": 81,
   "id": "9a674eba",
   "metadata": {},
   "outputs": [
    {
     "name": "stdout",
     "output_type": "stream",
     "text": [
      "El valor de my_string es:   You're amazing ';x' \n",
      "El tipo de dato de 'my_string' es:  <class 'str'>\n"
     ]
    }
   ],
   "source": [
    "## str si usamos comilla sencilla. hay problemas para inter´retar el inicio y fon de cadena\n",
    "### ¿Como CORREGIR esto? asi Usa externamente comillas dobles internamente las sencillas\n",
    "my_string = \" You're amazing ';x' \"\n",
    "print(\"El valor de my_string es: \", my_string)\n",
    "print(\"El tipo de dato de 'my_string' es: \", type(my_string))"
   ]
  },
  {
   "cell_type": "markdown",
   "id": "5f3178ee",
   "metadata": {},
   "source": [
    "#### Cadenas con multiples líneas"
   ]
  },
  {
   "cell_type": "code",
   "execution_count": 83,
   "id": "882a70ff",
   "metadata": {},
   "outputs": [
    {
     "name": "stdout",
     "output_type": "stream",
     "text": [
      "El valor de my_string es:  \n",
      "\n",
      "**Esta linea la respeta sin el caracter de salto de linea(diagonal invertida + n), antes de esta. **\n",
      "Backend Python,\n",
      " \n",
      "cadenas con multiples lineas,\n",
      "\n",
      "hola mundo,\n",
      "\n",
      "fin.\n",
      "\n",
      "El tipo de dato de 'my_string' es:  <class 'str'>\n"
     ]
    }
   ],
   "source": [
    "## str Para cademas con varias lineas usa comillas triples.\n",
    "my_string = \"\"\"\n",
    "\n",
    "**Esta linea la respeta sin el caracter de salto de linea(diagonal invertida + n), antes de esta. **\n",
    "Backend Python,\\n \n",
    "cadenas con multiples lineas,\\n\n",
    "hola mundo,\\n\n",
    "fin.\\n\"\"\"\n",
    "print(\"El valor de my_string es: \", my_string)\n",
    "print(\"El tipo de dato de 'my_string' es: \", type(my_string))"
   ]
  },
  {
   "cell_type": "markdown",
   "id": "dac8025e",
   "metadata": {},
   "source": [
    "# Variables\n",
    "\n",
    "### ¿Que es una variable?\n",
    "\n",
    "- Son un espacio temporal para guardar un valor con un nombre específico.\n",
    "- No hay necesidad de declarar el tipo de dato explicitamente\n",
    "- Python es un lenguaje tipado dinamicamente (El tipo de dato se define mientras corre el programa)\n",
    "- las variables en Python funcionana diferente, que otro lenguajes de programación.\n",
    "- No necesitamos crear las variables coml en C++, solo asignamos un valor a un nobre de variable usando el '='\n",
    "\n",
    "### Tipo de variables:\n",
    "\n",
    "- Variables globales: aquellas que se usaran en todo el programa\n",
    "- Variables locales: solo se usan en un 'bloque específico'"
   ]
  },
  {
   "cell_type": "markdown",
   "id": "5a6c1094",
   "metadata": {},
   "source": [
    "## Variables globales.\n",
    "\n",
    "- Se declaran afuera de funciones.\n",
    "- El valor de la variable puede ser cte para todo el programa.\n",
    "- Cualqueir funcion puede acceder a estas varibles.\n",
    "- Tienen un alcance \"global\"\n",
    "- bNormalmente son usadas para cte's\n",
    "- mantienen sus valores a través de la ejecución completa del programa.\n",
    "- Una VG puede ser accesada por cualquier función."
   ]
  },
  {
   "cell_type": "code",
   "execution_count": 92,
   "id": "4544634a",
   "metadata": {},
   "outputs": [],
   "source": [
    "# Varible Global\n",
    "my_global_var = 50\n",
    "\n",
    "def my_function_1():\n",
    "    # print(\"el valor de my_global_var es: \", my_global_var)\n",
    "    pass\n",
    "\n",
    "def my_function_2():\n",
    "    pass\n"
   ]
  },
  {
   "cell_type": "code",
   "execution_count": 93,
   "id": "561e5117",
   "metadata": {},
   "outputs": [],
   "source": [
    "# Varible local\n",
    "def my_function_1():\n",
    "    my_local_var = 5\n",
    "    \n",
    "def my_function_2():\n",
    "    my_local_var = 35\n",
    "    "
   ]
  },
  {
   "cell_type": "code",
   "execution_count": null,
   "id": "2f6f5461",
   "metadata": {},
   "outputs": [],
   "source": [
    "### 24:22"
   ]
  }
 ],
 "metadata": {
  "kernelspec": {
   "display_name": "Python 3 (ipykernel)",
   "language": "python",
   "name": "python3"
  },
  "language_info": {
   "codemirror_mode": {
    "name": "ipython",
    "version": 3
   },
   "file_extension": ".py",
   "mimetype": "text/x-python",
   "name": "python",
   "nbconvert_exporter": "python",
   "pygments_lexer": "ipython3",
   "version": "3.9.12"
  }
 },
 "nbformat": 4,
 "nbformat_minor": 5
}

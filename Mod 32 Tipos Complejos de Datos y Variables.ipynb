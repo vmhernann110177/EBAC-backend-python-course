{
 "cells": [
  {
   "cell_type": "markdown",
   "id": "aeca2d27",
   "metadata": {},
   "source": [
    "## Este archivo es la segunda parte del Modulo 3. su nombre es: \n",
    "### 1.Tipos Complejos de Datos y Variables 2.\n",
    "### complex = x+ yj\n",
    "x = parte real\n",
    "\n",
    "yj = parte imaginaria\n"
   ]
  },
  {
   "cell_type": "code",
   "execution_count": 1,
   "id": "27ebb248",
   "metadata": {},
   "outputs": [
    {
     "name": "stdout",
     "output_type": "stream",
     "text": [
      "El valor de my_complex es:  (3+9j)\n",
      "El tipo de dato de 'my_complex' es:  <class 'complex'>\n"
     ]
    }
   ],
   "source": [
    "## No puedo poner i en lugar de j, manda error, pyton solo reconoce a j como el imaginario\n",
    "my_complex = 3 + 9j\n",
    "print(\"El valor de my_complex es: \", my_complex)\n",
    "print(\"El tipo de dato de 'my_complex' es: \", type(my_complex))"
   ]
  },
  {
   "cell_type": "code",
   "execution_count": 2,
   "id": "4661640f",
   "metadata": {},
   "outputs": [
    {
     "name": "stdout",
     "output_type": "stream",
     "text": [
      "El valor de my_complex es:  (2+5j)\n",
      "El tipo de dato de 'my_complex' es:  <class 'complex'>\n"
     ]
    }
   ],
   "source": [
    "## No puedo poner i en lugar de j, manda error, pyton solo reconoce a j como el imaginario\n",
    "my_complex = 2 + 5j\n",
    "print(\"El valor de my_complex es: \", my_complex)\n",
    "print(\"El tipo de dato de 'my_complex' es: \", type(my_complex))"
   ]
  },
  {
   "cell_type": "markdown",
   "id": "a2d1f851",
   "metadata": {},
   "source": [
    "### Tipo de dato bool.\n",
    "\n",
    "### bool - boolean (True/False) Valores logicos (Verdadero / Falso)."
   ]
  },
  {
   "cell_type": "code",
   "execution_count": 3,
   "id": "1c98dbcf",
   "metadata": {},
   "outputs": [
    {
     "name": "stdout",
     "output_type": "stream",
     "text": [
      "El valor de my_boolean es:  False\n",
      "El tipo de dato de 'my_boolean' es:  <class 'bool'>\n"
     ]
    }
   ],
   "source": [
    "## Boolean\n",
    "my_boolean = False\n",
    "print(\"El valor de my_boolean es: \", my_boolean)\n",
    "print(\"El tipo de dato de 'my_boolean' es: \", type(my_boolean))"
   ]
  },
  {
   "cell_type": "code",
   "execution_count": 4,
   "id": "f62603c5",
   "metadata": {},
   "outputs": [
    {
     "name": "stdout",
     "output_type": "stream",
     "text": [
      "El valor de my_boolean es:  True\n",
      "El tipo de dato de 'my_boolean' es:  <class 'bool'>\n"
     ]
    }
   ],
   "source": [
    "## Boolean\n",
    "my_boolean = True\n",
    "print(\"El valor de my_boolean es: \", my_boolean)\n",
    "print(\"El tipo de dato de 'my_boolean' es: \", type(my_boolean))"
   ]
  },
  {
   "cell_type": "markdown",
   "id": "33393982",
   "metadata": {},
   "source": [
    "#### True = 1\n",
    "#### False = 0\n",
    "¿Como?"
   ]
  },
  {
   "cell_type": "code",
   "execution_count": 5,
   "id": "96f71e5d",
   "metadata": {},
   "outputs": [
    {
     "name": "stdout",
     "output_type": "stream",
     "text": [
      "3\n"
     ]
    }
   ],
   "source": [
    "# los interpreta como número en sumas de boolenos\n",
    "print(True + True + True)"
   ]
  },
  {
   "cell_type": "code",
   "execution_count": 6,
   "id": "f309daea",
   "metadata": {},
   "outputs": [
    {
     "name": "stdout",
     "output_type": "stream",
     "text": [
      "0\n"
     ]
    }
   ],
   "source": [
    "# los interpreta como número en sumas de boolenos\n",
    "print(False + False + False)"
   ]
  },
  {
   "cell_type": "code",
   "execution_count": 7,
   "id": "5a22fb25",
   "metadata": {},
   "outputs": [
    {
     "name": "stdout",
     "output_type": "stream",
     "text": [
      "2\n"
     ]
    }
   ],
   "source": [
    "# los interpreta como número en sumas de boolenos\n",
    "print(True + True + False)"
   ]
  },
  {
   "cell_type": "code",
   "execution_count": 8,
   "id": "ca705eed",
   "metadata": {},
   "outputs": [
    {
     "name": "stdout",
     "output_type": "stream",
     "text": [
      "1\n"
     ]
    }
   ],
   "source": [
    "# De igual manera los interpreta como número en restas de boolenos\n",
    "print(True - True + True ) # 1 - 1 + 1 = 1"
   ]
  },
  {
   "cell_type": "code",
   "execution_count": 9,
   "id": "20633bc4",
   "metadata": {},
   "outputs": [
    {
     "name": "stdout",
     "output_type": "stream",
     "text": [
      "-1\n"
     ]
    }
   ],
   "source": [
    "# De igual manera los interpreta como número en restas de boolenos\n",
    "print(False - True + False ) # 0 - 1 + 0 = -1"
   ]
  },
  {
   "cell_type": "markdown",
   "id": "a4f01095",
   "metadata": {},
   "source": [
    "### Tipo de dato str: \n",
    "### str - Strings / Cadenas, textos."
   ]
  },
  {
   "cell_type": "code",
   "execution_count": 10,
   "id": "1482e539",
   "metadata": {},
   "outputs": [
    {
     "name": "stdout",
     "output_type": "stream",
     "text": [
      "El valor de my_string es:  Backend Python\n",
      "El tipo de dato de 'my_string' es:  <class 'str'>\n"
     ]
    }
   ],
   "source": [
    "## str Se recomienda el uso de comillas dobles.\n",
    "my_string = \"Backend Python\"\n",
    "print(\"El valor de my_string es: \", my_string)\n",
    "print(\"El tipo de dato de 'my_string' es: \", type(my_string))"
   ]
  },
  {
   "cell_type": "code",
   "execution_count": 11,
   "id": "11c872af",
   "metadata": {},
   "outputs": [
    {
     "name": "stdout",
     "output_type": "stream",
     "text": [
      "El valor de my_string es:  Hola mundo\n",
      "El tipo de dato de 'my_string' es:  <class 'str'>\n"
     ]
    }
   ],
   "source": [
    "## str Se recomienda el uso de comillas dobles.\n",
    "my_string = \"Hola mundo\"\n",
    "print(\"El valor de my_string es: \", my_string)\n",
    "print(\"El tipo de dato de 'my_string' es: \", type(my_string))"
   ]
  },
  {
   "cell_type": "code",
   "execution_count": 12,
   "id": "1c9750ae",
   "metadata": {},
   "outputs": [
    {
     "name": "stdout",
     "output_type": "stream",
     "text": [
      "El valor de my_string es:  Backend Python, hola mundo\n",
      "El tipo de dato de 'my_string' es:  <class 'str'>\n"
     ]
    }
   ],
   "source": [
    "## str Se recomienda el uso de comillas dobles.\n",
    "my_string = \"Backend Python, hola mundo\"\n",
    "print(\"El valor de my_string es: \", my_string)\n",
    "print(\"El tipo de dato de 'my_string' es: \", type(my_string))"
   ]
  },
  {
   "cell_type": "code",
   "execution_count": 13,
   "id": "bc89800a",
   "metadata": {},
   "outputs": [
    {
     "ename": "SyntaxError",
     "evalue": "invalid syntax (2151131097.py, line 2)",
     "output_type": "error",
     "traceback": [
      "\u001b[1;36m  Input \u001b[1;32mIn [13]\u001b[1;36m\u001b[0m\n\u001b[1;33m    my_string = 'You're amazing'\u001b[0m\n\u001b[1;37m                     ^\u001b[0m\n\u001b[1;31mSyntaxError\u001b[0m\u001b[1;31m:\u001b[0m invalid syntax\n"
     ]
    }
   ],
   "source": [
    "## str si usamos comilla sencilla. hay problemas con el inicio y fín de cadena\n",
    "my_string = 'You're amazing'\n",
    "print(\"El valor de my_string es: \", my_string)\n",
    "print(\"El tipo de dato de 'my_string' es: \", type(my_string))"
   ]
  },
  {
   "cell_type": "markdown",
   "id": "5ae0fcea",
   "metadata": {},
   "source": [
    "### str - si usamos comilla sencilla. hay problemas con el inicio y fín de cadena\n",
    "- ¿Como CORREGIR esto?  \n",
    "- Asi:\n",
    "- Usa externamente comillas dobles e internament las comilla sencilla"
   ]
  },
  {
   "cell_type": "code",
   "execution_count": 14,
   "id": "9a674eba",
   "metadata": {},
   "outputs": [
    {
     "name": "stdout",
     "output_type": "stream",
     "text": [
      "El valor de my_string es:   You're amazing ';P' \n",
      "El tipo de dato de 'my_string' es:  <class 'str'>\n"
     ]
    }
   ],
   "source": [
    "## str - si usamos comilla sencilla. hay problemas con el inicio y fín de cadena\n",
    "### ¿Como CORREGIR esto? asi Usa externamente comillas dobles internamente las sencillas\n",
    "my_string = \" You're amazing ';P' \"\n",
    "print(\"El valor de my_string es: \", my_string)\n",
    "print(\"El tipo de dato de 'my_string' es: \", type(my_string))"
   ]
  },
  {
   "cell_type": "markdown",
   "id": "5f3178ee",
   "metadata": {},
   "source": [
    "#### Cadenas con multiples líneas"
   ]
  },
  {
   "cell_type": "code",
   "execution_count": 15,
   "id": "882a70ff",
   "metadata": {},
   "outputs": [
    {
     "name": "stdout",
     "output_type": "stream",
     "text": [
      "El valor de my_string es:  \n",
      "\n",
      "**Esta linea la respeta sin el caracter de salto de linea(diagonal invertida + n), antes de esta. **\n",
      "Backend Python,\n",
      " \n",
      "cadenas con multiples lineas,\n",
      "\n",
      "hola mundo,\n",
      "\n",
      "fin.\n",
      "\n",
      "El tipo de dato de 'my_string' es:  <class 'str'>\n"
     ]
    }
   ],
   "source": [
    "## str Para cademas con varias lineas usa comillas triples.\n",
    "my_string = \"\"\"\n",
    "\n",
    "**Esta linea la respeta sin el caracter de salto de linea(diagonal invertida + n), antes de esta. **\n",
    "Backend Python,\\n \n",
    "cadenas con multiples lineas,\\n\n",
    "hola mundo,\\n\n",
    "fin.\\n\"\"\"\n",
    "print(\"El valor de my_string es: \", my_string)\n",
    "print(\"El tipo de dato de 'my_string' es: \", type(my_string))"
   ]
  },
  {
   "cell_type": "markdown",
   "id": "dac8025e",
   "metadata": {},
   "source": [
    "# Variables\n",
    "\n",
    "### ¿Que es una variable?\n",
    "\n",
    "- Son un espacio temporal para guardar un valor con un nombre específico.\n",
    "- No hay necesidad de declarar el tipo de dato explicitamente\n",
    "- Python es un lenguaje tipado dinamicamente (El tipo de dato se define mientras corre el programa)\n",
    "- las variables en Python funcionana diferente, que otro lenguajes de programación.\n",
    "- No necesitamos crear las variables coml en C++, solo asignamos un valor a un nobre de variable usando el '='\n",
    "\n",
    "### Tipo de variables:\n",
    "\n",
    "- Variables globales: aquellas que se usaran en todo el programa\n",
    "- Variables locales: solo se usan en un 'bloque específico'"
   ]
  },
  {
   "cell_type": "markdown",
   "id": "5a6c1094",
   "metadata": {},
   "source": [
    "## Variables globales.\n",
    "\n",
    "- Se declaran afuera de funciones.\n",
    "- El valor de la variable puede ser cte para todo el programa.\n",
    "- Cualqueir funcion puede acceder a estas varibles.\n",
    "- Tienen un alcance \"global\"\n",
    "- bNormalmente son usadas para cte's\n",
    "- mantienen sus valores a través de la ejecución completa del programa.\n",
    "- Una VG puede ser accesada por cualquier función."
   ]
  },
  {
   "cell_type": "code",
   "execution_count": 16,
   "id": "4544634a",
   "metadata": {},
   "outputs": [],
   "source": [
    "# Varible Global\n",
    "my_global_var = 50\n",
    "\n",
    "def my_function_1():\n",
    "    # print(\"el valor de my_global_var es: \", my_global_var)\n",
    "    pass\n",
    "\n",
    "def my_function_2():\n",
    "    pass\n"
   ]
  },
  {
   "cell_type": "code",
   "execution_count": 17,
   "id": "561e5117",
   "metadata": {},
   "outputs": [],
   "source": [
    "# Varible local\n",
    "def my_function_1():\n",
    "    my_local_var = 5\n",
    "    \n",
    "def my_function_2():\n",
    "    my_local_var = 35\n",
    "\n",
    "### 24:22"
   ]
  },
  {
   "cell_type": "markdown",
   "id": "e6b94ab1",
   "metadata": {},
   "source": [
    "# Ampliando conceptos"
   ]
  },
  {
   "cell_type": "code",
   "execution_count": 18,
   "id": "65ad268e",
   "metadata": {},
   "outputs": [
    {
     "name": "stdout",
     "output_type": "stream",
     "text": [
      "Desde 'my_function_1'- El valor de 'my_global_var' es:  50\n",
      "Desde 'my_function_2'- El valor de 'my_global_var' es:  50\n"
     ]
    }
   ],
   "source": [
    "# Varible Global\n",
    "my_global_var = 50\n",
    "\n",
    "def my_function_1():\n",
    "    print(\"Desde 'my_function_1'- El valor de 'my_global_var' es: \", my_global_var)\n",
    "\n",
    "def my_function_2():\n",
    "    print(\"Desde 'my_function_2'- El valor de 'my_global_var' es: \", my_global_var)\n",
    "\n",
    "## Las llamo:    \n",
    "    \n",
    "my_function_1()\n",
    "my_function_2()"
   ]
  },
  {
   "cell_type": "code",
   "execution_count": 19,
   "id": "6fc6be91",
   "metadata": {},
   "outputs": [
    {
     "name": "stdout",
     "output_type": "stream",
     "text": [
      "Desde 'my_function_1'- El valor de 'my_global_var' es:  50\n"
     ]
    }
   ],
   "source": [
    "my_function_1()"
   ]
  },
  {
   "cell_type": "code",
   "execution_count": 20,
   "id": "6b21adc3",
   "metadata": {},
   "outputs": [
    {
     "name": "stdout",
     "output_type": "stream",
     "text": [
      "Desde 'my_function_2'- El valor de 'my_global_var' es:  50\n"
     ]
    }
   ],
   "source": [
    "my_function_2()"
   ]
  },
  {
   "cell_type": "code",
   "execution_count": 21,
   "id": "58ec21cd",
   "metadata": {},
   "outputs": [
    {
     "name": "stdout",
     "output_type": "stream",
     "text": [
      "Desde 'my_function_1'- El valor de 'my_variable' es:  10\n",
      "Desde 'my_function_2'- El valor de 'my_variable' es:  20\n",
      "Desde 'my_function_3'- El valor de 'my_variable' es:  100\n",
      "Desde 'my_function_4'- El valor de 'my_variable' es:  50\n"
     ]
    }
   ],
   "source": [
    "# Hay preferencia al valor local, y despues al global\n",
    "\n",
    "my_variable = 50 # Global variable\n",
    "def my_function_1():\n",
    "    my_variable = 10 # my_variable aqui es local\n",
    "    print(\"Desde 'my_function_1'- El valor de 'my_variable' es: \", my_variable)\n",
    "\n",
    "def my_function_2():\n",
    "    my_variable = 20 # my_variable aqui es local\n",
    "    print(\"Desde 'my_function_2'- El valor de 'my_variable' es: \", my_variable)\n",
    "\n",
    "def my_function_3(my_variable):\n",
    "    my_variable = my_variable + 50\n",
    "    print(\"Desde 'my_function_3'- El valor de 'my_variable' es: \", my_variable)\n",
    "    \n",
    "def my_function_4():\n",
    "    #no declaro variable local\n",
    "    print(\"Desde 'my_function_4'- El valor de 'my_variable' es: \", my_variable)\n",
    "\n",
    "## Las llamo:    \n",
    "    \n",
    "my_function_1()\n",
    "my_function_2()\n",
    "my_function_3(my_variable) # Esta funcion me pide un argumento, yo le doy my_variable (que ya es global)\n",
    "                           # si no se la doy me manda error, se me hace un poco raro porque en las otras funciones\n",
    "                           # si la reconoce, ¿Por qué aquí no?... no sé.\n",
    "my_function_4()"
   ]
  },
  {
   "cell_type": "markdown",
   "id": "cb0f2ae8",
   "metadata": {},
   "source": [
    "### Observa que \"my_variable\" tienen el mismo nombre, tanto global, como localmente. \n",
    "- Primero se le asigna un valor a la variable global; \n",
    "- Después cuando se manda a llamar una \"función\", una variable local con el mismo nombre: \"my_variable\" \"se crea\" y se le asigna un valor diferente. \n",
    "- Cuando se manda a llamar a dicha función, se le pide que imprima el valor de \"my_variable\", \n",
    "- Ella imprime el valor que le fue asignado a ESA variable, de manera local. \n",
    "- Entonces se concluye que se le da preferencia a la asignación local."
   ]
  },
  {
   "cell_type": "code",
   "execution_count": 22,
   "id": "68b5ec03",
   "metadata": {
    "scrolled": true
   },
   "outputs": [
    {
     "data": {
      "text/plain": [
       "50"
      ]
     },
     "execution_count": 22,
     "metadata": {},
     "output_type": "execute_result"
    }
   ],
   "source": [
    "my_variable"
   ]
  },
  {
   "cell_type": "code",
   "execution_count": 23,
   "id": "0cbafe1a",
   "metadata": {},
   "outputs": [
    {
     "name": "stdout",
     "output_type": "stream",
     "text": [
      "Desde 'my_function_3'- El valor de 'my_variable' es:  100\n"
     ]
    }
   ],
   "source": [
    "my_function_3(50)"
   ]
  },
  {
   "cell_type": "markdown",
   "id": "540c997d",
   "metadata": {},
   "source": [
    "# Variables locales.\n",
    "- Podeios usarlas dentro de una funcion\n",
    "- Podemos tener una restriccion al acceder a una varoable local desde otra función\n",
    "- No podemos usarlas durante todo el programa\n",
    "- El alcance y visivilidad se limita al interipor de la funcion\n",
    "- Lo que dure la funcion será la función será lo que dure el alcance de nuestra variable."
   ]
  },
  {
   "cell_type": "code",
   "execution_count": 24,
   "id": "fd70e45b",
   "metadata": {},
   "outputs": [
    {
     "name": "stdout",
     "output_type": "stream",
     "text": [
      "Desde 'my_function_1'- El valor de 'my_variable' es:  10\n",
      "Desde 'my_function_2'- El valor de 'my_variable' es:  20\n"
     ]
    },
    {
     "ename": "NameError",
     "evalue": "name 'my_var' is not defined",
     "output_type": "error",
     "traceback": [
      "\u001b[1;31m---------------------------------------------------------------------------\u001b[0m",
      "\u001b[1;31mNameError\u001b[0m                                 Traceback (most recent call last)",
      "Input \u001b[1;32mIn [24]\u001b[0m, in \u001b[0;36m<cell line: 17>\u001b[1;34m()\u001b[0m\n\u001b[0;32m     15\u001b[0m my_function_2()\n\u001b[0;32m     16\u001b[0m \u001b[38;5;66;03m## Aqui no existe \"my_var\" como variable globla, entonces mandará error\u001b[39;00m\n\u001b[1;32m---> 17\u001b[0m my_function_3(\u001b[43mmy_var\u001b[49m)\n",
      "\u001b[1;31mNameError\u001b[0m: name 'my_var' is not defined"
     ]
    }
   ],
   "source": [
    "def my_function_1():\n",
    "    my_variable = 10 # my_variable es local\n",
    "    print(\"Desde 'my_function_1'- El valor de 'my_variable' es: \", my_variable)\n",
    "\n",
    "def my_function_2():\n",
    "    my_variable = 20 # my_variable  es local\n",
    "    print(\"Desde 'my_function_2'- El valor de 'my_variable' es: \", my_variable)\n",
    "\n",
    "def my_function_3(my_var):\n",
    "    my_variable = my_var + 50\n",
    "    print(\"Desde 'my_function_3'- El valor de 'my_variable' es: \", my_variable)\n",
    "    \n",
    "## Las llamo:    \n",
    "my_function_1()\n",
    "my_function_2()\n",
    "## Aqui no existe \"my_var\" como variable globla, entonces mandará error\n",
    "my_function_3(my_var)"
   ]
  },
  {
   "cell_type": "markdown",
   "id": "eac7a965",
   "metadata": {},
   "source": [
    "### Aquí, a 'my_function_3()', le metí el pie a proposito al no asignar ninguna variable global  \"my_var\"\n",
    "### Entonces me manda un error porque no la conoce.  obserba justo  ^arriba^ que dijo: \n",
    "- NameError: name 'my_var' is not defined"
   ]
  },
  {
   "cell_type": "code",
   "execution_count": null,
   "id": "ccba684d",
   "metadata": {},
   "outputs": [],
   "source": []
  },
  {
   "cell_type": "markdown",
   "id": "05735f61",
   "metadata": {},
   "source": [
    "# Palabra reservada \"global\"\n",
    "### Con esta palabra, lo que hago es que desde una funcion hago global una variable\n",
    "### 1. Observa a 'my_function_2()'\n",
    "### 2. Nota que ahi dentro \"declaro\" a 'my_var' como varibale global le asigno el valor de 60\n",
    "### 3. Y después en 'my_function_3(my_var)' la llamo y le sumo 50.\n",
    "### 4. Finalmente mira que en 'my_function_2()' declaro a otra variable global simultaneamente (puedo declarar las que quiera)"
   ]
  },
  {
   "cell_type": "code",
   "execution_count": 25,
   "id": "393623b6",
   "metadata": {},
   "outputs": [
    {
     "name": "stdout",
     "output_type": "stream",
     "text": [
      "Desde 'my_function_1'- El valor de 'my_variable' es:  10\n",
      "Desde 'my_function_2'- El valor de 'my_variable' es:  20\n",
      "Desde 'my_function_3'- El valor de 'my_variable' es:  110\n",
      "Desde 'my_function_3'- El valor de 'my_variable' es:  150\n"
     ]
    }
   ],
   "source": [
    "def my_function_1():\n",
    "    my_variable = 10 # my_variable es local\n",
    "    print(\"Desde 'my_function_1'- El valor de 'my_variable' es: \", my_variable)\n",
    "\n",
    "def my_function_2():\n",
    "    global my_var, my_var2 # Global\n",
    "    my_var = 60\n",
    "    my_var2 = 100\n",
    "    my_variable = 20 # my_variable  es local\n",
    "    print(\"Desde 'my_function_2'- El valor de 'my_variable' es: \", my_variable)\n",
    "\n",
    "def my_function_3(my_var):\n",
    "    my_variable = my_var + 50\n",
    "    print(\"Desde 'my_function_3'- El valor de 'my_variable' es: \", my_variable)\n",
    "    \n",
    "## Las llamo:    \n",
    "my_function_1()\n",
    "my_function_2()\n",
    "# Aqui ya existe my_var como una variable global y esta asignada por \"my_function_2() = 60\"\n",
    "# y 60 + 50 (que es la operación de my_function_3(my_var) ) es igual a 110 \n",
    "my_function_3(my_var)\n",
    "# Aqui uso la otra variabl global que declare en \"my_function_2()\"\n",
    "my_function_3(my_var2)"
   ]
  },
  {
   "cell_type": "code",
   "execution_count": null,
   "id": "66b8195a",
   "metadata": {},
   "outputs": [],
   "source": []
  }
 ],
 "metadata": {
  "kernelspec": {
   "display_name": "Python 3 (ipykernel)",
   "language": "python",
   "name": "python3"
  },
  "language_info": {
   "codemirror_mode": {
    "name": "ipython",
    "version": 3
   },
   "file_extension": ".py",
   "mimetype": "text/x-python",
   "name": "python",
   "nbconvert_exporter": "python",
   "pygments_lexer": "ipython3",
   "version": "3.9.12"
  }
 },
 "nbformat": 4,
 "nbformat_minor": 5
}

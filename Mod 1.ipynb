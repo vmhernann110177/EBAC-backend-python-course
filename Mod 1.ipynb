{
 "cells": [
  {
   "cell_type": "markdown",
   "id": "b0d9a4bf",
   "metadata": {},
   "source": [
    "### First code in python, using Jupyter notebook.\n",
    "### It is essential to mention, I will write code and its comments in English.\n",
    "## Yes, I know, we are in Mexico, but all of this is made in English.  No more to say. :)"
   ]
  },
  {
   "cell_type": "code",
   "execution_count": 1,
   "id": "2e6a2e5f",
   "metadata": {},
   "outputs": [
    {
     "name": "stdout",
     "output_type": "stream",
     "text": [
      "Hello World\n"
     ]
    }
   ],
   "source": [
    "# First code:\n",
    "print(\"Hello World\")"
   ]
  },
  {
   "cell_type": "code",
   "execution_count": 2,
   "id": "0f3b15fe",
   "metadata": {},
   "outputs": [
    {
     "name": "stdout",
     "output_type": "stream",
     "text": [
      "Hello my name is Victor Miguel Hernández Maldonado\n"
     ]
    }
   ],
   "source": [
    "## Same command but expanded:\n",
    "print(\"Hello my name is Victor Miguel Hernández Maldonado\")"
   ]
  },
  {
   "cell_type": "code",
   "execution_count": null,
   "id": "91925457",
   "metadata": {},
   "outputs": [],
   "source": []
  }
 ],
 "metadata": {
  "kernelspec": {
   "display_name": "Python 3 (ipykernel)",
   "language": "python",
   "name": "python3"
  },
  "language_info": {
   "codemirror_mode": {
    "name": "ipython",
    "version": 3
   },
   "file_extension": ".py",
   "mimetype": "text/x-python",
   "name": "python",
   "nbconvert_exporter": "python",
   "pygments_lexer": "ipython3",
   "version": "3.9.12"
  }
 },
 "nbformat": 4,
 "nbformat_minor": 5
}

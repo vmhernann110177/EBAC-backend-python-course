{
 "cells": [
  {
   "cell_type": "markdown",
   "id": "817015c4",
   "metadata": {},
   "source": [
    "<b> <FONT SIZE=6 COLOR=\"yellow\">Ordenando listas</FONT> </b>"
   ]
  },
  {
   "cell_type": "code",
   "execution_count": 1,
   "id": "ef604f4f",
   "metadata": {},
   "outputs": [
    {
     "name": "stdout",
     "output_type": "stream",
     "text": [
      "[5, 3, 1, 15, 2, 20]\n"
     ]
    }
   ],
   "source": [
    "my_List = [5,3,1,15,2,20]\n",
    "print(my_List)"
   ]
  },
  {
   "cell_type": "code",
   "execution_count": 3,
   "id": "fcb68b7d",
   "metadata": {},
   "outputs": [
    {
     "name": "stdout",
     "output_type": "stream",
     "text": [
      "[1, 2, 3, 5, 15, 20]\n"
     ]
    }
   ],
   "source": [
    "my_List.sort()\n",
    "# OJO aqui no asigne el 'sort' a ninguna nueva variable lo hace sobre la misma varibale \"my_List\"\n",
    "print(my_List)"
   ]
  },
  {
   "cell_type": "markdown",
   "id": "ae6871d7",
   "metadata": {},
   "source": [
    "* * * 1:37"
   ]
  },
  {
   "cell_type": "code",
   "execution_count": null,
   "id": "f2af538d",
   "metadata": {},
   "outputs": [],
   "source": []
  }
 ],
 "metadata": {
  "kernelspec": {
   "display_name": "Python 3 (ipykernel)",
   "language": "python",
   "name": "python3"
  },
  "language_info": {
   "codemirror_mode": {
    "name": "ipython",
    "version": 3
   },
   "file_extension": ".py",
   "mimetype": "text/x-python",
   "name": "python",
   "nbconvert_exporter": "python",
   "pygments_lexer": "ipython3",
   "version": "3.9.12"
  }
 },
 "nbformat": 4,
 "nbformat_minor": 5
}

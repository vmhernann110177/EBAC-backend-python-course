{
 "cells": [
  {
   "cell_type": "markdown",
   "id": "1d60751b",
   "metadata": {},
   "source": [
    "<h2>datetime</h2>\n",
    " <ul>\n",
    "    <li> Formateo de cadenas y datetime\n",
    "    </li>\n",
    " <ul>"
   ]
  },
  {
   "cell_type": "code",
   "execution_count": 1,
   "id": "5a491812",
   "metadata": {},
   "outputs": [
    {
     "name": "stdout",
     "output_type": "stream",
     "text": [
      "2023-11-06 20:51:34.879690\n"
     ]
    }
   ],
   "source": [
    "from datetime import datetime\n",
    "now = datetime.now()\n",
    "print(now)"
   ]
  },
  {
   "cell_type": "code",
   "execution_count": 2,
   "id": "fa650da4",
   "metadata": {},
   "outputs": [
    {
     "name": "stdout",
     "output_type": "stream",
     "text": [
      "Año: 2023\n",
      "Mes: 11\n",
      "Día: 06\n",
      "Hora: 20:51:34\n"
     ]
    }
   ],
   "source": [
    "year = now.strftime(\"%Y\")\n",
    "month = now.strftime(\"%m\")\n",
    "day = now.strftime(\"%d\")\n",
    "time = now.strftime(\"%H:%M:%S\")\n",
    "print(\"Año:\", year)\n",
    "print(\"Mes:\", month)\n",
    "print(\"Día:\", day)\n",
    "print(\"Hora:\", time)"
   ]
  },
  {
   "cell_type": "markdown",
   "id": "1100b3f8",
   "metadata": {},
   "source": [
    "<h2>reversa</h2>\n",
    " <ul>\n",
    "    <li> Invertir una cadena\n",
    "    </li>\n",
    " <ul>"
   ]
  },
  {
   "cell_type": "code",
   "execution_count": 3,
   "id": "2f05e305",
   "metadata": {},
   "outputs": [
    {
     "name": "stdout",
     "output_type": "stream",
     "text": [
      "Victor, Probando funciones\n"
     ]
    }
   ],
   "source": [
    "my_string = \"senoicnuf odnaborP ,rotciV\"\n",
    "print(my_string[::-1]) ## Usa esta manera de organizar los subindices de la cadena"
   ]
  },
  {
   "cell_type": "code",
   "execution_count": 4,
   "id": "09cd0cde",
   "metadata": {},
   "outputs": [
    {
     "name": "stdout",
     "output_type": "stream",
     "text": [
      "ictor\n"
     ]
    }
   ],
   "source": [
    "## Juguemos con sub indices..\n",
    "my_string = \"Victor, Probando funciones\"\n",
    "print(my_string[1:6]) ## imprimo \"ictor\"\n",
    "## Date cuenta que es un vector y dentro de los corchetes le dices: dame los caracteres de lacadena del subindice 1 al 6 [:6]"
   ]
  },
  {
   "cell_type": "code",
   "execution_count": 5,
   "id": "7cd6fa94",
   "metadata": {},
   "outputs": [
    {
     "name": "stdout",
     "output_type": "stream",
     "text": [
      "Victor\n"
     ]
    }
   ],
   "source": [
    "## Juguemos con sub indices..\n",
    "my_string = \"Victor, Probando funciones\"\n",
    "print(my_string[0:6]) ## imprimo \"Victor\"\n",
    "## Date cuenta que es un vector y dentro de los corchetes le dices: dame los caracteres de lacadena del subindice 0 al 6 [:6]\n",
    "# date cuenta que los subindices empiezan en 0... mira abajo:"
   ]
  },
  {
   "cell_type": "code",
   "execution_count": 6,
   "id": "f30368da",
   "metadata": {},
   "outputs": [
    {
     "name": "stdout",
     "output_type": "stream",
     "text": [
      "V\n"
     ]
    }
   ],
   "source": [
    "## Juguemos con sub indices..\n",
    "my_string = \"Victor, Probando funciones\"\n",
    "print(my_string[0]) ## imprimo \"V\""
   ]
  },
  {
   "cell_type": "markdown",
   "id": "5fb2bf8c",
   "metadata": {},
   "source": [
    "<h2>This RUN</h2>\n",
    " <ol>\n",
    "    <li> Esto fue corrido después de ir a ANACONDA NAVIGATOR, en el panel izquierdo seleccionar: \"home\", instalar JupyterLab 3.6.3 y en la lista desplegable de <FONT SIZE=4 COLOR=\"blue\"> on </FONT>; poner <FONT SIZE=4 COLOR=\"red\"> python38 </FONT>\n",
    "    </li>\n",
    "    <li> Despues solo hago Launch en  <FONT SIZE=4 COLOR=\"red\"> Jupyter Notebook </FONT>\n",
    "    </li>\n",
    " <ol>"
   ]
  },
  {
   "cell_type": "code",
   "execution_count": null,
   "id": "797b10c6",
   "metadata": {},
   "outputs": [],
   "source": []
  }
 ],
 "metadata": {
  "kernelspec": {
   "display_name": "Python 3 (ipykernel)",
   "language": "python",
   "name": "python3"
  },
  "language_info": {
   "codemirror_mode": {
    "name": "ipython",
    "version": 3
   },
   "file_extension": ".py",
   "mimetype": "text/x-python",
   "name": "python",
   "nbconvert_exporter": "python",
   "pygments_lexer": "ipython3",
   "version": "3.9.16"
  }
 },
 "nbformat": 4,
 "nbformat_minor": 5
}

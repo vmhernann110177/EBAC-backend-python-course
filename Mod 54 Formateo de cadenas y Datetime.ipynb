{
 "cells": [
  {
   "cell_type": "markdown",
   "id": "168772a6",
   "metadata": {},
   "source": [
    "<h2>datetime</h2>\n",
    " <ul>\n",
    "    <li> Formateo de cadenas y datetime\n",
    "    </li>\n",
    " <ul>"
   ]
  },
  {
   "cell_type": "code",
   "execution_count": 1,
   "id": "a64bb7d2",
   "metadata": {},
   "outputs": [
    {
     "name": "stdout",
     "output_type": "stream",
     "text": [
      "2023-11-06 17:45:55.468487\n"
     ]
    }
   ],
   "source": [
    "from datetime import datetime\n",
    "now = datetime.now()\n",
    "print(now)"
   ]
  },
  {
   "cell_type": "code",
   "execution_count": 2,
   "id": "70c39bd2",
   "metadata": {},
   "outputs": [
    {
     "name": "stdout",
     "output_type": "stream",
     "text": [
      "Año: 2023\n",
      "Mes: 11\n",
      "Día: 06\n",
      "Hora: 17:45:55\n"
     ]
    }
   ],
   "source": [
    "year = now.strftime(\"%Y\")\n",
    "month = now.strftime(\"%m\")\n",
    "day = now.strftime(\"%d\")\n",
    "time = now.strftime(\"%H:%M:%S\")\n",
    "print(\"Año:\", year)\n",
    "print(\"Mes:\", month)\n",
    "print(\"Día:\", day)\n",
    "print(\"Hora:\", time)"
   ]
  },
  {
   "cell_type": "markdown",
   "id": "c343c1c4",
   "metadata": {},
   "source": [
    "<h2>reversa</h2>\n",
    " <ul>\n",
    "    <li> Invertir una cadena\n",
    "    </li>\n",
    " <ul>"
   ]
  },
  {
   "cell_type": "code",
   "execution_count": 3,
   "id": "38a9321e",
   "metadata": {},
   "outputs": [
    {
     "name": "stdout",
     "output_type": "stream",
     "text": [
      "Victor, Probando funciones\n"
     ]
    }
   ],
   "source": [
    "my_string = \"senoicnuf odnaborP ,rotciV\"\n",
    "print(my_string[::-1]) ## Usa esta manera de organizar los subindices de la cadena"
   ]
  },
  {
   "cell_type": "code",
   "execution_count": 4,
   "id": "64d86b3e",
   "metadata": {},
   "outputs": [
    {
     "name": "stdout",
     "output_type": "stream",
     "text": [
      "Victor\n"
     ]
    }
   ],
   "source": [
    "## Juguemos con sub indices..\n",
    "my_string = \"Victor, Probando funciones\"\n",
    "print(my_string[:6]) ## imprimo 'Victor'\n",
    "## Date cuenta que es un vector y dentro de los corchetes le dices: dame los caracteres de lacadena del subindice 1 al 6 [:6]"
   ]
  },
  {
   "cell_type": "code",
   "execution_count": 5,
   "id": "2d212764",
   "metadata": {},
   "outputs": [
    {
     "name": "stdout",
     "output_type": "stream",
     "text": [
      "Victor\n"
     ]
    }
   ],
   "source": [
    "## Juguemos con sub indices..\n",
    "my_string = \"Victor, Probando funciones\"\n",
    "print(my_string[0:6]) ## imprimo 'ictor'\n",
    "## Date cuenta que es un vector y dentro de los corchetes le dices: dame los caracteres de lacadena del subindice 1 al 6 [:6]\n",
    "# date cuenta que los subindices empiezan en 0... mira abajo:"
   ]
  },
  {
   "cell_type": "code",
   "execution_count": 6,
   "id": "03b71fc2",
   "metadata": {},
   "outputs": [
    {
     "name": "stdout",
     "output_type": "stream",
     "text": [
      "V\n"
     ]
    }
   ],
   "source": [
    "## Juguemos con sub indices..\n",
    "my_string = \"Victor, Probando funciones\"\n",
    "print(my_string[0]) ## imprimo 'V'"
   ]
  },
  {
   "cell_type": "code",
   "execution_count": null,
   "id": "86cf4937",
   "metadata": {},
   "outputs": [],
   "source": []
  }
 ],
 "metadata": {
  "kernelspec": {
   "display_name": "Python 3 (ipykernel)",
   "language": "python",
   "name": "python3"
  },
  "language_info": {
   "codemirror_mode": {
    "name": "ipython",
    "version": 3
   },
   "file_extension": ".py",
   "mimetype": "text/x-python",
   "name": "python",
   "nbconvert_exporter": "python",
   "pygments_lexer": "ipython3",
   "version": "3.9.12"
  }
 },
 "nbformat": 4,
 "nbformat_minor": 5
}

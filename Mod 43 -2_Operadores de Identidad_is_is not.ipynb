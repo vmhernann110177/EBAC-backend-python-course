{
 "cells": [
  {
   "cell_type": "markdown",
   "id": "36c9b44c",
   "metadata": {},
   "source": [
    "## operadores de Identidad."
   ]
  },
  {
   "cell_type": "markdown",
   "id": "82b2b787",
   "metadata": {},
   "source": [
    "- Se utilizan para validar si los valores comparten el mismo espacio en memoria o no.\n",
    "- Regresa True si lo comparten y y False si no lo comparten. \n",
    "- hay dos operadores de identidad que son: \n",
    "    - IS\n",
    "    - IS NOT"
   ]
  },
  {
   "cell_type": "markdown",
   "id": "4b73f312",
   "metadata": {},
   "source": [
    "## # IS "
   ]
  },
  {
   "cell_type": "code",
   "execution_count": 14,
   "id": "b48ecccb",
   "metadata": {},
   "outputs": [
    {
     "name": "stdout",
     "output_type": "stream",
     "text": [
      "v1( 11 ) es v2( 55 )= False\n"
     ]
    }
   ],
   "source": [
    "v1 = 11\n",
    "v2 = 55\n",
    "print(\"v1(\", v1,\") es v2(\", v2,\")=\", v1 is v2)"
   ]
  },
  {
   "cell_type": "markdown",
   "id": "9b9dc352",
   "metadata": {},
   "source": [
    "- Realmente lo que Python está haciendo es validar en memoria, es decier, Python está optimizando; y en caso de repetirse los valores; Reutilizaría el mismo espacio, es decir, lo dejaría ahí y simplemente pondría la referencia: De que v1 y v2 apuntan a la misma dirección de memoria. \n",
    "-  Ahí es donde se optimizan los recursos para que se puedan almacenar más variables."
   ]
  },
  {
   "cell_type": "code",
   "execution_count": 15,
   "id": "fd08df88",
   "metadata": {},
   "outputs": [
    {
     "name": "stdout",
     "output_type": "stream",
     "text": [
      "v1( 77 ) es v2( 77 )= True\n"
     ]
    }
   ],
   "source": [
    "v1 = 77\n",
    "v2 = 77\n",
    "print(\"v1(\", v1,\") es v2(\", v2,\")=\", v1 is v2)"
   ]
  },
  {
   "cell_type": "markdown",
   "id": "e020510a",
   "metadata": {},
   "source": [
    "- Aqui se comparten el mismo valor y se comparte la misma dirección de memoria.\n",
    "- Python utilizó un espacio en la memoria para guardar 77. Entonces no lo va a volver a guardar y  simplemente va a decir que v1 y v2 están apuntando al mismo lugar en memora, y eso es fácil de entenderse en \"alto nivel\", es decir, en lenguaje humano."
   ]
  },
  {
   "cell_type": "markdown",
   "id": "ecf7b1d2",
   "metadata": {},
   "source": [
    "## # IS NOT"
   ]
  },
  {
   "cell_type": "code",
   "execution_count": 16,
   "id": "f26042bb",
   "metadata": {},
   "outputs": [
    {
     "name": "stdout",
     "output_type": "stream",
     "text": [
      "v1( 11 ) no es v2( 55 )= True\n"
     ]
    }
   ],
   "source": [
    "v1 = 11\n",
    "v2 = 55\n",
    "print(\"v1(\", v1,\") no es v2(\", v2,\")=\", v1 is not v2)"
   ]
  },
  {
   "cell_type": "code",
   "execution_count": 17,
   "id": "f4df9c27",
   "metadata": {},
   "outputs": [
    {
     "name": "stdout",
     "output_type": "stream",
     "text": [
      "v1( 77 ) no es v2( 77 )= False\n"
     ]
    }
   ],
   "source": [
    "v1 = 77\n",
    "v2 = 77\n",
    "print(\"v1(\", v1,\") no es v2(\", v2,\")=\", v1 is not v2)"
   ]
  },
  {
   "cell_type": "markdown",
   "id": "629f5e1a",
   "metadata": {},
   "source": [
    "## Fin Parte_2 Mod 43 Operadores de Afiliación e Identidad.\n",
    "- Operadores de Identidad (12:50 ->)."
   ]
  }
 ],
 "metadata": {
  "kernelspec": {
   "display_name": "Python 3 (ipykernel)",
   "language": "python",
   "name": "python3"
  },
  "language_info": {
   "codemirror_mode": {
    "name": "ipython",
    "version": 3
   },
   "file_extension": ".py",
   "mimetype": "text/x-python",
   "name": "python",
   "nbconvert_exporter": "python",
   "pygments_lexer": "ipython3",
   "version": "3.9.12"
  }
 },
 "nbformat": 4,
 "nbformat_minor": 5
}

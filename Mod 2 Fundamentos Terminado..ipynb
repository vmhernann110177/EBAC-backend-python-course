{
 "cells": [
  {
   "cell_type": "markdown",
   "id": "e1f4a6d9",
   "metadata": {},
   "source": [
    "## Múltiples Valores de Entrada."
   ]
  },
  {
   "cell_type": "code",
   "execution_count": 5,
   "id": "ea1eaa40",
   "metadata": {},
   "outputs": [
    {
     "name": "stdout",
     "output_type": "stream",
     "text": [
      "Ingresa el valor de la variable my_number: 1000\n",
      "El valor de la variable my_number es:\n",
      " 1000\n"
     ]
    }
   ],
   "source": [
    "my_number = input(\"Ingresa el valor de la variable my_number: \")\n",
    "print(\"El valor de la variable my_number es:\\n\", my_number)"
   ]
  },
  {
   "cell_type": "markdown",
   "id": "39ebe5c2",
   "metadata": {},
   "source": [
    "### ¿Cómo haríamos para extraer múltiples valores?"
   ]
  },
  {
   "cell_type": "code",
   "execution_count": 6,
   "id": "477806da",
   "metadata": {},
   "outputs": [
    {
     "name": "stdout",
     "output_type": "stream",
     "text": [
      "Ingresa tres valores separados por un espacio: 100 200 300\n",
      "El valor de la variable v1 es:  100\n",
      "El valor de la variable v2 es:  200\n",
      "El valor de la variable v3 es:  300\n"
     ]
    }
   ],
   "source": [
    "## Ingresaremos tres valores separados por un espacio y los imprimiremos\n",
    "## Split se encarga de interpretar a el 'espacio' como el inicio de un nuevo valor.\n",
    "v1,v2,v3 = input(\"Ingresa tres valores separados por un espacio: \").split()\n",
    "print(\"El valor de la variable v1 es: \", v1)\n",
    "print(\"El valor de la variable v2 es: \", v2)\n",
    "print(\"El valor de la variable v3 es: \", v3)"
   ]
  },
  {
   "cell_type": "code",
   "execution_count": 7,
   "id": "c91c3877",
   "metadata": {},
   "outputs": [
    {
     "name": "stdout",
     "output_type": "stream",
     "text": [
      "Ingresa tres valores separados por una coma: 100,200,300\n",
      "El valor de la variable v1 es:  100\n",
      "El valor de la variable v2 es:  200\n",
      "El valor de la variable v3 es:  300\n"
     ]
    }
   ],
   "source": [
    "## Ingresaremos tres valores separados por una coma y los imprimiremos\n",
    "## Split se encarga de interpretar a la 'coma' como el inicio de un nuevo valor.\n",
    "v1,v2,v3 = input(\"Ingresa tres valores separados por una coma: \").split(\",\")\n",
    "print(\"El valor de la variable v1 es: \", v1)\n",
    "print(\"El valor de la variable v2 es: \", v2)\n",
    "print(\"El valor de la variable v3 es: \", v3)"
   ]
  },
  {
   "cell_type": "code",
   "execution_count": 8,
   "id": "24929039",
   "metadata": {},
   "outputs": [
    {
     "name": "stdout",
     "output_type": "stream",
     "text": [
      "Hemos terminado el módulo de Fundamentos\n"
     ]
    }
   ],
   "source": [
    "print(\"Hemos terminado el módulo de Fundamentos\")"
   ]
  },
  {
   "cell_type": "code",
   "execution_count": null,
   "id": "028f5109",
   "metadata": {},
   "outputs": [],
   "source": []
  }
 ],
 "metadata": {
  "kernelspec": {
   "display_name": "Python 3 (ipykernel)",
   "language": "python",
   "name": "python3"
  },
  "language_info": {
   "codemirror_mode": {
    "name": "ipython",
    "version": 3
   },
   "file_extension": ".py",
   "mimetype": "text/x-python",
   "name": "python",
   "nbconvert_exporter": "python",
   "pygments_lexer": "ipython3",
   "version": "3.9.12"
  }
 },
 "nbformat": 4,
 "nbformat_minor": 5
}

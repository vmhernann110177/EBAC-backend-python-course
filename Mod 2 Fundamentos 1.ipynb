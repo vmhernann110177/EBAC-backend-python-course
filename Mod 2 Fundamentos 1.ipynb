{
 "cells": [
  {
   "cell_type": "markdown",
   "id": "615057d0",
   "metadata": {},
   "source": [
    "## Clase: 1. Intro. Palabras Reservadas y Caracteres Importantes…"
   ]
  },
  {
   "cell_type": "markdown",
   "id": "5e05c129",
   "metadata": {},
   "source": [
    "# - Python is case sensitive."
   ]
  },
  {
   "cell_type": "code",
   "execution_count": 1,
   "id": "bc8c7917",
   "metadata": {
    "scrolled": true
   },
   "outputs": [
    {
     "name": "stdout",
     "output_type": "stream",
     "text": [
      "El curso es:  Backend Python\n"
     ]
    }
   ],
   "source": [
    "# Python is case sensitive\n",
    "A = \"Backend Python\"\n",
    "print(\"El curso es: \", A)"
   ]
  },
  {
   "cell_type": "code",
   "execution_count": 2,
   "id": "d5f624e0",
   "metadata": {},
   "outputs": [
    {
     "ename": "NameError",
     "evalue": "name 'a' is not defined",
     "output_type": "error",
     "traceback": [
      "\u001b[1;31m---------------------------------------------------------------------------\u001b[0m",
      "\u001b[1;31mNameError\u001b[0m                                 Traceback (most recent call last)",
      "Input \u001b[1;32mIn [2]\u001b[0m, in \u001b[0;36m<cell line: 3>\u001b[1;34m()\u001b[0m\n\u001b[0;32m      1\u001b[0m \u001b[38;5;66;03m# look at the difference using 'a'\u001b[39;00m\n\u001b[0;32m      2\u001b[0m \u001b[38;5;66;03m# here will send an error:\u001b[39;00m\n\u001b[1;32m----> 3\u001b[0m \u001b[38;5;28mprint\u001b[39m(\u001b[38;5;124m\"\u001b[39m\u001b[38;5;124mEl curso es: \u001b[39m\u001b[38;5;124m\"\u001b[39m, \u001b[43ma\u001b[49m)\n",
      "\u001b[1;31mNameError\u001b[0m: name 'a' is not defined"
     ]
    }
   ],
   "source": [
    "# look at the difference using 'a'\n",
    "# here will send an error:\n",
    "print(\"El curso es: \", a)"
   ]
  },
  {
   "cell_type": "markdown",
   "id": "b6cc982b",
   "metadata": {},
   "source": [
    "## - Plabras reservadas en python."
   ]
  },
  {
   "cell_type": "code",
   "execution_count": 3,
   "id": "47ad1ba7",
   "metadata": {},
   "outputs": [
    {
     "name": "stdout",
     "output_type": "stream",
     "text": [
      "\n",
      "Here is a list of the Python keywords.  Enter any keyword to get more help.\n",
      "\n",
      "False               break               for                 not\n",
      "None                class               from                or\n",
      "True                continue            global              pass\n",
      "__peg_parser__      def                 if                  raise\n",
      "and                 del                 import              return\n",
      "as                  elif                in                  try\n",
      "assert              else                is                  while\n",
      "async               except              lambda              with\n",
      "await               finally             nonlocal            yield\n",
      "\n"
     ]
    }
   ],
   "source": [
    "help(\"keywords\")"
   ]
  },
  {
   "cell_type": "markdown",
   "id": "39ae8e04",
   "metadata": {},
   "source": [
    "## - Caracteres de escape."
   ]
  },
  {
   "cell_type": "code",
   "execution_count": 4,
   "id": "ffe0bc81",
   "metadata": {},
   "outputs": [
    {
     "data": {
      "text/plain": [
       "\"'\""
      ]
     },
     "execution_count": 4,
     "metadata": {},
     "output_type": "execute_result"
    }
   ],
   "source": [
    "\"\\'\""
   ]
  },
  {
   "cell_type": "code",
   "execution_count": 5,
   "id": "6931311f",
   "metadata": {},
   "outputs": [
    {
     "data": {
      "text/plain": [
       "\"'\""
      ]
     },
     "execution_count": 5,
     "metadata": {},
     "output_type": "execute_result"
    }
   ],
   "source": [
    "# same\n",
    "\"'\""
   ]
  },
  {
   "cell_type": "code",
   "execution_count": 6,
   "id": "eb12a3ac",
   "metadata": {},
   "outputs": [
    {
     "data": {
      "text/plain": [
       "\"'\""
      ]
     },
     "execution_count": 6,
     "metadata": {},
     "output_type": "execute_result"
    }
   ],
   "source": [
    "# same\n",
    "'\\''"
   ]
  },
  {
   "cell_type": "code",
   "execution_count": 7,
   "id": "492f8bae",
   "metadata": {},
   "outputs": [
    {
     "ename": "SyntaxError",
     "evalue": "EOF while scanning triple-quoted string literal (3421942028.py, line 2)",
     "output_type": "error",
     "traceback": [
      "\u001b[1;36m  Input \u001b[1;32mIn [7]\u001b[1;36m\u001b[0m\n\u001b[1;33m    '''\u001b[0m\n\u001b[1;37m       ^\u001b[0m\n\u001b[1;31mSyntaxError\u001b[0m\u001b[1;31m:\u001b[0m EOF while scanning triple-quoted string literal\n"
     ]
    }
   ],
   "source": [
    "# here will send an error:\n",
    "'''"
   ]
  },
  {
   "cell_type": "code",
   "execution_count": 8,
   "id": "042bf507",
   "metadata": {},
   "outputs": [
    {
     "data": {
      "text/plain": [
       "\"'\""
      ]
     },
     "execution_count": 8,
     "metadata": {},
     "output_type": "execute_result"
    }
   ],
   "source": [
    "# Double quote\n",
    "\"\\'\""
   ]
  },
  {
   "cell_type": "code",
   "execution_count": 9,
   "id": "85ccaa93",
   "metadata": {},
   "outputs": [
    {
     "ename": "SyntaxError",
     "evalue": "EOF while scanning triple-quoted string literal (3840607775.py, line 2)",
     "output_type": "error",
     "traceback": [
      "\u001b[1;36m  Input \u001b[1;32mIn [9]\u001b[1;36m\u001b[0m\n\u001b[1;33m    \"\"\"\u001b[0m\n\u001b[1;37m       ^\u001b[0m\n\u001b[1;31mSyntaxError\u001b[0m\u001b[1;31m:\u001b[0m EOF while scanning triple-quoted string literal\n"
     ]
    }
   ],
   "source": [
    "# here will send an error:\n",
    "\"\"\""
   ]
  },
  {
   "cell_type": "markdown",
   "id": "c035720b",
   "metadata": {},
   "source": [
    "## - Caracter de escape: New Line"
   ]
  },
  {
   "cell_type": "code",
   "execution_count": 10,
   "id": "471acc66",
   "metadata": {},
   "outputs": [
    {
     "data": {
      "text/plain": [
       "'\\n'"
      ]
     },
     "execution_count": 10,
     "metadata": {},
     "output_type": "execute_result"
    }
   ],
   "source": [
    "# New Line\n",
    "\"\\n\""
   ]
  },
  {
   "cell_type": "code",
   "execution_count": 11,
   "id": "de3b3834",
   "metadata": {},
   "outputs": [
    {
     "name": "stdout",
     "output_type": "stream",
     "text": [
      "backend Python \n",
      "from EBAC\n"
     ]
    }
   ],
   "source": [
    "# More evident\n",
    "my_course = \"backend Python \\nfrom EBAC\"\n",
    "# to see it call it formally using print() (CUT THE LINE)\n",
    "print(my_course)"
   ]
  },
  {
   "cell_type": "code",
   "execution_count": 12,
   "id": "e61b7e42",
   "metadata": {},
   "outputs": [
    {
     "name": "stdout",
     "output_type": "stream",
     "text": [
      "backend\n",
      "Python \n",
      "from EBAC\n"
     ]
    }
   ],
   "source": [
    "# More exercise\n",
    "my_course = \"backend\\nPython \\nfrom EBAC\"\n",
    "# to see it call it formally using print()\n",
    "print(my_course)"
   ]
  },
  {
   "cell_type": "markdown",
   "id": "300a9aed",
   "metadata": {},
   "source": [
    "## - Caracter de escape: tab\n",
    "### Hace un espacio tabulador"
   ]
  },
  {
   "cell_type": "code",
   "execution_count": 13,
   "id": "77088529",
   "metadata": {},
   "outputs": [
    {
     "name": "stdout",
     "output_type": "stream",
     "text": [
      "backend Python\t\tfrom\tEBAC\n"
     ]
    }
   ],
   "source": [
    "# another scape caracter '\\t' \"tab\"\n",
    "my_course = \"backend Python\\t\\tfrom\\tEBAC\"\n",
    "# to see it call it formally using print()\n",
    "print(my_course)"
   ]
  },
  {
   "cell_type": "markdown",
   "id": "4bb18787",
   "metadata": {},
   "source": [
    "## - Caracter de escape: \"carriage return\" \n",
    "### Retorno de carro (IGNORA TODO LO DE ATRAS)."
   ]
  },
  {
   "cell_type": "code",
   "execution_count": 14,
   "id": "79e6e359",
   "metadata": {},
   "outputs": [
    {
     "name": "stdout",
     "output_type": "stream",
     "text": [
      "backend \r",
      "Python \r",
      "from EBAC\n"
     ]
    }
   ],
   "source": [
    "# another scape caracter '\\r' \"carriage return\" (retorno de carro)\n",
    "my_course = \"backend \\rPython \\rfrom EBAC\"\n",
    "# to see it call it formally using print()\n",
    "print(my_course)  # ignore the above (IGNORA TODO LO DE ATRAS)\n"
   ]
  },
  {
   "cell_type": "markdown",
   "id": "17ad8026",
   "metadata": {},
   "source": [
    "## - Caracter de escape: back space\n",
    "### Remueve caracter anterior."
   ]
  },
  {
   "cell_type": "code",
   "execution_count": 15,
   "id": "dfa613d2",
   "metadata": {},
   "outputs": [
    {
     "name": "stdout",
     "output_type": "stream",
     "text": [
      "backend .\bPython .\bfrom EBAC\n"
     ]
    }
   ],
   "source": [
    "# another scape caracter '\\b' \"back space\" (retorno)\n",
    "my_course = \"backend .\\bPython .\\bfrom EBAC\"\n",
    "# to see it call it formally using print()\n",
    "print(my_course)  # removes the previous character (el punto'.')"
   ]
  },
  {
   "cell_type": "markdown",
   "id": "78964a8c",
   "metadata": {},
   "source": [
    "## - Caracter octal y hexadecimal\n",
    "### Sistemas de numeracion octal base 8 y hexadecimal base 16."
   ]
  },
  {
   "cell_type": "code",
   "execution_count": 16,
   "id": "e0baadb6",
   "metadata": {},
   "outputs": [
    {
     "data": {
      "text/plain": [
       "'\\\\ooo'"
      ]
     },
     "execution_count": 16,
     "metadata": {},
     "output_type": "execute_result"
    }
   ],
   "source": [
    "\"\\ooo\" # Octal (Solo ´pones el número de 3 digitos, \\123)"
   ]
  },
  {
   "cell_type": "code",
   "execution_count": 17,
   "id": "0a10e70a",
   "metadata": {},
   "outputs": [
    {
     "name": "stdout",
     "output_type": "stream",
     "text": [
      "Hola\n"
     ]
    }
   ],
   "source": [
    "# ejemplo Octal\n",
    "hello_spanish_octal = \"\\110\\157\\154\\141\"\n",
    "# to see it call it formally using print()\n",
    "print(hello_spanish_octal)  # me da hola porque \"\\110:H \\157:o \\154:l \\141:a\""
   ]
  },
  {
   "cell_type": "code",
   "execution_count": 18,
   "id": "679d6860",
   "metadata": {},
   "outputs": [],
   "source": [
    "# \"\\xhh\" # Hexadecimal (´pones el numero de 3 digitos) antepones una 'x', \\x123)"
   ]
  },
  {
   "cell_type": "code",
   "execution_count": 19,
   "id": "b8a6c035",
   "metadata": {},
   "outputs": [
    {
     "name": "stdout",
     "output_type": "stream",
     "text": [
      "Hola\n"
     ]
    }
   ],
   "source": [
    "# ejemplo Hexadecimal\n",
    "hello_spanish_hex = \"\\x48\\x6f\\x6c\\x61\"\n",
    "# to see it call it formally using print()\n",
    "print(hello_spanish_hex)  # me da hola porque \"\\110:H \\157:o \\154:l \\141:a\""
   ]
  },
  {
   "cell_type": "code",
   "execution_count": null,
   "id": "5b0e2c5e",
   "metadata": {},
   "outputs": [],
   "source": []
  }
 ],
 "metadata": {
  "kernelspec": {
   "display_name": "Python 3 (ipykernel)",
   "language": "python",
   "name": "python3"
  },
  "language_info": {
   "codemirror_mode": {
    "name": "ipython",
    "version": 3
   },
   "file_extension": ".py",
   "mimetype": "text/x-python",
   "name": "python",
   "nbconvert_exporter": "python",
   "pygments_lexer": "ipython3",
   "version": "3.9.12"
  }
 },
 "nbformat": 4,
 "nbformat_minor": 5
}

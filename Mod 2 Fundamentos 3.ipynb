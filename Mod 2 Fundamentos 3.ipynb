{
 "cells": [
  {
   "cell_type": "markdown",
   "id": "b343beeb",
   "metadata": {},
   "source": [
    "## Mutabilidad e Inmutabilidad."
   ]
  },
  {
   "cell_type": "code",
   "execution_count": 14,
   "id": "adec9aef",
   "metadata": {},
   "outputs": [],
   "source": [
    "tuple1 = (1,2,3,4,5)"
   ]
  },
  {
   "cell_type": "code",
   "execution_count": 15,
   "id": "af9d63be",
   "metadata": {},
   "outputs": [
    {
     "data": {
      "text/plain": [
       "(1, 2, 3, 4, 5)"
      ]
     },
     "execution_count": 15,
     "metadata": {},
     "output_type": "execute_result"
    }
   ],
   "source": [
    "tuple1"
   ]
  },
  {
   "cell_type": "markdown",
   "id": "5bc252ea",
   "metadata": {},
   "source": [
    "#### Inmutabilidad: Las tuplas son inmutables, eso significa, que si yo quiero acceder a Modificar un elemento en particular. Si por ejemplo, yo quisiera decir, el elemento cero es el primer elemento de programación, siempre iniciamos desde cero. Si quiero decirle que ahora el nuevo valor es 10 a mandar un error."
   ]
  },
  {
   "cell_type": "code",
   "execution_count": 16,
   "id": "cca1b41a",
   "metadata": {},
   "outputs": [
    {
     "data": {
      "text/plain": [
       "1"
      ]
     },
     "execution_count": 16,
     "metadata": {},
     "output_type": "execute_result"
    }
   ],
   "source": [
    "tuple1[0]"
   ]
  },
  {
   "cell_type": "code",
   "execution_count": 17,
   "id": "61eec87e",
   "metadata": {},
   "outputs": [
    {
     "ename": "TypeError",
     "evalue": "'tuple' object does not support item assignment",
     "output_type": "error",
     "traceback": [
      "\u001b[1;31m---------------------------------------------------------------------------\u001b[0m",
      "\u001b[1;31mTypeError\u001b[0m                                 Traceback (most recent call last)",
      "Input \u001b[1;32mIn [17]\u001b[0m, in \u001b[0;36m<cell line: 2>\u001b[1;34m()\u001b[0m\n\u001b[0;32m      1\u001b[0m \u001b[38;5;66;03m# Inmutabilidad:\u001b[39;00m\n\u001b[1;32m----> 2\u001b[0m tuple1[\u001b[38;5;241m0\u001b[39m] \u001b[38;5;241m=\u001b[39m \u001b[38;5;241m10\u001b[39m\n",
      "\u001b[1;31mTypeError\u001b[0m: 'tuple' object does not support item assignment"
     ]
    }
   ],
   "source": [
    "# Inmutabilidad:\n",
    "tuple1[0] = 10"
   ]
  },
  {
   "cell_type": "markdown",
   "id": "4e57f52a",
   "metadata": {},
   "source": [
    "#### Dice que los objetos 'tupla' no soportan la asignación. Porque los objetos 'tupla' son inmutables."
   ]
  },
  {
   "cell_type": "markdown",
   "id": "290c4ade",
   "metadata": {},
   "source": [
    "### Lo mismo aplicaría para cadenas. Por ejemplo, si yo pusiera aquí una nueva variable que se llame 'my_string' y le asigno el valor de:\"Aprendiendo sobre inmutabilidad\"."
   ]
  },
  {
   "cell_type": "code",
   "execution_count": 18,
   "id": "8d029fb6",
   "metadata": {},
   "outputs": [],
   "source": [
    "my_string = \"Aprendiendo sobre inmutabilidad\""
   ]
  },
  {
   "cell_type": "code",
   "execution_count": 19,
   "id": "181b6fd7",
   "metadata": {},
   "outputs": [
    {
     "data": {
      "text/plain": [
       "'Aprendiendo sobre inmutabilidad'"
      ]
     },
     "execution_count": 19,
     "metadata": {},
     "output_type": "execute_result"
    }
   ],
   "source": [
    "my_string"
   ]
  },
  {
   "cell_type": "code",
   "execution_count": 20,
   "id": "cdf52636",
   "metadata": {},
   "outputs": [
    {
     "data": {
      "text/plain": [
       "'A'"
      ]
     },
     "execution_count": 20,
     "metadata": {},
     "output_type": "execute_result"
    }
   ],
   "source": [
    "my_string[0]"
   ]
  },
  {
   "cell_type": "code",
   "execution_count": 21,
   "id": "e7db7d49",
   "metadata": {},
   "outputs": [
    {
     "ename": "TypeError",
     "evalue": "'str' object does not support item assignment",
     "output_type": "error",
     "traceback": [
      "\u001b[1;31m---------------------------------------------------------------------------\u001b[0m",
      "\u001b[1;31mTypeError\u001b[0m                                 Traceback (most recent call last)",
      "Input \u001b[1;32mIn [21]\u001b[0m, in \u001b[0;36m<cell line: 1>\u001b[1;34m()\u001b[0m\n\u001b[1;32m----> 1\u001b[0m my_string[\u001b[38;5;241m0\u001b[39m] \u001b[38;5;241m=\u001b[39m \u001b[38;5;124m\"\u001b[39m\u001b[38;5;124ma\u001b[39m\u001b[38;5;124m\"\u001b[39m\n",
      "\u001b[1;31mTypeError\u001b[0m: 'str' object does not support item assignment"
     ]
    }
   ],
   "source": [
    "my_string[0] = \"a\""
   ]
  },
  {
   "cell_type": "markdown",
   "id": "03aec5bc",
   "metadata": {},
   "source": [
    "#### De igual forma, las cadenas son inmutables, no soportan la asignación directa a una posición. Entonces, me manda este error de que \"los objetos 'string' o 'str' no soportan la asignación\".\n",
    "#### Hay otros procesos, las funciones para realizar transformaciones sobre este tipo de elementos. Pero por ahora Estamos aprendiendo un concepto más básico para saber si lo permite directamente."
   ]
  },
  {
   "cell_type": "code",
   "execution_count": 22,
   "id": "0702a7f6",
   "metadata": {},
   "outputs": [],
   "source": [
    "colours = [\"rojo\", \"azul\", \"verde\", \"negro\"]"
   ]
  },
  {
   "cell_type": "code",
   "execution_count": 23,
   "id": "2ac4d797",
   "metadata": {},
   "outputs": [
    {
     "data": {
      "text/plain": [
       "['rojo', 'azul', 'verde', 'negro']"
      ]
     },
     "execution_count": 23,
     "metadata": {},
     "output_type": "execute_result"
    }
   ],
   "source": [
    "colours"
   ]
  },
  {
   "cell_type": "code",
   "execution_count": 24,
   "id": "b00948e5",
   "metadata": {},
   "outputs": [
    {
     "data": {
      "text/plain": [
       "'rojo'"
      ]
     },
     "execution_count": 24,
     "metadata": {},
     "output_type": "execute_result"
    }
   ],
   "source": [
    "colours[0]"
   ]
  },
  {
   "cell_type": "code",
   "execution_count": 25,
   "id": "ea44779c",
   "metadata": {},
   "outputs": [],
   "source": [
    "colours[0] = \"blanco\""
   ]
  },
  {
   "cell_type": "code",
   "execution_count": 26,
   "id": "6a9eb4d3",
   "metadata": {},
   "outputs": [
    {
     "data": {
      "text/plain": [
       "['blanco', 'azul', 'verde', 'negro']"
      ]
     },
     "execution_count": 26,
     "metadata": {},
     "output_type": "execute_result"
    }
   ],
   "source": [
    "colours"
   ]
  },
  {
   "cell_type": "markdown",
   "id": "5fcce363",
   "metadata": {},
   "source": [
    "#### Aquí tengo mi lista y si permitió el cambio directamente."
   ]
  },
  {
   "cell_type": "markdown",
   "id": "15dc0140",
   "metadata": {},
   "source": [
    "## En conclusión, hay algunas estructuras que nos permiten realizar modificaciones directamente y hay otras que no. \n",
    "## Y a esta diferencia se le conoce como mutabilidad o inmutabilidad."
   ]
  },
  {
   "cell_type": "code",
   "execution_count": null,
   "id": "eac785f1",
   "metadata": {},
   "outputs": [],
   "source": []
  }
 ],
 "metadata": {
  "kernelspec": {
   "display_name": "Python 3 (ipykernel)",
   "language": "python",
   "name": "python3"
  },
  "language_info": {
   "codemirror_mode": {
    "name": "ipython",
    "version": 3
   },
   "file_extension": ".py",
   "mimetype": "text/x-python",
   "name": "python",
   "nbconvert_exporter": "python",
   "pygments_lexer": "ipython3",
   "version": "3.9.12"
  }
 },
 "nbformat": 4,
 "nbformat_minor": 5
}

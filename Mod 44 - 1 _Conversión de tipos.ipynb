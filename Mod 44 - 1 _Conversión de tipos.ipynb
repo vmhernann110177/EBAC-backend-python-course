{
 "cells": [
  {
   "cell_type": "markdown",
   "id": "df6432c1",
   "metadata": {},
   "source": [
    "## Conversión de tipos."
   ]
  },
  {
   "cell_type": "markdown",
   "id": "6944847f",
   "metadata": {},
   "source": [
    "¿Qué es la conversión de tipos? \n",
    "- Es el proceso de conversión de un tipo de dato a otro tipo de dato \n",
    "- Es un paso muy importante para combinar múltiples fuentes de datos en un formato específico. \n",
    "- Hay de 2 tipos: \n",
    "   - Conversión implícita: Hecha de forma automática por intérprete de python\n",
    "   - Conversión explícita: Que está dicho o especificado de forma clara y detallada, sin insinuar ni dar nada por sabido o conocido."
   ]
  },
  {
   "cell_type": "markdown",
   "id": "617d5e4e",
   "metadata": {},
   "source": [
    "### Conversión implícita:"
   ]
  },
  {
   "cell_type": "code",
   "execution_count": 1,
   "id": "6f263721",
   "metadata": {},
   "outputs": [
    {
     "data": {
      "text/plain": [
       "16.0"
      ]
     },
     "execution_count": 1,
     "metadata": {},
     "output_type": "execute_result"
    }
   ],
   "source": [
    "# Sumamos un entero con un float da un float (Hizo una converion \"automaticA\")\n",
    "14 + 2.0"
   ]
  },
  {
   "cell_type": "code",
   "execution_count": 2,
   "id": "77f4f8c4",
   "metadata": {},
   "outputs": [
    {
     "data": {
      "text/plain": [
       "19.0"
      ]
     },
     "execution_count": 2,
     "metadata": {},
     "output_type": "execute_result"
    }
   ],
   "source": [
    "# Otro ejemplo: entero + float + entero = float\n",
    "14 + 2.0 +3"
   ]
  },
  {
   "cell_type": "markdown",
   "id": "e704217c",
   "metadata": {},
   "source": [
    "### Conversión explícita."
   ]
  },
  {
   "cell_type": "code",
   "execution_count": 3,
   "id": "cca5067e",
   "metadata": {},
   "outputs": [
    {
     "data": {
      "text/plain": [
       "199"
      ]
     },
     "execution_count": 3,
     "metadata": {},
     "output_type": "execute_result"
    }
   ],
   "source": [
    "# Aqui le pido que convierta un número float a uno entero.\n",
    "## Digamos que estoy haciendo explicita (estoy especificando) la conversión.\n",
    "### Fijate que se queda solo con la parte enter del valor, no redondea.\n",
    "int(199.99)"
   ]
  },
  {
   "cell_type": "code",
   "execution_count": 4,
   "id": "493c22ca",
   "metadata": {},
   "outputs": [
    {
     "data": {
      "text/plain": [
       "58.0"
      ]
     },
     "execution_count": 4,
     "metadata": {},
     "output_type": "execute_result"
    }
   ],
   "source": [
    "# Aqui le pido que convierta un número entero a uno float.\n",
    "float(58)"
   ]
  },
  {
   "cell_type": "code",
   "execution_count": 5,
   "id": "39bdad14",
   "metadata": {},
   "outputs": [
    {
     "data": {
      "text/plain": [
       "(4+0j)"
      ]
     },
     "execution_count": 5,
     "metadata": {},
     "output_type": "execute_result"
    }
   ],
   "source": [
    "# Aqui le pido que convierta un número entero a uno complejo \n",
    "# (parte entera  +  parte imaginaria).\n",
    "complex(4)"
   ]
  },
  {
   "cell_type": "markdown",
   "id": "dcc56e70",
   "metadata": {},
   "source": [
    "### Conversión int"
   ]
  },
  {
   "cell_type": "code",
   "execution_count": 6,
   "id": "3b320960",
   "metadata": {},
   "outputs": [
    {
     "data": {
      "text/plain": [
       "10"
      ]
     },
     "execution_count": 6,
     "metadata": {},
     "output_type": "execute_result"
    }
   ],
   "source": [
    "# float a int (se queda solo la parte entera)\n",
    "int(10.78)"
   ]
  },
  {
   "cell_type": "code",
   "execution_count": 7,
   "id": "2ba0a920",
   "metadata": {},
   "outputs": [
    {
     "data": {
      "text/plain": [
       "0"
      ]
     },
     "execution_count": 7,
     "metadata": {},
     "output_type": "execute_result"
    }
   ],
   "source": [
    "# bool a int\n",
    "int(False)"
   ]
  },
  {
   "cell_type": "code",
   "execution_count": 8,
   "id": "3937e1e3",
   "metadata": {},
   "outputs": [
    {
     "data": {
      "text/plain": [
       "1"
      ]
     },
     "execution_count": 8,
     "metadata": {},
     "output_type": "execute_result"
    }
   ],
   "source": [
    "# bool a int\n",
    "int(True)"
   ]
  },
  {
   "cell_type": "code",
   "execution_count": 9,
   "id": "3389334a",
   "metadata": {},
   "outputs": [
    {
     "ename": "TypeError",
     "evalue": "can't convert complex to int",
     "output_type": "error",
     "traceback": [
      "\u001b[1;31m---------------------------------------------------------------------------\u001b[0m",
      "\u001b[1;31mTypeError\u001b[0m                                 Traceback (most recent call last)",
      "Input \u001b[1;32mIn [9]\u001b[0m, in \u001b[0;36m<cell line: 2>\u001b[1;34m()\u001b[0m\n\u001b[0;32m      1\u001b[0m \u001b[38;5;66;03m# error de complex a entero (can't convert complex to int)\u001b[39;00m\n\u001b[1;32m----> 2\u001b[0m \u001b[38;5;28;43mint\u001b[39;49m\u001b[43m(\u001b[49m\u001b[38;5;241;43m5\u001b[39;49m\u001b[38;5;241;43m+\u001b[39;49m\u001b[38;5;241;43m3\u001b[39;49m\u001b[43mj\u001b[49m\u001b[43m)\u001b[49m\n",
      "\u001b[1;31mTypeError\u001b[0m: can't convert complex to int"
     ]
    }
   ],
   "source": [
    "# error de complex a entero (can't convert complex to int)\n",
    "int(5+3j)"
   ]
  },
  {
   "cell_type": "code",
   "execution_count": null,
   "id": "0f0a6ffb",
   "metadata": {},
   "outputs": [],
   "source": [
    "# string to int (siempre y cuando la cadena sea un numero entero)\n",
    "int(\"120\")"
   ]
  },
  {
   "cell_type": "code",
   "execution_count": 10,
   "id": "6d620da6",
   "metadata": {},
   "outputs": [
    {
     "ename": "ValueError",
     "evalue": "invalid literal for int() with base 10: '120.1'",
     "output_type": "error",
     "traceback": [
      "\u001b[1;31m---------------------------------------------------------------------------\u001b[0m",
      "\u001b[1;31mValueError\u001b[0m                                Traceback (most recent call last)",
      "Input \u001b[1;32mIn [10]\u001b[0m, in \u001b[0;36m<cell line: 4>\u001b[1;34m()\u001b[0m\n\u001b[0;32m      1\u001b[0m \u001b[38;5;66;03m# string to int +++ siempre y cuando la cadena sea un numero entero +++\u001b[39;00m\n\u001b[0;32m      2\u001b[0m \u001b[38;5;66;03m# aqui provoco el error\u001b[39;00m\n\u001b[0;32m      3\u001b[0m \u001b[38;5;66;03m# string('que es un float') to int\u001b[39;00m\n\u001b[1;32m----> 4\u001b[0m \u001b[38;5;28;43mint\u001b[39;49m\u001b[43m(\u001b[49m\u001b[38;5;124;43m\"\u001b[39;49m\u001b[38;5;124;43m120.1\u001b[39;49m\u001b[38;5;124;43m\"\u001b[39;49m\u001b[43m)\u001b[49m\n",
      "\u001b[1;31mValueError\u001b[0m: invalid literal for int() with base 10: '120.1'"
     ]
    }
   ],
   "source": [
    "# string to int +++ siempre y cuando la cadena sea un numero entero +++\n",
    "# aqui provoco el error\n",
    "# string('que es un float') to int\n",
    "int(\"120.1\")"
   ]
  },
  {
   "cell_type": "code",
   "execution_count": 11,
   "id": "17614f6d",
   "metadata": {},
   "outputs": [
    {
     "name": "stdout",
     "output_type": "stream",
     "text": [
      "120\n"
     ]
    }
   ],
   "source": [
    "# ESTO ES MIO... Recuerdo que lo implementé en la calculadora.\n",
    "# evalúo la operación con eval() e implícitamente lo convertirá a un float\n",
    "# explicitamente yo le pido que ese float lo convierta a un int\n",
    "print(int(eval(\"120.1\")))"
   ]
  },
  {
   "cell_type": "code",
   "execution_count": 12,
   "id": "57c037e7",
   "metadata": {},
   "outputs": [
    {
     "name": "stdout",
     "output_type": "stream",
     "text": [
      "120\n"
     ]
    }
   ],
   "source": [
    "# ESTA ES MIA, propongo un 'eval()' para convertir la cadena a 'float' \n",
    "# y despues 'lo convierto' de 'forma explicita' a un entero. Y si funciona.\n",
    "print(int(eval(\"120.5\")))"
   ]
  },
  {
   "cell_type": "markdown",
   "id": "9c83d19e",
   "metadata": {},
   "source": [
    "### Conversión float (9:38)"
   ]
  },
  {
   "cell_type": "code",
   "execution_count": 13,
   "id": "b6588ead",
   "metadata": {},
   "outputs": [
    {
     "data": {
      "text/plain": [
       "23.0"
      ]
     },
     "execution_count": 13,
     "metadata": {},
     "output_type": "execute_result"
    }
   ],
   "source": [
    "#int to float\n",
    "float(23)"
   ]
  },
  {
   "cell_type": "code",
   "execution_count": 14,
   "id": "ed4814d1",
   "metadata": {},
   "outputs": [
    {
     "ename": "TypeError",
     "evalue": "can't convert complex to float",
     "output_type": "error",
     "traceback": [
      "\u001b[1;31m---------------------------------------------------------------------------\u001b[0m",
      "\u001b[1;31mTypeError\u001b[0m                                 Traceback (most recent call last)",
      "Input \u001b[1;32mIn [14]\u001b[0m, in \u001b[0;36m<cell line: 3>\u001b[1;34m()\u001b[0m\n\u001b[0;32m      1\u001b[0m \u001b[38;5;66;03m# error\u001b[39;00m\n\u001b[0;32m      2\u001b[0m \u001b[38;5;66;03m#complex to float.\u001b[39;00m\n\u001b[1;32m----> 3\u001b[0m \u001b[38;5;28;43mfloat\u001b[39;49m\u001b[43m(\u001b[49m\u001b[38;5;241;43m23\u001b[39;49m\u001b[38;5;241;43m+\u001b[39;49m\u001b[38;5;241;43m3\u001b[39;49m\u001b[43mj\u001b[49m\u001b[43m)\u001b[49m\n",
      "\u001b[1;31mTypeError\u001b[0m: can't convert complex to float"
     ]
    }
   ],
   "source": [
    "# error\n",
    "#complex to float.\n",
    "float(23+3j)"
   ]
  },
  {
   "cell_type": "code",
   "execution_count": 15,
   "id": "3f882b7b",
   "metadata": {},
   "outputs": [
    {
     "data": {
      "text/plain": [
       "1.0"
      ]
     },
     "execution_count": 15,
     "metadata": {},
     "output_type": "execute_result"
    }
   ],
   "source": [
    "# bool to float\n",
    "float(True)"
   ]
  },
  {
   "cell_type": "code",
   "execution_count": 16,
   "id": "8024c547",
   "metadata": {},
   "outputs": [
    {
     "data": {
      "text/plain": [
       "843.29"
      ]
     },
     "execution_count": 16,
     "metadata": {},
     "output_type": "execute_result"
    }
   ],
   "source": [
    "# String to float\n",
    "# a diferencia de int(\"120.1\") que marca ++ Error ++\n",
    "# Aqui si se puede. :)\n",
    "float(\"843.29\")"
   ]
  },
  {
   "cell_type": "code",
   "execution_count": 17,
   "id": "4b3912a4",
   "metadata": {},
   "outputs": [
    {
     "data": {
      "text/plain": [
       "843.0"
      ]
     },
     "execution_count": 17,
     "metadata": {},
     "output_type": "execute_result"
    }
   ],
   "source": [
    "# String('que es un int') a float (Si se puede tambien)\n",
    "# Aunque la cadena es int, no pasa nada, e implicitamente \n",
    "# La convierte de int a float\n",
    "float(\"843\")"
   ]
  },
  {
   "cell_type": "code",
   "execution_count": 18,
   "id": "926f4e1e",
   "metadata": {},
   "outputs": [
    {
     "ename": "ValueError",
     "evalue": "could not convert string to float: '843i'",
     "output_type": "error",
     "traceback": [
      "\u001b[1;31m---------------------------------------------------------------------------\u001b[0m",
      "\u001b[1;31mValueError\u001b[0m                                Traceback (most recent call last)",
      "Input \u001b[1;32mIn [18]\u001b[0m, in \u001b[0;36m<cell line: 3>\u001b[1;34m()\u001b[0m\n\u001b[0;32m      1\u001b[0m \u001b[38;5;66;03m# error ('cadena que no es un numero') ¿string8? to float\u001b[39;00m\n\u001b[0;32m      2\u001b[0m \u001b[38;5;66;03m# la cedena es un una convinacion de numero y letras.\u001b[39;00m\n\u001b[1;32m----> 3\u001b[0m \u001b[38;5;28;43mfloat\u001b[39;49m\u001b[43m(\u001b[49m\u001b[38;5;124;43m\"\u001b[39;49m\u001b[38;5;124;43m843i\u001b[39;49m\u001b[38;5;124;43m\"\u001b[39;49m\u001b[43m)\u001b[49m\n",
      "\u001b[1;31mValueError\u001b[0m: could not convert string to float: '843i'"
     ]
    }
   ],
   "source": [
    "# error ('cadena que no es un numero') ¿string8? to float\n",
    "# la cedena es un una convinacion de numero y letras.\n",
    "float(\"843i\")"
   ]
  },
  {
   "cell_type": "code",
   "execution_count": 19,
   "id": "5cce49a4",
   "metadata": {},
   "outputs": [
    {
     "ename": "ValueError",
     "evalue": "could not convert string to float: 'True'",
     "output_type": "error",
     "traceback": [
      "\u001b[1;31m---------------------------------------------------------------------------\u001b[0m",
      "\u001b[1;31mValueError\u001b[0m                                Traceback (most recent call last)",
      "Input \u001b[1;32mIn [19]\u001b[0m, in \u001b[0;36m<cell line: 3>\u001b[1;34m()\u001b[0m\n\u001b[0;32m      1\u001b[0m \u001b[38;5;66;03m# error\u001b[39;00m\n\u001b[0;32m      2\u001b[0m \u001b[38;5;66;03m# string bool to float\u001b[39;00m\n\u001b[1;32m----> 3\u001b[0m \u001b[38;5;28;43mfloat\u001b[39;49m\u001b[43m(\u001b[49m\u001b[38;5;124;43m\"\u001b[39;49m\u001b[38;5;124;43mTrue\u001b[39;49m\u001b[38;5;124;43m\"\u001b[39;49m\u001b[43m)\u001b[49m\n",
      "\u001b[1;31mValueError\u001b[0m: could not convert string to float: 'True'"
     ]
    }
   ],
   "source": [
    "# error\n",
    "# string bool to float\n",
    "float(\"True\")"
   ]
  },
  {
   "cell_type": "code",
   "execution_count": 20,
   "id": "af6a0469",
   "metadata": {},
   "outputs": [
    {
     "name": "stdout",
     "output_type": "stream",
     "text": [
      "1.0 : Si se pudo :D\n"
     ]
    }
   ],
   "source": [
    "# A ver mi solución:\n",
    "# 1. evaluamos la cadena y que implicitamente convierta la cadena a bool\n",
    "#2. explicitamente le pedimos que convierta el bool a float. si se puede :)\n",
    "print(float(eval(\"True\")),\": Si se pudo :D\")\n"
   ]
  },
  {
   "cell_type": "code",
   "execution_count": 21,
   "id": "90ab949a",
   "metadata": {},
   "outputs": [
    {
     "name": "stdout",
     "output_type": "stream",
     "text": [
      "1.0 : Si se pudo explicitamente :D\n"
     ]
    }
   ],
   "source": [
    "# esto es lo mismo , pero de la manera explicita\n",
    "\n",
    "print(float(bool(\"True\")),\": Si se pudo explicitamente :D\")\n"
   ]
  },
  {
   "cell_type": "markdown",
   "id": "e01f0d83",
   "metadata": {},
   "source": [
    "### Conversiones complex (14:56)"
   ]
  },
  {
   "cell_type": "code",
   "execution_count": null,
   "id": "17dff345",
   "metadata": {},
   "outputs": [],
   "source": []
  }
 ],
 "metadata": {
  "kernelspec": {
   "display_name": "Python 3 (ipykernel)",
   "language": "python",
   "name": "python3"
  },
  "language_info": {
   "codemirror_mode": {
    "name": "ipython",
    "version": 3
   },
   "file_extension": ".py",
   "mimetype": "text/x-python",
   "name": "python",
   "nbconvert_exporter": "python",
   "pygments_lexer": "ipython3",
   "version": "3.9.12"
  }
 },
 "nbformat": 4,
 "nbformat_minor": 5
}

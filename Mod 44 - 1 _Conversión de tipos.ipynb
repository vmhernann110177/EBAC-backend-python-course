{
 "cells": [
  {
   "cell_type": "markdown",
   "id": "df6432c1",
   "metadata": {},
   "source": [
    "## Conversión de tipos."
   ]
  },
  {
   "cell_type": "markdown",
   "id": "6944847f",
   "metadata": {},
   "source": [
    "¿Qué es la conversión de tipos? \n",
    "- Es el proceso de conversión de un tipo de dato a otro tipo de dato \n",
    "- Es un paso muy importante para combinar múltiples fuentes de datos en un formato específico. \n",
    "- Hay de 2 tipos: \n",
    "   - Conversión implícita: Hecha de forma automática por intérprete de python\n",
    "   - Conversión explícita: Que está dicho o especificado de forma clara y detallada, sin insinuar ni dar nada por sabido o conocido."
   ]
  },
  {
   "cell_type": "markdown",
   "id": "617d5e4e",
   "metadata": {},
   "source": [
    "### Conversión implícita:"
   ]
  },
  {
   "cell_type": "code",
   "execution_count": 1,
   "id": "6f263721",
   "metadata": {},
   "outputs": [
    {
     "data": {
      "text/plain": [
       "16.0"
      ]
     },
     "execution_count": 1,
     "metadata": {},
     "output_type": "execute_result"
    }
   ],
   "source": [
    "# Sumamos un entero con un float da un float (Hizo una converion \"automaticA\")\n",
    "14 + 2.0"
   ]
  },
  {
   "cell_type": "code",
   "execution_count": 2,
   "id": "77f4f8c4",
   "metadata": {},
   "outputs": [
    {
     "data": {
      "text/plain": [
       "19.0"
      ]
     },
     "execution_count": 2,
     "metadata": {},
     "output_type": "execute_result"
    }
   ],
   "source": [
    "# Otro ejemplo: entero + float + entero = float\n",
    "14 + 2.0 +3"
   ]
  },
  {
   "cell_type": "markdown",
   "id": "e704217c",
   "metadata": {},
   "source": [
    "### Conversión explícita."
   ]
  },
  {
   "cell_type": "code",
   "execution_count": 3,
   "id": "cca5067e",
   "metadata": {},
   "outputs": [
    {
     "data": {
      "text/plain": [
       "199"
      ]
     },
     "execution_count": 3,
     "metadata": {},
     "output_type": "execute_result"
    }
   ],
   "source": [
    "# Aqui le pido que convierta un número float a uno entero.\n",
    "## Digamos que estoy haciendo explicita (estoy especificando) la conversión.\n",
    "### Fijate que se queda solo con la parte enter del valor, no redondea.\n",
    "int(199.99)"
   ]
  },
  {
   "cell_type": "code",
   "execution_count": 4,
   "id": "493c22ca",
   "metadata": {},
   "outputs": [
    {
     "data": {
      "text/plain": [
       "58.0"
      ]
     },
     "execution_count": 4,
     "metadata": {},
     "output_type": "execute_result"
    }
   ],
   "source": [
    "# Aqui le pido que convierta un número entero a uno float.\n",
    "float(58)"
   ]
  },
  {
   "cell_type": "code",
   "execution_count": 5,
   "id": "39bdad14",
   "metadata": {},
   "outputs": [
    {
     "data": {
      "text/plain": [
       "(4+0j)"
      ]
     },
     "execution_count": 5,
     "metadata": {},
     "output_type": "execute_result"
    }
   ],
   "source": [
    "# Aqui le pido que convierta un número entero a uno complejo (perte entera  +  parte imaginaria).\n",
    "complex(4)"
   ]
  },
  {
   "cell_type": "markdown",
   "id": "dcc56e70",
   "metadata": {},
   "source": [
    "### Conversión int"
   ]
  },
  {
   "cell_type": "code",
   "execution_count": 6,
   "id": "3b320960",
   "metadata": {},
   "outputs": [
    {
     "data": {
      "text/plain": [
       "10"
      ]
     },
     "execution_count": 6,
     "metadata": {},
     "output_type": "execute_result"
    }
   ],
   "source": [
    "# float a int\n",
    "int(10.78)"
   ]
  },
  {
   "cell_type": "code",
   "execution_count": 7,
   "id": "2ba0a920",
   "metadata": {},
   "outputs": [
    {
     "data": {
      "text/plain": [
       "0"
      ]
     },
     "execution_count": 7,
     "metadata": {},
     "output_type": "execute_result"
    }
   ],
   "source": [
    "# bool a int\n",
    "int(False)"
   ]
  },
  {
   "cell_type": "code",
   "execution_count": 8,
   "id": "3937e1e3",
   "metadata": {},
   "outputs": [
    {
     "data": {
      "text/plain": [
       "1"
      ]
     },
     "execution_count": 8,
     "metadata": {},
     "output_type": "execute_result"
    }
   ],
   "source": [
    "# bool a int\n",
    "int(True)"
   ]
  },
  {
   "cell_type": "code",
   "execution_count": 9,
   "id": "3389334a",
   "metadata": {},
   "outputs": [
    {
     "ename": "TypeError",
     "evalue": "can't convert complex to int",
     "output_type": "error",
     "traceback": [
      "\u001b[1;31m---------------------------------------------------------------------------\u001b[0m",
      "\u001b[1;31mTypeError\u001b[0m                                 Traceback (most recent call last)",
      "Input \u001b[1;32mIn [9]\u001b[0m, in \u001b[0;36m<cell line: 2>\u001b[1;34m()\u001b[0m\n\u001b[0;32m      1\u001b[0m \u001b[38;5;66;03m# error de complex a entero (can't convert complex to int)\u001b[39;00m\n\u001b[1;32m----> 2\u001b[0m \u001b[38;5;28;43mint\u001b[39;49m\u001b[43m(\u001b[49m\u001b[38;5;241;43m5\u001b[39;49m\u001b[38;5;241;43m+\u001b[39;49m\u001b[38;5;241;43m3\u001b[39;49m\u001b[43mj\u001b[49m\u001b[43m)\u001b[49m\n",
      "\u001b[1;31mTypeError\u001b[0m: can't convert complex to int"
     ]
    }
   ],
   "source": [
    "# error de complex a entero (can't convert complex to int)\n",
    "int(5+3j)"
   ]
  },
  {
   "cell_type": "code",
   "execution_count": 10,
   "id": "0f0a6ffb",
   "metadata": {},
   "outputs": [
    {
     "data": {
      "text/plain": [
       "120"
      ]
     },
     "execution_count": 10,
     "metadata": {},
     "output_type": "execute_result"
    }
   ],
   "source": [
    "# string to int\n",
    "int(\"120\")"
   ]
  },
  {
   "cell_type": "code",
   "execution_count": 11,
   "id": "17614f6d",
   "metadata": {},
   "outputs": [
    {
     "name": "stdout",
     "output_type": "stream",
     "text": [
      "120\n"
     ]
    }
   ],
   "source": [
    "# ESTO ES MIO... Recuerdo que lo implementé en la calculadora.\n",
    "# convierto de string to int\n",
    "print(eval(\"120\"))"
   ]
  },
  {
   "cell_type": "code",
   "execution_count": 12,
   "id": "03828d14",
   "metadata": {},
   "outputs": [
    {
     "ename": "ValueError",
     "evalue": "invalid literal for int() with base 10: '120.5'",
     "output_type": "error",
     "traceback": [
      "\u001b[1;31m---------------------------------------------------------------------------\u001b[0m",
      "\u001b[1;31mValueError\u001b[0m                                Traceback (most recent call last)",
      "Input \u001b[1;32mIn [12]\u001b[0m, in \u001b[0;36m<cell line: 2>\u001b[1;34m()\u001b[0m\n\u001b[0;32m      1\u001b[0m \u001b[38;5;66;03m# Error: # string(que es un float) to int\u001b[39;00m\n\u001b[1;32m----> 2\u001b[0m \u001b[38;5;28;43mint\u001b[39;49m\u001b[43m(\u001b[49m\u001b[38;5;124;43m\"\u001b[39;49m\u001b[38;5;124;43m120.5\u001b[39;49m\u001b[38;5;124;43m\"\u001b[39;49m\u001b[43m)\u001b[49m\n",
      "\u001b[1;31mValueError\u001b[0m: invalid literal for int() with base 10: '120.5'"
     ]
    }
   ],
   "source": [
    "# Error: # string(que es un float) to int\n",
    "int(\"120.5\")"
   ]
  },
  {
   "cell_type": "code",
   "execution_count": 13,
   "id": "57c037e7",
   "metadata": {},
   "outputs": [
    {
     "name": "stdout",
     "output_type": "stream",
     "text": [
      "120\n"
     ]
    }
   ],
   "source": [
    "# ESTA ES MIA, propongo un 'eval()' para convertir la cadena a 'float' \n",
    "# y despues 'lo convierto' de 'forma explicita' a un entero. Y si funciona.\n",
    "print(int(eval(\"120.5\")))"
   ]
  },
  {
   "cell_type": "markdown",
   "id": "9c83d19e",
   "metadata": {},
   "source": [
    "### Conversión float (9:38)"
   ]
  },
  {
   "cell_type": "code",
   "execution_count": null,
   "id": "b6588ead",
   "metadata": {},
   "outputs": [],
   "source": []
  }
 ],
 "metadata": {
  "kernelspec": {
   "display_name": "Python 3 (ipykernel)",
   "language": "python",
   "name": "python3"
  },
  "language_info": {
   "codemirror_mode": {
    "name": "ipython",
    "version": 3
   },
   "file_extension": ".py",
   "mimetype": "text/x-python",
   "name": "python",
   "nbconvert_exporter": "python",
   "pygments_lexer": "ipython3",
   "version": "3.9.12"
  }
 },
 "nbformat": 4,
 "nbformat_minor": 5
}

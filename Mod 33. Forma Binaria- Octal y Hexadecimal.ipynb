{
 "cells": [
  {
   "cell_type": "markdown",
   "id": "0723597f",
   "metadata": {},
   "source": [
    "# Tipos de Enteros\n",
    "- Forma decimal\n",
    "-Forma binaria\n",
    "- Forma octal\n",
    "- Forma hexadecimal\n"
   ]
  },
  {
   "cell_type": "markdown",
   "id": "70b69031",
   "metadata": {},
   "source": [
    "# Forma decimal"
   ]
  },
  {
   "cell_type": "code",
   "execution_count": 1,
   "id": "f80dd5fc",
   "metadata": {},
   "outputs": [
    {
     "name": "stdout",
     "output_type": "stream",
     "text": [
      "El valor de 'my_decimal_number':  55\n"
     ]
    }
   ],
   "source": [
    "my_decimal_number = 55\n",
    "print(\"El valor de 'my_decimal_number': \", my_decimal_number)"
   ]
  },
  {
   "cell_type": "markdown",
   "id": "264e88f1",
   "metadata": {},
   "source": [
    "#### Ojo, si se lee (de izquierda a derecha) el valor de  55 =>  { [ (10^1) x 5 = 50]  +  [ (10^0) x 5 = 5] } = {50 +5}   =>  55"
   ]
  },
  {
   "cell_type": "code",
   "execution_count": 2,
   "id": "9521baf5",
   "metadata": {},
   "outputs": [
    {
     "name": "stdout",
     "output_type": "stream",
     "text": [
      "El valor de 'my_decimal_number':  54321\n"
     ]
    }
   ],
   "source": [
    "my_decimal_number = 54321 # Res: ((10^4 = 10,000) +(10^3 = 1000)+ (10^2 = 100) + (10^1 = 10) +(10^0 = 1) = 54321)\n",
    "print(\"El valor de 'my_decimal_number': \", my_decimal_number)"
   ]
  },
  {
   "cell_type": "markdown",
   "id": "ca138ec9",
   "metadata": {},
   "source": [
    "### Se lee (de derecha a izquierda): \"Para cada posicion es una potencia de 10^...\"\n",
    "- 1 X (\"10^0\"=     1) =       1\n",
    "- 2 X (\"10^1\"=    10) =      20\n",
    "- 3 X (\"10^2\"=   100) =     300\n",
    "- 4 X (\"10^3\"= 1,000) =   4,000\n",
    "- 5 X (\"10^4\"= 10,000) = 50,000\n",
    "                   ------------\n",
    "                     54321"
   ]
  },
  {
   "cell_type": "code",
   "execution_count": 3,
   "id": "a3472c10",
   "metadata": {},
   "outputs": [
    {
     "ename": "SyntaxError",
     "evalue": "invalid syntax (3074109488.py, line 2)",
     "output_type": "error",
     "traceback": [
      "\u001b[1;36m  Input \u001b[1;32mIn [3]\u001b[1;36m\u001b[0m\n\u001b[1;33m    my_decimal_number = 55d\u001b[0m\n\u001b[1;37m                          ^\u001b[0m\n\u001b[1;31mSyntaxError\u001b[0m\u001b[1;31m:\u001b[0m invalid syntax\n"
     ]
    }
   ],
   "source": [
    "# Error de sintaxis (letras símbolos, etc)\n",
    "my_decimal_number = 55d\n",
    "print(\"El valor de 'my_decimal_number': \", my_decimal_number)"
   ]
  },
  {
   "cell_type": "markdown",
   "id": "b9229de1",
   "metadata": {},
   "source": [
    "# Forma binaria\n",
    "- Código organizado en bytes \n",
    "- Lenguaje binario- \n",
    "- Lenguaje de las máquinas (1 y 0) \n",
    "###  Valor base: 2\n",
    "- Solamente acepta dos dígitos (1 y 0) \n",
    "- Usamos el prefijo '0b' o '0B'"
   ]
  },
  {
   "cell_type": "code",
   "execution_count": 14,
   "id": "9c512989",
   "metadata": {},
   "outputs": [
    {
     "ename": "SyntaxError",
     "evalue": "invalid digit '5' in binary literal (2571651388.py, line 2)",
     "output_type": "error",
     "traceback": [
      "\u001b[1;36m  Input \u001b[1;32mIn [14]\u001b[1;36m\u001b[0m\n\u001b[1;33m    my_binary_number = 0b1015\u001b[0m\n\u001b[1;37m                            ^\u001b[0m\n\u001b[1;31mSyntaxError\u001b[0m\u001b[1;31m:\u001b[0m invalid digit '5' in binary literal\n"
     ]
    }
   ],
   "source": [
    "# Error por que solo acepta 1's o 0's\n",
    "my_binary_number = 0b1015\n",
    "print(\"El valor de 'my_binary_number': \", my_binary_number)"
   ]
  },
  {
   "cell_type": "markdown",
   "id": "58c0f1cc",
   "metadata": {},
   "source": [
    "#### Hacemos una distincion entre decimal y binario con el número 11:"
   ]
  },
  {
   "cell_type": "code",
   "execution_count": 15,
   "id": "e308380e",
   "metadata": {},
   "outputs": [
    {
     "name": "stdout",
     "output_type": "stream",
     "text": [
      "El valor de 'my_decimal_number':  11\n"
     ]
    }
   ],
   "source": [
    "my_decimal_number = 11\n",
    "print(\"El valor de 'my_decimal_number': \", my_decimal_number)"
   ]
  },
  {
   "cell_type": "code",
   "execution_count": 41,
   "id": "a73efaa8",
   "metadata": {},
   "outputs": [
    {
     "name": "stdout",
     "output_type": "stream",
     "text": [
      "my_binary_number:  0b1110\n",
      "El 'Valor' de 'my_binary_number':  14\n",
      "El tipo de valor de my_binary_number es: <class 'str'>\n"
     ]
    }
   ],
   "source": [
    "my_binary_number = '0b1110' # => 11 = [ (1*2) + (1*1)] = [2+1] =3\n",
    "print(\"my_binary_number: \", my_binary_number)\n",
    "print(\"El 'Valor' de 'my_binary_number': \", eval(my_binary_number))\n",
    "print(\"El tipo de valor de my_binary_number es:\", type(my_binary_number))"
   ]
  },
  {
   "cell_type": "markdown",
   "id": "6930448b",
   "metadata": {},
   "source": [
    "### Se lee (de derecha a izquierda): \"Para cada posicion es una potencia de 2^...\"\n",
    "- 1 X (\"2^0\"=     1) = 1\n",
    "               +\n",
    "- 1 X (\"2^1\"=    2) = 2\n",
    "              ------           \n",
    "                = 3"
   ]
  },
  {
   "cell_type": "code",
   "execution_count": 8,
   "id": "3879fb88",
   "metadata": {},
   "outputs": [
    {
     "name": "stdout",
     "output_type": "stream",
     "text": [
      "El valor de 'my_binary_number':  7\n"
     ]
    }
   ],
   "source": [
    "my_binary_number = 0b111 # Res: ((2^2=4) + (2^1=2) + (2^0=1) = 7)\n",
    "print(\"El valor de 'my_binary_number': \", my_binary_number)"
   ]
  },
  {
   "cell_type": "markdown",
   "id": "bb0110ae",
   "metadata": {},
   "source": [
    "# Forma Octal\n",
    "\n",
    "### Valor base: 8\n",
    "- Solamente acepta digitos del 0 al 7\n",
    "- El prefijo es: '0o' , ó , '0O' "
   ]
  },
  {
   "cell_type": "markdown",
   "id": "c81e8d23",
   "metadata": {},
   "source": [
    "### my_decimal_number = 17\n",
    "print(\"El valor de 'my_decimal_number': \", my_decimal_number)"
   ]
  },
  {
   "cell_type": "code",
   "execution_count": 17,
   "id": "1352f174",
   "metadata": {},
   "outputs": [
    {
     "name": "stdout",
     "output_type": "stream",
     "text": [
      "El valor de 'my_octal_number'es:  0o63 \n",
      "\n",
      "usamos a 'eval()', quien transforma a 'my_octal_number' en decimal\n",
      "Entonces, el valor de 'my_octal_number' en decimal es:  51\n"
     ]
    }
   ],
   "source": [
    "# leo de Izquierda a derecha:\n",
    "# 0o17 \n",
    "# Res: [(8^1 = 8)*1] + \n",
    "#      [(8^0 = 1)*7] = \n",
    "#      (8*1)= 8 + \n",
    "#      (7*1)= 7\n",
    "#      (8+7) = 15\n",
    "str_my_octal_number = '0o63'\n",
    "print(\"El valor de 'my_octal_number'es: \", str_my_octal_number, \"\\n\")\n",
    "print(\"usamos a 'eval()', quien transforma a 'my_octal_number' en decimal\")\n",
    "my_octal_number = eval(str_my_octal_number) # eval() lo transforma a my_octal_number en decimal\n",
    "print(\"Entonces, el valor de 'my_octal_number' en decimal es: \", my_octal_number)\n",
    "\n",
    "# my_octal_number2 = my_octal_number \n",
    "# print(\"El valor de 'my_octal_number': \", my_octal_number2)\n",
    "## Ojo aqui ve que le mandé un numero Octal, \n",
    "## y ella lo tranforma a un número entero."
   ]
  },
  {
   "cell_type": "code",
   "execution_count": 26,
   "id": "ec3fdb47",
   "metadata": {},
   "outputs": [
    {
     "name": "stdout",
     "output_type": "stream",
     "text": [
      "El valor IMPLICITO de 'my_octal_number' en DECIMAL es:  15\n",
      "El valor de EXPLICITO 'my_octal_number' en OCTAL es:  0o17\n"
     ]
    }
   ],
   "source": [
    "# De apoyo\n",
    "my_octal_number =0o17\n",
    "print(\"El valor IMPLICITO de 'my_octal_number' en DECIMAL es: \", my_octal_number)\n",
    "\n",
    "# Explicitamente le pedimos el numero anterior\n",
    "my_octal_number = oct(my_octal_number)\n",
    "print(\"El valor de EXPLICITO 'my_octal_number' en OCTAL es: \", my_octal_number)"
   ]
  },
  {
   "cell_type": "code",
   "execution_count": 6,
   "id": "4ba7f7ea",
   "metadata": {},
   "outputs": [
    {
     "name": "stdout",
     "output_type": "stream",
     "text": [
      "0o153\n",
      "El valor IMPLICTO de 'my_octal_number' en DECIMAL es:  107\n"
     ]
    }
   ],
   "source": [
    "# leo de Izquierda a derecha:\n",
    "# 0o17 \n",
    "# Res: [1 x (8^2 = 64)] = 64 + \n",
    "#      [5 x (8^1 = 8)]  = 40 +\n",
    "#      [3 x (8^0 = 1)]  = 3   =>\n",
    "#      (64 + 40 + 24) = 107\n",
    "#      \n",
    "my_octal_number = '0o153'\n",
    "print(my_octal_number)\n",
    "print(\"El valor IMPLICTO de 'my_octal_number' en DECIMAL es: \", eval(my_octal_number))"
   ]
  },
  {
   "cell_type": "markdown",
   "id": "5033d063",
   "metadata": {},
   "source": [
    "# Forma Hexadecimal\n",
    "\n",
    "### Valor base: 16\n",
    "- Solamente acepta digitos del 0 al 9 y A,B,C,D,E,F\n",
    "- Acepta letras: 'a/A' , 'b/B' , 'c/C' , 'c/C' , 'd/D' , 'e/E' , 'f/F'\n",
    "- Usamos el prefijo: '0x' , ó , '0X' \n",
    "\n",
    "- 0\n",
    "- 1\n",
    "- 2\n",
    "- 3\n",
    "- 4\n",
    "- 5\n",
    "- 6\n",
    "- 7\n",
    "- 8\n",
    "- 9\n",
    "- A=10\n",
    "- B=11\n",
    "- C=12\n",
    "- D=13\n",
    "- E=14\n",
    "- F=15"
   ]
  },
  {
   "cell_type": "code",
   "execution_count": 28,
   "id": "d98aaa89",
   "metadata": {},
   "outputs": [
    {
     "name": "stdout",
     "output_type": "stream",
     "text": [
      "El valor de 'my_decimal_number':  17\n"
     ]
    }
   ],
   "source": [
    "my_decimal_number = 17\n",
    "print(\"El valor de 'my_decimal_number': \", my_decimal_number)"
   ]
  },
  {
   "cell_type": "code",
   "execution_count": 39,
   "id": "31ded55b",
   "metadata": {},
   "outputs": [
    {
     "name": "stdout",
     "output_type": "stream",
     "text": [
      "my_hex_number =  0x99 <class 'str'>\n",
      "El valor de 'my_hex_number' en DECIMAL:  153\n"
     ]
    }
   ],
   "source": [
    "# leo de Izquierda a derecha:\n",
    "## En Hexadecimal: 0x17 ## En decimal es: 23  \n",
    "# Res: [1 x (16^1 = 16)] = [1x16]= 16\n",
    "#      [7 x (16^0 = 1)]  = [7x1]= 7 =>\n",
    "#      (16 + 7) = 23\n",
    "#      \n",
    "my_hex_number = '0x99'\n",
    "print(\"my_hex_number = \", my_hex_number, type(my_hex_number))\n",
    "\n",
    "print(\"El valor de 'my_hex_number' en DECIMAL: \", eval(my_hex_number))"
   ]
  },
  {
   "cell_type": "code",
   "execution_count": 42,
   "id": "04a237ff",
   "metadata": {},
   "outputs": [
    {
     "name": "stdout",
     "output_type": "stream",
     "text": [
      "El valor IMPLICITO de 'my_hex_number = 0xA' en DECIMAL es:  11\n"
     ]
    }
   ],
   "source": [
    "# leo de Izquierda a derecha:\n",
    "## En Hexadecimal: 0xA \n",
    "# Res: 1,2...9,A(10)\n",
    "# Res: [A x (16^0 = 1)] = [10x1] = 10\n",
    "#\n",
    "my_hex_number = 0xB\n",
    "print(\"El valor IMPLICITO de 'my_hex_number = 0xA' en DECIMAL es: \", my_hex_number)"
   ]
  },
  {
   "cell_type": "code",
   "execution_count": 2,
   "id": "560a082f",
   "metadata": {},
   "outputs": [
    {
     "name": "stdout",
     "output_type": "stream",
     "text": [
      "El valor IMPLICITO de 'my_hex_number = 0x1C' en DECIMAL es:  26\n"
     ]
    }
   ],
   "source": [
    "# leo de Izquierda a derecha:\n",
    "# 0x1C \n",
    "# Res: [1  x (16^1 = 16)] = [1x16] = 16  \n",
    "#      [C x (16^0 = 1)] = [12x1] = 12 =>\n",
    "#      (16 + 12) = 28\n",
    "#      \n",
    "my_hex_number = 0x1A\n",
    "print(\"El valor IMPLICITO de 'my_hex_number = 0x1C' en DECIMAL es: \", my_hex_number)"
   ]
  },
  {
   "cell_type": "code",
   "execution_count": 5,
   "id": "4d1d721f",
   "metadata": {},
   "outputs": [
    {
     "name": "stdout",
     "output_type": "stream",
     "text": [
      "El valor IMPLICITO de 'my_hex_number = 0xA1' en DECIMAL es:  354\n"
     ]
    }
   ],
   "source": [
    "# leo de Izquierda a derecha:\n",
    "# 0xA1 \n",
    "# Res: [A  x (16^1 = 16)] = [10x16] = 160  \n",
    "#      [1 x (16^0 = 1)] = [1x1] = 1 =>\n",
    "#      (160 + 1) = 161\n",
    "#      \n",
    "my_hex_number = 0x162 \n",
    "print(\"El valor IMPLICITO de 'my_hex_number = 0xA1' en DECIMAL es: \", my_hex_number)"
   ]
  },
  {
   "cell_type": "code",
   "execution_count": null,
   "id": "e45734de",
   "metadata": {},
   "outputs": [],
   "source": []
  }
 ],
 "metadata": {
  "kernelspec": {
   "display_name": "Python 3 (ipykernel)",
   "language": "python",
   "name": "python3"
  },
  "language_info": {
   "codemirror_mode": {
    "name": "ipython",
    "version": 3
   },
   "file_extension": ".py",
   "mimetype": "text/x-python",
   "name": "python",
   "nbconvert_exporter": "python",
   "pygments_lexer": "ipython3",
   "version": "3.9.12"
  }
 },
 "nbformat": 4,
 "nbformat_minor": 5
}

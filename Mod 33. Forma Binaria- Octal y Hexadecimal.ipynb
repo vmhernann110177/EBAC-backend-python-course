{
 "cells": [
  {
   "cell_type": "markdown",
   "id": "0723597f",
   "metadata": {},
   "source": [
    "# Tipos de Enteros\n",
    "- Forma decimal\n",
    "-Forma binaria\n",
    "- Forma octal\n",
    "- Forma hexadecimal\n"
   ]
  },
  {
   "cell_type": "markdown",
   "id": "70b69031",
   "metadata": {},
   "source": [
    "# Forma decimal"
   ]
  },
  {
   "cell_type": "code",
   "execution_count": 1,
   "id": "f80dd5fc",
   "metadata": {},
   "outputs": [
    {
     "name": "stdout",
     "output_type": "stream",
     "text": [
      "El valor de 'my_decimal_number':  55\n"
     ]
    }
   ],
   "source": [
    "my_decimal_number = 55\n",
    "print(\"El valor de 'my_decimal_number': \", my_decimal_number)"
   ]
  },
  {
   "cell_type": "markdown",
   "id": "264e88f1",
   "metadata": {},
   "source": [
    "#### Ojo, acá arriba se lee (de derecha a izquierda): 55 =>  {[(5 x 10^1) = 50]  +  [(5 x 10^0) = 5]} = {50 +5}   =>  55"
   ]
  },
  {
   "cell_type": "code",
   "execution_count": 2,
   "id": "9521baf5",
   "metadata": {},
   "outputs": [
    {
     "name": "stdout",
     "output_type": "stream",
     "text": [
      "El valor de 'my_decimal_number':  54321\n"
     ]
    }
   ],
   "source": [
    "my_decimal_number = 54321 # Res: ((10^4=10,000) +...+ (10^0=1) = 54321)\n",
    "print(\"El valor de 'my_decimal_number': \", my_decimal_number)"
   ]
  },
  {
   "cell_type": "markdown",
   "id": "ca138ec9",
   "metadata": {},
   "source": [
    "### Se lee (de derecha a izquierda): \"Para cada posicion es una potencia de 10^...\"\n",
    "- 1 X (\"10^0\"=     1) =       1\n",
    "- 2 X (\"10^1\"=    10) =      20\n",
    "- 3 X (\"10^2\"=   100) =     300\n",
    "- 4 X (\"10^3\"= 1,000) =   4,000\n",
    "- 5 X (\"10^4\"= 10,000) = 50,000\n",
    "                   ------------\n",
    "                     54321"
   ]
  },
  {
   "cell_type": "code",
   "execution_count": 3,
   "id": "a3472c10",
   "metadata": {},
   "outputs": [
    {
     "ename": "SyntaxError",
     "evalue": "invalid syntax (3074109488.py, line 2)",
     "output_type": "error",
     "traceback": [
      "\u001b[1;36m  Input \u001b[1;32mIn [3]\u001b[1;36m\u001b[0m\n\u001b[1;33m    my_decimal_number = 55d\u001b[0m\n\u001b[1;37m                          ^\u001b[0m\n\u001b[1;31mSyntaxError\u001b[0m\u001b[1;31m:\u001b[0m invalid syntax\n"
     ]
    }
   ],
   "source": [
    "# Error de sintaxis (letras símbolos, etc)\n",
    "my_decimal_number = 55d\n",
    "print(\"El valor de 'my_decimal_number': \", my_decimal_number)"
   ]
  },
  {
   "cell_type": "markdown",
   "id": "b9229de1",
   "metadata": {},
   "source": [
    "# Forma binaria\n",
    "- Código organizado en bytes \n",
    "- Lenguaje binario- \n",
    "- Lenguaje de las máquinas (1 y 0) \n",
    "###  Valor base: 2\n",
    "- Solamente acepta dos dígitos (1 y 0) \n",
    "- Usamos el prefijo '0b' o '0B'"
   ]
  },
  {
   "cell_type": "code",
   "execution_count": 4,
   "id": "9c512989",
   "metadata": {},
   "outputs": [
    {
     "ename": "SyntaxError",
     "evalue": "invalid digit '5' in binary literal (3840423164.py, line 2)",
     "output_type": "error",
     "traceback": [
      "\u001b[1;36m  Input \u001b[1;32mIn [4]\u001b[1;36m\u001b[0m\n\u001b[1;33m    my_binary_number = 0b55\u001b[0m\n\u001b[1;37m                        ^\u001b[0m\n\u001b[1;31mSyntaxError\u001b[0m\u001b[1;31m:\u001b[0m invalid digit '5' in binary literal\n"
     ]
    }
   ],
   "source": [
    "# Error por que solo acepta 1's o 0's\n",
    "my_binary_number = 0b55\n",
    "print(\"El valor de 'my_binary_number': \", my_binary_number)"
   ]
  },
  {
   "cell_type": "markdown",
   "id": "58c0f1cc",
   "metadata": {},
   "source": [
    "#### Hacemos una distincion entre decimal y binario con el número 11:"
   ]
  },
  {
   "cell_type": "code",
   "execution_count": 5,
   "id": "e308380e",
   "metadata": {},
   "outputs": [
    {
     "name": "stdout",
     "output_type": "stream",
     "text": [
      "El valor de 'my_decimal_number':  11\n"
     ]
    }
   ],
   "source": [
    "my_decimal_number = 11\n",
    "print(\"El valor de 'my_decimal_number': \", my_decimal_number)"
   ]
  },
  {
   "cell_type": "code",
   "execution_count": 6,
   "id": "a73efaa8",
   "metadata": {},
   "outputs": [
    {
     "name": "stdout",
     "output_type": "stream",
     "text": [
      "El valor de 'my_binary_number':  3\n"
     ]
    }
   ],
   "source": [
    "my_binary_number = 0b11\n",
    "print(\"El valor de 'my_binary_number': \", my_binary_number)"
   ]
  },
  {
   "cell_type": "markdown",
   "id": "6930448b",
   "metadata": {},
   "source": [
    "### Se lee (de derecha a izquierda): \"Para cada posicion es una potencia de 2^...\"\n",
    "- 1 X (\"2^0\"=     1) = 1\n",
    "               +\n",
    "- 1 X (\"2^1\"=    2) = 2\n",
    "              ------           \n",
    "                = 3"
   ]
  },
  {
   "cell_type": "code",
   "execution_count": 7,
   "id": "3879fb88",
   "metadata": {},
   "outputs": [
    {
     "name": "stdout",
     "output_type": "stream",
     "text": [
      "El valor de 'my_binary_number':  7\n"
     ]
    }
   ],
   "source": [
    "my_binary_number = 0b111 # Res: ((2^2=4) + (2^1=2) + (2^0=1) = 7)\n",
    "print(\"El valor de 'my_binary_number': \", my_binary_number)"
   ]
  },
  {
   "cell_type": "markdown",
   "id": "bb0110ae",
   "metadata": {},
   "source": [
    "# Forma Octal\n",
    "\n",
    "### Valor base: 8\n",
    "- Solamente acepta digitos del 0 al 7\n",
    "- El prefijo es: '0o' , ó , '0O' "
   ]
  },
  {
   "cell_type": "code",
   "execution_count": 8,
   "id": "0e48476c",
   "metadata": {},
   "outputs": [
    {
     "name": "stdout",
     "output_type": "stream",
     "text": [
      "El valor de 'my_decimal_number':  17\n"
     ]
    }
   ],
   "source": [
    "my_decimal_number = 17\n",
    "print(\"El valor de 'my_decimal_number': \", my_decimal_number)"
   ]
  },
  {
   "cell_type": "code",
   "execution_count": 9,
   "id": "1352f174",
   "metadata": {},
   "outputs": [
    {
     "name": "stdout",
     "output_type": "stream",
     "text": [
      "El valor de 'my_octal_number':  15\n"
     ]
    }
   ],
   "source": [
    "# leo de Izquierda a derecha:\n",
    "# 0o17 \n",
    "# Res: [(8^1 = 8)*1] + \n",
    "#      [(8^0 = 1)*7] = \n",
    "#      (8*1)= 8 + (7*1)= 7\n",
    "#      (8+7) = 15\n",
    "my_octal_number = 0o17 \n",
    "print(\"El valor de 'my_octal_number': \", my_octal_number)"
   ]
  },
  {
   "cell_type": "code",
   "execution_count": 10,
   "id": "4ba7f7ea",
   "metadata": {},
   "outputs": [
    {
     "name": "stdout",
     "output_type": "stream",
     "text": [
      "El valor de 'my_octal_number':  107\n"
     ]
    }
   ],
   "source": [
    "# leo de Izquierda a derecha:\n",
    "# 0o17 \n",
    "# Res: [1 x (8^2 = 64)] = 64 + \n",
    "#      [5 x (8^1 = 8)]  = 40 +\n",
    "#      [3 x (8^0 = 1)] = 3 =>\n",
    "#      (64 + 40 + 24) = 107\n",
    "#      \n",
    "my_octal_number = 0o153 \n",
    "print(\"El valor de 'my_octal_number': \", my_octal_number)"
   ]
  },
  {
   "cell_type": "markdown",
   "id": "5033d063",
   "metadata": {},
   "source": [
    "# Forma Hexadecimal\n",
    "\n",
    "### Valor base: 16\n",
    "- Solamente acepta digitos del 0 al 9 y A,B,C,D,E,F\n",
    "- Acepta letras: 'a/A' , 'b/B' , 'c/C' , 'c/C' , 'd/D' , 'e/E' , 'f/F'\n",
    "- Usamos el prefijo: '0x' , ó , '0X' \n",
    "\n",
    "- 0\n",
    "- 1\n",
    "- 2\n",
    "- 3\n",
    "- 4\n",
    "- 5\n",
    "- 6\n",
    "- 7\n",
    "- 8\n",
    "- 9\n",
    "- A=10\n",
    "- B=11\n",
    "- C=12\n",
    "- D=13\n",
    "- E=14\n",
    "- F=15"
   ]
  },
  {
   "cell_type": "code",
   "execution_count": 11,
   "id": "2e98fb8d",
   "metadata": {},
   "outputs": [
    {
     "name": "stdout",
     "output_type": "stream",
     "text": [
      "El valor de 'my_decimal_number':  17\n"
     ]
    }
   ],
   "source": [
    "my_decimal_number = 17\n",
    "print(\"El valor de 'my_decimal_number': \", my_decimal_number)"
   ]
  },
  {
   "cell_type": "code",
   "execution_count": 12,
   "id": "31ded55b",
   "metadata": {},
   "outputs": [
    {
     "name": "stdout",
     "output_type": "stream",
     "text": [
      "El valor de 'my_hex_number':  23\n"
     ]
    }
   ],
   "source": [
    "# leo de Izquierda a derecha:\n",
    "# 0x17 \n",
    "# Res: [1 x (16^1 = 16)] = 64 + \n",
    "#      [7 x (16^0 = 1)]  = 40 =>\n",
    "#      (16 + 7) = 23\n",
    "#      \n",
    "my_hex_number = 0x17 \n",
    "print(\"El valor de 'my_hex_number': \", my_hex_number)"
   ]
  },
  {
   "cell_type": "code",
   "execution_count": 13,
   "id": "560a082f",
   "metadata": {},
   "outputs": [
    {
     "name": "stdout",
     "output_type": "stream",
     "text": [
      "El valor de 'my_hex_number':  28\n"
     ]
    }
   ],
   "source": [
    "# leo de Izquierda a derecha:\n",
    "# 0x1C \n",
    "# Res: [1  x (16^1 = 16)] = 64 + \n",
    "#      [12 x (16^0 = 1)]  = 40 =>\n",
    "#      (16 + 12) = 28\n",
    "#      \n",
    "my_hex_number = 0x1C\n",
    "print(\"El valor de 'my_hex_number': \", my_hex_number)"
   ]
  },
  {
   "cell_type": "code",
   "execution_count": null,
   "id": "4d1d721f",
   "metadata": {},
   "outputs": [],
   "source": []
  }
 ],
 "metadata": {
  "kernelspec": {
   "display_name": "Python 3 (ipykernel)",
   "language": "python",
   "name": "python3"
  },
  "language_info": {
   "codemirror_mode": {
    "name": "ipython",
    "version": 3
   },
   "file_extension": ".py",
   "mimetype": "text/x-python",
   "name": "python",
   "nbconvert_exporter": "python",
   "pygments_lexer": "ipython3",
   "version": "3.9.12"
  }
 },
 "nbformat": 4,
 "nbformat_minor": 5
}

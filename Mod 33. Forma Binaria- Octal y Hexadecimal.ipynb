{
 "cells": [
  {
   "cell_type": "markdown",
   "id": "0723597f",
   "metadata": {},
   "source": [
    "# Tipos de Enteros\n",
    "- Forma decimal\n",
    "-Forma binaria\n",
    "- Forma octal\n",
    "- Forma hexadecimal\n"
   ]
  },
  {
   "cell_type": "markdown",
   "id": "70b69031",
   "metadata": {},
   "source": [
    "# Forma decimal"
   ]
  },
  {
   "cell_type": "code",
   "execution_count": 2,
   "id": "f80dd5fc",
   "metadata": {},
   "outputs": [
    {
     "name": "stdout",
     "output_type": "stream",
     "text": [
      "El valor de 'my_decimal_number':  55\n"
     ]
    }
   ],
   "source": [
    "my_decimal_number = 55\n",
    "print(\"El valor de 'my_decimal_number': \", my_decimal_number)"
   ]
  },
  {
   "cell_type": "markdown",
   "id": "264e88f1",
   "metadata": {},
   "source": [
    "#### Ojo, acá arriba se lee (de derecha a izquierda): 55 => (5 x 10^0) = 5  + (5 x 10^1) = 50   =>  55"
   ]
  },
  {
   "cell_type": "code",
   "execution_count": 3,
   "id": "9521baf5",
   "metadata": {},
   "outputs": [
    {
     "name": "stdout",
     "output_type": "stream",
     "text": [
      "El valor de 'my_decimal_number':  54321\n"
     ]
    }
   ],
   "source": [
    "my_decimal_number = 54321\n",
    "print(\"El valor de 'my_decimal_number': \", my_decimal_number)"
   ]
  },
  {
   "cell_type": "markdown",
   "id": "ca138ec9",
   "metadata": {},
   "source": [
    "### Se lee (de derecha a izquierda): \"\"Para cada posicion es una potencia de 10^... \n",
    "- 1 X (\"10^0\"=     1) =       1\n",
    "- 2 X (\"10^1\"=    10) =      20\n",
    "- 3 X (\"10^1\"=   100) =     300\n",
    "- 4 X (\"10^1\"= 1,000) =   4,000\n",
    "- 5 X (\"10^1\"= 10,000) = 50,000\n",
    "                   ------------\n",
    "                     54321"
   ]
  },
  {
   "cell_type": "code",
   "execution_count": 5,
   "id": "a3472c10",
   "metadata": {},
   "outputs": [
    {
     "ename": "SyntaxError",
     "evalue": "invalid syntax (3074109488.py, line 2)",
     "output_type": "error",
     "traceback": [
      "\u001b[1;36m  Input \u001b[1;32mIn [5]\u001b[1;36m\u001b[0m\n\u001b[1;33m    my_decimal_number = 55d\u001b[0m\n\u001b[1;37m                          ^\u001b[0m\n\u001b[1;31mSyntaxError\u001b[0m\u001b[1;31m:\u001b[0m invalid syntax\n"
     ]
    }
   ],
   "source": [
    "# Error de sintaxis (letras símbolos, etc)\n",
    "my_decimal_number = 55d\n",
    "print(\"El valor de 'my_decimal_number': \", my_decimal_number)"
   ]
  },
  {
   "cell_type": "markdown",
   "id": "b9229de1",
   "metadata": {},
   "source": [
    "# Forma binaria\n",
    "- Código organizado en bytes \n",
    "- Lenguaje binario- \n",
    "- Lenguaje de las máquinas (1 y 0) \n",
    "###  Valor base: 2\n",
    "- Solamente acepta dos dígitos (1 y 0) \n",
    "- Usamos el prefijo '0b' o '0B'"
   ]
  },
  {
   "cell_type": "code",
   "execution_count": 10,
   "id": "9c512989",
   "metadata": {},
   "outputs": [
    {
     "ename": "SyntaxError",
     "evalue": "invalid digit '5' in binary literal (3840423164.py, line 2)",
     "output_type": "error",
     "traceback": [
      "\u001b[1;36m  Input \u001b[1;32mIn [10]\u001b[1;36m\u001b[0m\n\u001b[1;33m    my_binary_number = 0b55\u001b[0m\n\u001b[1;37m                        ^\u001b[0m\n\u001b[1;31mSyntaxError\u001b[0m\u001b[1;31m:\u001b[0m invalid digit '5' in binary literal\n"
     ]
    }
   ],
   "source": [
    "# Error por que solo acepta 1's o 0's\n",
    "my_binary_number = 0b55\n",
    "print(\"El valor de 'my_binary_number': \", my_binary_number)"
   ]
  },
  {
   "cell_type": "markdown",
   "id": "58c0f1cc",
   "metadata": {},
   "source": [
    "#### Hacemos una distincion entre decimal y binario con el número 11:"
   ]
  },
  {
   "cell_type": "code",
   "execution_count": 13,
   "id": "e308380e",
   "metadata": {},
   "outputs": [
    {
     "name": "stdout",
     "output_type": "stream",
     "text": [
      "El valor de 'my_decimal_number':  11\n"
     ]
    }
   ],
   "source": [
    "my_decimal_number = 11\n",
    "print(\"El valor de 'my_decimal_number': \", my_decimal_number)"
   ]
  },
  {
   "cell_type": "code",
   "execution_count": 14,
   "id": "a73efaa8",
   "metadata": {},
   "outputs": [
    {
     "name": "stdout",
     "output_type": "stream",
     "text": [
      "El valor de 'my_binary_number':  3\n"
     ]
    }
   ],
   "source": [
    "my_binary_number = 0b11\n",
    "print(\"El valor de 'my_binary_number': \", my_binary_number)"
   ]
  },
  {
   "cell_type": "code",
   "execution_count": null,
   "id": "2a91d139",
   "metadata": {},
   "outputs": [],
   "source": [
    "## 8:25..."
   ]
  }
 ],
 "metadata": {
  "kernelspec": {
   "display_name": "Python 3 (ipykernel)",
   "language": "python",
   "name": "python3"
  },
  "language_info": {
   "codemirror_mode": {
    "name": "ipython",
    "version": 3
   },
   "file_extension": ".py",
   "mimetype": "text/x-python",
   "name": "python",
   "nbconvert_exporter": "python",
   "pygments_lexer": "ipython3",
   "version": "3.9.12"
  }
 },
 "nbformat": 4,
 "nbformat_minor": 5
}
